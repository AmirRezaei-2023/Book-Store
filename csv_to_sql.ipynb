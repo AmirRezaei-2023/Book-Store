{
 "cells": [
  {
   "cell_type": "markdown",
   "metadata": {},
   "source": [
    "# connect"
   ]
  },
  {
   "cell_type": "code",
   "execution_count": 1,
   "metadata": {},
   "outputs": [
    {
     "name": "stdout",
     "output_type": "stream",
     "text": [
      "2023-09-29 09:44:11,003 INFO sqlalchemy.engine.Engine SELECT DATABASE()\n",
      "2023-09-29 09:44:11,004 INFO sqlalchemy.engine.Engine [raw sql] {}\n",
      "2023-09-29 09:44:11,006 INFO sqlalchemy.engine.Engine SELECT @@sql_mode\n",
      "2023-09-29 09:44:11,007 INFO sqlalchemy.engine.Engine [raw sql] {}\n",
      "2023-09-29 09:44:11,009 INFO sqlalchemy.engine.Engine SELECT @@lower_case_table_names\n",
      "2023-09-29 09:44:11,010 INFO sqlalchemy.engine.Engine [raw sql] {}\n"
     ]
    }
   ],
   "source": [
    "import pandas as pd\n",
    "import mysql.connector\n",
    "from sqlalchemy import create_engine, MetaData, URL, Identity,text\n",
    "from sqlalchemy import Table, Column, Integer, String, BOOLEAN, DATE, ForeignKey\n",
    "\n",
    "\n",
    "#Creating Database,Connection\n",
    "meta = MetaData()\n",
    "USERNAME = 'root'\n",
    "PASSWORD = '13771377Mnn@'\n",
    "SERVER = 'localhost'\n",
    "PORT = 3306\n",
    "DATABASE = 'book_store'\n",
    "\n",
    "url_object = URL.create(\"mysql+mysqlconnector\",\n",
    "                        username=USERNAME,\n",
    "                        password=PASSWORD,\n",
    "                        host=SERVER,\n",
    "                        database=DATABASE)\n",
    "engine = create_engine(url_object,echo = True)\n",
    "conn = engine.connect()"
   ]
  },
  {
   "cell_type": "markdown",
   "metadata": {},
   "source": [
    "# Book"
   ]
  },
  {
   "cell_type": "code",
   "execution_count": 32,
   "metadata": {},
   "outputs": [
    {
     "name": "stdout",
     "output_type": "stream",
     "text": [
      "2023-09-29 13:39:32,475 INFO sqlalchemy.engine.Engine BEGIN (implicit)\n",
      "2023-09-29 13:39:32,477 INFO sqlalchemy.engine.Engine DESCRIBE `book_store`.`book`\n",
      "2023-09-29 13:39:32,478 INFO sqlalchemy.engine.Engine [raw sql] {}\n",
      "2023-09-29 13:39:32,485 INFO sqlalchemy.engine.Engine ROLLBACK\n",
      "2023-09-29 13:39:32,492 INFO sqlalchemy.engine.Engine BEGIN (implicit)\n",
      "2023-09-29 13:39:32,563 INFO sqlalchemy.engine.Engine INSERT INTO book (code, title_persian, title_english, price, discount, grade, shabak, page_count, release_year_sh, release_year_mi, exist, earliest_access, print_series, ghate, cover) VALUES (%(code)s, %(title_persian)s, %(title_english)s, %(price)s, %(discount)s, %(grade)s, %(shabak)s, %(page_count)s, %(release_year_sh)s, %(release_year_mi)s, %(exist)s, %(earliest_access)s, %(print_series)s, %(ghate)s, %(cover)s)\n",
      "2023-09-29 13:39:32,566 INFO sqlalchemy.engine.Engine [generated in 0.06750s] [{'code': 16431.0, 'title_persian': 'مناظره مسلمان و مسیحی', 'title_english': ' Muslim and Christian debate', 'price': 123750, 'discount': 25.0, 'grade': 3.57, 'shabak': '978-9642247059', 'page_count': 268.0, 'release_year_sh': 1401.0, 'release_year_mi': None, 'exist': 1, 'earliest_access': '1402-07-10', 'print_series': 2.0, 'ghate': 'وزیری', 'cover': 'شومیز'}, {'code': 44551.0, 'title_persian': 'طعم سیب زرد', 'title_english': \" Ta'me sibe zard\", 'price': 49700, 'discount': 30.0, 'grade': 3.41, 'shabak': '978-6002966469', 'page_count': 160.0, 'release_year_sh': 1401.0, 'release_year_mi': None, 'exist': 1, 'earliest_access': '1402-07-10', 'print_series': 4.0, 'ghate': 'پالتویی', 'cover': 'شومیز'}, {'code': 75051.0, 'title_persian': 'نگاهی نو به فلسفه دین کانت', 'title_english': \" A new look at Kant's philosophy of religion\", 'price': 150000, 'discount': 25.0, 'grade': 3.63, 'shabak': '978-6006730820', 'page_count': 332.0, 'release_year_sh': 1398.0, 'release_year_mi': None, 'exist': 1, 'earliest_access': '1402-07-08', 'print_series': 1.0, 'ghate': 'رقعی', 'cover': 'شومیز'}, {'code': 32993.0, 'title_persian': 'مدیریت خشم', 'title_english': ' Anger Management', 'price': 80000, 'discount': 20.0, 'grade': 3.21, 'shabak': '978-9641703129', 'page_count': 128.0, 'release_year_sh': 1401.0, 'release_year_mi': 2018.0, 'exist': 1, 'earliest_access': '1402-07-10', 'print_series': 4.0, 'ghate': 'رقعی', 'cover': 'شومیز'}, {'code': 46770.0, 'title_persian': 'اطوار اندیشه ی اسلامی', 'title_english': ' Atvar-e andishe-ye Eslami', 'price': 120000, 'discount': 20.0, 'grade': 3.21, 'shabak': '978-9642671649', 'page_count': 112.0, 'release_year_sh': 1391.0, 'release_year_mi': None, 'exist': 1, 'earliest_access': '1402-07-08', 'print_series': 1.0, 'ghate': 'رقعی', 'cover': 'جلدسخت'}, {'code': 11759.0, 'title_persian': 'فردیت اشتراکی', 'title_english': ' Shared Individuality', 'price': 129500, 'discount': 30.0, 'grade': 3.2, 'shabak': '9789648175837', 'page_count': 176.0, 'release_year_sh': 1402.0, 'release_year_mi': 2010.0, 'exist': 1, 'earliest_access': '1402-07-06', 'print_series': 4.0, 'ghate': 'رقعی', 'cover': 'شومیز'}, {'code': 61295.0, 'title_persian': 'شما هم می توانید', 'title_english': ' You can too', 'price': 19500, 'discount': 25.0, 'grade': 3.8, 'shabak': '978-6009870851', 'page_count': 98.0, 'release_year_sh': 1397.0, 'release_year_mi': None, 'exist': 1, 'earliest_access': '1402-07-10', 'print_series': 1.0, 'ghate': 'رقعی', 'cover': 'شومیز'}, {'code': 76224.0, 'title_persian': 'مدیر پاشنه بلند', 'title_english': ' High heel manager', 'price': 24500, 'discount': 30.0, 'grade': 3.37, 'shabak': '978-6225816022', 'page_count': 100.0, 'release_year_sh': 1401.0, 'release_year_mi': None, 'exist': 1, 'earliest_access': '1402-07-10', 'print_series': 1.0, 'ghate': 'رقعی', 'cover': 'شومیز'}  ... displaying 10 of 1881 total bound parameter sets ...  {'code': 16501.0, 'title_persian': 'توسعه نیافتگی و صنعتی سازی', 'title_english': ' Underdevelopment and industrialization', 'price': 63675, 'discount': 25.0, 'grade': 3.46, 'shabak': '978-6008942528', 'page_count': 339.0, 'release_year_sh': 1398.0, 'release_year_mi': None, 'exist': 1, 'earliest_access': '1402-07-08', 'print_series': 1.0, 'ghate': 'رقعی', 'cover': 'شومیز'}, {'code': 69485.0, 'title_persian': 'سودوکو', 'title_english': ' Su Doku', 'price': 66500, 'discount': 30.0, 'grade': 3.91, 'shabak': '978-6005482751', 'page_count': 144.0, 'release_year_sh': 1401.0, 'release_year_mi': 2005.0, 'exist': 1, 'earliest_access': '1402-07-06', 'print_series': 2.0, 'ghate': 'رقعی', 'cover': 'شومیز'}]\n",
      "2023-09-29 13:39:32,699 INFO sqlalchemy.engine.Engine ROLLBACK\n"
     ]
    },
    {
     "ename": "IntegrityError",
     "evalue": "(mysql.connector.errors.IntegrityError) 1062 (23000): Duplicate entry '16431' for key 'book.PRIMARY'\n[SQL: INSERT INTO book (code, title_persian, title_english, price, discount, grade, shabak, page_count, release_year_sh, release_year_mi, exist, earliest_access, print_series, ghate, cover) VALUES (%(code)s, %(title_persian)s, %(title_english)s, %(price)s, %(discount)s, %(grade)s, %(shabak)s, %(page_count)s, %(release_year_sh)s, %(release_year_mi)s, %(exist)s, %(earliest_access)s, %(print_series)s, %(ghate)s, %(cover)s)]\n[parameters: [{'code': 16431.0, 'title_persian': 'مناظره مسلمان و مسیحی', 'title_english': ' Muslim and Christian debate', 'price': 123750, 'discount': 25.0, 'grade': 3.57, 'shabak': '978-9642247059', 'page_count': 268.0, 'release_year_sh': 1401.0, 'release_year_mi': None, 'exist': 1, 'earliest_access': '1402-07-10', 'print_series': 2.0, 'ghate': 'وزیری', 'cover': 'شومیز'}, {'code': 44551.0, 'title_persian': 'طعم سیب زرد', 'title_english': \" Ta'me sibe zard\", 'price': 49700, 'discount': 30.0, 'grade': 3.41, 'shabak': '978-6002966469', 'page_count': 160.0, 'release_year_sh': 1401.0, 'release_year_mi': None, 'exist': 1, 'earliest_access': '1402-07-10', 'print_series': 4.0, 'ghate': 'پالتویی', 'cover': 'شومیز'}, {'code': 75051.0, 'title_persian': 'نگاهی نو به فلسفه دین کانت', 'title_english': \" A new look at Kant's philosophy of religion\", 'price': 150000, 'discount': 25.0, 'grade': 3.63, 'shabak': '978-6006730820', 'page_count': 332.0, 'release_year_sh': 1398.0, 'release_year_mi': None, 'exist': 1, 'earliest_access': '1402-07-08', 'print_series': 1.0, 'ghate': 'رقعی', 'cover': 'شومیز'}, {'code': 32993.0, 'title_persian': 'مدیریت خشم', 'title_english': ' Anger Management', 'price': 80000, 'discount': 20.0, 'grade': 3.21, 'shabak': '978-9641703129', 'page_count': 128.0, 'release_year_sh': 1401.0, 'release_year_mi': 2018.0, 'exist': 1, 'earliest_access': '1402-07-10', 'print_series': 4.0, 'ghate': 'رقعی', 'cover': 'شومیز'}, {'code': 46770.0, 'title_persian': 'اطوار اندیشه ی اسلامی', 'title_english': ' Atvar-e andishe-ye Eslami', 'price': 120000, 'discount': 20.0, 'grade': 3.21, 'shabak': '978-9642671649', 'page_count': 112.0, 'release_year_sh': 1391.0, 'release_year_mi': None, 'exist': 1, 'earliest_access': '1402-07-08', 'print_series': 1.0, 'ghate': 'رقعی', 'cover': 'جلدسخت'}, {'code': 11759.0, 'title_persian': 'فردیت اشتراکی', 'title_english': ' Shared Individuality', 'price': 129500, 'discount': 30.0, 'grade': 3.2, 'shabak': '9789648175837', 'page_count': 176.0, 'release_year_sh': 1402.0, 'release_year_mi': 2010.0, 'exist': 1, 'earliest_access': '1402-07-06', 'print_series': 4.0, 'ghate': 'رقعی', 'cover': 'شومیز'}, {'code': 61295.0, 'title_persian': 'شما هم می توانید', 'title_english': ' You can too', 'price': 19500, 'discount': 25.0, 'grade': 3.8, 'shabak': '978-6009870851', 'page_count': 98.0, 'release_year_sh': 1397.0, 'release_year_mi': None, 'exist': 1, 'earliest_access': '1402-07-10', 'print_series': 1.0, 'ghate': 'رقعی', 'cover': 'شومیز'}, {'code': 76224.0, 'title_persian': 'مدیر پاشنه بلند', 'title_english': ' High heel manager', 'price': 24500, 'discount': 30.0, 'grade': 3.37, 'shabak': '978-6225816022', 'page_count': 100.0, 'release_year_sh': 1401.0, 'release_year_mi': None, 'exist': 1, 'earliest_access': '1402-07-10', 'print_series': 1.0, 'ghate': 'رقعی', 'cover': 'شومیز'}  ... displaying 10 of 1881 total bound parameter sets ...  {'code': 16501.0, 'title_persian': 'توسعه نیافتگی و صنعتی سازی', 'title_english': ' Underdevelopment and industrialization', 'price': 63675, 'discount': 25.0, 'grade': 3.46, 'shabak': '978-6008942528', 'page_count': 339.0, 'release_year_sh': 1398.0, 'release_year_mi': None, 'exist': 1, 'earliest_access': '1402-07-08', 'print_series': 1.0, 'ghate': 'رقعی', 'cover': 'شومیز'}, {'code': 69485.0, 'title_persian': 'سودوکو', 'title_english': ' Su Doku', 'price': 66500, 'discount': 30.0, 'grade': 3.91, 'shabak': '978-6005482751', 'page_count': 144.0, 'release_year_sh': 1401.0, 'release_year_mi': 2005.0, 'exist': 1, 'earliest_access': '1402-07-06', 'print_series': 2.0, 'ghate': 'رقعی', 'cover': 'شومیز'}]]\n(Background on this error at: https://sqlalche.me/e/20/gkpj)",
     "output_type": "error",
     "traceback": [
      "\u001b[1;31m---------------------------------------------------------------------------\u001b[0m",
      "\u001b[1;31mMySQLInterfaceError\u001b[0m                       Traceback (most recent call last)",
      "File \u001b[1;32mc:\\Users\\Mohammad\\AppData\\Local\\Programs\\Python\\Python310\\lib\\site-packages\\mysql\\connector\\connection_cext.py:633\u001b[0m, in \u001b[0;36mCMySQLConnection.cmd_query\u001b[1;34m(self, query, raw, buffered, raw_as_string)\u001b[0m\n\u001b[0;32m    632\u001b[0m         query \u001b[39m=\u001b[39m query\u001b[39m.\u001b[39mencode(\u001b[39m\"\u001b[39m\u001b[39mutf-8\u001b[39m\u001b[39m\"\u001b[39m)\n\u001b[1;32m--> 633\u001b[0m     \u001b[39mself\u001b[39;49m\u001b[39m.\u001b[39;49m_cmysql\u001b[39m.\u001b[39;49mquery(\n\u001b[0;32m    634\u001b[0m         query,\n\u001b[0;32m    635\u001b[0m         raw\u001b[39m=\u001b[39;49mraw,\n\u001b[0;32m    636\u001b[0m         buffered\u001b[39m=\u001b[39;49mbuffered,\n\u001b[0;32m    637\u001b[0m         raw_as_string\u001b[39m=\u001b[39;49mraw_as_string,\n\u001b[0;32m    638\u001b[0m         query_attrs\u001b[39m=\u001b[39;49m\u001b[39mself\u001b[39;49m\u001b[39m.\u001b[39;49mquery_attrs,\n\u001b[0;32m    639\u001b[0m     )\n\u001b[0;32m    640\u001b[0m \u001b[39mexcept\u001b[39;00m MySQLInterfaceError \u001b[39mas\u001b[39;00m err:\n",
      "\u001b[1;31mMySQLInterfaceError\u001b[0m: Duplicate entry '16431' for key 'book.PRIMARY'",
      "\nThe above exception was the direct cause of the following exception:\n",
      "\u001b[1;31mIntegrityError\u001b[0m                            Traceback (most recent call last)",
      "File \u001b[1;32mc:\\Users\\Mohammad\\AppData\\Local\\Programs\\Python\\Python310\\lib\\site-packages\\sqlalchemy\\engine\\base.py:1934\u001b[0m, in \u001b[0;36mConnection._exec_single_context\u001b[1;34m(self, dialect, context, statement, parameters)\u001b[0m\n\u001b[0;32m   1933\u001b[0m     \u001b[39mif\u001b[39;00m \u001b[39mnot\u001b[39;00m evt_handled:\n\u001b[1;32m-> 1934\u001b[0m         \u001b[39mself\u001b[39;49m\u001b[39m.\u001b[39;49mdialect\u001b[39m.\u001b[39;49mdo_executemany(\n\u001b[0;32m   1935\u001b[0m             cursor,\n\u001b[0;32m   1936\u001b[0m             str_statement,\n\u001b[0;32m   1937\u001b[0m             effective_parameters,\n\u001b[0;32m   1938\u001b[0m             context,\n\u001b[0;32m   1939\u001b[0m         )\n\u001b[0;32m   1940\u001b[0m \u001b[39melif\u001b[39;00m \u001b[39mnot\u001b[39;00m effective_parameters \u001b[39mand\u001b[39;00m context\u001b[39m.\u001b[39mno_parameters:\n",
      "File \u001b[1;32mc:\\Users\\Mohammad\\AppData\\Local\\Programs\\Python\\Python310\\lib\\site-packages\\sqlalchemy\\engine\\default.py:918\u001b[0m, in \u001b[0;36mDefaultDialect.do_executemany\u001b[1;34m(self, cursor, statement, parameters, context)\u001b[0m\n\u001b[0;32m    917\u001b[0m \u001b[39mdef\u001b[39;00m \u001b[39mdo_executemany\u001b[39m(\u001b[39mself\u001b[39m, cursor, statement, parameters, context\u001b[39m=\u001b[39m\u001b[39mNone\u001b[39;00m):\n\u001b[1;32m--> 918\u001b[0m     cursor\u001b[39m.\u001b[39;49mexecutemany(statement, parameters)\n",
      "File \u001b[1;32mc:\\Users\\Mohammad\\AppData\\Local\\Programs\\Python\\Python310\\lib\\site-packages\\mysql\\connector\\cursor_cext.py:455\u001b[0m, in \u001b[0;36mCMySQLCursor.executemany\u001b[1;34m(self, operation, seq_params)\u001b[0m\n\u001b[0;32m    454\u001b[0m         \u001b[39mself\u001b[39m\u001b[39m.\u001b[39m_executed \u001b[39m=\u001b[39m stmt\n\u001b[1;32m--> 455\u001b[0m         \u001b[39mreturn\u001b[39;00m \u001b[39mself\u001b[39;49m\u001b[39m.\u001b[39;49mexecute(stmt)\n\u001b[0;32m    457\u001b[0m rowcnt \u001b[39m=\u001b[39m \u001b[39m0\u001b[39m\n",
      "File \u001b[1;32mc:\\Users\\Mohammad\\AppData\\Local\\Programs\\Python\\Python310\\lib\\site-packages\\mysql\\connector\\cursor_cext.py:330\u001b[0m, in \u001b[0;36mCMySQLCursor.execute\u001b[1;34m(self, operation, params, multi)\u001b[0m\n\u001b[0;32m    329\u001b[0m \u001b[39mtry\u001b[39;00m:\n\u001b[1;32m--> 330\u001b[0m     result \u001b[39m=\u001b[39m \u001b[39mself\u001b[39;49m\u001b[39m.\u001b[39;49m_cnx\u001b[39m.\u001b[39;49mcmd_query(\n\u001b[0;32m    331\u001b[0m         stmt,\n\u001b[0;32m    332\u001b[0m         raw\u001b[39m=\u001b[39;49m\u001b[39mself\u001b[39;49m\u001b[39m.\u001b[39;49m_raw,\n\u001b[0;32m    333\u001b[0m         buffered\u001b[39m=\u001b[39;49m\u001b[39mself\u001b[39;49m\u001b[39m.\u001b[39;49m_buffered,\n\u001b[0;32m    334\u001b[0m         raw_as_string\u001b[39m=\u001b[39;49m\u001b[39mself\u001b[39;49m\u001b[39m.\u001b[39;49m_raw_as_string,\n\u001b[0;32m    335\u001b[0m     )\n\u001b[0;32m    336\u001b[0m \u001b[39mexcept\u001b[39;00m MySQLInterfaceError \u001b[39mas\u001b[39;00m err:\n",
      "File \u001b[1;32mc:\\Users\\Mohammad\\AppData\\Local\\Programs\\Python\\Python310\\lib\\site-packages\\mysql\\connector\\opentelemetry\\context_propagation.py:77\u001b[0m, in \u001b[0;36mwith_context_propagation.<locals>.wrapper\u001b[1;34m(cnx, *args, **kwargs)\u001b[0m\n\u001b[0;32m     76\u001b[0m \u001b[39mif\u001b[39;00m \u001b[39mnot\u001b[39;00m OTEL_ENABLED \u001b[39mor\u001b[39;00m \u001b[39mnot\u001b[39;00m cnx\u001b[39m.\u001b[39motel_context_propagation:\n\u001b[1;32m---> 77\u001b[0m     \u001b[39mreturn\u001b[39;00m method(cnx, \u001b[39m*\u001b[39margs, \u001b[39m*\u001b[39m\u001b[39m*\u001b[39mkwargs)\n\u001b[0;32m     79\u001b[0m current_span \u001b[39m=\u001b[39m trace\u001b[39m.\u001b[39mget_current_span()\n",
      "File \u001b[1;32mc:\\Users\\Mohammad\\AppData\\Local\\Programs\\Python\\Python310\\lib\\site-packages\\mysql\\connector\\connection_cext.py:641\u001b[0m, in \u001b[0;36mCMySQLConnection.cmd_query\u001b[1;34m(self, query, raw, buffered, raw_as_string)\u001b[0m\n\u001b[0;32m    640\u001b[0m \u001b[39mexcept\u001b[39;00m MySQLInterfaceError \u001b[39mas\u001b[39;00m err:\n\u001b[1;32m--> 641\u001b[0m     \u001b[39mraise\u001b[39;00m get_mysql_exception(\n\u001b[0;32m    642\u001b[0m         err\u001b[39m.\u001b[39merrno, msg\u001b[39m=\u001b[39merr\u001b[39m.\u001b[39mmsg, sqlstate\u001b[39m=\u001b[39merr\u001b[39m.\u001b[39msqlstate\n\u001b[0;32m    643\u001b[0m     ) \u001b[39mfrom\u001b[39;00m \u001b[39merr\u001b[39;00m\n\u001b[0;32m    644\u001b[0m \u001b[39mexcept\u001b[39;00m \u001b[39mAttributeError\u001b[39;00m \u001b[39mas\u001b[39;00m err:\n",
      "\u001b[1;31mIntegrityError\u001b[0m: 1062 (23000): Duplicate entry '16431' for key 'book.PRIMARY'",
      "\nThe above exception was the direct cause of the following exception:\n",
      "\u001b[1;31mIntegrityError\u001b[0m                            Traceback (most recent call last)",
      "Cell \u001b[1;32mIn [32], line 6\u001b[0m\n\u001b[0;32m      4\u001b[0m df_book\u001b[38;5;241m.\u001b[39mdrop(\u001b[38;5;124m'\u001b[39m\u001b[38;5;124mcode.1\u001b[39m\u001b[38;5;124m'\u001b[39m, axis\u001b[38;5;241m=\u001b[39m\u001b[38;5;241m1\u001b[39m,inplace\u001b[38;5;241m=\u001b[39m\u001b[38;5;28;01mTrue\u001b[39;00m)\n\u001b[0;32m      5\u001b[0m df_book\u001b[38;5;241m.\u001b[39mto_csv(\u001b[38;5;124m'\u001b[39m\u001b[38;5;124mmodified/modified_book.csv\u001b[39m\u001b[38;5;124m'\u001b[39m, index\u001b[38;5;241m=\u001b[39m\u001b[38;5;28;01mFalse\u001b[39;00m)\n\u001b[1;32m----> 6\u001b[0m \u001b[43mdf_book\u001b[49m\u001b[38;5;241;43m.\u001b[39;49m\u001b[43mto_sql\u001b[49m\u001b[43m(\u001b[49m\u001b[38;5;124;43m'\u001b[39;49m\u001b[38;5;124;43mbook\u001b[39;49m\u001b[38;5;124;43m'\u001b[39;49m\u001b[43m,\u001b[49m\u001b[43m \u001b[49m\u001b[43mengine\u001b[49m\u001b[43m,\u001b[49m\u001b[43m \u001b[49m\u001b[43mif_exists\u001b[49m\u001b[38;5;241;43m=\u001b[39;49m\u001b[38;5;124;43m'\u001b[39;49m\u001b[38;5;124;43mappend\u001b[39;49m\u001b[38;5;124;43m'\u001b[39;49m\u001b[43m,\u001b[49m\u001b[43m \u001b[49m\u001b[43mindex\u001b[49m\u001b[38;5;241;43m=\u001b[39;49m\u001b[38;5;28;43;01mFalse\u001b[39;49;00m\u001b[43m)\u001b[49m\n",
      "File \u001b[1;32mc:\\Users\\Mohammad\\AppData\\Local\\Programs\\Python\\Python310\\lib\\site-packages\\pandas\\core\\generic.py:2951\u001b[0m, in \u001b[0;36mNDFrame.to_sql\u001b[1;34m(self, name, con, schema, if_exists, index, index_label, chunksize, dtype, method)\u001b[0m\n\u001b[0;32m   2794\u001b[0m \u001b[39m\"\"\"\u001b[39;00m\n\u001b[0;32m   2795\u001b[0m \u001b[39mWrite records stored in a DataFrame to a SQL database.\u001b[39;00m\n\u001b[0;32m   2796\u001b[0m \n\u001b[1;32m   (...)\u001b[0m\n\u001b[0;32m   2947\u001b[0m \u001b[39m[(1,), (None,), (2,)]\u001b[39;00m\n\u001b[0;32m   2948\u001b[0m \u001b[39m\"\"\"\u001b[39;00m  \u001b[39m# noqa:E501\u001b[39;00m\n\u001b[0;32m   2949\u001b[0m \u001b[39mfrom\u001b[39;00m \u001b[39mpandas\u001b[39;00m\u001b[39m.\u001b[39;00m\u001b[39mio\u001b[39;00m \u001b[39mimport\u001b[39;00m sql\n\u001b[1;32m-> 2951\u001b[0m \u001b[39mreturn\u001b[39;00m sql\u001b[39m.\u001b[39;49mto_sql(\n\u001b[0;32m   2952\u001b[0m     \u001b[39mself\u001b[39;49m,\n\u001b[0;32m   2953\u001b[0m     name,\n\u001b[0;32m   2954\u001b[0m     con,\n\u001b[0;32m   2955\u001b[0m     schema\u001b[39m=\u001b[39;49mschema,\n\u001b[0;32m   2956\u001b[0m     if_exists\u001b[39m=\u001b[39;49mif_exists,\n\u001b[0;32m   2957\u001b[0m     index\u001b[39m=\u001b[39;49mindex,\n\u001b[0;32m   2958\u001b[0m     index_label\u001b[39m=\u001b[39;49mindex_label,\n\u001b[0;32m   2959\u001b[0m     chunksize\u001b[39m=\u001b[39;49mchunksize,\n\u001b[0;32m   2960\u001b[0m     dtype\u001b[39m=\u001b[39;49mdtype,\n\u001b[0;32m   2961\u001b[0m     method\u001b[39m=\u001b[39;49mmethod,\n\u001b[0;32m   2962\u001b[0m )\n",
      "File \u001b[1;32mc:\\Users\\Mohammad\\AppData\\Local\\Programs\\Python\\Python310\\lib\\site-packages\\pandas\\io\\sql.py:698\u001b[0m, in \u001b[0;36mto_sql\u001b[1;34m(frame, name, con, schema, if_exists, index, index_label, chunksize, dtype, method, engine, **engine_kwargs)\u001b[0m\n\u001b[0;32m    693\u001b[0m \u001b[39melif\u001b[39;00m \u001b[39mnot\u001b[39;00m \u001b[39misinstance\u001b[39m(frame, DataFrame):\n\u001b[0;32m    694\u001b[0m     \u001b[39mraise\u001b[39;00m \u001b[39mNotImplementedError\u001b[39;00m(\n\u001b[0;32m    695\u001b[0m         \u001b[39m\"\u001b[39m\u001b[39m'\u001b[39m\u001b[39mframe\u001b[39m\u001b[39m'\u001b[39m\u001b[39m argument should be either a Series or a DataFrame\u001b[39m\u001b[39m\"\u001b[39m\n\u001b[0;32m    696\u001b[0m     )\n\u001b[1;32m--> 698\u001b[0m \u001b[39mreturn\u001b[39;00m pandas_sql\u001b[39m.\u001b[39mto_sql(\n\u001b[0;32m    699\u001b[0m     frame,\n\u001b[0;32m    700\u001b[0m     name,\n\u001b[0;32m    701\u001b[0m     if_exists\u001b[39m=\u001b[39mif_exists,\n\u001b[0;32m    702\u001b[0m     index\u001b[39m=\u001b[39mindex,\n\u001b[0;32m    703\u001b[0m     index_label\u001b[39m=\u001b[39mindex_label,\n\u001b[0;32m    704\u001b[0m     schema\u001b[39m=\u001b[39mschema,\n\u001b[0;32m    705\u001b[0m     chunksize\u001b[39m=\u001b[39mchunksize,\n\u001b[0;32m    706\u001b[0m     dtype\u001b[39m=\u001b[39mdtype,\n\u001b[0;32m    707\u001b[0m     method\u001b[39m=\u001b[39mmethod,\n\u001b[0;32m    708\u001b[0m     engine\u001b[39m=\u001b[39mengine,\n\u001b[0;32m    709\u001b[0m     \u001b[39m*\u001b[39m\u001b[39m*\u001b[39mengine_kwargs,\n\u001b[0;32m    710\u001b[0m )\n",
      "File \u001b[1;32mc:\\Users\\Mohammad\\AppData\\Local\\Programs\\Python\\Python310\\lib\\site-packages\\pandas\\io\\sql.py:1742\u001b[0m, in \u001b[0;36mSQLDatabase.to_sql\u001b[1;34m(self, frame, name, if_exists, index, index_label, schema, chunksize, dtype, method, engine, **engine_kwargs)\u001b[0m\n\u001b[0;32m   1730\u001b[0m sql_engine \u001b[39m=\u001b[39m get_engine(engine)\n\u001b[0;32m   1732\u001b[0m table \u001b[39m=\u001b[39m \u001b[39mself\u001b[39m\u001b[39m.\u001b[39mprep_table(\n\u001b[0;32m   1733\u001b[0m     frame\u001b[39m=\u001b[39mframe,\n\u001b[0;32m   1734\u001b[0m     name\u001b[39m=\u001b[39mname,\n\u001b[1;32m   (...)\u001b[0m\n\u001b[0;32m   1739\u001b[0m     dtype\u001b[39m=\u001b[39mdtype,\n\u001b[0;32m   1740\u001b[0m )\n\u001b[1;32m-> 1742\u001b[0m total_inserted \u001b[39m=\u001b[39m sql_engine\u001b[39m.\u001b[39minsert_records(\n\u001b[0;32m   1743\u001b[0m     table\u001b[39m=\u001b[39mtable,\n\u001b[0;32m   1744\u001b[0m     con\u001b[39m=\u001b[39m\u001b[39mself\u001b[39m\u001b[39m.\u001b[39mconnectable,\n\u001b[0;32m   1745\u001b[0m     frame\u001b[39m=\u001b[39mframe,\n\u001b[0;32m   1746\u001b[0m     name\u001b[39m=\u001b[39mname,\n\u001b[0;32m   1747\u001b[0m     index\u001b[39m=\u001b[39mindex,\n\u001b[0;32m   1748\u001b[0m     schema\u001b[39m=\u001b[39mschema,\n\u001b[0;32m   1749\u001b[0m     chunksize\u001b[39m=\u001b[39mchunksize,\n\u001b[0;32m   1750\u001b[0m     method\u001b[39m=\u001b[39mmethod,\n\u001b[0;32m   1751\u001b[0m     \u001b[39m*\u001b[39m\u001b[39m*\u001b[39mengine_kwargs,\n\u001b[0;32m   1752\u001b[0m )\n\u001b[0;32m   1754\u001b[0m \u001b[39mself\u001b[39m\u001b[39m.\u001b[39mcheck_case_sensitive(name\u001b[39m=\u001b[39mname, schema\u001b[39m=\u001b[39mschema)\n\u001b[0;32m   1755\u001b[0m \u001b[39mreturn\u001b[39;00m total_inserted\n",
      "File \u001b[1;32mc:\\Users\\Mohammad\\AppData\\Local\\Programs\\Python\\Python310\\lib\\site-packages\\pandas\\io\\sql.py:1335\u001b[0m, in \u001b[0;36mSQLAlchemyEngine.insert_records\u001b[1;34m(self, table, con, frame, name, index, schema, chunksize, method, **engine_kwargs)\u001b[0m\n\u001b[0;32m   1333\u001b[0m     \u001b[39mraise\u001b[39;00m \u001b[39mValueError\u001b[39;00m(\u001b[39m\"\u001b[39m\u001b[39minf cannot be used with MySQL\u001b[39m\u001b[39m\"\u001b[39m) \u001b[39mfrom\u001b[39;00m \u001b[39merr\u001b[39;00m\n\u001b[0;32m   1334\u001b[0m \u001b[39melse\u001b[39;00m:\n\u001b[1;32m-> 1335\u001b[0m     \u001b[39mraise\u001b[39;00m err\n",
      "File \u001b[1;32mc:\\Users\\Mohammad\\AppData\\Local\\Programs\\Python\\Python310\\lib\\site-packages\\pandas\\io\\sql.py:1325\u001b[0m, in \u001b[0;36mSQLAlchemyEngine.insert_records\u001b[1;34m(self, table, con, frame, name, index, schema, chunksize, method, **engine_kwargs)\u001b[0m\n\u001b[0;32m   1322\u001b[0m \u001b[39mfrom\u001b[39;00m \u001b[39msqlalchemy\u001b[39;00m \u001b[39mimport\u001b[39;00m exc\n\u001b[0;32m   1324\u001b[0m \u001b[39mtry\u001b[39;00m:\n\u001b[1;32m-> 1325\u001b[0m     \u001b[39mreturn\u001b[39;00m table\u001b[39m.\u001b[39;49minsert(chunksize\u001b[39m=\u001b[39;49mchunksize, method\u001b[39m=\u001b[39;49mmethod)\n\u001b[0;32m   1326\u001b[0m \u001b[39mexcept\u001b[39;00m exc\u001b[39m.\u001b[39mSQLAlchemyError \u001b[39mas\u001b[39;00m err:\n\u001b[0;32m   1327\u001b[0m     \u001b[39m# GH34431\u001b[39;00m\n\u001b[0;32m   1328\u001b[0m     \u001b[39m# https://stackoverflow.com/a/67358288/6067848\u001b[39;00m\n\u001b[0;32m   1329\u001b[0m     msg \u001b[39m=\u001b[39m \u001b[39mr\u001b[39m\u001b[39m\"\"\"\u001b[39m\u001b[39m(\u001b[39m\u001b[39m\\\u001b[39m\u001b[39m(1054, \u001b[39m\u001b[39m\"\u001b[39m\u001b[39mUnknown column \u001b[39m\u001b[39m'\u001b[39m\u001b[39minf(e0)?\u001b[39m\u001b[39m'\u001b[39m\u001b[39m in \u001b[39m\u001b[39m'\u001b[39m\u001b[39mfield list\u001b[39m\u001b[39m'\u001b[39m\u001b[39m\"\u001b[39m\u001b[39m\\\u001b[39m\u001b[39m))(?#\u001b[39m\n\u001b[0;32m   1330\u001b[0m \u001b[39m    )|inf can not be used with MySQL\u001b[39m\u001b[39m\"\"\"\u001b[39m\n",
      "File \u001b[1;32mc:\\Users\\Mohammad\\AppData\\Local\\Programs\\Python\\Python310\\lib\\site-packages\\pandas\\io\\sql.py:951\u001b[0m, in \u001b[0;36mSQLTable.insert\u001b[1;34m(self, chunksize, method)\u001b[0m\n\u001b[0;32m    948\u001b[0m     \u001b[39mbreak\u001b[39;00m\n\u001b[0;32m    950\u001b[0m chunk_iter \u001b[39m=\u001b[39m \u001b[39mzip\u001b[39m(\u001b[39m*\u001b[39m(arr[start_i:end_i] \u001b[39mfor\u001b[39;00m arr \u001b[39min\u001b[39;00m data_list))\n\u001b[1;32m--> 951\u001b[0m num_inserted \u001b[39m=\u001b[39m exec_insert(conn, keys, chunk_iter)\n\u001b[0;32m    952\u001b[0m \u001b[39m# GH 46891\u001b[39;00m\n\u001b[0;32m    953\u001b[0m \u001b[39mif\u001b[39;00m is_integer(num_inserted):\n",
      "File \u001b[1;32mc:\\Users\\Mohammad\\AppData\\Local\\Programs\\Python\\Python310\\lib\\site-packages\\pandas\\io\\sql.py:858\u001b[0m, in \u001b[0;36mSQLTable._execute_insert\u001b[1;34m(self, conn, keys, data_iter)\u001b[0m\n\u001b[0;32m    846\u001b[0m \u001b[39m\"\"\"\u001b[39;00m\n\u001b[0;32m    847\u001b[0m \u001b[39mExecute SQL statement inserting data\u001b[39;00m\n\u001b[0;32m    848\u001b[0m \n\u001b[1;32m   (...)\u001b[0m\n\u001b[0;32m    855\u001b[0m \u001b[39m   Each item contains a list of values to be inserted\u001b[39;00m\n\u001b[0;32m    856\u001b[0m \u001b[39m\"\"\"\u001b[39;00m\n\u001b[0;32m    857\u001b[0m data \u001b[39m=\u001b[39m [\u001b[39mdict\u001b[39m(\u001b[39mzip\u001b[39m(keys, row)) \u001b[39mfor\u001b[39;00m row \u001b[39min\u001b[39;00m data_iter]\n\u001b[1;32m--> 858\u001b[0m result \u001b[39m=\u001b[39m conn\u001b[39m.\u001b[39;49mexecute(\u001b[39mself\u001b[39;49m\u001b[39m.\u001b[39;49mtable\u001b[39m.\u001b[39;49minsert(), data)\n\u001b[0;32m    859\u001b[0m \u001b[39mreturn\u001b[39;00m result\u001b[39m.\u001b[39mrowcount\n",
      "File \u001b[1;32mc:\\Users\\Mohammad\\AppData\\Local\\Programs\\Python\\Python310\\lib\\site-packages\\sqlalchemy\\engine\\base.py:1412\u001b[0m, in \u001b[0;36mConnection.execute\u001b[1;34m(self, statement, parameters, execution_options)\u001b[0m\n\u001b[0;32m   1410\u001b[0m     \u001b[39mraise\u001b[39;00m exc\u001b[39m.\u001b[39mObjectNotExecutableError(statement) \u001b[39mfrom\u001b[39;00m \u001b[39merr\u001b[39;00m\n\u001b[0;32m   1411\u001b[0m \u001b[39melse\u001b[39;00m:\n\u001b[1;32m-> 1412\u001b[0m     \u001b[39mreturn\u001b[39;00m meth(\n\u001b[0;32m   1413\u001b[0m         \u001b[39mself\u001b[39;49m,\n\u001b[0;32m   1414\u001b[0m         distilled_parameters,\n\u001b[0;32m   1415\u001b[0m         execution_options \u001b[39mor\u001b[39;49;00m NO_OPTIONS,\n\u001b[0;32m   1416\u001b[0m     )\n",
      "File \u001b[1;32mc:\\Users\\Mohammad\\AppData\\Local\\Programs\\Python\\Python310\\lib\\site-packages\\sqlalchemy\\sql\\elements.py:515\u001b[0m, in \u001b[0;36mClauseElement._execute_on_connection\u001b[1;34m(self, connection, distilled_params, execution_options)\u001b[0m\n\u001b[0;32m    513\u001b[0m     \u001b[39mif\u001b[39;00m TYPE_CHECKING:\n\u001b[0;32m    514\u001b[0m         \u001b[39massert\u001b[39;00m \u001b[39misinstance\u001b[39m(\u001b[39mself\u001b[39m, Executable)\n\u001b[1;32m--> 515\u001b[0m     \u001b[39mreturn\u001b[39;00m connection\u001b[39m.\u001b[39;49m_execute_clauseelement(\n\u001b[0;32m    516\u001b[0m         \u001b[39mself\u001b[39;49m, distilled_params, execution_options\n\u001b[0;32m    517\u001b[0m     )\n\u001b[0;32m    518\u001b[0m \u001b[39melse\u001b[39;00m:\n\u001b[0;32m    519\u001b[0m     \u001b[39mraise\u001b[39;00m exc\u001b[39m.\u001b[39mObjectNotExecutableError(\u001b[39mself\u001b[39m)\n",
      "File \u001b[1;32mc:\\Users\\Mohammad\\AppData\\Local\\Programs\\Python\\Python310\\lib\\site-packages\\sqlalchemy\\engine\\base.py:1635\u001b[0m, in \u001b[0;36mConnection._execute_clauseelement\u001b[1;34m(self, elem, distilled_parameters, execution_options)\u001b[0m\n\u001b[0;32m   1623\u001b[0m compiled_cache: Optional[CompiledCacheType] \u001b[39m=\u001b[39m execution_options\u001b[39m.\u001b[39mget(\n\u001b[0;32m   1624\u001b[0m     \u001b[39m\"\u001b[39m\u001b[39mcompiled_cache\u001b[39m\u001b[39m\"\u001b[39m, \u001b[39mself\u001b[39m\u001b[39m.\u001b[39mengine\u001b[39m.\u001b[39m_compiled_cache\n\u001b[0;32m   1625\u001b[0m )\n\u001b[0;32m   1627\u001b[0m compiled_sql, extracted_params, cache_hit \u001b[39m=\u001b[39m elem\u001b[39m.\u001b[39m_compile_w_cache(\n\u001b[0;32m   1628\u001b[0m     dialect\u001b[39m=\u001b[39mdialect,\n\u001b[0;32m   1629\u001b[0m     compiled_cache\u001b[39m=\u001b[39mcompiled_cache,\n\u001b[1;32m   (...)\u001b[0m\n\u001b[0;32m   1633\u001b[0m     linting\u001b[39m=\u001b[39m\u001b[39mself\u001b[39m\u001b[39m.\u001b[39mdialect\u001b[39m.\u001b[39mcompiler_linting \u001b[39m|\u001b[39m compiler\u001b[39m.\u001b[39mWARN_LINTING,\n\u001b[0;32m   1634\u001b[0m )\n\u001b[1;32m-> 1635\u001b[0m ret \u001b[39m=\u001b[39m \u001b[39mself\u001b[39;49m\u001b[39m.\u001b[39;49m_execute_context(\n\u001b[0;32m   1636\u001b[0m     dialect,\n\u001b[0;32m   1637\u001b[0m     dialect\u001b[39m.\u001b[39;49mexecution_ctx_cls\u001b[39m.\u001b[39;49m_init_compiled,\n\u001b[0;32m   1638\u001b[0m     compiled_sql,\n\u001b[0;32m   1639\u001b[0m     distilled_parameters,\n\u001b[0;32m   1640\u001b[0m     execution_options,\n\u001b[0;32m   1641\u001b[0m     compiled_sql,\n\u001b[0;32m   1642\u001b[0m     distilled_parameters,\n\u001b[0;32m   1643\u001b[0m     elem,\n\u001b[0;32m   1644\u001b[0m     extracted_params,\n\u001b[0;32m   1645\u001b[0m     cache_hit\u001b[39m=\u001b[39;49mcache_hit,\n\u001b[0;32m   1646\u001b[0m )\n\u001b[0;32m   1647\u001b[0m \u001b[39mif\u001b[39;00m has_events:\n\u001b[0;32m   1648\u001b[0m     \u001b[39mself\u001b[39m\u001b[39m.\u001b[39mdispatch\u001b[39m.\u001b[39mafter_execute(\n\u001b[0;32m   1649\u001b[0m         \u001b[39mself\u001b[39m,\n\u001b[0;32m   1650\u001b[0m         elem,\n\u001b[1;32m   (...)\u001b[0m\n\u001b[0;32m   1654\u001b[0m         ret,\n\u001b[0;32m   1655\u001b[0m     )\n",
      "File \u001b[1;32mc:\\Users\\Mohammad\\AppData\\Local\\Programs\\Python\\Python310\\lib\\site-packages\\sqlalchemy\\engine\\base.py:1844\u001b[0m, in \u001b[0;36mConnection._execute_context\u001b[1;34m(self, dialect, constructor, statement, parameters, execution_options, *args, **kw)\u001b[0m\n\u001b[0;32m   1839\u001b[0m     \u001b[39mreturn\u001b[39;00m \u001b[39mself\u001b[39m\u001b[39m.\u001b[39m_exec_insertmany_context(\n\u001b[0;32m   1840\u001b[0m         dialect,\n\u001b[0;32m   1841\u001b[0m         context,\n\u001b[0;32m   1842\u001b[0m     )\n\u001b[0;32m   1843\u001b[0m \u001b[39melse\u001b[39;00m:\n\u001b[1;32m-> 1844\u001b[0m     \u001b[39mreturn\u001b[39;00m \u001b[39mself\u001b[39;49m\u001b[39m.\u001b[39;49m_exec_single_context(\n\u001b[0;32m   1845\u001b[0m         dialect, context, statement, parameters\n\u001b[0;32m   1846\u001b[0m     )\n",
      "File \u001b[1;32mc:\\Users\\Mohammad\\AppData\\Local\\Programs\\Python\\Python310\\lib\\site-packages\\sqlalchemy\\engine\\base.py:1984\u001b[0m, in \u001b[0;36mConnection._exec_single_context\u001b[1;34m(self, dialect, context, statement, parameters)\u001b[0m\n\u001b[0;32m   1981\u001b[0m     result \u001b[39m=\u001b[39m context\u001b[39m.\u001b[39m_setup_result_proxy()\n\u001b[0;32m   1983\u001b[0m \u001b[39mexcept\u001b[39;00m \u001b[39mBaseException\u001b[39;00m \u001b[39mas\u001b[39;00m e:\n\u001b[1;32m-> 1984\u001b[0m     \u001b[39mself\u001b[39;49m\u001b[39m.\u001b[39;49m_handle_dbapi_exception(\n\u001b[0;32m   1985\u001b[0m         e, str_statement, effective_parameters, cursor, context\n\u001b[0;32m   1986\u001b[0m     )\n\u001b[0;32m   1988\u001b[0m \u001b[39mreturn\u001b[39;00m result\n",
      "File \u001b[1;32mc:\\Users\\Mohammad\\AppData\\Local\\Programs\\Python\\Python310\\lib\\site-packages\\sqlalchemy\\engine\\base.py:2339\u001b[0m, in \u001b[0;36mConnection._handle_dbapi_exception\u001b[1;34m(self, e, statement, parameters, cursor, context, is_sub_exec)\u001b[0m\n\u001b[0;32m   2337\u001b[0m \u001b[39melif\u001b[39;00m should_wrap:\n\u001b[0;32m   2338\u001b[0m     \u001b[39massert\u001b[39;00m sqlalchemy_exception \u001b[39mis\u001b[39;00m \u001b[39mnot\u001b[39;00m \u001b[39mNone\u001b[39;00m\n\u001b[1;32m-> 2339\u001b[0m     \u001b[39mraise\u001b[39;00m sqlalchemy_exception\u001b[39m.\u001b[39mwith_traceback(exc_info[\u001b[39m2\u001b[39m]) \u001b[39mfrom\u001b[39;00m \u001b[39me\u001b[39;00m\n\u001b[0;32m   2340\u001b[0m \u001b[39melse\u001b[39;00m:\n\u001b[0;32m   2341\u001b[0m     \u001b[39massert\u001b[39;00m exc_info[\u001b[39m1\u001b[39m] \u001b[39mis\u001b[39;00m \u001b[39mnot\u001b[39;00m \u001b[39mNone\u001b[39;00m\n",
      "File \u001b[1;32mc:\\Users\\Mohammad\\AppData\\Local\\Programs\\Python\\Python310\\lib\\site-packages\\sqlalchemy\\engine\\base.py:1934\u001b[0m, in \u001b[0;36mConnection._exec_single_context\u001b[1;34m(self, dialect, context, statement, parameters)\u001b[0m\n\u001b[0;32m   1932\u001b[0m                 \u001b[39mbreak\u001b[39;00m\n\u001b[0;32m   1933\u001b[0m     \u001b[39mif\u001b[39;00m \u001b[39mnot\u001b[39;00m evt_handled:\n\u001b[1;32m-> 1934\u001b[0m         \u001b[39mself\u001b[39;49m\u001b[39m.\u001b[39;49mdialect\u001b[39m.\u001b[39;49mdo_executemany(\n\u001b[0;32m   1935\u001b[0m             cursor,\n\u001b[0;32m   1936\u001b[0m             str_statement,\n\u001b[0;32m   1937\u001b[0m             effective_parameters,\n\u001b[0;32m   1938\u001b[0m             context,\n\u001b[0;32m   1939\u001b[0m         )\n\u001b[0;32m   1940\u001b[0m \u001b[39melif\u001b[39;00m \u001b[39mnot\u001b[39;00m effective_parameters \u001b[39mand\u001b[39;00m context\u001b[39m.\u001b[39mno_parameters:\n\u001b[0;32m   1941\u001b[0m     \u001b[39mif\u001b[39;00m \u001b[39mself\u001b[39m\u001b[39m.\u001b[39mdialect\u001b[39m.\u001b[39m_has_events:\n",
      "File \u001b[1;32mc:\\Users\\Mohammad\\AppData\\Local\\Programs\\Python\\Python310\\lib\\site-packages\\sqlalchemy\\engine\\default.py:918\u001b[0m, in \u001b[0;36mDefaultDialect.do_executemany\u001b[1;34m(self, cursor, statement, parameters, context)\u001b[0m\n\u001b[0;32m    917\u001b[0m \u001b[39mdef\u001b[39;00m \u001b[39mdo_executemany\u001b[39m(\u001b[39mself\u001b[39m, cursor, statement, parameters, context\u001b[39m=\u001b[39m\u001b[39mNone\u001b[39;00m):\n\u001b[1;32m--> 918\u001b[0m     cursor\u001b[39m.\u001b[39;49mexecutemany(statement, parameters)\n",
      "File \u001b[1;32mc:\\Users\\Mohammad\\AppData\\Local\\Programs\\Python\\Python310\\lib\\site-packages\\mysql\\connector\\cursor_cext.py:455\u001b[0m, in \u001b[0;36mCMySQLCursor.executemany\u001b[1;34m(self, operation, seq_params)\u001b[0m\n\u001b[0;32m    453\u001b[0m     \u001b[39mif\u001b[39;00m stmt \u001b[39mis\u001b[39;00m \u001b[39mnot\u001b[39;00m \u001b[39mNone\u001b[39;00m:\n\u001b[0;32m    454\u001b[0m         \u001b[39mself\u001b[39m\u001b[39m.\u001b[39m_executed \u001b[39m=\u001b[39m stmt\n\u001b[1;32m--> 455\u001b[0m         \u001b[39mreturn\u001b[39;00m \u001b[39mself\u001b[39;49m\u001b[39m.\u001b[39;49mexecute(stmt)\n\u001b[0;32m    457\u001b[0m rowcnt \u001b[39m=\u001b[39m \u001b[39m0\u001b[39m\n\u001b[0;32m    458\u001b[0m \u001b[39mtry\u001b[39;00m:\n\u001b[0;32m    459\u001b[0m     \u001b[39m# When processing read ops (e.g., SELECT), rowcnt is updated\u001b[39;00m\n\u001b[0;32m    460\u001b[0m     \u001b[39m# based on self._rowcount. For write ops (e.g., INSERT) is\u001b[39;00m\n\u001b[0;32m    461\u001b[0m     \u001b[39m# updated based on self._affected_rows.\u001b[39;00m\n\u001b[0;32m    462\u001b[0m     \u001b[39m# The variable self._description is None for write ops, that's\u001b[39;00m\n\u001b[0;32m    463\u001b[0m     \u001b[39m# why we use it as indicator for updating rowcnt.\u001b[39;00m\n",
      "File \u001b[1;32mc:\\Users\\Mohammad\\AppData\\Local\\Programs\\Python\\Python310\\lib\\site-packages\\mysql\\connector\\cursor_cext.py:330\u001b[0m, in \u001b[0;36mCMySQLCursor.execute\u001b[1;34m(self, operation, params, multi)\u001b[0m\n\u001b[0;32m    325\u001b[0m             \u001b[39mraise\u001b[39;00m ProgrammingError(\n\u001b[0;32m    326\u001b[0m                 \u001b[39m\"\u001b[39m\u001b[39mNot all parameters were used in the SQL statement\u001b[39m\u001b[39m\"\u001b[39m\n\u001b[0;32m    327\u001b[0m             )\n\u001b[0;32m    329\u001b[0m \u001b[39mtry\u001b[39;00m:\n\u001b[1;32m--> 330\u001b[0m     result \u001b[39m=\u001b[39m \u001b[39mself\u001b[39;49m\u001b[39m.\u001b[39;49m_cnx\u001b[39m.\u001b[39;49mcmd_query(\n\u001b[0;32m    331\u001b[0m         stmt,\n\u001b[0;32m    332\u001b[0m         raw\u001b[39m=\u001b[39;49m\u001b[39mself\u001b[39;49m\u001b[39m.\u001b[39;49m_raw,\n\u001b[0;32m    333\u001b[0m         buffered\u001b[39m=\u001b[39;49m\u001b[39mself\u001b[39;49m\u001b[39m.\u001b[39;49m_buffered,\n\u001b[0;32m    334\u001b[0m         raw_as_string\u001b[39m=\u001b[39;49m\u001b[39mself\u001b[39;49m\u001b[39m.\u001b[39;49m_raw_as_string,\n\u001b[0;32m    335\u001b[0m     )\n\u001b[0;32m    336\u001b[0m \u001b[39mexcept\u001b[39;00m MySQLInterfaceError \u001b[39mas\u001b[39;00m err:\n\u001b[0;32m    337\u001b[0m     \u001b[39mraise\u001b[39;00m get_mysql_exception(\n\u001b[0;32m    338\u001b[0m         msg\u001b[39m=\u001b[39merr\u001b[39m.\u001b[39mmsg, errno\u001b[39m=\u001b[39merr\u001b[39m.\u001b[39merrno, sqlstate\u001b[39m=\u001b[39merr\u001b[39m.\u001b[39msqlstate\n\u001b[0;32m    339\u001b[0m     ) \u001b[39mfrom\u001b[39;00m \u001b[39merr\u001b[39;00m\n",
      "File \u001b[1;32mc:\\Users\\Mohammad\\AppData\\Local\\Programs\\Python\\Python310\\lib\\site-packages\\mysql\\connector\\opentelemetry\\context_propagation.py:77\u001b[0m, in \u001b[0;36mwith_context_propagation.<locals>.wrapper\u001b[1;34m(cnx, *args, **kwargs)\u001b[0m\n\u001b[0;32m     75\u001b[0m \u001b[39m\"\"\"Context propagation decorator.\"\"\"\u001b[39;00m\n\u001b[0;32m     76\u001b[0m \u001b[39mif\u001b[39;00m \u001b[39mnot\u001b[39;00m OTEL_ENABLED \u001b[39mor\u001b[39;00m \u001b[39mnot\u001b[39;00m cnx\u001b[39m.\u001b[39motel_context_propagation:\n\u001b[1;32m---> 77\u001b[0m     \u001b[39mreturn\u001b[39;00m method(cnx, \u001b[39m*\u001b[39margs, \u001b[39m*\u001b[39m\u001b[39m*\u001b[39mkwargs)\n\u001b[0;32m     79\u001b[0m current_span \u001b[39m=\u001b[39m trace\u001b[39m.\u001b[39mget_current_span()\n\u001b[0;32m     80\u001b[0m tp_header \u001b[39m=\u001b[39m \u001b[39mNone\u001b[39;00m\n",
      "File \u001b[1;32mc:\\Users\\Mohammad\\AppData\\Local\\Programs\\Python\\Python310\\lib\\site-packages\\mysql\\connector\\connection_cext.py:641\u001b[0m, in \u001b[0;36mCMySQLConnection.cmd_query\u001b[1;34m(self, query, raw, buffered, raw_as_string)\u001b[0m\n\u001b[0;32m    633\u001b[0m     \u001b[39mself\u001b[39m\u001b[39m.\u001b[39m_cmysql\u001b[39m.\u001b[39mquery(\n\u001b[0;32m    634\u001b[0m         query,\n\u001b[0;32m    635\u001b[0m         raw\u001b[39m=\u001b[39mraw,\n\u001b[1;32m   (...)\u001b[0m\n\u001b[0;32m    638\u001b[0m         query_attrs\u001b[39m=\u001b[39m\u001b[39mself\u001b[39m\u001b[39m.\u001b[39mquery_attrs,\n\u001b[0;32m    639\u001b[0m     )\n\u001b[0;32m    640\u001b[0m \u001b[39mexcept\u001b[39;00m MySQLInterfaceError \u001b[39mas\u001b[39;00m err:\n\u001b[1;32m--> 641\u001b[0m     \u001b[39mraise\u001b[39;00m get_mysql_exception(\n\u001b[0;32m    642\u001b[0m         err\u001b[39m.\u001b[39merrno, msg\u001b[39m=\u001b[39merr\u001b[39m.\u001b[39mmsg, sqlstate\u001b[39m=\u001b[39merr\u001b[39m.\u001b[39msqlstate\n\u001b[0;32m    643\u001b[0m     ) \u001b[39mfrom\u001b[39;00m \u001b[39merr\u001b[39;00m\n\u001b[0;32m    644\u001b[0m \u001b[39mexcept\u001b[39;00m \u001b[39mAttributeError\u001b[39;00m \u001b[39mas\u001b[39;00m err:\n\u001b[0;32m    645\u001b[0m     addr \u001b[39m=\u001b[39m (\n\u001b[0;32m    646\u001b[0m         \u001b[39mself\u001b[39m\u001b[39m.\u001b[39m_unix_socket \u001b[39mif\u001b[39;00m \u001b[39mself\u001b[39m\u001b[39m.\u001b[39m_unix_socket \u001b[39melse\u001b[39;00m \u001b[39mf\u001b[39m\u001b[39m\"\u001b[39m\u001b[39m{\u001b[39;00m\u001b[39mself\u001b[39m\u001b[39m.\u001b[39m_host\u001b[39m}\u001b[39;00m\u001b[39m:\u001b[39m\u001b[39m{\u001b[39;00m\u001b[39mself\u001b[39m\u001b[39m.\u001b[39m_port\u001b[39m}\u001b[39;00m\u001b[39m\"\u001b[39m\n\u001b[0;32m    647\u001b[0m     )\n",
      "\u001b[1;31mIntegrityError\u001b[0m: (mysql.connector.errors.IntegrityError) 1062 (23000): Duplicate entry '16431' for key 'book.PRIMARY'\n[SQL: INSERT INTO book (code, title_persian, title_english, price, discount, grade, shabak, page_count, release_year_sh, release_year_mi, exist, earliest_access, print_series, ghate, cover) VALUES (%(code)s, %(title_persian)s, %(title_english)s, %(price)s, %(discount)s, %(grade)s, %(shabak)s, %(page_count)s, %(release_year_sh)s, %(release_year_mi)s, %(exist)s, %(earliest_access)s, %(print_series)s, %(ghate)s, %(cover)s)]\n[parameters: [{'code': 16431.0, 'title_persian': 'مناظره مسلمان و مسیحی', 'title_english': ' Muslim and Christian debate', 'price': 123750, 'discount': 25.0, 'grade': 3.57, 'shabak': '978-9642247059', 'page_count': 268.0, 'release_year_sh': 1401.0, 'release_year_mi': None, 'exist': 1, 'earliest_access': '1402-07-10', 'print_series': 2.0, 'ghate': 'وزیری', 'cover': 'شومیز'}, {'code': 44551.0, 'title_persian': 'طعم سیب زرد', 'title_english': \" Ta'me sibe zard\", 'price': 49700, 'discount': 30.0, 'grade': 3.41, 'shabak': '978-6002966469', 'page_count': 160.0, 'release_year_sh': 1401.0, 'release_year_mi': None, 'exist': 1, 'earliest_access': '1402-07-10', 'print_series': 4.0, 'ghate': 'پالتویی', 'cover': 'شومیز'}, {'code': 75051.0, 'title_persian': 'نگاهی نو به فلسفه دین کانت', 'title_english': \" A new look at Kant's philosophy of religion\", 'price': 150000, 'discount': 25.0, 'grade': 3.63, 'shabak': '978-6006730820', 'page_count': 332.0, 'release_year_sh': 1398.0, 'release_year_mi': None, 'exist': 1, 'earliest_access': '1402-07-08', 'print_series': 1.0, 'ghate': 'رقعی', 'cover': 'شومیز'}, {'code': 32993.0, 'title_persian': 'مدیریت خشم', 'title_english': ' Anger Management', 'price': 80000, 'discount': 20.0, 'grade': 3.21, 'shabak': '978-9641703129', 'page_count': 128.0, 'release_year_sh': 1401.0, 'release_year_mi': 2018.0, 'exist': 1, 'earliest_access': '1402-07-10', 'print_series': 4.0, 'ghate': 'رقعی', 'cover': 'شومیز'}, {'code': 46770.0, 'title_persian': 'اطوار اندیشه ی اسلامی', 'title_english': ' Atvar-e andishe-ye Eslami', 'price': 120000, 'discount': 20.0, 'grade': 3.21, 'shabak': '978-9642671649', 'page_count': 112.0, 'release_year_sh': 1391.0, 'release_year_mi': None, 'exist': 1, 'earliest_access': '1402-07-08', 'print_series': 1.0, 'ghate': 'رقعی', 'cover': 'جلدسخت'}, {'code': 11759.0, 'title_persian': 'فردیت اشتراکی', 'title_english': ' Shared Individuality', 'price': 129500, 'discount': 30.0, 'grade': 3.2, 'shabak': '9789648175837', 'page_count': 176.0, 'release_year_sh': 1402.0, 'release_year_mi': 2010.0, 'exist': 1, 'earliest_access': '1402-07-06', 'print_series': 4.0, 'ghate': 'رقعی', 'cover': 'شومیز'}, {'code': 61295.0, 'title_persian': 'شما هم می توانید', 'title_english': ' You can too', 'price': 19500, 'discount': 25.0, 'grade': 3.8, 'shabak': '978-6009870851', 'page_count': 98.0, 'release_year_sh': 1397.0, 'release_year_mi': None, 'exist': 1, 'earliest_access': '1402-07-10', 'print_series': 1.0, 'ghate': 'رقعی', 'cover': 'شومیز'}, {'code': 76224.0, 'title_persian': 'مدیر پاشنه بلند', 'title_english': ' High heel manager', 'price': 24500, 'discount': 30.0, 'grade': 3.37, 'shabak': '978-6225816022', 'page_count': 100.0, 'release_year_sh': 1401.0, 'release_year_mi': None, 'exist': 1, 'earliest_access': '1402-07-10', 'print_series': 1.0, 'ghate': 'رقعی', 'cover': 'شومیز'}  ... displaying 10 of 1881 total bound parameter sets ...  {'code': 16501.0, 'title_persian': 'توسعه نیافتگی و صنعتی سازی', 'title_english': ' Underdevelopment and industrialization', 'price': 63675, 'discount': 25.0, 'grade': 3.46, 'shabak': '978-6008942528', 'page_count': 339.0, 'release_year_sh': 1398.0, 'release_year_mi': None, 'exist': 1, 'earliest_access': '1402-07-08', 'print_series': 1.0, 'ghate': 'رقعی', 'cover': 'شومیز'}, {'code': 69485.0, 'title_persian': 'سودوکو', 'title_english': ' Su Doku', 'price': 66500, 'discount': 30.0, 'grade': 3.91, 'shabak': '978-6005482751', 'page_count': 144.0, 'release_year_sh': 1401.0, 'release_year_mi': 2005.0, 'exist': 1, 'earliest_access': '1402-07-06', 'print_series': 2.0, 'ghate': 'رقعی', 'cover': 'شومیز'}]]\n(Background on this error at: https://sqlalche.me/e/20/gkpj)"
     ]
    }
   ],
   "source": [
    "df_book = pd.read_csv('data_csv_1_25001/book.csv')\n",
    "df_book.dropna(subset=[\"code\"],inplace=True)\n",
    "df_book.drop_duplicates(subset=[\"code\"],inplace=True)\n",
    "df_book.drop('code.1', axis=1,inplace=True)\n",
    "df_book.to_csv('modified/modified_book.csv', index=False)\n",
    "df_book.to_sql('book', engine, if_exists='append', index=False)\n"
   ]
  },
  {
   "cell_type": "markdown",
   "metadata": {},
   "source": [
    "# group"
   ]
  },
  {
   "cell_type": "code",
   "execution_count": 5,
   "metadata": {},
   "outputs": [
    {
     "name": "stdout",
     "output_type": "stream",
     "text": [
      "2023-09-29 09:46:51,737 INFO sqlalchemy.engine.Engine BEGIN (implicit)\n",
      "2023-09-29 09:46:51,737 INFO sqlalchemy.engine.Engine DESCRIBE `book_store`.`group`\n",
      "2023-09-29 09:46:51,739 INFO sqlalchemy.engine.Engine [raw sql] {}\n",
      "2023-09-29 09:46:51,750 INFO sqlalchemy.engine.Engine ROLLBACK\n",
      "2023-09-29 09:46:51,756 INFO sqlalchemy.engine.Engine BEGIN (implicit)\n",
      "2023-09-29 09:46:51,776 INFO sqlalchemy.engine.Engine INSERT INTO `group` (id, description) VALUES (%(id)s, %(description)s)\n",
      "2023-09-29 09:46:51,777 INFO sqlalchemy.engine.Engine [generated in 0.01407s] [{'id': 110769, 'description': 'فاجعه منا یکی از فجایع مهم چند سال اخیر است که در پی بی\\u200c تدبیری سعودی\\u200c ها، تعداد زیادی از زائرین از ملیت\\u200c های مختلف خصوصا ایران از گرم ... (314 characters truncated) ... یت شهدای این فاجعه را به تصویر بکشند. کتاب اکبری دیزگاه دومین اثری است که با مراجعه به شاهدان عینی، سعی در بازخوانی این ماجرا از زاویه دید آنها دارد.'}, {'id': 16431, 'description': 'نویسنده در قالب یک داستان، روشی که معمولا در مباحثات دینی و مذهبی از آن استفاده می شود، این گفتگو را تنظیم کرده و همان طور که اشاره شد، برای شیرین تر ... (1615 characters truncated) ... ت و انجیل را انتشار نمی کردید که عطّار در او دوا بپیچد، صحاف جلد کتاب موش و گربه کند، کلاه دوز قالب کلاه کند، در عداد کاغذهای باطله استعمال شود».....'}, {'id': 26088, 'description': 'برکه سرودۀ شاعر بنام، اسدالله شعبانی، است. این کتاب منظومه ای زیبا دربارۀ سرگذشت برکه ای است که به دور از هیاهوی شهر و زندگی ماشینی، در دل طبیعت، زند ... (74 characters truncated) ... ن و گردش ماهیان و قورباغه ها و جانورانش سرمست می شود. در طول این منظومه، چهار فصل بر برکه و جانورانش سپری می شود و هر فصل زیبایی های خاص خود را دارد.'}, {'id': 32993, 'description': 'اگر می خواهید زندگی موفق تر، سالم تر و شادتری داشته باشید، باید بیاموزید بر احساسات منفی غلبه کنید. احساسات خام و قوی مانند خشم، اغلب شادی و پیشرفت ر ... (872 characters truncated) ... هم وجود دارد. با هدایت این احساس نیرومند، نه تنها از خطر واکنش های تند و عواقب ناشی از آن خلاص می شوید بلکه در قسمت های دیگر زندگی هم پیشرفت می کنید.'}, {'id': 75051, 'description': 'کانت\\u200cپژوهان اگرچه رویکرد یکسانی در تفسیر مدعیات دینی و الاهیاتی کانت نداشته\\u200cاند اما عموما با تمرکز بر محتوای نقد عقل محض و نتیجه طبیعی آن ک ... (418 characters truncated) ...  بر تجربه عرفانی و معرفت پیشین به خدا تأکید دارند و نشان داده\\u200cاند برخلاف برداشت\\u200cهای تحویل\\u200cگرایانه رایج، دین کانت صرفا همان اخلاق نیست.'}, {'id': 85511, 'description': 'افسردگی یکی از شایع ترین اختلالات روانپزشکی است که تعداد بسیار زیادی از افراد را در طول زندگی شان گرفتار می کند. یک مطالعه کشوری که چند سال قبل در ای ... (818 characters truncated) ... ماست. به ویژه وقتی عوامل تنش زا در جامعه هر روز بیشتر و بیشتر می شود و مشکلات مختلف اجتماعی اقتصادی و سیاسی به شکلی روزافزون از یکدیگر سبقت می گیرند…'}, {'id': 44551, 'description': 'داستان پسر نوجوانی که با مادرش زندگی می کند و از زمانی که پدرش آن ها را رها کرده، یعنی سال ها پیش که او کودکی بیش نبوده دچار مشکلات روحی و جسمی ناخوش ... (124 characters truncated) ... باید در آن سپری کند دل خوشی ندارد، اما باید از تنش، اضطراب و زندگی دروغینی که برای خودش دست و پا کرده است رها شود تا بتواند زندگی آرامی را تجربه کند…'}, {'id': 46770, 'description': 'اطوار حاضر دربردارنده ی شانزده پرسش و پاسخ درباره ی فلسفه ی اسلامی و فیلسوفان اسلامی است. زبان اثر ساده و همراه با اصطلاحات فلسفه و حکمت است. هدف نوی ... (251 characters truncated) ... ینا که در واقع پدر فلسفه ی وجود شناخته شده توضیح دهید»، «افکار ابن رشد چه تأثیری بر فلاسفه غرب داشت؟» از جمله پرسش های پاسخ داده شده در این کتاب است.'}  ... displaying 10 of 2510 total bound parameter sets ...  {'id': 69485, 'description': 'حتما با خود می گویید ریاضیات به خودی خود به اندازه ی کافی ترسناک است، وای به حال آن که صفت ترسناک هم به آن اضافه شده است! پس بهتر است اصلا فکرش را نکنید که طرف این مجموعه بیایید! ولی به شما توصیه می کنیم عجله نکنید و پیش داوری را کنار بگذارید و...'}, {'id': 15353, 'description': '«روز جغد» رمانی متفاوت از پشت پرده شکل گیری مافیا است. لئوناردو شاشا در این اثر سعی کرده تا ریشه های سازمانی مخوف و ریشه دار را به نمایش بگذارد. سازم ... (781 characters truncated) ... ه باید یه چیزی رو که توی خونه پیدا کرده بدون فوت وقت نشون بده. کمیسر به شوخی گفت: «یه جسده؟» -نه، فقط گفت یه چیزی. -یه چیزی... خب این یارو اسمش چیه؟»'}]\n",
      "2023-09-29 09:46:52,208 INFO sqlalchemy.engine.Engine COMMIT\n"
     ]
    },
    {
     "data": {
      "text/plain": [
       "2510"
      ]
     },
     "execution_count": 5,
     "metadata": {},
     "output_type": "execute_result"
    }
   ],
   "source": [
    "df_group = pd.read_csv('data_csv_1_25001/group.csv')\n",
    "df_group.dropna(subset=[\"group_id\"],inplace=True)\n",
    "df_group.drop_duplicates(subset=[\"group_id\"],inplace=True)\n",
    "df_group.rename(columns={'group_id': 'id'}, inplace=True)\n",
    "df_group.to_csv('modified/modified_group.csv', index=False)\n",
    "df_group.to_sql('group', engine, if_exists='append', index=False)"
   ]
  },
  {
   "cell_type": "markdown",
   "metadata": {},
   "source": [
    "# group book"
   ]
  },
  {
   "cell_type": "code",
   "execution_count": 15,
   "metadata": {},
   "outputs": [
    {
     "name": "stdout",
     "output_type": "stream",
     "text": [
      "2023-09-29 09:55:13,008 INFO sqlalchemy.engine.Engine BEGIN (implicit)\n",
      "2023-09-29 09:55:13,010 INFO sqlalchemy.engine.Engine select id from `group`\n",
      "2023-09-29 09:55:13,011 INFO sqlalchemy.engine.Engine [cached since 118.9s ago] {}\n",
      "2023-09-29 09:55:13,165 INFO sqlalchemy.engine.Engine BEGIN (implicit)\n",
      "2023-09-29 09:55:13,167 INFO sqlalchemy.engine.Engine DESCRIBE `book_store`.`group_book`\n",
      "2023-09-29 09:55:13,169 INFO sqlalchemy.engine.Engine [raw sql] {}\n",
      "2023-09-29 09:55:13,194 INFO sqlalchemy.engine.Engine ROLLBACK\n",
      "2023-09-29 09:55:13,198 INFO sqlalchemy.engine.Engine BEGIN (implicit)\n",
      "2023-09-29 09:55:13,668 INFO sqlalchemy.engine.Engine INSERT INTO group_book (group_id, book_code) VALUES (%(group_id)s, %(book_code)s)\n",
      "2023-09-29 09:55:13,669 INFO sqlalchemy.engine.Engine [generated in 0.43597s] [{'group_id': 16431, 'book_code': 16431}, {'group_id': 44551, 'book_code': 44551}, {'group_id': 75051, 'book_code': 75051}, {'group_id': 32993, 'book_code': 32993}, {'group_id': 46770, 'book_code': 46770}, {'group_id': 11759, 'book_code': 11759}, {'group_id': 61295, 'book_code': 61295}, {'group_id': 76224, 'book_code': 76224}  ... displaying 10 of 47665 total bound parameter sets ...  {'group_id': 91990, 'book_code': 92165}, {'group_id': 91990, 'book_code': 92167}]\n",
      "2023-09-29 09:55:15,468 INFO sqlalchemy.engine.Engine COMMIT\n"
     ]
    },
    {
     "data": {
      "text/plain": [
       "47665"
      ]
     },
     "execution_count": 15,
     "metadata": {},
     "output_type": "execute_result"
    }
   ],
   "source": [
    "from sqlalchemy import create_engine, text\n",
    "df_group_book = pd.read_csv('data_csv_1_25001/group_book.csv')\n",
    "df_group_book.dropna(subset=[\"group_id\"],inplace=True)\n",
    "df_group_book.dropna(subset=[\"book_code\"],inplace=True)\n",
    "df_group_book['book_code'] = df_group_book['book_code'].astype(int)\n",
    "query = \"select id from `group`\"\n",
    "existing_group_ids = pd.DataFrame(engine.connect().execute(text(query)))['id'].tolist()\n",
    "valid_mask = df_group_book['group_id'].isin(existing_group_ids)\n",
    "df_valid_group = df_group_book[valid_mask]\n",
    "df_valid_group.to_csv('modified/modified_group_book.csv', index=False)\n",
    "df_valid_group.to_sql('group_book', engine, if_exists='append', index=False)"
   ]
  },
  {
   "cell_type": "markdown",
   "metadata": {},
   "source": [
    "# person"
   ]
  },
  {
   "cell_type": "code",
   "execution_count": 16,
   "metadata": {},
   "outputs": [
    {
     "name": "stdout",
     "output_type": "stream",
     "text": [
      "2023-09-29 09:56:26,833 INFO sqlalchemy.engine.Engine BEGIN (implicit)\n",
      "2023-09-29 09:56:26,833 INFO sqlalchemy.engine.Engine DESCRIBE `book_store`.`person`\n",
      "2023-09-29 09:56:26,834 INFO sqlalchemy.engine.Engine [raw sql] {}\n",
      "2023-09-29 09:56:26,872 INFO sqlalchemy.engine.Engine ROLLBACK\n",
      "2023-09-29 09:56:26,878 INFO sqlalchemy.engine.Engine BEGIN (implicit)\n",
      "2023-09-29 09:56:26,899 INFO sqlalchemy.engine.Engine INSERT INTO person (id, name, description) VALUES (%(id)s, %(name)s, %(description)s)\n",
      "2023-09-29 09:56:26,900 INFO sqlalchemy.engine.Engine [generated in 0.01794s] [{'id': 6039.0, 'name': 'رسول جعفریان', 'description': 'رسول جعفریان، روحانی و پژوهشگر تاریخ ایرانی است، وی اکنون استاد گروه تاریخ دانشگاه تهران، رئیس کتابخانه تخصصی تاریخ اسلام و ایرانو رئیس کتابخانه مرکزی دانشگاه تهران می باشد.'}, {'id': 14398.0, 'name': 'ناصر یوسفی', 'description': 'ناصر یوسفی (متولد ۱۳۴۶) نویسنده کتاب\\u200cهای کودکان و نوجوانان است. او دکتری آموزش\\u200cوپرورش دارد و مشاور چند نهاد بین\\u200cالملی از جمله یونیسف، کمیساریای عالی سازمان ملل در امور پناهندگان، یونسکو و شورای جهانی جمعیت بوده\\u200cاست. یوسفی مدیریت مؤسسه پژوهشی کودکان دنیا را بر عهده دارد.'}, {'id': 19055.0, 'name': 'بیل اندروز', 'description': 'بیل اندروز یک چهره مشهور رهبری ، مشاور و نویسنده برنده جایزه آمریکایی است. وی از طریق مشاوره خودیاری ، برنامه های مختلف آموزشی و کتابهای تغییر دهنده  ... (77 characters truncated) ... ی متعدد \"خودیاری\" و \"تحول زندگی\" است. کتاب های او در لیست پرفروش های مختلفی از جمله نیویورک تایمز ، وال استریت ژورنال و یو اس ای تودی قرار گرفته اند.'}, {'id': 4242.0, 'name': 'شاهین برادران', 'description': None}, {'id': 26284.0, 'name': 'محمد خواجوی', 'description': None}, {'id': 41157.0, 'name': 'مصطفی صالحی اردکانی', 'description': 'مصطفی صالحی اردکانی متولد سال 1359، نویسنده ایرانی می باشد.'}, {'id': 6960.0, 'name': 'ژولیا کریستوا', 'description': None}, {'id': 6961.0, 'name': 'مهرداد پارسا', 'description': None}  ... displaying 10 of 1964 total bound parameter sets ...  {'id': 24667.0, 'name': 'کیارتان پاسکیت', 'description': 'کیارتان پاسکیت (متولد 15 مه 1956 در یورک) نویسنده و مجری تلویزیونی بریتانیایی است که بیشتر به خاطر نوشتن مجموعه کتاب های کودکان شهرت دارد. او در یورک ، انگلیس متولد شد ، در سلبی ، یورکشایر بزرگ شد. او در رشته مهندسی در کالج کالینگ وود ، دانشگاه دورهام تحصیل کرده است.'}, {'id': 38552.0, 'name': 'ایلیا سالک', 'description': 'ایلیا سالک مترجم ایرانی متولد سال 1372 می باشد.'}]\n",
      "2023-09-29 09:56:27,491 INFO sqlalchemy.engine.Engine COMMIT\n"
     ]
    },
    {
     "data": {
      "text/plain": [
       "1964"
      ]
     },
     "execution_count": 16,
     "metadata": {},
     "output_type": "execute_result"
    }
   ],
   "source": [
    "df_person = pd.read_csv('data_csv_1_25001/person.csv')\n",
    "df_person.dropna(subset=[\"id\"],inplace=True)\n",
    "df_person.drop_duplicates(subset=[\"id\"],inplace=True)\n",
    "if df_person[\"description\"].isnull().all():\n",
    "    df_person[\"description\"] = 'None'\n",
    "df_person.drop('counter',axis=1,inplace=True)\n",
    "df_person.to_csv('modified/modified_person.csv', index=False)\n",
    "df_person.to_sql('person', engine, if_exists='append', index=False)"
   ]
  },
  {
   "cell_type": "markdown",
   "metadata": {},
   "source": [
    "# publisher\n"
   ]
  },
  {
   "cell_type": "code",
   "execution_count": 17,
   "metadata": {},
   "outputs": [
    {
     "name": "stdout",
     "output_type": "stream",
     "text": [
      "2023-09-29 09:56:31,346 INFO sqlalchemy.engine.Engine BEGIN (implicit)\n",
      "2023-09-29 09:56:31,348 INFO sqlalchemy.engine.Engine DESCRIBE `book_store`.`publisher`\n",
      "2023-09-29 09:56:31,349 INFO sqlalchemy.engine.Engine [raw sql] {}\n",
      "2023-09-29 09:56:31,354 INFO sqlalchemy.engine.Engine ROLLBACK\n",
      "2023-09-29 09:56:31,357 INFO sqlalchemy.engine.Engine BEGIN (implicit)\n",
      "2023-09-29 09:56:31,363 INFO sqlalchemy.engine.Engine INSERT INTO publisher (id, name) VALUES (%(id)s, %(name)s)\n",
      "2023-09-29 09:56:31,365 INFO sqlalchemy.engine.Engine [generated in 0.00475s] [{'id': 9, 'name': 'علم'}, {'id': 30, 'name': 'پیدایش'}, {'id': 1195, 'name': 'ابوعطا'}, {'id': 1254, 'name': 'مولی'}, {'id': 1971, 'name': 'ادیان و مذاهب'}, {'id': 1231, 'name': 'روزبهان'}, {'id': 1529, 'name': 'آرمان رشد'}, {'id': 1201, 'name': 'بهار سبز'}  ... displaying 10 of 458 total bound parameter sets ...  {'id': 1886, 'name': 'پژواک'}, {'id': 1478, 'name': 'کلام'}]\n",
      "2023-09-29 09:56:31,416 INFO sqlalchemy.engine.Engine COMMIT\n"
     ]
    },
    {
     "data": {
      "text/plain": [
       "458"
      ]
     },
     "execution_count": 17,
     "metadata": {},
     "output_type": "execute_result"
    }
   ],
   "source": [
    "df_publisher = pd.read_csv('data_csv_1_25001/publisher.csv')\n",
    "df_publisher.dropna(subset=[\"id\"],inplace=True)\n",
    "df_publisher.drop_duplicates(subset=[\"id\"],inplace=True)\n",
    "df_publisher.to_csv('modified/modified_publisher.csv', index=False)\n",
    "df_publisher.to_sql('publisher', engine, if_exists='append', index=False)"
   ]
  },
  {
   "cell_type": "markdown",
   "metadata": {},
   "source": [
    "# category"
   ]
  },
  {
   "cell_type": "code",
   "execution_count": 18,
   "metadata": {},
   "outputs": [
    {
     "name": "stdout",
     "output_type": "stream",
     "text": [
      "2023-09-29 09:56:52,472 INFO sqlalchemy.engine.Engine BEGIN (implicit)\n",
      "2023-09-29 09:56:52,474 INFO sqlalchemy.engine.Engine DESCRIBE `book_store`.`category`\n",
      "2023-09-29 09:56:52,476 INFO sqlalchemy.engine.Engine [raw sql] {}\n",
      "2023-09-29 09:56:52,481 INFO sqlalchemy.engine.Engine ROLLBACK\n",
      "2023-09-29 09:56:52,485 INFO sqlalchemy.engine.Engine BEGIN (implicit)\n",
      "2023-09-29 09:56:52,489 INFO sqlalchemy.engine.Engine INSERT INTO category (id, name, description) VALUES (%(id)s, %(name)s, %(description)s)\n",
      "2023-09-29 09:56:52,489 INFO sqlalchemy.engine.Engine [generated in 0.00353s] [{'id': 346, 'name': 'دینی و مذهبی', 'description': 'موضوعات مربوط به دین و مذهب در این دسته از آثار، نقشی اساسی دارند و در کانون توجه نویسنده قرار دارند. نقد و تفسیر دیدگاه های مختلف دینی نیز در این کتاب ها به چشم می خورند.'}, {'id': 327, 'name': 'روانشناسی', 'description': 'کتاب های روانشناسی به علم رفتار، تفکر و ذهن (بخش های خودآگاه و ناخودآگاه) می پردازند. هدف کلی این حوزه از دانش، به عنوان یک رشته ی دانشگاهی بسیار گسترده با گرایش هایی متنوع و مختلف، درک ویژگی های مغز، چگونگی کارکرد ذهن در شرایط مختلف و هر گونه واکنش ذهنی قابل بررسی است.'}, {'id': 182, 'name': 'رمان', 'description': 'رمان یا داستان بلند، متنی روایتگر و داستانی است که در قالب نثر نوشته می شود. در قرن هجدهم کلمهٔ «رمان» بیشتر برای اشاره به قصّه های کوتاه در مورد عشق و توطئه به کار می رفت. در ۲۰۰ سال اخیر، رمان تبدیل به یکی از مهم ترین اشکال ادبی شده و سهم بسیار بزرگی از دنیای کتاب را به خود اختصاص داده است.'}, {'id': 103, 'name': 'ادبیات داستانی', 'description': 'ادبیات داستانی، گونه ای پرطرفدار از ادبیات است که به مسائلی چون مشکلات اجتماعی، سیاسی و فرهنگی و وضعیت زندگی بشر می پردازد. نویسندگان ادبیات داستانی بر بررسی عمیق و باطنی کاراکترهای جذاب، چندوجهی و قابل باوری تمرکز دارند که داستان های درونی و ذهنیشان، پیشبرنده ی اتفاقات داستان اصلی است.'}, {'id': 101, 'name': 'داستان تاریخی', 'description': 'داستان تاریخی نوعی از نگارش است که مرز میان تاریخ و ادبیات به شمار می رود. در این گونه کتاب ها معمولا از هیچ منبعی یاد نشده و یا از منابع کمی یاد می  ... (243 characters truncated) ... زئیات دیگر یک دوره ی زمانی خاص در گذشته می پردازد. این گونه از ادبیات دارای زیر-ژانرهایی چون تاریخ متناوب (یا تاریخ بدیل) و داستان فانتزی تاریخی است.'}, {'id': 142, 'name': 'ادبیات اسپانیا', 'description': 'ادبیات اسپانیا، شخصیت هایی چون دون کیشوت و دون خوان را به جهان معرفی کرده است. اختراع رمان در قرن شانزدهم، به ادبیات اسپانیا منسوب می شود. تاریخ پرفراز و نشیب و کهن این کشور، باعث به وجود آمدن گنجینه ای از آثار ارزشمند ادبی شده است.'}, {'id': 335, 'name': 'تجارت و کسب و کار', 'description': 'کتاب های مربوط به حوزه ی تجارت، موضوعاتی چون چگونگی کارکرد عوامل تجاری، رویکردهای موفق کسب و کار، روش های مختلف کارآفرینی و سایر جنبه های تئوری و عملی دنیای تجارت را مورد بررسی و کنکاش قرار می دهند.'}, {'id': 176, 'name': 'دهه 1920 میلادی', 'description': 'دهه ی 1920 میلادی، دوره ی پرفراز و نشیبی بود و تغییرات بزرگ متعددی در این دهه به وقوع پیوست. مدرنیسم، تقریبا بر همه ی جنبه های هنر، ادبیات و فرهنگ عا ... (55 characters truncated) ...  توصیف جنبش های ادبی و فرهنگی این دهه می توان انتخاب کرد، «تجربی» خواندن آن هاست. فیتزجرالد و همینگوی، محبوب ترین نویسندگان این دهه به حساب می آمدند.'}  ... displaying 10 of 231 total bound parameter sets ...  {'id': 49, 'name': 'جایزه ی بادبادک طلایی', 'description': 'جایزه ی بادبادک طلایی (Golden Kite) از سال ۱۹۷۱ از سوی انجمن نویسندگان وتصویرگران کتاب کودک به صورت سالانه به بهترین کتاب داستانی، غیر داستانی، متن ک ... (494 characters truncated) ...  بادبادک طلایی تنها جایزه ی ادبیات کودکان و نوجوانان است که از سوی همتایان نویسندگان و تصویرگران داوری می شود و تنها به اعضا ی این انجمن اهدا می شود.'}, {'id': 55, 'name': 'جایزه ی ملی کتاب آمریکا', 'description': 'جایزه ی کتاب ملی (انگلیسی: National Book Award) مجموعه ای از جوایز سالانه ی ادبی در ایالات متحده ی آمریکا است. در مراسم نهایی جایزه ی کتاب ملی که هر  ... (418 characters truncated) ...  شرایط دریافت جایزه بودند ولی در حال حاضر جایزه به نویسندگان آمریکایی برای کتاب هایی اهدا می شود که در حدود سال اهدای جایزه در آمریکا منتشر شده باشد.'}]\n",
      "2023-09-29 09:56:52,609 INFO sqlalchemy.engine.Engine COMMIT\n"
     ]
    },
    {
     "data": {
      "text/plain": [
       "231"
      ]
     },
     "execution_count": 18,
     "metadata": {},
     "output_type": "execute_result"
    }
   ],
   "source": [
    "df_category = pd.read_csv('data_csv_1_25001/category.csv')\n",
    "df_category.dropna(subset=[\"id\"],inplace=True)\n",
    "df_category.drop_duplicates(subset=[\"id\"],inplace=True)\n",
    "if df_category[\"description\"].isnull().all():\n",
    "    df_category[\"description\"] = 'None'\n",
    "df_category.to_csv('modified/modified_category.csv', index=False)\n",
    "df_category.to_sql('category', engine, if_exists='append', index=False)\n"
   ]
  },
  {
   "cell_type": "markdown",
   "metadata": {},
   "source": [
    "# group_category"
   ]
  },
  {
   "cell_type": "code",
   "execution_count": 21,
   "metadata": {},
   "outputs": [
    {
     "name": "stdout",
     "output_type": "stream",
     "text": [
      "2023-09-29 10:01:39,150 INFO sqlalchemy.engine.Engine BEGIN (implicit)\n",
      "2023-09-29 10:01:39,151 INFO sqlalchemy.engine.Engine select id from `group`\n",
      "2023-09-29 10:01:39,152 INFO sqlalchemy.engine.Engine [cached since 505.1s ago] {}\n",
      "2023-09-29 10:01:39,184 INFO sqlalchemy.engine.Engine BEGIN (implicit)\n",
      "2023-09-29 10:01:39,189 INFO sqlalchemy.engine.Engine select id from `category`\n",
      "2023-09-29 10:01:39,191 INFO sqlalchemy.engine.Engine [generated in 0.00780s] {}\n",
      "2023-09-29 10:01:39,314 INFO sqlalchemy.engine.Engine BEGIN (implicit)\n",
      "2023-09-29 10:01:39,315 INFO sqlalchemy.engine.Engine DESCRIBE `book_store`.`group_category`\n",
      "2023-09-29 10:01:39,317 INFO sqlalchemy.engine.Engine [raw sql] {}\n",
      "2023-09-29 10:01:39,325 INFO sqlalchemy.engine.Engine ROLLBACK\n",
      "2023-09-29 10:01:39,328 INFO sqlalchemy.engine.Engine BEGIN (implicit)\n",
      "2023-09-29 10:01:39,389 INFO sqlalchemy.engine.Engine INSERT INTO group_category (group_id, category_id) VALUES (%(group_id)s, %(category_id)s)\n",
      "2023-09-29 10:01:39,392 INFO sqlalchemy.engine.Engine [generated in 0.04997s] [{'group_id': 16431, 'category_id': 346}, {'group_id': 44551, 'category_id': 103}, {'group_id': 44551, 'category_id': 182}, {'group_id': 32993, 'category_id': 97}, {'group_id': 32993, 'category_id': 167}, {'group_id': 32993, 'category_id': 327}, {'group_id': 46770, 'category_id': 346}, {'group_id': 11759, 'category_id': 105}  ... displaying 10 of 10441 total bound parameter sets ...  {'group_id': 120572, 'category_id': 182}, {'group_id': 120625, 'category_id': 103}]\n",
      "2023-09-29 10:01:39,976 INFO sqlalchemy.engine.Engine COMMIT\n"
     ]
    },
    {
     "data": {
      "text/plain": [
       "10441"
      ]
     },
     "execution_count": 21,
     "metadata": {},
     "output_type": "execute_result"
    }
   ],
   "source": [
    "df_group_category = pd.read_csv('data_csv_1_25001/group_category.csv')\n",
    "df_group_category.dropna(subset=[\"group_id\"],inplace=True)\n",
    "df_group_category.dropna(subset=[\"category_id\"],inplace=True)\n",
    "query = \"select id from `group`\"\n",
    "existing_group_ids = pd.DataFrame(engine.connect().execute(text(query)))['id'].tolist()\n",
    "valid_mask = df_group_category['group_id'].isin(existing_group_ids)\n",
    "df_valid_group = df_group_category[valid_mask]\n",
    "query = \"select id from `category`\"\n",
    "existing_category_ids = pd.DataFrame(engine.connect().execute(text(query)))['id'].tolist()\n",
    "valid_mask = df_valid_group['category_id'].isin(existing_category_ids)\n",
    "df_valid_category = df_valid_group[valid_mask]\n",
    "df_valid_category.to_csv('modified/modified_group_category.csv', index=False)\n",
    "df_valid_category.to_sql('group_category', engine, if_exists='append', index=False)"
   ]
  },
  {
   "cell_type": "markdown",
   "metadata": {},
   "source": [
    "# book_publisher"
   ]
  },
  {
   "cell_type": "code",
   "execution_count": 25,
   "metadata": {},
   "outputs": [
    {
     "name": "stdout",
     "output_type": "stream",
     "text": [
      "2023-09-29 13:31:27,467 INFO sqlalchemy.engine.Engine BEGIN (implicit)\n",
      "2023-09-29 13:31:27,470 INFO sqlalchemy.engine.Engine select code from `book`\n",
      "2023-09-29 13:31:27,472 INFO sqlalchemy.engine.Engine [cached since 7090s ago] {}\n",
      "2023-09-29 13:31:27,600 INFO sqlalchemy.engine.Engine BEGIN (implicit)\n",
      "2023-09-29 13:31:27,602 INFO sqlalchemy.engine.Engine select id from `publisher`\n",
      "2023-09-29 13:31:27,622 INFO sqlalchemy.engine.Engine [cached since 116.3s ago] {}\n",
      "2023-09-29 13:31:28,066 INFO sqlalchemy.engine.Engine BEGIN (implicit)\n",
      "2023-09-29 13:31:28,067 INFO sqlalchemy.engine.Engine DESCRIBE `book_store`.`book_publisher`\n",
      "2023-09-29 13:31:28,068 INFO sqlalchemy.engine.Engine [raw sql] {}\n",
      "2023-09-29 13:31:28,447 INFO sqlalchemy.engine.Engine ROLLBACK\n",
      "2023-09-29 13:31:28,449 INFO sqlalchemy.engine.Engine BEGIN (implicit)\n",
      "2023-09-29 13:31:28,638 INFO sqlalchemy.engine.Engine INSERT INTO book_publisher (publisher_id, book_code) VALUES (%(publisher_id)s, %(book_code)s)\n",
      "2023-09-29 13:31:28,639 INFO sqlalchemy.engine.Engine [generated in 0.03115s] [{'publisher_id': 9, 'book_code': 16431}, {'publisher_id': 30, 'book_code': 44551}, {'publisher_id': 1971, 'book_code': 75051}, {'publisher_id': 1231, 'book_code': 11759}, {'publisher_id': 1529, 'book_code': 61295}, {'publisher_id': 1201, 'book_code': 76224}, {'publisher_id': 1327, 'book_code': 113125}, {'publisher_id': 1318, 'book_code': 19993}  ... displaying 10 of 5870 total bound parameter sets ...  {'publisher_id': 59, 'book_code': 30840}, {'publisher_id': 1327, 'book_code': 120625}]\n",
      "2023-09-29 13:31:29,690 INFO sqlalchemy.engine.Engine COMMIT\n"
     ]
    },
    {
     "data": {
      "text/plain": [
       "5870"
      ]
     },
     "execution_count": 25,
     "metadata": {},
     "output_type": "execute_result"
    }
   ],
   "source": [
    "df_book_publisher = pd.read_csv('data_csv_1_25001/book_publisher.csv')\n",
    "df_book_publisher.dropna(subset=[\"publisher_id\"],inplace=True)\n",
    "df_book_publisher.dropna(subset=[\"book_code\"],inplace=True)\n",
    "df_book_publisher['book_code'] = df_book_publisher['book_code'].astype(int)\n",
    "query = \"select code from `book`\"\n",
    "existing_book_ids = pd.DataFrame(engine.connect().execute(text(query)))['code'].tolist()\n",
    "valid_mask = df_book_publisher['book_code'].isin(existing_book_ids)\n",
    "df_valid_book = df_book_publisher[valid_mask]\n",
    "query = \"select id from `publisher`\"\n",
    "existing_publisher_ids = pd.DataFrame(engine.connect().execute(text(query)))['id'].tolist()\n",
    "valid_mask = df_valid_book['publisher_id'].isin(existing_publisher_ids)\n",
    "df_valid_publisher = df_valid_book[valid_mask]\n",
    "df_valid_publisher.to_csv('modified/modified_book_publisher.csv', index=False)\n",
    "df_valid_publisher.to_sql('book_publisher', engine, if_exists='append', index=False)"
   ]
  },
  {
   "cell_type": "markdown",
   "metadata": {},
   "source": [
    "# crew"
   ]
  },
  {
   "cell_type": "code",
   "execution_count": 35,
   "metadata": {},
   "outputs": [
    {
     "name": "stdout",
     "output_type": "stream",
     "text": [
      "2023-09-29 13:41:37,726 INFO sqlalchemy.engine.Engine BEGIN (implicit)\n",
      "2023-09-29 13:41:37,728 INFO sqlalchemy.engine.Engine select code from `book`\n",
      "2023-09-29 13:41:37,729 INFO sqlalchemy.engine.Engine [cached since 7700s ago] {}\n",
      "2023-09-29 13:41:37,747 INFO sqlalchemy.engine.Engine BEGIN (implicit)\n",
      "2023-09-29 13:41:37,748 INFO sqlalchemy.engine.Engine select id from `person`\n",
      "2023-09-29 13:41:37,750 INFO sqlalchemy.engine.Engine [cached since 370.6s ago] {}\n",
      "      book_code  person_counter        role\n",
      "16        32925              16      writer\n",
      "20        43251              21      writer\n",
      "36        90337              40      writer\n",
      "40        95430              44      writer\n",
      "47         6936              52      writer\n",
      "...         ...             ...         ...\n",
      "1817     111282              67      writer\n",
      "1902      55377              67      writer\n",
      "1946      92813              67      writer\n",
      "1964     104986              67      writer\n",
      "1967      20218             116  translator\n",
      "\n",
      "[147 rows x 3 columns]\n"
     ]
    }
   ],
   "source": [
    "df_crew = pd.read_csv('data_csv_1_25001/crew.csv')\n",
    "df_crew.dropna(subset=[\"book_code\"],inplace=True)\n",
    "df_crew.dropna(subset=[\"person_counter\"],inplace=True)\n",
    "df_crew.dropna(subset=[\"role\"],inplace=True)\n",
    "query = \"select code from `book`\"\n",
    "existing_book_ids = pd.DataFrame(engine.connect().execute(text(query)))['code'].tolist()\n",
    "valid_mask = df_crew['book_code'].isin(existing_book_ids)\n",
    "df_valid_book = df_crew[valid_mask]\n",
    "query = \"select id from `person`\"\n",
    "existing_person_ids = pd.DataFrame(engine.connect().execute(text(query)))['id'].tolist()\n",
    "valid_mask = df_valid_book['person_counter'].isin(existing_person_ids)\n",
    "df_valid_person = df_valid_book[valid_mask]\n",
    "df_valid_person.to_csv('modified/modified_crew.csv', index=False)\n",
    "df_valid_person.to_sql('crew', engine, if_exists='append', index=False)"
   ]
  }
 ],
 "metadata": {
  "kernelspec": {
   "display_name": "Python 3.10.6 64-bit",
   "language": "python",
   "name": "python3"
  },
  "language_info": {
   "codemirror_mode": {
    "name": "ipython",
    "version": 3
   },
   "file_extension": ".py",
   "mimetype": "text/x-python",
   "name": "python",
   "nbconvert_exporter": "python",
   "pygments_lexer": "ipython3",
   "version": "3.10.6"
  },
  "orig_nbformat": 4,
  "vscode": {
   "interpreter": {
    "hash": "73c10509234451b7c9059ae5f54ad33529ef7b4c9c761939e46712064d00bc14"
   }
  }
 },
 "nbformat": 4,
 "nbformat_minor": 2
}
