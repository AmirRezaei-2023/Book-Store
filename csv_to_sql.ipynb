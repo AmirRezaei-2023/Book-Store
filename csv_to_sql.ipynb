{
 "cells": [
  {
   "cell_type": "markdown",
   "metadata": {},
   "source": [
    "# connect"
   ]
  },
  {
   "cell_type": "code",
   "execution_count": 16,
   "metadata": {},
   "outputs": [
    {
     "name": "stdout",
     "output_type": "stream",
     "text": [
      "2023-10-01 22:24:12,803 INFO sqlalchemy.engine.Engine SELECT DATABASE()\n",
      "2023-10-01 22:24:12,804 INFO sqlalchemy.engine.Engine [raw sql] {}\n",
      "2023-10-01 22:24:12,820 INFO sqlalchemy.engine.Engine SELECT @@sql_mode\n",
      "2023-10-01 22:24:12,821 INFO sqlalchemy.engine.Engine [raw sql] {}\n",
      "2023-10-01 22:24:12,831 INFO sqlalchemy.engine.Engine SELECT @@lower_case_table_names\n",
      "2023-10-01 22:24:12,832 INFO sqlalchemy.engine.Engine [raw sql] {}\n"
     ]
    }
   ],
   "source": [
    "import pandas as pd\n",
    "import mysql.connector\n",
    "from sqlalchemy import create_engine, MetaData, URL, Identity,text\n",
    "from sqlalchemy import Table, Column, Integer, String, BOOLEAN, DATE, ForeignKey\n",
    "\n",
    "\n",
    "#Creating Database,Connection\n",
    "meta = MetaData()\n",
    "USERNAME = 'root'\n",
    "PASSWORD = '13771377Mnn@'\n",
    "SERVER = 'localhost'\n",
    "PORT = 3306\n",
    "DATABASE = 'book_store1'\n",
    "\n",
    "url_object = URL.create(\"mysql+mysqlconnector\",\n",
    "                        username=USERNAME,\n",
    "                        password=PASSWORD,\n",
    "                        host=SERVER,\n",
    "                        database=DATABASE)\n",
    "engine = create_engine(url_object,echo = True)\n",
    "conn = engine.connect()"
   ]
  },
  {
   "cell_type": "markdown",
   "metadata": {},
   "source": [
    "# Book"
   ]
  },
  {
   "cell_type": "code",
   "execution_count": 17,
   "metadata": {},
   "outputs": [
    {
     "name": "stdout",
     "output_type": "stream",
     "text": [
      "2023-10-01 22:24:18,416 INFO sqlalchemy.engine.Engine BEGIN (implicit)\n",
      "2023-10-01 22:24:18,417 INFO sqlalchemy.engine.Engine DESCRIBE `book_store1`.`book`\n",
      "2023-10-01 22:24:18,418 INFO sqlalchemy.engine.Engine [raw sql] {}\n",
      "2023-10-01 22:24:18,474 INFO sqlalchemy.engine.Engine ROLLBACK\n",
      "2023-10-01 22:24:18,597 INFO sqlalchemy.engine.Engine BEGIN (implicit)\n",
      "2023-10-01 22:24:20,298 INFO sqlalchemy.engine.Engine INSERT INTO book (code, title_persian, title_english, price, discount, grade, shabak, page_count, release_year_sh, release_year_mi, exist, earliest_access, print_series, ghate, cover) VALUES (%(code)s, %(title_persian)s, %(title_english)s, %(price)s, %(discount)s, %(grade)s, %(shabak)s, %(page_count)s, %(release_year_sh)s, %(release_year_mi)s, %(exist)s, %(earliest_access)s, %(print_series)s, %(ghate)s, %(cover)s)\n",
      "2023-10-01 22:24:20,300 INFO sqlalchemy.engine.Engine [generated in 1.46958s] [{'code': 117490, 'title_persian': 'سه فیلمنامه', 'title_english': ' se filmname', 'price': 5500, 'discount': None, 'grade': 3.94, 'shabak': '978-9642280230', 'page_count': 243.0, 'release_year_sh': 1389.0, 'release_year_mi': None, 'exist': 0, 'earliest_access': None, 'print_series': 1.0, 'ghate': 'رقعی', 'cover': 'شومیز'}, {'code': 85615, 'title_persian': 'واسطه گری هنر معاصر', 'title_english': ' Commissioning contemporary art', 'price': 260000, 'discount': 15.0, 'grade': 3.01, 'shabak': '\\u202b\\u202c\\u202e\\u202d978-6001523472', 'page_count': 294.0, 'release_year_sh': 1401.0, 'release_year_mi': 2013.0, 'exist': 1, 'earliest_access': '1402-07-10', 'print_series': 1.0, 'ghate': 'وزیری', 'cover': 'شومیز'}, {'code': 116495, 'title_persian': 'درآمدی فلسفی بر عشق', 'title_english': ' Love: A Very Short Introduction', 'price': 25000, 'discount': 20.0, 'grade': 3.98, 'shabak': '978-6007061756', 'page_count': 198.0, 'release_year_sh': 1397.0, 'release_year_mi': 2015.0, 'exist': 1, 'earliest_access': '1402-07-10', 'print_series': 1.0, 'ghate': 'رقعی', 'cover': 'شومیز'}, {'code': 60758, 'title_persian': 'آموزش گام به گام راندو در معماری', 'title_english': ' Rando', 'price': 175000, 'discount': 20.0, 'grade': 3.35, 'shabak': '\\u200f\\u202b\\u202c\\u202e\\u202d978-9643065218', 'page_count': 240.0, 'release_year_sh': 1393.0, 'release_year_mi': None, 'exist': 1, 'earliest_access': '1402-07-13', 'print_series': 3.0, 'ghate': 'خشتی', 'cover': 'جلدسخت'}, {'code': 116922, 'title_persian': 'عمارت پری زادگان', 'title_english': ' Emarat-e Pari zadegan', 'price': 140000, 'discount': 20.0, 'grade': 3.38, 'shabak': '978-6223240003', 'page_count': 163.0, 'release_year_sh': 1402.0, 'release_year_mi': None, 'exist': 1, 'earliest_access': '1402-07-13', 'print_series': 1.0, 'ghate': 'رقعی', 'cover': 'شومیز'}, {'code': 31645, 'title_persian': 'واریته حیوانات', 'title_english': ' Animal Variety', 'price': 12500, 'discount': 25.0, 'grade': 3.06, 'shabak': '978-6009489671', 'page_count': 210.0, 'release_year_sh': 1394.0, 'release_year_mi': None, 'exist': 1, 'earliest_access': '1402-07-13', 'print_series': 1.0, 'ghate': 'رقعی', 'cover': 'شومیز'}, {'code': 47059, 'title_persian': 'فلسفه علم', 'title_english': ' Philosophy of Science', 'price': 50000, 'discount': None, 'grade': 3.3, 'shabak': '978-9641216667', 'page_count': 407.0, 'release_year_sh': 1398.0, 'release_year_mi': 1966.0, 'exist': 0, 'earliest_access': None, 'print_series': 5.0, 'ghate': 'وزیری', 'cover': 'شومیز'}, {'code': 96425, 'title_persian': 'کاربرد پلیمرها در پزشکی', 'title_english': ' Polymer', 'price': 70000, 'discount': 10.0, 'grade': 3.92, 'shabak': '978-9644633751', 'page_count': 641.0, 'release_year_sh': 1400.0, 'release_year_mi': None, 'exist': 1, 'earliest_access': '1402-07-13', 'print_series': 4.0, 'ghate': 'وزیری', 'cover': 'شومیز'}  ... displaying 10 of 94389 total bound parameter sets ...  {'code': 97350, 'title_persian': 'دنیای ناشناخته من', 'title_english': ' donia', 'price': 30000, 'discount': None, 'grade': 3.52, 'shabak': '978-6226866545', 'page_count': 184.0, 'release_year_sh': 1399.0, 'release_year_mi': None, 'exist': 0, 'earliest_access': None, 'print_series': 1.0, 'ghate': 'رقعی', 'cover': 'شومیز'}, {'code': 87076, 'title_persian': 'فلفل نبین چه ریزه بشکن ببین چه تیزه', 'title_english': ' Felfel', 'price': 20000, 'discount': 20.0, 'grade': 3.66, 'shabak': '978-6003751507', 'page_count': 12.0, 'release_year_sh': 1401.0, 'release_year_mi': None, 'exist': 1, 'earliest_access': '1402-07-13', 'print_series': 4.0, 'ghate': 'خشتی', 'cover': 'شومیز'}]\n",
      "2023-10-01 22:24:36,318 INFO sqlalchemy.engine.Engine COMMIT\n"
     ]
    },
    {
     "data": {
      "text/plain": [
       "94389"
      ]
     },
     "execution_count": 17,
     "metadata": {},
     "output_type": "execute_result"
    }
   ],
   "source": [
    "df_book = pd.read_csv('full_data/book.csv')\n",
    "df_book.dropna(subset=[\"code\"],inplace=True)\n",
    "df_book.drop_duplicates(subset=[\"code\"],inplace=True)\n",
    "# df_book.drop('code.1', axis=1,inplace=True)\n",
    "df_book.to_csv('modified/modified_book.csv', index=False)\n",
    "df_book.to_sql('book', engine, if_exists='append', index=False)\n"
   ]
  },
  {
   "cell_type": "markdown",
   "metadata": {},
   "source": [
    "# group"
   ]
  },
  {
   "cell_type": "code",
   "execution_count": 41,
   "metadata": {},
   "outputs": [
    {
     "name": "stdout",
     "output_type": "stream",
     "text": [
      "2023-10-01 23:04:10,868 INFO sqlalchemy.engine.Engine BEGIN (implicit)\n",
      "2023-10-01 23:04:10,870 INFO sqlalchemy.engine.Engine DESCRIBE `book_store1`.`group`\n",
      "2023-10-01 23:04:10,870 INFO sqlalchemy.engine.Engine [raw sql] {}\n",
      "2023-10-01 23:04:10,875 INFO sqlalchemy.engine.Engine ROLLBACK\n",
      "2023-10-01 23:04:10,881 INFO sqlalchemy.engine.Engine BEGIN (implicit)\n",
      "2023-10-01 23:04:10,962 INFO sqlalchemy.engine.Engine INSERT INTO `group` (`78865`, `مجموعه ای از آثار درویش‌خان که توسط استاد پایور و گروه او اجرا شده است. در این مجموعه بداهه نوازی‌هایی در دستگاه‌ ماهور و آواز ابوعطا آثار ضربی درویش‌خان را مزین کرده‌اند. تک‌نوازان این مجموعه عبارتند از: فرامرز پایور (سنتور)، هوشنگ ظریف (تار)، حسن ناهید (نی)، رحمت الله بدیعی (کمانچه) و محمد اسماعیلی (تمبک).`) VALUES (%(78865)s, %(مجموعه ای_از_آثار_درویش‌خان_که_توسط_استاد_پایور_و_گروه_او_اجرا_شده_است__در_این_مجموعه_بداهه نوازی‌هایی_در_دستگاه‌_ماهور_و_آواز_ابوعطا_آثار_ضربی_درویش‌خان_را_مزین_کرده‌اند__تک‌نوازان_این_مجموعه_عبارتند_ازC_فرامرز_پایور_AسنتورZ،_هوشنگ_ظریف_AتارZ،_حسن_ناهید_AنیZ،_رحمت الله_بدیعی_AکمانچهZ_و_محمد_اسماعیلی_AتمبکZ_)s)\n",
      "2023-10-01 23:04:10,964 INFO sqlalchemy.engine.Engine [generated in 0.06674s] [{'78865': 87182, 'مجموعه\\u200aای_از_آثار_درویش\\u200cخان_که_توسط_استاد_پایور_و_گروه_او_اجرا_شده_است__در_این_مجموعه_بداهه\\u200aنوازی\\u200cهایی_در_دستگاه\\u200c_ماهور_و_آواز_ابوعطا_آثار_ضربی_درویش\\u200cخان_را_مزین_کرده\\u200cاند__تک\\u200cنوازان_این_مجموعه_عبارتند_ازC_فرامرز_پایور_AسنتورZ،_هوشنگ_ظریف_AتارZ،_حسن_ناهید_AنیZ،_رحمت\\u200aالله_بدیعی_AکمانچهZ_و_محمد_اسماعیلی_AتمبکZ_': 'کسانی که قصد معلمی در هر سطحی دارند و برای چنین هدفی آموزش می بینند، برای بهبود و افزایش اثربخشی خود به شدت نیازمند وسعت و عمق بخشیدن به معلومات خویش ... (446 characters truncated) ... مذکور از متداول\\u200cترین روش\\u200cهای تدریس به شمار می\\u200cآید که به\\u200cواسطه نقاط قوت خود در سراسر جهان و خصوصا کشورمان ایران بسیار کاربرد دارد.'}, {'78865': 53759, 'مجموعه\\u200aای_از_آثار_درویش\\u200cخان_که_توسط_استاد_پایور_و_گروه_او_اجرا_شده_است__در_این_مجموعه_بداهه\\u200aنوازی\\u200cهایی_در_دستگاه\\u200c_ماهور_و_آواز_ابوعطا_آثار_ضربی_درویش\\u200cخان_را_مزین_کرده\\u200cاند__تک\\u200cنوازان_این_مجموعه_عبارتند_ازC_فرامرز_پایور_AسنتورZ،_هوشنگ_ظریف_AتارZ،_حسن_ناهید_AنیZ،_رحمت\\u200aالله_بدیعی_AکمانچهZ_و_محمد_اسماعیلی_AتمبکZ_': 'هیچ در هیچ از آثار ارکسترال هوشنگ کامکار است که همراه با لوح فشرده صوتی توسط انتشارات مشاهیر هنر منتشر گردیده است. کتاب هیچ در هیچ دارای لوح فشرده صو ... (368 characters truncated) ... مشاهیر هنر در راستای حمایت از آثار فاخر و ماندگار، این مجموعه کامل را به عنوان مرجع مناسب و کاملی برای آهنگسازان و هنرجویان آهنگسازی منتشر نموده است.'}, {'78865': 49496, 'مجموعه\\u200aای_از_آثار_درویش\\u200cخان_که_توسط_استاد_پایور_و_گروه_او_اجرا_شده_است__در_این_مجموعه_بداهه\\u200aنوازی\\u200cهایی_در_دستگاه\\u200c_ماهور_و_آواز_ابوعطا_آثار_ضربی_درویش\\u200cخان_را_مزین_کرده\\u200cاند__تک\\u200cنوازان_این_مجموعه_عبارتند_ازC_فرامرز_پایور_AسنتورZ،_هوشنگ_ظریف_AتارZ،_حسن_ناهید_AنیZ،_رحمت\\u200aالله_بدیعی_AکمانچهZ_و_محمد_اسماعیلی_AتمبکZ_': 'فیلیپ ایمبرونیو در طول سی سال تحقیق خود در مورد بشقاب پرنده ها، از جمله تحقیقات میدانی، شواهد عکاسی، و مطالعات موردی دقیق گردآوری شده، بینش جدید و شگ ... (592 characters truncated) ... مدرن را بررسی کرد و اطلاعاتی را که قبلا منتشر نشده بود، از جمله شواهد عکاسی مبنی بر اینکه چیزی بسیار غیرعادی در حال وقوع است به اشتراک می\\u200cگذارد.'}, {'78865': 84273, 'مجموعه\\u200aای_از_آثار_درویش\\u200cخان_که_توسط_استاد_پایور_و_گروه_او_اجرا_شده_است__در_این_مجموعه_بداهه\\u200aنوازی\\u200cهایی_در_دستگاه\\u200c_ماهور_و_آواز_ابوعطا_آثار_ضربی_درویش\\u200cخان_را_مزین_کرده\\u200cاند__تک\\u200cنوازان_این_مجموعه_عبارتند_ازC_فرامرز_پایور_AسنتورZ،_هوشنگ_ظریف_AتارZ،_حسن_ناهید_AنیZ،_رحمت\\u200aالله_بدیعی_AکمانچهZ_و_محمد_اسماعیلی_AتمبکZ_': None}, {'78865': 70101, 'مجموعه\\u200aای_از_آثار_درویش\\u200cخان_که_توسط_استاد_پایور_و_گروه_او_اجرا_شده_است__در_این_مجموعه_بداهه\\u200aنوازی\\u200cهایی_در_دستگاه\\u200c_ماهور_و_آواز_ابوعطا_آثار_ضربی_درویش\\u200cخان_را_مزین_کرده\\u200cاند__تک\\u200cنوازان_این_مجموعه_عبارتند_ازC_فرامرز_پایور_AسنتورZ،_هوشنگ_ظریف_AتارZ،_حسن_ناهید_AنیZ،_رحمت\\u200aالله_بدیعی_AکمانچهZ_و_محمد_اسماعیلی_AتمبکZ_': 'کتاب صوتی «هی یو» خاطرات سعید ابوطالب، سینماگر و نماینده اسبق مجلس از دوران اسارتش در عراق به دست نیروهای آمریکایی است. این کتاب با موضوع وقایع\\u200c ... (80 characters truncated) ... چهار ماه را در آن زندانی بوده است. این کتاب به نوعی خاطرات ابوطالب از حضور و اسارت چهارماهه\\u200cاش توسط نیروهای ائتلاف در عراق هم محسوب می\\u200cشود.'}, {'78865': 18256, 'مجموعه\\u200aای_از_آثار_درویش\\u200cخان_که_توسط_استاد_پایور_و_گروه_او_اجرا_شده_است__در_این_مجموعه_بداهه\\u200aنوازی\\u200cهایی_در_دستگاه\\u200c_ماهور_و_آواز_ابوعطا_آثار_ضربی_درویش\\u200cخان_را_مزین_کرده\\u200cاند__تک\\u200cنوازان_این_مجموعه_عبارتند_ازC_فرامرز_پایور_AسنتورZ،_هوشنگ_ظریف_AتارZ،_حسن_ناهید_AنیZ،_رحمت\\u200aالله_بدیعی_AکمانچهZ_و_محمد_اسماعیلی_AتمبکZ_': 'معبد سپیده دم سومین رمان در کتاب چهارگانه دریای حاصلخیزی است که توسط نویسنده ژاپنی یوکیو می شیما نوشته شده است. برای همین ، مانند دیگر رمان های این م ... (1057 characters truncated) ... له برای او ترتیب داده میشود ،دختری که ادعا می کند تناسخ یک پسر ژاپنی است و همین باعث خجالت نزدیکانش شده تا حدی که او را در کاخ روزت حبس می کنند و ...'}, {'78865': 36647, 'مجموعه\\u200aای_از_آثار_درویش\\u200cخان_که_توسط_استاد_پایور_و_گروه_او_اجرا_شده_است__در_این_مجموعه_بداهه\\u200aنوازی\\u200cهایی_در_دستگاه\\u200c_ماهور_و_آواز_ابوعطا_آثار_ضربی_درویش\\u200cخان_را_مزین_کرده\\u200cاند__تک\\u200cنوازان_این_مجموعه_عبارتند_ازC_فرامرز_پایور_AسنتورZ،_هوشنگ_ظریف_AتارZ،_حسن_ناهید_AنیZ،_رحمت\\u200aالله_بدیعی_AکمانچهZ_و_محمد_اسماعیلی_AتمبکZ_': 'این کتاب داستان زندگی یکی از محبوب ترین هنرپیشه های جهان، جکی چان، را در خود جای داده که از زندگی ساده ای برخوردار نبوده، اما با عبور از موانع و مشکلات زندگی اش با رویکردی سلامت و متواضعانه توانسته از فقر و دشواری ها بگریزد و خود را به بهترین و دوست داشتنی ترین شکل ممکن به جهان معرفی کند.'}, {'78865': 20643, 'مجموعه\\u200aای_از_آثار_درویش\\u200cخان_که_توسط_استاد_پایور_و_گروه_او_اجرا_شده_است__در_این_مجموعه_بداهه\\u200aنوازی\\u200cهایی_در_دستگاه\\u200c_ماهور_و_آواز_ابوعطا_آثار_ضربی_درویش\\u200cخان_را_مزین_کرده\\u200cاند__تک\\u200cنوازان_این_مجموعه_عبارتند_ازC_فرامرز_پایور_AسنتورZ،_هوشنگ_ظریف_AتارZ،_حسن_ناهید_AنیZ،_رحمت\\u200aالله_بدیعی_AکمانچهZ_و_محمد_اسماعیلی_AتمبکZ_': 'کتاب «بازمانده» رمانی نوشته ی «اندرو پایپر» است که اولین بار در سال 2017 به چاپ رسید. دکتر «لیلی دومینیک» که در یک کلینیک روانپزشکی در نیویورک کار می ... (458 characters truncated) ...  است. بیمار اما پس از مدتی برای «لیلی» آشکار می کند که مرتکب این جرم شده تا بتواند با او ملاقات کند، و این که واقعیت را درباره ی مادر «لیلی» می داند.'}  ... displaying 10 of 17770 total bound parameter sets ...  {'78865': 6052, 'مجموعه\\u200aای_از_آثار_درویش\\u200cخان_که_توسط_استاد_پایور_و_گروه_او_اجرا_شده_است__در_این_مجموعه_بداهه\\u200aنوازی\\u200cهایی_در_دستگاه\\u200c_ماهور_و_آواز_ابوعطا_آثار_ضربی_درویش\\u200cخان_را_مزین_کرده\\u200cاند__تک\\u200cنوازان_این_مجموعه_عبارتند_ازC_فرامرز_پایور_AسنتورZ،_هوشنگ_ظریف_AتارZ،_حسن_ناهید_AنیZ،_رحمت\\u200aالله_بدیعی_AکمانچهZ_و_محمد_اسماعیلی_AتمبکZ_': 'داستان این رمان درباره عشقی است که برای رسیدن به نتیجه ناچار از پیمودن مراحل مختلف تعریف شده در سنت مردمان جنوب ایران است.در این رمان ماجرای علاقه دو ... (329 characters truncated) ... ، نامه ای رازآلود به او می رسد که در آن گفته شده در صورت تمایل می تواند این مبارزه را تکرار کند و اگر برنده آن شود، صاحب همه چیز فرد برنده خواهد بود.'}, {'78865': 87076, 'مجموعه\\u200aای_از_آثار_درویش\\u200cخان_که_توسط_استاد_پایور_و_گروه_او_اجرا_شده_است__در_این_مجموعه_بداهه\\u200aنوازی\\u200cهایی_در_دستگاه\\u200c_ماهور_و_آواز_ابوعطا_آثار_ضربی_درویش\\u200cخان_را_مزین_کرده\\u200cاند__تک\\u200cنوازان_این_مجموعه_عبارتند_ازC_فرامرز_پایور_AسنتورZ،_هوشنگ_ظریف_AتارZ،_حسن_ناهید_AنیZ،_رحمت\\u200aالله_بدیعی_AکمانچهZ_و_محمد_اسماعیلی_AتمبکZ_': None}]\n",
      "2023-10-01 23:04:11,718 INFO sqlalchemy.engine.Engine ROLLBACK\n"
     ]
    },
    {
     "ename": "ProgrammingError",
     "evalue": "(mysql.connector.errors.ProgrammingError) 1054 (42S22): Unknown column '78865' in 'field list'\n[SQL: INSERT INTO `group` (`78865`, `مجموعه ای از آثار درویش‌خان که توسط استاد پایور و گروه او اجرا شده است. در این مجموعه بداهه نوازی‌هایی در دستگاه‌ ماهور و آواز ابوعطا آثار ضربی درویش‌خان را مزین کرده‌اند. تک‌نوازان این مجموعه عبارتند از: فرامرز پایور (سنتور)، هوشنگ ظریف (تار)، حسن ناهید (نی)، رحمت الله بدیعی (کمانچه) و محمد اسماعیلی (تمبک).`) VALUES (%(78865)s, %(مجموعه ای_از_آثار_درویش‌خان_که_توسط_استاد_پایور_و_گروه_او_اجرا_شده_است__در_این_مجموعه_بداهه نوازی‌هایی_در_دستگاه‌_ماهور_و_آواز_ابوعطا_آثار_ضربی_درویش‌خان_را_مزین_کرده‌اند__تک‌نوازان_این_مجموعه_عبارتند_ازC_فرامرز_پایور_AسنتورZ،_هوشنگ_ظریف_AتارZ،_حسن_ناهید_AنیZ،_رحمت الله_بدیعی_AکمانچهZ_و_محمد_اسماعیلی_AتمبکZ_)s)]\n[parameters: [{'78865': 87182, 'مجموعه\\u200aای_از_آثار_درویش\\u200cخان_که_توسط_استاد_پایور_و_گروه_او_اجرا_شده_است__در_این_مجموعه_بداهه\\u200aنوازی\\u200cهایی_در_دستگاه\\u200c_ماهور_و_آواز_ابوعطا_آثار_ضربی_درویش\\u200cخان_را_مزین_کرده\\u200cاند__تک\\u200cنوازان_این_مجموعه_عبارتند_ازC_فرامرز_پایور_AسنتورZ،_هوشنگ_ظریف_AتارZ،_حسن_ناهید_AنیZ،_رحمت\\u200aالله_بدیعی_AکمانچهZ_و_محمد_اسماعیلی_AتمبکZ_': 'کسانی که قصد معلمی در هر سطحی دارند و برای چنین هدفی آموزش می بینند، برای بهبود و افزایش اثربخشی خود به شدت نیازمند وسعت و عمق بخشیدن به معلومات خویش ... (446 characters truncated) ... مذکور از متداول\\u200cترین روش\\u200cهای تدریس به شمار می\\u200cآید که به\\u200cواسطه نقاط قوت خود در سراسر جهان و خصوصا کشورمان ایران بسیار کاربرد دارد.'}, {'78865': 53759, 'مجموعه\\u200aای_از_آثار_درویش\\u200cخان_که_توسط_استاد_پایور_و_گروه_او_اجرا_شده_است__در_این_مجموعه_بداهه\\u200aنوازی\\u200cهایی_در_دستگاه\\u200c_ماهور_و_آواز_ابوعطا_آثار_ضربی_درویش\\u200cخان_را_مزین_کرده\\u200cاند__تک\\u200cنوازان_این_مجموعه_عبارتند_ازC_فرامرز_پایور_AسنتورZ،_هوشنگ_ظریف_AتارZ،_حسن_ناهید_AنیZ،_رحمت\\u200aالله_بدیعی_AکمانچهZ_و_محمد_اسماعیلی_AتمبکZ_': 'هیچ در هیچ از آثار ارکسترال هوشنگ کامکار است که همراه با لوح فشرده صوتی توسط انتشارات مشاهیر هنر منتشر گردیده است. کتاب هیچ در هیچ دارای لوح فشرده صو ... (368 characters truncated) ... مشاهیر هنر در راستای حمایت از آثار فاخر و ماندگار، این مجموعه کامل را به عنوان مرجع مناسب و کاملی برای آهنگسازان و هنرجویان آهنگسازی منتشر نموده است.'}, {'78865': 49496, 'مجموعه\\u200aای_از_آثار_درویش\\u200cخان_که_توسط_استاد_پایور_و_گروه_او_اجرا_شده_است__در_این_مجموعه_بداهه\\u200aنوازی\\u200cهایی_در_دستگاه\\u200c_ماهور_و_آواز_ابوعطا_آثار_ضربی_درویش\\u200cخان_را_مزین_کرده\\u200cاند__تک\\u200cنوازان_این_مجموعه_عبارتند_ازC_فرامرز_پایور_AسنتورZ،_هوشنگ_ظریف_AتارZ،_حسن_ناهید_AنیZ،_رحمت\\u200aالله_بدیعی_AکمانچهZ_و_محمد_اسماعیلی_AتمبکZ_': 'فیلیپ ایمبرونیو در طول سی سال تحقیق خود در مورد بشقاب پرنده ها، از جمله تحقیقات میدانی، شواهد عکاسی، و مطالعات موردی دقیق گردآوری شده، بینش جدید و شگ ... (592 characters truncated) ... مدرن را بررسی کرد و اطلاعاتی را که قبلا منتشر نشده بود، از جمله شواهد عکاسی مبنی بر اینکه چیزی بسیار غیرعادی در حال وقوع است به اشتراک می\\u200cگذارد.'}, {'78865': 84273, 'مجموعه\\u200aای_از_آثار_درویش\\u200cخان_که_توسط_استاد_پایور_و_گروه_او_اجرا_شده_است__در_این_مجموعه_بداهه\\u200aنوازی\\u200cهایی_در_دستگاه\\u200c_ماهور_و_آواز_ابوعطا_آثار_ضربی_درویش\\u200cخان_را_مزین_کرده\\u200cاند__تک\\u200cنوازان_این_مجموعه_عبارتند_ازC_فرامرز_پایور_AسنتورZ،_هوشنگ_ظریف_AتارZ،_حسن_ناهید_AنیZ،_رحمت\\u200aالله_بدیعی_AکمانچهZ_و_محمد_اسماعیلی_AتمبکZ_': None}, {'78865': 70101, 'مجموعه\\u200aای_از_آثار_درویش\\u200cخان_که_توسط_استاد_پایور_و_گروه_او_اجرا_شده_است__در_این_مجموعه_بداهه\\u200aنوازی\\u200cهایی_در_دستگاه\\u200c_ماهور_و_آواز_ابوعطا_آثار_ضربی_درویش\\u200cخان_را_مزین_کرده\\u200cاند__تک\\u200cنوازان_این_مجموعه_عبارتند_ازC_فرامرز_پایور_AسنتورZ،_هوشنگ_ظریف_AتارZ،_حسن_ناهید_AنیZ،_رحمت\\u200aالله_بدیعی_AکمانچهZ_و_محمد_اسماعیلی_AتمبکZ_': 'کتاب صوتی «هی یو» خاطرات سعید ابوطالب، سینماگر و نماینده اسبق مجلس از دوران اسارتش در عراق به دست نیروهای آمریکایی است. این کتاب با موضوع وقایع\\u200c ... (80 characters truncated) ... چهار ماه را در آن زندانی بوده است. این کتاب به نوعی خاطرات ابوطالب از حضور و اسارت چهارماهه\\u200cاش توسط نیروهای ائتلاف در عراق هم محسوب می\\u200cشود.'}, {'78865': 18256, 'مجموعه\\u200aای_از_آثار_درویش\\u200cخان_که_توسط_استاد_پایور_و_گروه_او_اجرا_شده_است__در_این_مجموعه_بداهه\\u200aنوازی\\u200cهایی_در_دستگاه\\u200c_ماهور_و_آواز_ابوعطا_آثار_ضربی_درویش\\u200cخان_را_مزین_کرده\\u200cاند__تک\\u200cنوازان_این_مجموعه_عبارتند_ازC_فرامرز_پایور_AسنتورZ،_هوشنگ_ظریف_AتارZ،_حسن_ناهید_AنیZ،_رحمت\\u200aالله_بدیعی_AکمانچهZ_و_محمد_اسماعیلی_AتمبکZ_': 'معبد سپیده دم سومین رمان در کتاب چهارگانه دریای حاصلخیزی است که توسط نویسنده ژاپنی یوکیو می شیما نوشته شده است. برای همین ، مانند دیگر رمان های این م ... (1057 characters truncated) ... له برای او ترتیب داده میشود ،دختری که ادعا می کند تناسخ یک پسر ژاپنی است و همین باعث خجالت نزدیکانش شده تا حدی که او را در کاخ روزت حبس می کنند و ...'}, {'78865': 36647, 'مجموعه\\u200aای_از_آثار_درویش\\u200cخان_که_توسط_استاد_پایور_و_گروه_او_اجرا_شده_است__در_این_مجموعه_بداهه\\u200aنوازی\\u200cهایی_در_دستگاه\\u200c_ماهور_و_آواز_ابوعطا_آثار_ضربی_درویش\\u200cخان_را_مزین_کرده\\u200cاند__تک\\u200cنوازان_این_مجموعه_عبارتند_ازC_فرامرز_پایور_AسنتورZ،_هوشنگ_ظریف_AتارZ،_حسن_ناهید_AنیZ،_رحمت\\u200aالله_بدیعی_AکمانچهZ_و_محمد_اسماعیلی_AتمبکZ_': 'این کتاب داستان زندگی یکی از محبوب ترین هنرپیشه های جهان، جکی چان، را در خود جای داده که از زندگی ساده ای برخوردار نبوده، اما با عبور از موانع و مشکلات زندگی اش با رویکردی سلامت و متواضعانه توانسته از فقر و دشواری ها بگریزد و خود را به بهترین و دوست داشتنی ترین شکل ممکن به جهان معرفی کند.'}, {'78865': 20643, 'مجموعه\\u200aای_از_آثار_درویش\\u200cخان_که_توسط_استاد_پایور_و_گروه_او_اجرا_شده_است__در_این_مجموعه_بداهه\\u200aنوازی\\u200cهایی_در_دستگاه\\u200c_ماهور_و_آواز_ابوعطا_آثار_ضربی_درویش\\u200cخان_را_مزین_کرده\\u200cاند__تک\\u200cنوازان_این_مجموعه_عبارتند_ازC_فرامرز_پایور_AسنتورZ،_هوشنگ_ظریف_AتارZ،_حسن_ناهید_AنیZ،_رحمت\\u200aالله_بدیعی_AکمانچهZ_و_محمد_اسماعیلی_AتمبکZ_': 'کتاب «بازمانده» رمانی نوشته ی «اندرو پایپر» است که اولین بار در سال 2017 به چاپ رسید. دکتر «لیلی دومینیک» که در یک کلینیک روانپزشکی در نیویورک کار می ... (458 characters truncated) ...  است. بیمار اما پس از مدتی برای «لیلی» آشکار می کند که مرتکب این جرم شده تا بتواند با او ملاقات کند، و این که واقعیت را درباره ی مادر «لیلی» می داند.'}  ... displaying 10 of 17770 total bound parameter sets ...  {'78865': 6052, 'مجموعه\\u200aای_از_آثار_درویش\\u200cخان_که_توسط_استاد_پایور_و_گروه_او_اجرا_شده_است__در_این_مجموعه_بداهه\\u200aنوازی\\u200cهایی_در_دستگاه\\u200c_ماهور_و_آواز_ابوعطا_آثار_ضربی_درویش\\u200cخان_را_مزین_کرده\\u200cاند__تک\\u200cنوازان_این_مجموعه_عبارتند_ازC_فرامرز_پایور_AسنتورZ،_هوشنگ_ظریف_AتارZ،_حسن_ناهید_AنیZ،_رحمت\\u200aالله_بدیعی_AکمانچهZ_و_محمد_اسماعیلی_AتمبکZ_': 'داستان این رمان درباره عشقی است که برای رسیدن به نتیجه ناچار از پیمودن مراحل مختلف تعریف شده در سنت مردمان جنوب ایران است.در این رمان ماجرای علاقه دو ... (329 characters truncated) ... ، نامه ای رازآلود به او می رسد که در آن گفته شده در صورت تمایل می تواند این مبارزه را تکرار کند و اگر برنده آن شود، صاحب همه چیز فرد برنده خواهد بود.'}, {'78865': 87076, 'مجموعه\\u200aای_از_آثار_درویش\\u200cخان_که_توسط_استاد_پایور_و_گروه_او_اجرا_شده_است__در_این_مجموعه_بداهه\\u200aنوازی\\u200cهایی_در_دستگاه\\u200c_ماهور_و_آواز_ابوعطا_آثار_ضربی_درویش\\u200cخان_را_مزین_کرده\\u200cاند__تک\\u200cنوازان_این_مجموعه_عبارتند_ازC_فرامرز_پایور_AسنتورZ،_هوشنگ_ظریف_AتارZ،_حسن_ناهید_AنیZ،_رحمت\\u200aالله_بدیعی_AکمانچهZ_و_محمد_اسماعیلی_AتمبکZ_': None}]]\n(Background on this error at: https://sqlalche.me/e/20/f405)",
     "output_type": "error",
     "traceback": [
      "\u001b[1;31m---------------------------------------------------------------------------\u001b[0m",
      "\u001b[1;31mMySQLInterfaceError\u001b[0m                       Traceback (most recent call last)",
      "File \u001b[1;32mc:\\Users\\Mohammad\\AppData\\Local\\Programs\\Python\\Python310\\lib\\site-packages\\mysql\\connector\\connection_cext.py:633\u001b[0m, in \u001b[0;36mCMySQLConnection.cmd_query\u001b[1;34m(self, query, raw, buffered, raw_as_string)\u001b[0m\n\u001b[0;32m    632\u001b[0m         query \u001b[39m=\u001b[39m query\u001b[39m.\u001b[39mencode(\u001b[39m\"\u001b[39m\u001b[39mutf-8\u001b[39m\u001b[39m\"\u001b[39m)\n\u001b[1;32m--> 633\u001b[0m     \u001b[39mself\u001b[39;49m\u001b[39m.\u001b[39;49m_cmysql\u001b[39m.\u001b[39;49mquery(\n\u001b[0;32m    634\u001b[0m         query,\n\u001b[0;32m    635\u001b[0m         raw\u001b[39m=\u001b[39;49mraw,\n\u001b[0;32m    636\u001b[0m         buffered\u001b[39m=\u001b[39;49mbuffered,\n\u001b[0;32m    637\u001b[0m         raw_as_string\u001b[39m=\u001b[39;49mraw_as_string,\n\u001b[0;32m    638\u001b[0m         query_attrs\u001b[39m=\u001b[39;49m\u001b[39mself\u001b[39;49m\u001b[39m.\u001b[39;49mquery_attrs,\n\u001b[0;32m    639\u001b[0m     )\n\u001b[0;32m    640\u001b[0m \u001b[39mexcept\u001b[39;00m MySQLInterfaceError \u001b[39mas\u001b[39;00m err:\n",
      "\u001b[1;31mMySQLInterfaceError\u001b[0m: Unknown column '78865' in 'field list'",
      "\nThe above exception was the direct cause of the following exception:\n",
      "\u001b[1;31mProgrammingError\u001b[0m                          Traceback (most recent call last)",
      "File \u001b[1;32mc:\\Users\\Mohammad\\AppData\\Local\\Programs\\Python\\Python310\\lib\\site-packages\\sqlalchemy\\engine\\base.py:1934\u001b[0m, in \u001b[0;36mConnection._exec_single_context\u001b[1;34m(self, dialect, context, statement, parameters)\u001b[0m\n\u001b[0;32m   1933\u001b[0m     \u001b[39mif\u001b[39;00m \u001b[39mnot\u001b[39;00m evt_handled:\n\u001b[1;32m-> 1934\u001b[0m         \u001b[39mself\u001b[39;49m\u001b[39m.\u001b[39;49mdialect\u001b[39m.\u001b[39;49mdo_executemany(\n\u001b[0;32m   1935\u001b[0m             cursor,\n\u001b[0;32m   1936\u001b[0m             str_statement,\n\u001b[0;32m   1937\u001b[0m             effective_parameters,\n\u001b[0;32m   1938\u001b[0m             context,\n\u001b[0;32m   1939\u001b[0m         )\n\u001b[0;32m   1940\u001b[0m \u001b[39melif\u001b[39;00m \u001b[39mnot\u001b[39;00m effective_parameters \u001b[39mand\u001b[39;00m context\u001b[39m.\u001b[39mno_parameters:\n",
      "File \u001b[1;32mc:\\Users\\Mohammad\\AppData\\Local\\Programs\\Python\\Python310\\lib\\site-packages\\sqlalchemy\\engine\\default.py:918\u001b[0m, in \u001b[0;36mDefaultDialect.do_executemany\u001b[1;34m(self, cursor, statement, parameters, context)\u001b[0m\n\u001b[0;32m    917\u001b[0m \u001b[39mdef\u001b[39;00m \u001b[39mdo_executemany\u001b[39m(\u001b[39mself\u001b[39m, cursor, statement, parameters, context\u001b[39m=\u001b[39m\u001b[39mNone\u001b[39;00m):\n\u001b[1;32m--> 918\u001b[0m     cursor\u001b[39m.\u001b[39;49mexecutemany(statement, parameters)\n",
      "File \u001b[1;32mc:\\Users\\Mohammad\\AppData\\Local\\Programs\\Python\\Python310\\lib\\site-packages\\mysql\\connector\\cursor_cext.py:455\u001b[0m, in \u001b[0;36mCMySQLCursor.executemany\u001b[1;34m(self, operation, seq_params)\u001b[0m\n\u001b[0;32m    454\u001b[0m         \u001b[39mself\u001b[39m\u001b[39m.\u001b[39m_executed \u001b[39m=\u001b[39m stmt\n\u001b[1;32m--> 455\u001b[0m         \u001b[39mreturn\u001b[39;00m \u001b[39mself\u001b[39;49m\u001b[39m.\u001b[39;49mexecute(stmt)\n\u001b[0;32m    457\u001b[0m rowcnt \u001b[39m=\u001b[39m \u001b[39m0\u001b[39m\n",
      "File \u001b[1;32mc:\\Users\\Mohammad\\AppData\\Local\\Programs\\Python\\Python310\\lib\\site-packages\\mysql\\connector\\cursor_cext.py:330\u001b[0m, in \u001b[0;36mCMySQLCursor.execute\u001b[1;34m(self, operation, params, multi)\u001b[0m\n\u001b[0;32m    329\u001b[0m \u001b[39mtry\u001b[39;00m:\n\u001b[1;32m--> 330\u001b[0m     result \u001b[39m=\u001b[39m \u001b[39mself\u001b[39;49m\u001b[39m.\u001b[39;49m_cnx\u001b[39m.\u001b[39;49mcmd_query(\n\u001b[0;32m    331\u001b[0m         stmt,\n\u001b[0;32m    332\u001b[0m         raw\u001b[39m=\u001b[39;49m\u001b[39mself\u001b[39;49m\u001b[39m.\u001b[39;49m_raw,\n\u001b[0;32m    333\u001b[0m         buffered\u001b[39m=\u001b[39;49m\u001b[39mself\u001b[39;49m\u001b[39m.\u001b[39;49m_buffered,\n\u001b[0;32m    334\u001b[0m         raw_as_string\u001b[39m=\u001b[39;49m\u001b[39mself\u001b[39;49m\u001b[39m.\u001b[39;49m_raw_as_string,\n\u001b[0;32m    335\u001b[0m     )\n\u001b[0;32m    336\u001b[0m \u001b[39mexcept\u001b[39;00m MySQLInterfaceError \u001b[39mas\u001b[39;00m err:\n",
      "File \u001b[1;32mc:\\Users\\Mohammad\\AppData\\Local\\Programs\\Python\\Python310\\lib\\site-packages\\mysql\\connector\\opentelemetry\\context_propagation.py:77\u001b[0m, in \u001b[0;36mwith_context_propagation.<locals>.wrapper\u001b[1;34m(cnx, *args, **kwargs)\u001b[0m\n\u001b[0;32m     76\u001b[0m \u001b[39mif\u001b[39;00m \u001b[39mnot\u001b[39;00m OTEL_ENABLED \u001b[39mor\u001b[39;00m \u001b[39mnot\u001b[39;00m cnx\u001b[39m.\u001b[39motel_context_propagation:\n\u001b[1;32m---> 77\u001b[0m     \u001b[39mreturn\u001b[39;00m method(cnx, \u001b[39m*\u001b[39margs, \u001b[39m*\u001b[39m\u001b[39m*\u001b[39mkwargs)\n\u001b[0;32m     79\u001b[0m current_span \u001b[39m=\u001b[39m trace\u001b[39m.\u001b[39mget_current_span()\n",
      "File \u001b[1;32mc:\\Users\\Mohammad\\AppData\\Local\\Programs\\Python\\Python310\\lib\\site-packages\\mysql\\connector\\connection_cext.py:641\u001b[0m, in \u001b[0;36mCMySQLConnection.cmd_query\u001b[1;34m(self, query, raw, buffered, raw_as_string)\u001b[0m\n\u001b[0;32m    640\u001b[0m \u001b[39mexcept\u001b[39;00m MySQLInterfaceError \u001b[39mas\u001b[39;00m err:\n\u001b[1;32m--> 641\u001b[0m     \u001b[39mraise\u001b[39;00m get_mysql_exception(\n\u001b[0;32m    642\u001b[0m         err\u001b[39m.\u001b[39merrno, msg\u001b[39m=\u001b[39merr\u001b[39m.\u001b[39mmsg, sqlstate\u001b[39m=\u001b[39merr\u001b[39m.\u001b[39msqlstate\n\u001b[0;32m    643\u001b[0m     ) \u001b[39mfrom\u001b[39;00m \u001b[39merr\u001b[39;00m\n\u001b[0;32m    644\u001b[0m \u001b[39mexcept\u001b[39;00m \u001b[39mAttributeError\u001b[39;00m \u001b[39mas\u001b[39;00m err:\n",
      "\u001b[1;31mProgrammingError\u001b[0m: 1054 (42S22): Unknown column '78865' in 'field list'",
      "\nThe above exception was the direct cause of the following exception:\n",
      "\u001b[1;31mProgrammingError\u001b[0m                          Traceback (most recent call last)",
      "Cell \u001b[1;32mIn [41], line 7\u001b[0m\n\u001b[0;32m      1\u001b[0m df_group \u001b[38;5;241m=\u001b[39m pd\u001b[38;5;241m.\u001b[39mread_csv(\u001b[38;5;124m'\u001b[39m\u001b[38;5;124mmodified/modified_group1.csv\u001b[39m\u001b[38;5;124m'\u001b[39m)\n\u001b[0;32m      2\u001b[0m \u001b[38;5;66;03m# df_group.dropna(subset=[\"group_id\"],inplace=True)\u001b[39;00m\n\u001b[0;32m      3\u001b[0m \u001b[38;5;66;03m# df_group.drop_duplicates(subset=[\"group_id\"],inplace=True)\u001b[39;00m\n\u001b[0;32m      4\u001b[0m \u001b[38;5;66;03m# df_group.rename(columns={'group_id': 'id'}, inplace=True)\u001b[39;00m\n\u001b[0;32m      5\u001b[0m \u001b[38;5;66;03m# df_group['id'] = df_group['id'].astype(int)\u001b[39;00m\n\u001b[0;32m      6\u001b[0m \u001b[38;5;66;03m# df_group.to_csv('modified/modified_group.csv', index=False)\u001b[39;00m\n\u001b[1;32m----> 7\u001b[0m \u001b[43mdf_group\u001b[49m\u001b[38;5;241;43m.\u001b[39;49m\u001b[43mto_sql\u001b[49m\u001b[43m(\u001b[49m\u001b[38;5;124;43m'\u001b[39;49m\u001b[38;5;124;43mgroup\u001b[39;49m\u001b[38;5;124;43m'\u001b[39;49m\u001b[43m,\u001b[49m\u001b[43m \u001b[49m\u001b[43mengine\u001b[49m\u001b[43m,\u001b[49m\u001b[43m \u001b[49m\u001b[43mif_exists\u001b[49m\u001b[38;5;241;43m=\u001b[39;49m\u001b[38;5;124;43m'\u001b[39;49m\u001b[38;5;124;43mappend\u001b[39;49m\u001b[38;5;124;43m'\u001b[39;49m\u001b[43m,\u001b[49m\u001b[43m \u001b[49m\u001b[43mindex\u001b[49m\u001b[38;5;241;43m=\u001b[39;49m\u001b[38;5;28;43;01mFalse\u001b[39;49;00m\u001b[43m)\u001b[49m\n",
      "File \u001b[1;32mc:\\Users\\Mohammad\\AppData\\Local\\Programs\\Python\\Python310\\lib\\site-packages\\pandas\\core\\generic.py:2951\u001b[0m, in \u001b[0;36mNDFrame.to_sql\u001b[1;34m(self, name, con, schema, if_exists, index, index_label, chunksize, dtype, method)\u001b[0m\n\u001b[0;32m   2794\u001b[0m \u001b[39m\"\"\"\u001b[39;00m\n\u001b[0;32m   2795\u001b[0m \u001b[39mWrite records stored in a DataFrame to a SQL database.\u001b[39;00m\n\u001b[0;32m   2796\u001b[0m \n\u001b[1;32m   (...)\u001b[0m\n\u001b[0;32m   2947\u001b[0m \u001b[39m[(1,), (None,), (2,)]\u001b[39;00m\n\u001b[0;32m   2948\u001b[0m \u001b[39m\"\"\"\u001b[39;00m  \u001b[39m# noqa:E501\u001b[39;00m\n\u001b[0;32m   2949\u001b[0m \u001b[39mfrom\u001b[39;00m \u001b[39mpandas\u001b[39;00m\u001b[39m.\u001b[39;00m\u001b[39mio\u001b[39;00m \u001b[39mimport\u001b[39;00m sql\n\u001b[1;32m-> 2951\u001b[0m \u001b[39mreturn\u001b[39;00m sql\u001b[39m.\u001b[39;49mto_sql(\n\u001b[0;32m   2952\u001b[0m     \u001b[39mself\u001b[39;49m,\n\u001b[0;32m   2953\u001b[0m     name,\n\u001b[0;32m   2954\u001b[0m     con,\n\u001b[0;32m   2955\u001b[0m     schema\u001b[39m=\u001b[39;49mschema,\n\u001b[0;32m   2956\u001b[0m     if_exists\u001b[39m=\u001b[39;49mif_exists,\n\u001b[0;32m   2957\u001b[0m     index\u001b[39m=\u001b[39;49mindex,\n\u001b[0;32m   2958\u001b[0m     index_label\u001b[39m=\u001b[39;49mindex_label,\n\u001b[0;32m   2959\u001b[0m     chunksize\u001b[39m=\u001b[39;49mchunksize,\n\u001b[0;32m   2960\u001b[0m     dtype\u001b[39m=\u001b[39;49mdtype,\n\u001b[0;32m   2961\u001b[0m     method\u001b[39m=\u001b[39;49mmethod,\n\u001b[0;32m   2962\u001b[0m )\n",
      "File \u001b[1;32mc:\\Users\\Mohammad\\AppData\\Local\\Programs\\Python\\Python310\\lib\\site-packages\\pandas\\io\\sql.py:698\u001b[0m, in \u001b[0;36mto_sql\u001b[1;34m(frame, name, con, schema, if_exists, index, index_label, chunksize, dtype, method, engine, **engine_kwargs)\u001b[0m\n\u001b[0;32m    693\u001b[0m \u001b[39melif\u001b[39;00m \u001b[39mnot\u001b[39;00m \u001b[39misinstance\u001b[39m(frame, DataFrame):\n\u001b[0;32m    694\u001b[0m     \u001b[39mraise\u001b[39;00m \u001b[39mNotImplementedError\u001b[39;00m(\n\u001b[0;32m    695\u001b[0m         \u001b[39m\"\u001b[39m\u001b[39m'\u001b[39m\u001b[39mframe\u001b[39m\u001b[39m'\u001b[39m\u001b[39m argument should be either a Series or a DataFrame\u001b[39m\u001b[39m\"\u001b[39m\n\u001b[0;32m    696\u001b[0m     )\n\u001b[1;32m--> 698\u001b[0m \u001b[39mreturn\u001b[39;00m pandas_sql\u001b[39m.\u001b[39mto_sql(\n\u001b[0;32m    699\u001b[0m     frame,\n\u001b[0;32m    700\u001b[0m     name,\n\u001b[0;32m    701\u001b[0m     if_exists\u001b[39m=\u001b[39mif_exists,\n\u001b[0;32m    702\u001b[0m     index\u001b[39m=\u001b[39mindex,\n\u001b[0;32m    703\u001b[0m     index_label\u001b[39m=\u001b[39mindex_label,\n\u001b[0;32m    704\u001b[0m     schema\u001b[39m=\u001b[39mschema,\n\u001b[0;32m    705\u001b[0m     chunksize\u001b[39m=\u001b[39mchunksize,\n\u001b[0;32m    706\u001b[0m     dtype\u001b[39m=\u001b[39mdtype,\n\u001b[0;32m    707\u001b[0m     method\u001b[39m=\u001b[39mmethod,\n\u001b[0;32m    708\u001b[0m     engine\u001b[39m=\u001b[39mengine,\n\u001b[0;32m    709\u001b[0m     \u001b[39m*\u001b[39m\u001b[39m*\u001b[39mengine_kwargs,\n\u001b[0;32m    710\u001b[0m )\n",
      "File \u001b[1;32mc:\\Users\\Mohammad\\AppData\\Local\\Programs\\Python\\Python310\\lib\\site-packages\\pandas\\io\\sql.py:1742\u001b[0m, in \u001b[0;36mSQLDatabase.to_sql\u001b[1;34m(self, frame, name, if_exists, index, index_label, schema, chunksize, dtype, method, engine, **engine_kwargs)\u001b[0m\n\u001b[0;32m   1730\u001b[0m sql_engine \u001b[39m=\u001b[39m get_engine(engine)\n\u001b[0;32m   1732\u001b[0m table \u001b[39m=\u001b[39m \u001b[39mself\u001b[39m\u001b[39m.\u001b[39mprep_table(\n\u001b[0;32m   1733\u001b[0m     frame\u001b[39m=\u001b[39mframe,\n\u001b[0;32m   1734\u001b[0m     name\u001b[39m=\u001b[39mname,\n\u001b[1;32m   (...)\u001b[0m\n\u001b[0;32m   1739\u001b[0m     dtype\u001b[39m=\u001b[39mdtype,\n\u001b[0;32m   1740\u001b[0m )\n\u001b[1;32m-> 1742\u001b[0m total_inserted \u001b[39m=\u001b[39m sql_engine\u001b[39m.\u001b[39minsert_records(\n\u001b[0;32m   1743\u001b[0m     table\u001b[39m=\u001b[39mtable,\n\u001b[0;32m   1744\u001b[0m     con\u001b[39m=\u001b[39m\u001b[39mself\u001b[39m\u001b[39m.\u001b[39mconnectable,\n\u001b[0;32m   1745\u001b[0m     frame\u001b[39m=\u001b[39mframe,\n\u001b[0;32m   1746\u001b[0m     name\u001b[39m=\u001b[39mname,\n\u001b[0;32m   1747\u001b[0m     index\u001b[39m=\u001b[39mindex,\n\u001b[0;32m   1748\u001b[0m     schema\u001b[39m=\u001b[39mschema,\n\u001b[0;32m   1749\u001b[0m     chunksize\u001b[39m=\u001b[39mchunksize,\n\u001b[0;32m   1750\u001b[0m     method\u001b[39m=\u001b[39mmethod,\n\u001b[0;32m   1751\u001b[0m     \u001b[39m*\u001b[39m\u001b[39m*\u001b[39mengine_kwargs,\n\u001b[0;32m   1752\u001b[0m )\n\u001b[0;32m   1754\u001b[0m \u001b[39mself\u001b[39m\u001b[39m.\u001b[39mcheck_case_sensitive(name\u001b[39m=\u001b[39mname, schema\u001b[39m=\u001b[39mschema)\n\u001b[0;32m   1755\u001b[0m \u001b[39mreturn\u001b[39;00m total_inserted\n",
      "File \u001b[1;32mc:\\Users\\Mohammad\\AppData\\Local\\Programs\\Python\\Python310\\lib\\site-packages\\pandas\\io\\sql.py:1335\u001b[0m, in \u001b[0;36mSQLAlchemyEngine.insert_records\u001b[1;34m(self, table, con, frame, name, index, schema, chunksize, method, **engine_kwargs)\u001b[0m\n\u001b[0;32m   1333\u001b[0m     \u001b[39mraise\u001b[39;00m \u001b[39mValueError\u001b[39;00m(\u001b[39m\"\u001b[39m\u001b[39minf cannot be used with MySQL\u001b[39m\u001b[39m\"\u001b[39m) \u001b[39mfrom\u001b[39;00m \u001b[39merr\u001b[39;00m\n\u001b[0;32m   1334\u001b[0m \u001b[39melse\u001b[39;00m:\n\u001b[1;32m-> 1335\u001b[0m     \u001b[39mraise\u001b[39;00m err\n",
      "File \u001b[1;32mc:\\Users\\Mohammad\\AppData\\Local\\Programs\\Python\\Python310\\lib\\site-packages\\pandas\\io\\sql.py:1325\u001b[0m, in \u001b[0;36mSQLAlchemyEngine.insert_records\u001b[1;34m(self, table, con, frame, name, index, schema, chunksize, method, **engine_kwargs)\u001b[0m\n\u001b[0;32m   1322\u001b[0m \u001b[39mfrom\u001b[39;00m \u001b[39msqlalchemy\u001b[39;00m \u001b[39mimport\u001b[39;00m exc\n\u001b[0;32m   1324\u001b[0m \u001b[39mtry\u001b[39;00m:\n\u001b[1;32m-> 1325\u001b[0m     \u001b[39mreturn\u001b[39;00m table\u001b[39m.\u001b[39;49minsert(chunksize\u001b[39m=\u001b[39;49mchunksize, method\u001b[39m=\u001b[39;49mmethod)\n\u001b[0;32m   1326\u001b[0m \u001b[39mexcept\u001b[39;00m exc\u001b[39m.\u001b[39mSQLAlchemyError \u001b[39mas\u001b[39;00m err:\n\u001b[0;32m   1327\u001b[0m     \u001b[39m# GH34431\u001b[39;00m\n\u001b[0;32m   1328\u001b[0m     \u001b[39m# https://stackoverflow.com/a/67358288/6067848\u001b[39;00m\n\u001b[0;32m   1329\u001b[0m     msg \u001b[39m=\u001b[39m \u001b[39mr\u001b[39m\u001b[39m\"\"\"\u001b[39m\u001b[39m(\u001b[39m\u001b[39m\\\u001b[39m\u001b[39m(1054, \u001b[39m\u001b[39m\"\u001b[39m\u001b[39mUnknown column \u001b[39m\u001b[39m'\u001b[39m\u001b[39minf(e0)?\u001b[39m\u001b[39m'\u001b[39m\u001b[39m in \u001b[39m\u001b[39m'\u001b[39m\u001b[39mfield list\u001b[39m\u001b[39m'\u001b[39m\u001b[39m\"\u001b[39m\u001b[39m\\\u001b[39m\u001b[39m))(?#\u001b[39m\n\u001b[0;32m   1330\u001b[0m \u001b[39m    )|inf can not be used with MySQL\u001b[39m\u001b[39m\"\"\"\u001b[39m\n",
      "File \u001b[1;32mc:\\Users\\Mohammad\\AppData\\Local\\Programs\\Python\\Python310\\lib\\site-packages\\pandas\\io\\sql.py:951\u001b[0m, in \u001b[0;36mSQLTable.insert\u001b[1;34m(self, chunksize, method)\u001b[0m\n\u001b[0;32m    948\u001b[0m     \u001b[39mbreak\u001b[39;00m\n\u001b[0;32m    950\u001b[0m chunk_iter \u001b[39m=\u001b[39m \u001b[39mzip\u001b[39m(\u001b[39m*\u001b[39m(arr[start_i:end_i] \u001b[39mfor\u001b[39;00m arr \u001b[39min\u001b[39;00m data_list))\n\u001b[1;32m--> 951\u001b[0m num_inserted \u001b[39m=\u001b[39m exec_insert(conn, keys, chunk_iter)\n\u001b[0;32m    952\u001b[0m \u001b[39m# GH 46891\u001b[39;00m\n\u001b[0;32m    953\u001b[0m \u001b[39mif\u001b[39;00m is_integer(num_inserted):\n",
      "File \u001b[1;32mc:\\Users\\Mohammad\\AppData\\Local\\Programs\\Python\\Python310\\lib\\site-packages\\pandas\\io\\sql.py:858\u001b[0m, in \u001b[0;36mSQLTable._execute_insert\u001b[1;34m(self, conn, keys, data_iter)\u001b[0m\n\u001b[0;32m    846\u001b[0m \u001b[39m\"\"\"\u001b[39;00m\n\u001b[0;32m    847\u001b[0m \u001b[39mExecute SQL statement inserting data\u001b[39;00m\n\u001b[0;32m    848\u001b[0m \n\u001b[1;32m   (...)\u001b[0m\n\u001b[0;32m    855\u001b[0m \u001b[39m   Each item contains a list of values to be inserted\u001b[39;00m\n\u001b[0;32m    856\u001b[0m \u001b[39m\"\"\"\u001b[39;00m\n\u001b[0;32m    857\u001b[0m data \u001b[39m=\u001b[39m [\u001b[39mdict\u001b[39m(\u001b[39mzip\u001b[39m(keys, row)) \u001b[39mfor\u001b[39;00m row \u001b[39min\u001b[39;00m data_iter]\n\u001b[1;32m--> 858\u001b[0m result \u001b[39m=\u001b[39m conn\u001b[39m.\u001b[39;49mexecute(\u001b[39mself\u001b[39;49m\u001b[39m.\u001b[39;49mtable\u001b[39m.\u001b[39;49minsert(), data)\n\u001b[0;32m    859\u001b[0m \u001b[39mreturn\u001b[39;00m result\u001b[39m.\u001b[39mrowcount\n",
      "File \u001b[1;32mc:\\Users\\Mohammad\\AppData\\Local\\Programs\\Python\\Python310\\lib\\site-packages\\sqlalchemy\\engine\\base.py:1412\u001b[0m, in \u001b[0;36mConnection.execute\u001b[1;34m(self, statement, parameters, execution_options)\u001b[0m\n\u001b[0;32m   1410\u001b[0m     \u001b[39mraise\u001b[39;00m exc\u001b[39m.\u001b[39mObjectNotExecutableError(statement) \u001b[39mfrom\u001b[39;00m \u001b[39merr\u001b[39;00m\n\u001b[0;32m   1411\u001b[0m \u001b[39melse\u001b[39;00m:\n\u001b[1;32m-> 1412\u001b[0m     \u001b[39mreturn\u001b[39;00m meth(\n\u001b[0;32m   1413\u001b[0m         \u001b[39mself\u001b[39;49m,\n\u001b[0;32m   1414\u001b[0m         distilled_parameters,\n\u001b[0;32m   1415\u001b[0m         execution_options \u001b[39mor\u001b[39;49;00m NO_OPTIONS,\n\u001b[0;32m   1416\u001b[0m     )\n",
      "File \u001b[1;32mc:\\Users\\Mohammad\\AppData\\Local\\Programs\\Python\\Python310\\lib\\site-packages\\sqlalchemy\\sql\\elements.py:515\u001b[0m, in \u001b[0;36mClauseElement._execute_on_connection\u001b[1;34m(self, connection, distilled_params, execution_options)\u001b[0m\n\u001b[0;32m    513\u001b[0m     \u001b[39mif\u001b[39;00m TYPE_CHECKING:\n\u001b[0;32m    514\u001b[0m         \u001b[39massert\u001b[39;00m \u001b[39misinstance\u001b[39m(\u001b[39mself\u001b[39m, Executable)\n\u001b[1;32m--> 515\u001b[0m     \u001b[39mreturn\u001b[39;00m connection\u001b[39m.\u001b[39;49m_execute_clauseelement(\n\u001b[0;32m    516\u001b[0m         \u001b[39mself\u001b[39;49m, distilled_params, execution_options\n\u001b[0;32m    517\u001b[0m     )\n\u001b[0;32m    518\u001b[0m \u001b[39melse\u001b[39;00m:\n\u001b[0;32m    519\u001b[0m     \u001b[39mraise\u001b[39;00m exc\u001b[39m.\u001b[39mObjectNotExecutableError(\u001b[39mself\u001b[39m)\n",
      "File \u001b[1;32mc:\\Users\\Mohammad\\AppData\\Local\\Programs\\Python\\Python310\\lib\\site-packages\\sqlalchemy\\engine\\base.py:1635\u001b[0m, in \u001b[0;36mConnection._execute_clauseelement\u001b[1;34m(self, elem, distilled_parameters, execution_options)\u001b[0m\n\u001b[0;32m   1623\u001b[0m compiled_cache: Optional[CompiledCacheType] \u001b[39m=\u001b[39m execution_options\u001b[39m.\u001b[39mget(\n\u001b[0;32m   1624\u001b[0m     \u001b[39m\"\u001b[39m\u001b[39mcompiled_cache\u001b[39m\u001b[39m\"\u001b[39m, \u001b[39mself\u001b[39m\u001b[39m.\u001b[39mengine\u001b[39m.\u001b[39m_compiled_cache\n\u001b[0;32m   1625\u001b[0m )\n\u001b[0;32m   1627\u001b[0m compiled_sql, extracted_params, cache_hit \u001b[39m=\u001b[39m elem\u001b[39m.\u001b[39m_compile_w_cache(\n\u001b[0;32m   1628\u001b[0m     dialect\u001b[39m=\u001b[39mdialect,\n\u001b[0;32m   1629\u001b[0m     compiled_cache\u001b[39m=\u001b[39mcompiled_cache,\n\u001b[1;32m   (...)\u001b[0m\n\u001b[0;32m   1633\u001b[0m     linting\u001b[39m=\u001b[39m\u001b[39mself\u001b[39m\u001b[39m.\u001b[39mdialect\u001b[39m.\u001b[39mcompiler_linting \u001b[39m|\u001b[39m compiler\u001b[39m.\u001b[39mWARN_LINTING,\n\u001b[0;32m   1634\u001b[0m )\n\u001b[1;32m-> 1635\u001b[0m ret \u001b[39m=\u001b[39m \u001b[39mself\u001b[39;49m\u001b[39m.\u001b[39;49m_execute_context(\n\u001b[0;32m   1636\u001b[0m     dialect,\n\u001b[0;32m   1637\u001b[0m     dialect\u001b[39m.\u001b[39;49mexecution_ctx_cls\u001b[39m.\u001b[39;49m_init_compiled,\n\u001b[0;32m   1638\u001b[0m     compiled_sql,\n\u001b[0;32m   1639\u001b[0m     distilled_parameters,\n\u001b[0;32m   1640\u001b[0m     execution_options,\n\u001b[0;32m   1641\u001b[0m     compiled_sql,\n\u001b[0;32m   1642\u001b[0m     distilled_parameters,\n\u001b[0;32m   1643\u001b[0m     elem,\n\u001b[0;32m   1644\u001b[0m     extracted_params,\n\u001b[0;32m   1645\u001b[0m     cache_hit\u001b[39m=\u001b[39;49mcache_hit,\n\u001b[0;32m   1646\u001b[0m )\n\u001b[0;32m   1647\u001b[0m \u001b[39mif\u001b[39;00m has_events:\n\u001b[0;32m   1648\u001b[0m     \u001b[39mself\u001b[39m\u001b[39m.\u001b[39mdispatch\u001b[39m.\u001b[39mafter_execute(\n\u001b[0;32m   1649\u001b[0m         \u001b[39mself\u001b[39m,\n\u001b[0;32m   1650\u001b[0m         elem,\n\u001b[1;32m   (...)\u001b[0m\n\u001b[0;32m   1654\u001b[0m         ret,\n\u001b[0;32m   1655\u001b[0m     )\n",
      "File \u001b[1;32mc:\\Users\\Mohammad\\AppData\\Local\\Programs\\Python\\Python310\\lib\\site-packages\\sqlalchemy\\engine\\base.py:1844\u001b[0m, in \u001b[0;36mConnection._execute_context\u001b[1;34m(self, dialect, constructor, statement, parameters, execution_options, *args, **kw)\u001b[0m\n\u001b[0;32m   1839\u001b[0m     \u001b[39mreturn\u001b[39;00m \u001b[39mself\u001b[39m\u001b[39m.\u001b[39m_exec_insertmany_context(\n\u001b[0;32m   1840\u001b[0m         dialect,\n\u001b[0;32m   1841\u001b[0m         context,\n\u001b[0;32m   1842\u001b[0m     )\n\u001b[0;32m   1843\u001b[0m \u001b[39melse\u001b[39;00m:\n\u001b[1;32m-> 1844\u001b[0m     \u001b[39mreturn\u001b[39;00m \u001b[39mself\u001b[39;49m\u001b[39m.\u001b[39;49m_exec_single_context(\n\u001b[0;32m   1845\u001b[0m         dialect, context, statement, parameters\n\u001b[0;32m   1846\u001b[0m     )\n",
      "File \u001b[1;32mc:\\Users\\Mohammad\\AppData\\Local\\Programs\\Python\\Python310\\lib\\site-packages\\sqlalchemy\\engine\\base.py:1984\u001b[0m, in \u001b[0;36mConnection._exec_single_context\u001b[1;34m(self, dialect, context, statement, parameters)\u001b[0m\n\u001b[0;32m   1981\u001b[0m     result \u001b[39m=\u001b[39m context\u001b[39m.\u001b[39m_setup_result_proxy()\n\u001b[0;32m   1983\u001b[0m \u001b[39mexcept\u001b[39;00m \u001b[39mBaseException\u001b[39;00m \u001b[39mas\u001b[39;00m e:\n\u001b[1;32m-> 1984\u001b[0m     \u001b[39mself\u001b[39;49m\u001b[39m.\u001b[39;49m_handle_dbapi_exception(\n\u001b[0;32m   1985\u001b[0m         e, str_statement, effective_parameters, cursor, context\n\u001b[0;32m   1986\u001b[0m     )\n\u001b[0;32m   1988\u001b[0m \u001b[39mreturn\u001b[39;00m result\n",
      "File \u001b[1;32mc:\\Users\\Mohammad\\AppData\\Local\\Programs\\Python\\Python310\\lib\\site-packages\\sqlalchemy\\engine\\base.py:2339\u001b[0m, in \u001b[0;36mConnection._handle_dbapi_exception\u001b[1;34m(self, e, statement, parameters, cursor, context, is_sub_exec)\u001b[0m\n\u001b[0;32m   2337\u001b[0m \u001b[39melif\u001b[39;00m should_wrap:\n\u001b[0;32m   2338\u001b[0m     \u001b[39massert\u001b[39;00m sqlalchemy_exception \u001b[39mis\u001b[39;00m \u001b[39mnot\u001b[39;00m \u001b[39mNone\u001b[39;00m\n\u001b[1;32m-> 2339\u001b[0m     \u001b[39mraise\u001b[39;00m sqlalchemy_exception\u001b[39m.\u001b[39mwith_traceback(exc_info[\u001b[39m2\u001b[39m]) \u001b[39mfrom\u001b[39;00m \u001b[39me\u001b[39;00m\n\u001b[0;32m   2340\u001b[0m \u001b[39melse\u001b[39;00m:\n\u001b[0;32m   2341\u001b[0m     \u001b[39massert\u001b[39;00m exc_info[\u001b[39m1\u001b[39m] \u001b[39mis\u001b[39;00m \u001b[39mnot\u001b[39;00m \u001b[39mNone\u001b[39;00m\n",
      "File \u001b[1;32mc:\\Users\\Mohammad\\AppData\\Local\\Programs\\Python\\Python310\\lib\\site-packages\\sqlalchemy\\engine\\base.py:1934\u001b[0m, in \u001b[0;36mConnection._exec_single_context\u001b[1;34m(self, dialect, context, statement, parameters)\u001b[0m\n\u001b[0;32m   1932\u001b[0m                 \u001b[39mbreak\u001b[39;00m\n\u001b[0;32m   1933\u001b[0m     \u001b[39mif\u001b[39;00m \u001b[39mnot\u001b[39;00m evt_handled:\n\u001b[1;32m-> 1934\u001b[0m         \u001b[39mself\u001b[39;49m\u001b[39m.\u001b[39;49mdialect\u001b[39m.\u001b[39;49mdo_executemany(\n\u001b[0;32m   1935\u001b[0m             cursor,\n\u001b[0;32m   1936\u001b[0m             str_statement,\n\u001b[0;32m   1937\u001b[0m             effective_parameters,\n\u001b[0;32m   1938\u001b[0m             context,\n\u001b[0;32m   1939\u001b[0m         )\n\u001b[0;32m   1940\u001b[0m \u001b[39melif\u001b[39;00m \u001b[39mnot\u001b[39;00m effective_parameters \u001b[39mand\u001b[39;00m context\u001b[39m.\u001b[39mno_parameters:\n\u001b[0;32m   1941\u001b[0m     \u001b[39mif\u001b[39;00m \u001b[39mself\u001b[39m\u001b[39m.\u001b[39mdialect\u001b[39m.\u001b[39m_has_events:\n",
      "File \u001b[1;32mc:\\Users\\Mohammad\\AppData\\Local\\Programs\\Python\\Python310\\lib\\site-packages\\sqlalchemy\\engine\\default.py:918\u001b[0m, in \u001b[0;36mDefaultDialect.do_executemany\u001b[1;34m(self, cursor, statement, parameters, context)\u001b[0m\n\u001b[0;32m    917\u001b[0m \u001b[39mdef\u001b[39;00m \u001b[39mdo_executemany\u001b[39m(\u001b[39mself\u001b[39m, cursor, statement, parameters, context\u001b[39m=\u001b[39m\u001b[39mNone\u001b[39;00m):\n\u001b[1;32m--> 918\u001b[0m     cursor\u001b[39m.\u001b[39;49mexecutemany(statement, parameters)\n",
      "File \u001b[1;32mc:\\Users\\Mohammad\\AppData\\Local\\Programs\\Python\\Python310\\lib\\site-packages\\mysql\\connector\\cursor_cext.py:455\u001b[0m, in \u001b[0;36mCMySQLCursor.executemany\u001b[1;34m(self, operation, seq_params)\u001b[0m\n\u001b[0;32m    453\u001b[0m     \u001b[39mif\u001b[39;00m stmt \u001b[39mis\u001b[39;00m \u001b[39mnot\u001b[39;00m \u001b[39mNone\u001b[39;00m:\n\u001b[0;32m    454\u001b[0m         \u001b[39mself\u001b[39m\u001b[39m.\u001b[39m_executed \u001b[39m=\u001b[39m stmt\n\u001b[1;32m--> 455\u001b[0m         \u001b[39mreturn\u001b[39;00m \u001b[39mself\u001b[39;49m\u001b[39m.\u001b[39;49mexecute(stmt)\n\u001b[0;32m    457\u001b[0m rowcnt \u001b[39m=\u001b[39m \u001b[39m0\u001b[39m\n\u001b[0;32m    458\u001b[0m \u001b[39mtry\u001b[39;00m:\n\u001b[0;32m    459\u001b[0m     \u001b[39m# When processing read ops (e.g., SELECT), rowcnt is updated\u001b[39;00m\n\u001b[0;32m    460\u001b[0m     \u001b[39m# based on self._rowcount. For write ops (e.g., INSERT) is\u001b[39;00m\n\u001b[0;32m    461\u001b[0m     \u001b[39m# updated based on self._affected_rows.\u001b[39;00m\n\u001b[0;32m    462\u001b[0m     \u001b[39m# The variable self._description is None for write ops, that's\u001b[39;00m\n\u001b[0;32m    463\u001b[0m     \u001b[39m# why we use it as indicator for updating rowcnt.\u001b[39;00m\n",
      "File \u001b[1;32mc:\\Users\\Mohammad\\AppData\\Local\\Programs\\Python\\Python310\\lib\\site-packages\\mysql\\connector\\cursor_cext.py:330\u001b[0m, in \u001b[0;36mCMySQLCursor.execute\u001b[1;34m(self, operation, params, multi)\u001b[0m\n\u001b[0;32m    325\u001b[0m             \u001b[39mraise\u001b[39;00m ProgrammingError(\n\u001b[0;32m    326\u001b[0m                 \u001b[39m\"\u001b[39m\u001b[39mNot all parameters were used in the SQL statement\u001b[39m\u001b[39m\"\u001b[39m\n\u001b[0;32m    327\u001b[0m             )\n\u001b[0;32m    329\u001b[0m \u001b[39mtry\u001b[39;00m:\n\u001b[1;32m--> 330\u001b[0m     result \u001b[39m=\u001b[39m \u001b[39mself\u001b[39;49m\u001b[39m.\u001b[39;49m_cnx\u001b[39m.\u001b[39;49mcmd_query(\n\u001b[0;32m    331\u001b[0m         stmt,\n\u001b[0;32m    332\u001b[0m         raw\u001b[39m=\u001b[39;49m\u001b[39mself\u001b[39;49m\u001b[39m.\u001b[39;49m_raw,\n\u001b[0;32m    333\u001b[0m         buffered\u001b[39m=\u001b[39;49m\u001b[39mself\u001b[39;49m\u001b[39m.\u001b[39;49m_buffered,\n\u001b[0;32m    334\u001b[0m         raw_as_string\u001b[39m=\u001b[39;49m\u001b[39mself\u001b[39;49m\u001b[39m.\u001b[39;49m_raw_as_string,\n\u001b[0;32m    335\u001b[0m     )\n\u001b[0;32m    336\u001b[0m \u001b[39mexcept\u001b[39;00m MySQLInterfaceError \u001b[39mas\u001b[39;00m err:\n\u001b[0;32m    337\u001b[0m     \u001b[39mraise\u001b[39;00m get_mysql_exception(\n\u001b[0;32m    338\u001b[0m         msg\u001b[39m=\u001b[39merr\u001b[39m.\u001b[39mmsg, errno\u001b[39m=\u001b[39merr\u001b[39m.\u001b[39merrno, sqlstate\u001b[39m=\u001b[39merr\u001b[39m.\u001b[39msqlstate\n\u001b[0;32m    339\u001b[0m     ) \u001b[39mfrom\u001b[39;00m \u001b[39merr\u001b[39;00m\n",
      "File \u001b[1;32mc:\\Users\\Mohammad\\AppData\\Local\\Programs\\Python\\Python310\\lib\\site-packages\\mysql\\connector\\opentelemetry\\context_propagation.py:77\u001b[0m, in \u001b[0;36mwith_context_propagation.<locals>.wrapper\u001b[1;34m(cnx, *args, **kwargs)\u001b[0m\n\u001b[0;32m     75\u001b[0m \u001b[39m\"\"\"Context propagation decorator.\"\"\"\u001b[39;00m\n\u001b[0;32m     76\u001b[0m \u001b[39mif\u001b[39;00m \u001b[39mnot\u001b[39;00m OTEL_ENABLED \u001b[39mor\u001b[39;00m \u001b[39mnot\u001b[39;00m cnx\u001b[39m.\u001b[39motel_context_propagation:\n\u001b[1;32m---> 77\u001b[0m     \u001b[39mreturn\u001b[39;00m method(cnx, \u001b[39m*\u001b[39margs, \u001b[39m*\u001b[39m\u001b[39m*\u001b[39mkwargs)\n\u001b[0;32m     79\u001b[0m current_span \u001b[39m=\u001b[39m trace\u001b[39m.\u001b[39mget_current_span()\n\u001b[0;32m     80\u001b[0m tp_header \u001b[39m=\u001b[39m \u001b[39mNone\u001b[39;00m\n",
      "File \u001b[1;32mc:\\Users\\Mohammad\\AppData\\Local\\Programs\\Python\\Python310\\lib\\site-packages\\mysql\\connector\\connection_cext.py:641\u001b[0m, in \u001b[0;36mCMySQLConnection.cmd_query\u001b[1;34m(self, query, raw, buffered, raw_as_string)\u001b[0m\n\u001b[0;32m    633\u001b[0m     \u001b[39mself\u001b[39m\u001b[39m.\u001b[39m_cmysql\u001b[39m.\u001b[39mquery(\n\u001b[0;32m    634\u001b[0m         query,\n\u001b[0;32m    635\u001b[0m         raw\u001b[39m=\u001b[39mraw,\n\u001b[1;32m   (...)\u001b[0m\n\u001b[0;32m    638\u001b[0m         query_attrs\u001b[39m=\u001b[39m\u001b[39mself\u001b[39m\u001b[39m.\u001b[39mquery_attrs,\n\u001b[0;32m    639\u001b[0m     )\n\u001b[0;32m    640\u001b[0m \u001b[39mexcept\u001b[39;00m MySQLInterfaceError \u001b[39mas\u001b[39;00m err:\n\u001b[1;32m--> 641\u001b[0m     \u001b[39mraise\u001b[39;00m get_mysql_exception(\n\u001b[0;32m    642\u001b[0m         err\u001b[39m.\u001b[39merrno, msg\u001b[39m=\u001b[39merr\u001b[39m.\u001b[39mmsg, sqlstate\u001b[39m=\u001b[39merr\u001b[39m.\u001b[39msqlstate\n\u001b[0;32m    643\u001b[0m     ) \u001b[39mfrom\u001b[39;00m \u001b[39merr\u001b[39;00m\n\u001b[0;32m    644\u001b[0m \u001b[39mexcept\u001b[39;00m \u001b[39mAttributeError\u001b[39;00m \u001b[39mas\u001b[39;00m err:\n\u001b[0;32m    645\u001b[0m     addr \u001b[39m=\u001b[39m (\n\u001b[0;32m    646\u001b[0m         \u001b[39mself\u001b[39m\u001b[39m.\u001b[39m_unix_socket \u001b[39mif\u001b[39;00m \u001b[39mself\u001b[39m\u001b[39m.\u001b[39m_unix_socket \u001b[39melse\u001b[39;00m \u001b[39mf\u001b[39m\u001b[39m\"\u001b[39m\u001b[39m{\u001b[39;00m\u001b[39mself\u001b[39m\u001b[39m.\u001b[39m_host\u001b[39m}\u001b[39;00m\u001b[39m:\u001b[39m\u001b[39m{\u001b[39;00m\u001b[39mself\u001b[39m\u001b[39m.\u001b[39m_port\u001b[39m}\u001b[39;00m\u001b[39m\"\u001b[39m\n\u001b[0;32m    647\u001b[0m     )\n",
      "\u001b[1;31mProgrammingError\u001b[0m: (mysql.connector.errors.ProgrammingError) 1054 (42S22): Unknown column '78865' in 'field list'\n[SQL: INSERT INTO `group` (`78865`, `مجموعه ای از آثار درویش‌خان که توسط استاد پایور و گروه او اجرا شده است. در این مجموعه بداهه نوازی‌هایی در دستگاه‌ ماهور و آواز ابوعطا آثار ضربی درویش‌خان را مزین کرده‌اند. تک‌نوازان این مجموعه عبارتند از: فرامرز پایور (سنتور)، هوشنگ ظریف (تار)، حسن ناهید (نی)، رحمت الله بدیعی (کمانچه) و محمد اسماعیلی (تمبک).`) VALUES (%(78865)s, %(مجموعه ای_از_آثار_درویش‌خان_که_توسط_استاد_پایور_و_گروه_او_اجرا_شده_است__در_این_مجموعه_بداهه نوازی‌هایی_در_دستگاه‌_ماهور_و_آواز_ابوعطا_آثار_ضربی_درویش‌خان_را_مزین_کرده‌اند__تک‌نوازان_این_مجموعه_عبارتند_ازC_فرامرز_پایور_AسنتورZ،_هوشنگ_ظریف_AتارZ،_حسن_ناهید_AنیZ،_رحمت الله_بدیعی_AکمانچهZ_و_محمد_اسماعیلی_AتمبکZ_)s)]\n[parameters: [{'78865': 87182, 'مجموعه\\u200aای_از_آثار_درویش\\u200cخان_که_توسط_استاد_پایور_و_گروه_او_اجرا_شده_است__در_این_مجموعه_بداهه\\u200aنوازی\\u200cهایی_در_دستگاه\\u200c_ماهور_و_آواز_ابوعطا_آثار_ضربی_درویش\\u200cخان_را_مزین_کرده\\u200cاند__تک\\u200cنوازان_این_مجموعه_عبارتند_ازC_فرامرز_پایور_AسنتورZ،_هوشنگ_ظریف_AتارZ،_حسن_ناهید_AنیZ،_رحمت\\u200aالله_بدیعی_AکمانچهZ_و_محمد_اسماعیلی_AتمبکZ_': 'کسانی که قصد معلمی در هر سطحی دارند و برای چنین هدفی آموزش می بینند، برای بهبود و افزایش اثربخشی خود به شدت نیازمند وسعت و عمق بخشیدن به معلومات خویش ... (446 characters truncated) ... مذکور از متداول\\u200cترین روش\\u200cهای تدریس به شمار می\\u200cآید که به\\u200cواسطه نقاط قوت خود در سراسر جهان و خصوصا کشورمان ایران بسیار کاربرد دارد.'}, {'78865': 53759, 'مجموعه\\u200aای_از_آثار_درویش\\u200cخان_که_توسط_استاد_پایور_و_گروه_او_اجرا_شده_است__در_این_مجموعه_بداهه\\u200aنوازی\\u200cهایی_در_دستگاه\\u200c_ماهور_و_آواز_ابوعطا_آثار_ضربی_درویش\\u200cخان_را_مزین_کرده\\u200cاند__تک\\u200cنوازان_این_مجموعه_عبارتند_ازC_فرامرز_پایور_AسنتورZ،_هوشنگ_ظریف_AتارZ،_حسن_ناهید_AنیZ،_رحمت\\u200aالله_بدیعی_AکمانچهZ_و_محمد_اسماعیلی_AتمبکZ_': 'هیچ در هیچ از آثار ارکسترال هوشنگ کامکار است که همراه با لوح فشرده صوتی توسط انتشارات مشاهیر هنر منتشر گردیده است. کتاب هیچ در هیچ دارای لوح فشرده صو ... (368 characters truncated) ... مشاهیر هنر در راستای حمایت از آثار فاخر و ماندگار، این مجموعه کامل را به عنوان مرجع مناسب و کاملی برای آهنگسازان و هنرجویان آهنگسازی منتشر نموده است.'}, {'78865': 49496, 'مجموعه\\u200aای_از_آثار_درویش\\u200cخان_که_توسط_استاد_پایور_و_گروه_او_اجرا_شده_است__در_این_مجموعه_بداهه\\u200aنوازی\\u200cهایی_در_دستگاه\\u200c_ماهور_و_آواز_ابوعطا_آثار_ضربی_درویش\\u200cخان_را_مزین_کرده\\u200cاند__تک\\u200cنوازان_این_مجموعه_عبارتند_ازC_فرامرز_پایور_AسنتورZ،_هوشنگ_ظریف_AتارZ،_حسن_ناهید_AنیZ،_رحمت\\u200aالله_بدیعی_AکمانچهZ_و_محمد_اسماعیلی_AتمبکZ_': 'فیلیپ ایمبرونیو در طول سی سال تحقیق خود در مورد بشقاب پرنده ها، از جمله تحقیقات میدانی، شواهد عکاسی، و مطالعات موردی دقیق گردآوری شده، بینش جدید و شگ ... (592 characters truncated) ... مدرن را بررسی کرد و اطلاعاتی را که قبلا منتشر نشده بود، از جمله شواهد عکاسی مبنی بر اینکه چیزی بسیار غیرعادی در حال وقوع است به اشتراک می\\u200cگذارد.'}, {'78865': 84273, 'مجموعه\\u200aای_از_آثار_درویش\\u200cخان_که_توسط_استاد_پایور_و_گروه_او_اجرا_شده_است__در_این_مجموعه_بداهه\\u200aنوازی\\u200cهایی_در_دستگاه\\u200c_ماهور_و_آواز_ابوعطا_آثار_ضربی_درویش\\u200cخان_را_مزین_کرده\\u200cاند__تک\\u200cنوازان_این_مجموعه_عبارتند_ازC_فرامرز_پایور_AسنتورZ،_هوشنگ_ظریف_AتارZ،_حسن_ناهید_AنیZ،_رحمت\\u200aالله_بدیعی_AکمانچهZ_و_محمد_اسماعیلی_AتمبکZ_': None}, {'78865': 70101, 'مجموعه\\u200aای_از_آثار_درویش\\u200cخان_که_توسط_استاد_پایور_و_گروه_او_اجرا_شده_است__در_این_مجموعه_بداهه\\u200aنوازی\\u200cهایی_در_دستگاه\\u200c_ماهور_و_آواز_ابوعطا_آثار_ضربی_درویش\\u200cخان_را_مزین_کرده\\u200cاند__تک\\u200cنوازان_این_مجموعه_عبارتند_ازC_فرامرز_پایور_AسنتورZ،_هوشنگ_ظریف_AتارZ،_حسن_ناهید_AنیZ،_رحمت\\u200aالله_بدیعی_AکمانچهZ_و_محمد_اسماعیلی_AتمبکZ_': 'کتاب صوتی «هی یو» خاطرات سعید ابوطالب، سینماگر و نماینده اسبق مجلس از دوران اسارتش در عراق به دست نیروهای آمریکایی است. این کتاب با موضوع وقایع\\u200c ... (80 characters truncated) ... چهار ماه را در آن زندانی بوده است. این کتاب به نوعی خاطرات ابوطالب از حضور و اسارت چهارماهه\\u200cاش توسط نیروهای ائتلاف در عراق هم محسوب می\\u200cشود.'}, {'78865': 18256, 'مجموعه\\u200aای_از_آثار_درویش\\u200cخان_که_توسط_استاد_پایور_و_گروه_او_اجرا_شده_است__در_این_مجموعه_بداهه\\u200aنوازی\\u200cهایی_در_دستگاه\\u200c_ماهور_و_آواز_ابوعطا_آثار_ضربی_درویش\\u200cخان_را_مزین_کرده\\u200cاند__تک\\u200cنوازان_این_مجموعه_عبارتند_ازC_فرامرز_پایور_AسنتورZ،_هوشنگ_ظریف_AتارZ،_حسن_ناهید_AنیZ،_رحمت\\u200aالله_بدیعی_AکمانچهZ_و_محمد_اسماعیلی_AتمبکZ_': 'معبد سپیده دم سومین رمان در کتاب چهارگانه دریای حاصلخیزی است که توسط نویسنده ژاپنی یوکیو می شیما نوشته شده است. برای همین ، مانند دیگر رمان های این م ... (1057 characters truncated) ... له برای او ترتیب داده میشود ،دختری که ادعا می کند تناسخ یک پسر ژاپنی است و همین باعث خجالت نزدیکانش شده تا حدی که او را در کاخ روزت حبس می کنند و ...'}, {'78865': 36647, 'مجموعه\\u200aای_از_آثار_درویش\\u200cخان_که_توسط_استاد_پایور_و_گروه_او_اجرا_شده_است__در_این_مجموعه_بداهه\\u200aنوازی\\u200cهایی_در_دستگاه\\u200c_ماهور_و_آواز_ابوعطا_آثار_ضربی_درویش\\u200cخان_را_مزین_کرده\\u200cاند__تک\\u200cنوازان_این_مجموعه_عبارتند_ازC_فرامرز_پایور_AسنتورZ،_هوشنگ_ظریف_AتارZ،_حسن_ناهید_AنیZ،_رحمت\\u200aالله_بدیعی_AکمانچهZ_و_محمد_اسماعیلی_AتمبکZ_': 'این کتاب داستان زندگی یکی از محبوب ترین هنرپیشه های جهان، جکی چان، را در خود جای داده که از زندگی ساده ای برخوردار نبوده، اما با عبور از موانع و مشکلات زندگی اش با رویکردی سلامت و متواضعانه توانسته از فقر و دشواری ها بگریزد و خود را به بهترین و دوست داشتنی ترین شکل ممکن به جهان معرفی کند.'}, {'78865': 20643, 'مجموعه\\u200aای_از_آثار_درویش\\u200cخان_که_توسط_استاد_پایور_و_گروه_او_اجرا_شده_است__در_این_مجموعه_بداهه\\u200aنوازی\\u200cهایی_در_دستگاه\\u200c_ماهور_و_آواز_ابوعطا_آثار_ضربی_درویش\\u200cخان_را_مزین_کرده\\u200cاند__تک\\u200cنوازان_این_مجموعه_عبارتند_ازC_فرامرز_پایور_AسنتورZ،_هوشنگ_ظریف_AتارZ،_حسن_ناهید_AنیZ،_رحمت\\u200aالله_بدیعی_AکمانچهZ_و_محمد_اسماعیلی_AتمبکZ_': 'کتاب «بازمانده» رمانی نوشته ی «اندرو پایپر» است که اولین بار در سال 2017 به چاپ رسید. دکتر «لیلی دومینیک» که در یک کلینیک روانپزشکی در نیویورک کار می ... (458 characters truncated) ...  است. بیمار اما پس از مدتی برای «لیلی» آشکار می کند که مرتکب این جرم شده تا بتواند با او ملاقات کند، و این که واقعیت را درباره ی مادر «لیلی» می داند.'}  ... displaying 10 of 17770 total bound parameter sets ...  {'78865': 6052, 'مجموعه\\u200aای_از_آثار_درویش\\u200cخان_که_توسط_استاد_پایور_و_گروه_او_اجرا_شده_است__در_این_مجموعه_بداهه\\u200aنوازی\\u200cهایی_در_دستگاه\\u200c_ماهور_و_آواز_ابوعطا_آثار_ضربی_درویش\\u200cخان_را_مزین_کرده\\u200cاند__تک\\u200cنوازان_این_مجموعه_عبارتند_ازC_فرامرز_پایور_AسنتورZ،_هوشنگ_ظریف_AتارZ،_حسن_ناهید_AنیZ،_رحمت\\u200aالله_بدیعی_AکمانچهZ_و_محمد_اسماعیلی_AتمبکZ_': 'داستان این رمان درباره عشقی است که برای رسیدن به نتیجه ناچار از پیمودن مراحل مختلف تعریف شده در سنت مردمان جنوب ایران است.در این رمان ماجرای علاقه دو ... (329 characters truncated) ... ، نامه ای رازآلود به او می رسد که در آن گفته شده در صورت تمایل می تواند این مبارزه را تکرار کند و اگر برنده آن شود، صاحب همه چیز فرد برنده خواهد بود.'}, {'78865': 87076, 'مجموعه\\u200aای_از_آثار_درویش\\u200cخان_که_توسط_استاد_پایور_و_گروه_او_اجرا_شده_است__در_این_مجموعه_بداهه\\u200aنوازی\\u200cهایی_در_دستگاه\\u200c_ماهور_و_آواز_ابوعطا_آثار_ضربی_درویش\\u200cخان_را_مزین_کرده\\u200cاند__تک\\u200cنوازان_این_مجموعه_عبارتند_ازC_فرامرز_پایور_AسنتورZ،_هوشنگ_ظریف_AتارZ،_حسن_ناهید_AنیZ،_رحمت\\u200aالله_بدیعی_AکمانچهZ_و_محمد_اسماعیلی_AتمبکZ_': None}]]\n(Background on this error at: https://sqlalche.me/e/20/f405)"
     ]
    }
   ],
   "source": [
    "df_group = pd.read_csv('modified/modified_group1.csv')\n",
    "# df_group.dropna(subset=[\"group_id\"],inplace=True)\n",
    "# df_group.drop_duplicates(subset=[\"group_id\"],inplace=True)\n",
    "# df_group.rename(columns={'group_id': 'id'}, inplace=True)\n",
    "# df_group['id'] = df_group['id'].astype(int)\n",
    "# df_group.to_csv('modified/modified_group.csv', index=False)\n",
    "df_group.to_sql('group', engine, if_exists='append', index=False)"
   ]
  },
  {
   "cell_type": "markdown",
   "metadata": {},
   "source": [
    "# group book"
   ]
  },
  {
   "cell_type": "code",
   "execution_count": 34,
   "metadata": {},
   "outputs": [
    {
     "name": "stdout",
     "output_type": "stream",
     "text": [
      "2023-10-01 22:56:39,251 INFO sqlalchemy.engine.Engine BEGIN (implicit)\n",
      "2023-10-01 22:56:39,253 INFO sqlalchemy.engine.Engine select id from `group`\n",
      "2023-10-01 22:56:39,253 INFO sqlalchemy.engine.Engine [cached since 81.53s ago] {}\n",
      "2023-10-01 22:56:40,099 INFO sqlalchemy.engine.Engine BEGIN (implicit)\n",
      "2023-10-01 22:56:40,101 INFO sqlalchemy.engine.Engine DESCRIBE `book_store1`.`group_book`\n",
      "2023-10-01 22:56:40,102 INFO sqlalchemy.engine.Engine [raw sql] {}\n",
      "2023-10-01 22:56:40,106 INFO sqlalchemy.engine.Engine ROLLBACK\n",
      "2023-10-01 22:56:40,114 INFO sqlalchemy.engine.Engine BEGIN (implicit)\n",
      "2023-10-01 22:56:40,341 INFO sqlalchemy.engine.Engine INSERT INTO group_book (group_id, book_code) VALUES (%(group_id)s, %(book_code)s)\n",
      "2023-10-01 22:56:40,342 INFO sqlalchemy.engine.Engine [generated in 0.16846s] [{'group_id': 117490, 'book_code': 117490}, {'group_id': 85615, 'book_code': 85615}, {'group_id': 116495, 'book_code': 116495}, {'group_id': 60758, 'book_code': 60758}, {'group_id': 116922, 'book_code': 116922}, {'group_id': 31645, 'book_code': 31645}, {'group_id': 47059, 'book_code': 47059}, {'group_id': 96425, 'book_code': 96425}  ... displaying 10 of 70231 total bound parameter sets ...  {'group_id': 115547, 'book_code': 115547}, {'group_id': 96551, 'book_code': 96551}]\n",
      "2023-10-01 22:56:45,504 INFO sqlalchemy.engine.Engine COMMIT\n"
     ]
    },
    {
     "data": {
      "text/plain": [
       "70231"
      ]
     },
     "execution_count": 34,
     "metadata": {},
     "output_type": "execute_result"
    }
   ],
   "source": [
    "from sqlalchemy import create_engine, text\n",
    "df_group_book = pd.read_csv('full_data/group_book.csv')\n",
    "df_group_book.dropna(subset=[\"group_id\"],inplace=True)\n",
    "df_group_book.dropna(subset=[\"book_code\"],inplace=True)\n",
    "df_group_book['book_code'] = df_group_book['book_code'].astype(int)\n",
    "query = \"select id from `group`\"\n",
    "existing_group_ids = pd.DataFrame(engine.connect().execute(text(query)))['id'].tolist()\n",
    "valid_mask = df_group_book['group_id'].isin(existing_group_ids)\n",
    "df_valid_group = df_group_book[valid_mask]\n",
    "df_valid_group.to_csv('modified/modified_group_book.csv', index=False)\n",
    "df_valid_group.to_sql('group_book', engine, if_exists='append', index=False)"
   ]
  },
  {
   "cell_type": "markdown",
   "metadata": {},
   "source": [
    "# person"
   ]
  },
  {
   "cell_type": "code",
   "execution_count": 35,
   "metadata": {},
   "outputs": [
    {
     "name": "stdout",
     "output_type": "stream",
     "text": [
      "2023-10-01 22:57:23,466 INFO sqlalchemy.engine.Engine BEGIN (implicit)\n",
      "2023-10-01 22:57:23,468 INFO sqlalchemy.engine.Engine DESCRIBE `book_store1`.`person`\n",
      "2023-10-01 22:57:23,469 INFO sqlalchemy.engine.Engine [raw sql] {}\n",
      "2023-10-01 22:57:23,478 INFO sqlalchemy.engine.Engine ROLLBACK\n",
      "2023-10-01 22:57:23,481 INFO sqlalchemy.engine.Engine BEGIN (implicit)\n",
      "2023-10-01 22:57:23,483 INFO sqlalchemy.engine.Engine \n",
      "CREATE TABLE person (\n",
      "\tid FLOAT(53), \n",
      "\tname TEXT, \n",
      "\tdescription TEXT\n",
      ")\n",
      "\n",
      "\n",
      "2023-10-01 22:57:23,484 INFO sqlalchemy.engine.Engine [no key 0.00132s] {}\n",
      "2023-10-01 22:57:23,582 INFO sqlalchemy.engine.Engine COMMIT\n",
      "2023-10-01 22:57:23,615 INFO sqlalchemy.engine.Engine BEGIN (implicit)\n",
      "2023-10-01 22:57:24,288 INFO sqlalchemy.engine.Engine INSERT INTO person (id, name, description) VALUES (%(id)s, %(name)s, %(description)s)\n",
      "2023-10-01 22:57:24,291 INFO sqlalchemy.engine.Engine [generated in 0.59568s] [{'id': 16555.0, 'name': 'سعید عقیقی', 'description': 'سعید عقیقی (متولد ۹ آبان ۱۳۴۹ - کرمانشاه) فیلم\\u200cنامه\\u200cنویس، مدرس، منتقد و کارگردان سینما.عقیقی نویسنده سه فیلمنامه هفت پرده و شب\\u200cهای روشن و صداها است.'}, {'id': 46242.0, 'name': 'لوئیزا باک', 'description': 'لوئیزا باک منتقد هنری انگلیسی و خبرنگار هنر معاصر روزنامه هنر است.'}, {'id': 68069.0, 'name': 'رونالد دسوزا', 'description': 'رونالد بون دسوزا پرنس (/də ˈsuːzə/ də SOO-zə؛ زادهٔ ۱۹۴۰) فیلسوف و دانشگاهی کانادایی متولد سوئیس است. او استاد ممتاز دپارتمان فلسفه دانشگاه تورنتو اس ... (249 characters truncated) ... هایش در فلسفه عواطف شناخته شده است، و همچنین در فلسفه ذهن و فلسفه زیست شناسی مشارکت داشته است. او در سال 2005 به عضویت انجمن سلطنتی کانادا انتخاب شد.'}, {'id': 4244.0, 'name': 'مجتبی پردل', 'description': None}, {'id': 29954.0, 'name': 'آرتور امیدآذری', 'description': 'آرتور امید آذری متولد سال 1356؛ از ابتدا علاقه وافری به هنر و طبیعت داشت و به همین دلیل رشته معماری را انتخاب نموده. مدرک کارشناسی ارشد خود را از دان ... (153 characters truncated) ... ر امید آذری با خلاقیت و توانمندی کم نظیر و با عشق و علاقه\\u200cای پرشور از همان دوران دانشجویی آموزش معماری را درکنار اساتید بنام این رشته آغاز نمود.'}, {'id': 11950.0, 'name': 'محمد پروین', 'description': 'محمد پروین متولد سال 1367 شاعر ایرانی می باشد.'}, {'id': 18374.0, 'name': 'محمدرضا ضرغام', 'description': 'محمدرضا ضرغام متولد سال 1334 ، نویسنده و داستان نویس ایرانی می باشد.'}, {'id': 26686.0, 'name': 'نیکلاس کاپالدی', 'description': 'نیکلاس کاپالدی (Nicholas Capaldi) (متولد: 5 مه 1939) کرسی Legendre-Soulé در اخلاق تجارت در دانشگاه لویولا نیواورلئان است ، جایی که وی همچنین به عنوان ... (4 characters truncated) ... ر مرکز سرمایه معنوی خدمت می کند. وی بنیانگذار و رئیس موسسه جهانی حاکمیت شرکتی است. وی B.A و دکترای خود را\\xa0از دانشگاه پنسیلوانیا\\xa0\\xa0دریافت کرد.'}  ... displaying 10 of 42696 total bound parameter sets ...  {'id': 43397.0, 'name': 'مصطفی ثامنی', 'description': 'مصطفی ثامنی متولد سال 1353؛ شاعر معاصر می باشد.'}, {'id': 30150.0, 'name': 'مارینا کارر دانکوس', 'description': None}]\n",
      "2023-10-01 22:57:26,466 INFO sqlalchemy.engine.Engine COMMIT\n"
     ]
    },
    {
     "data": {
      "text/plain": [
       "42696"
      ]
     },
     "execution_count": 35,
     "metadata": {},
     "output_type": "execute_result"
    }
   ],
   "source": [
    "df_person = pd.read_csv('full_data/person.csv')\n",
    "df_person.dropna(subset=[\"id\"],inplace=True)\n",
    "df_person.drop_duplicates(subset=[\"id\"],inplace=True)\n",
    "if df_person[\"description\"].isnull().all():\n",
    "    df_person[\"description\"] = 'None'\n",
    "df_person.drop('counter',axis=1,inplace=True)\n",
    "df_person.to_csv('modified/modified_person.csv', index=False)\n",
    "df_person.to_sql('person', engine, if_exists='append', index=False)"
   ]
  },
  {
   "cell_type": "markdown",
   "metadata": {},
   "source": [
    "# publisher\n"
   ]
  },
  {
   "cell_type": "code",
   "execution_count": 36,
   "metadata": {},
   "outputs": [
    {
     "name": "stdout",
     "output_type": "stream",
     "text": [
      "2023-10-01 22:57:32,772 INFO sqlalchemy.engine.Engine BEGIN (implicit)\n",
      "2023-10-01 22:57:32,774 INFO sqlalchemy.engine.Engine DESCRIBE `book_store1`.`publisher`\n",
      "2023-10-01 22:57:32,775 INFO sqlalchemy.engine.Engine [raw sql] {}\n",
      "2023-10-01 22:57:32,779 INFO sqlalchemy.engine.Engine ROLLBACK\n",
      "2023-10-01 22:57:32,781 INFO sqlalchemy.engine.Engine BEGIN (implicit)\n",
      "2023-10-01 22:57:32,782 INFO sqlalchemy.engine.Engine \n",
      "CREATE TABLE publisher (\n",
      "\tid BIGINT, \n",
      "\tname TEXT\n",
      ")\n",
      "\n",
      "\n",
      "2023-10-01 22:57:32,783 INFO sqlalchemy.engine.Engine [no key 0.00103s] {}\n",
      "2023-10-01 22:57:32,840 INFO sqlalchemy.engine.Engine COMMIT\n",
      "2023-10-01 22:57:32,847 INFO sqlalchemy.engine.Engine BEGIN (implicit)\n",
      "2023-10-01 22:57:32,867 INFO sqlalchemy.engine.Engine INSERT INTO publisher (id, name) VALUES (%(id)s, %(name)s)\n",
      "2023-10-01 22:57:32,869 INFO sqlalchemy.engine.Engine [generated in 0.01610s] [{'id': 1210, 'name': 'افکار'}, {'id': 1786, 'name': 'نشر نظر'}, {'id': 1137, 'name': 'ترانه'}, {'id': 2040, 'name': 'یساولی'}, {'id': 59, 'name': 'مروارید'}, {'id': 1267, 'name': 'کتیبه پارسی'}, {'id': 1470, 'name': 'سروش'}, {'id': 3105, 'name': 'دانشگاه صنعتی امیرکبیر'}  ... displaying 10 of 2098 total bound parameter sets ...  {'id': 2318, 'name': 'کیاراد'}, {'id': 3137, 'name': 'آریا دانش'}]\n",
      "2023-10-01 22:57:32,943 INFO sqlalchemy.engine.Engine COMMIT\n"
     ]
    },
    {
     "data": {
      "text/plain": [
       "2098"
      ]
     },
     "execution_count": 36,
     "metadata": {},
     "output_type": "execute_result"
    }
   ],
   "source": [
    "df_publisher = pd.read_csv('full_data/publisher.csv')\n",
    "df_publisher.dropna(subset=[\"id\"],inplace=True)\n",
    "df_publisher.drop_duplicates(subset=[\"id\"],inplace=True)\n",
    "df_publisher.to_csv('modified/modified_publisher.csv', index=False)\n",
    "df_publisher.to_sql('publisher', engine, if_exists='append', index=False)"
   ]
  },
  {
   "cell_type": "markdown",
   "metadata": {},
   "source": [
    "# category"
   ]
  },
  {
   "cell_type": "code",
   "execution_count": 37,
   "metadata": {},
   "outputs": [
    {
     "name": "stdout",
     "output_type": "stream",
     "text": [
      "2023-10-01 22:57:39,302 INFO sqlalchemy.engine.Engine BEGIN (implicit)\n",
      "2023-10-01 22:57:39,303 INFO sqlalchemy.engine.Engine DESCRIBE `book_store1`.`category`\n",
      "2023-10-01 22:57:39,304 INFO sqlalchemy.engine.Engine [raw sql] {}\n",
      "2023-10-01 22:57:39,306 INFO sqlalchemy.engine.Engine ROLLBACK\n",
      "2023-10-01 22:57:39,309 INFO sqlalchemy.engine.Engine BEGIN (implicit)\n",
      "2023-10-01 22:57:39,311 INFO sqlalchemy.engine.Engine \n",
      "CREATE TABLE category (\n",
      "\tid BIGINT, \n",
      "\tname TEXT, \n",
      "\tdescription TEXT\n",
      ")\n",
      "\n",
      "\n",
      "2023-10-01 22:57:39,312 INFO sqlalchemy.engine.Engine [no key 0.00120s] {}\n",
      "2023-10-01 22:57:39,335 INFO sqlalchemy.engine.Engine COMMIT\n",
      "2023-10-01 22:57:39,338 INFO sqlalchemy.engine.Engine BEGIN (implicit)\n",
      "2023-10-01 22:57:39,350 INFO sqlalchemy.engine.Engine INSERT INTO category (id, name, description) VALUES (%(id)s, %(name)s, %(description)s)\n",
      "2023-10-01 22:57:39,351 INFO sqlalchemy.engine.Engine [generated in 0.00801s] [{'id': 437, 'name': 'ادبیات ایران', 'description': None}, {'id': 527, 'name': 'فیلمنامه', 'description': None}, {'id': 630, 'name': 'سینما و تئاتر', 'description': None}, {'id': 1114, 'name': 'صوتی و تصویری', 'description': None}, {'id': 1138, 'name': 'موسیقی', 'description': None}, {'id': 1164, 'name': 'موسیقی سنتی و محلی', 'description': None}, {'id': 167, 'name': 'دهه 2010 میلادی', 'description': 'دهه ای که بیش از هر وقت دیگری، پیشرفت های تکنولوژی و بالا رفتن روزافزون سرعت زندگی در آن به چشم می خورد. آثار ادبی این دهه به مسائلی چون فشارهای زندگی مدرن، گمگشتگی بشر در دنیای فناوری و بازگشت به عرفان ها و جهان بینی های گذشته برای کسب آرامش بیشتر می پردازند.'}, {'id': 335, 'name': 'تجارت و کسب و کار', 'description': 'کتاب های مربوط به حوزه ی تجارت، موضوعاتی چون چگونگی کارکرد عوامل تجاری، رویکردهای موفق کسب و کار، روش های مختلف کارآفرینی و سایر جنبه های تئوری و عملی دنیای تجارت را مورد بررسی و کنکاش قرار می دهند.'}  ... displaying 10 of 1078 total bound parameter sets ...  {'id': 1297, 'name': 'ادبیات گرجستان', 'description': None}, {'id': 882, 'name': 'جایزه ی Bacchus-BSN', 'description': None}]\n",
      "2023-10-01 22:57:39,531 INFO sqlalchemy.engine.Engine COMMIT\n"
     ]
    },
    {
     "data": {
      "text/plain": [
       "1078"
      ]
     },
     "execution_count": 37,
     "metadata": {},
     "output_type": "execute_result"
    }
   ],
   "source": [
    "df_category = pd.read_csv('full_data/category.csv')\n",
    "df_category.dropna(subset=[\"id\"],inplace=True)\n",
    "df_category.drop_duplicates(subset=[\"id\"],inplace=True)\n",
    "if df_category[\"description\"].isnull().all():\n",
    "    df_category[\"description\"] = 'None'\n",
    "df_category.to_csv('modified/modified_category.csv', index=False)\n",
    "df_category.to_sql('category', engine, if_exists='append', index=False)\n"
   ]
  },
  {
   "cell_type": "markdown",
   "metadata": {},
   "source": [
    "# group_category"
   ]
  },
  {
   "cell_type": "code",
   "execution_count": 38,
   "metadata": {},
   "outputs": [
    {
     "name": "stdout",
     "output_type": "stream",
     "text": [
      "2023-10-01 22:57:48,640 INFO sqlalchemy.engine.Engine BEGIN (implicit)\n",
      "2023-10-01 22:57:48,641 INFO sqlalchemy.engine.Engine select id from `group`\n",
      "2023-10-01 22:57:48,642 INFO sqlalchemy.engine.Engine [cached since 150.9s ago] {}\n",
      "2023-10-01 22:57:50,441 INFO sqlalchemy.engine.Engine BEGIN (implicit)\n",
      "2023-10-01 22:57:50,442 INFO sqlalchemy.engine.Engine select id from `category`\n",
      "2023-10-01 22:57:50,443 INFO sqlalchemy.engine.Engine [generated in 0.00194s] {}\n",
      "2023-10-01 22:57:50,965 INFO sqlalchemy.engine.Engine BEGIN (implicit)\n",
      "2023-10-01 22:57:50,966 INFO sqlalchemy.engine.Engine DESCRIBE `book_store1`.`group_category`\n",
      "2023-10-01 22:57:50,967 INFO sqlalchemy.engine.Engine [raw sql] {}\n",
      "2023-10-01 22:57:50,981 INFO sqlalchemy.engine.Engine ROLLBACK\n",
      "2023-10-01 22:57:50,984 INFO sqlalchemy.engine.Engine BEGIN (implicit)\n",
      "2023-10-01 22:57:50,986 INFO sqlalchemy.engine.Engine \n",
      "CREATE TABLE group_category (\n",
      "\tgroup_id BIGINT, \n",
      "\tcategory_id BIGINT\n",
      ")\n",
      "\n",
      "\n",
      "2023-10-01 22:57:50,987 INFO sqlalchemy.engine.Engine [no key 0.00215s] {}\n",
      "2023-10-01 22:57:51,031 INFO sqlalchemy.engine.Engine COMMIT\n",
      "2023-10-01 22:57:51,053 INFO sqlalchemy.engine.Engine BEGIN (implicit)\n",
      "2023-10-01 22:57:52,690 INFO sqlalchemy.engine.Engine INSERT INTO group_category (group_id, category_id) VALUES (%(group_id)s, %(category_id)s)\n",
      "2023-10-01 22:57:52,691 INFO sqlalchemy.engine.Engine [generated in 1.43325s] [{'group_id': 117490, 'category_id': 437}, {'group_id': 117490, 'category_id': 527}, {'group_id': 117490, 'category_id': 630}, {'group_id': 85615, 'category_id': 167}, {'group_id': 85615, 'category_id': 335}, {'group_id': 85615, 'category_id': 337}, {'group_id': 85615, 'category_id': 680}, {'group_id': 85615, 'category_id': 870}  ... displaying 10 of 321428 total bound parameter sets ...  {'group_id': 33048, 'category_id': 504}, {'group_id': 33048, 'category_id': 505}]\n",
      "2023-10-01 22:57:57,243 INFO sqlalchemy.engine.Engine COMMIT\n"
     ]
    },
    {
     "data": {
      "text/plain": [
       "321428"
      ]
     },
     "execution_count": 38,
     "metadata": {},
     "output_type": "execute_result"
    }
   ],
   "source": [
    "df_group_category = pd.read_csv('full_data/group_category.csv')\n",
    "df_group_category.dropna(subset=[\"group_id\"],inplace=True)\n",
    "df_group_category.dropna(subset=[\"category_id\"],inplace=True)\n",
    "query = \"select id from `group`\"\n",
    "existing_group_ids = pd.DataFrame(engine.connect().execute(text(query)))['id'].tolist()\n",
    "valid_mask = df_group_category['group_id'].isin(existing_group_ids)\n",
    "df_valid_group = df_group_category[valid_mask]\n",
    "query = \"select id from `category`\"\n",
    "existing_category_ids = pd.DataFrame(engine.connect().execute(text(query)))['id'].tolist()\n",
    "valid_mask = df_valid_group['category_id'].isin(existing_category_ids)\n",
    "df_valid_category = df_valid_group[valid_mask]\n",
    "df_valid_category.to_csv('modified/modified_group_category.csv', index=False)\n",
    "df_valid_category.to_sql('group_category', engine, if_exists='append', index=False)"
   ]
  },
  {
   "cell_type": "markdown",
   "metadata": {},
   "source": [
    "# book_publisher"
   ]
  },
  {
   "cell_type": "code",
   "execution_count": 39,
   "metadata": {},
   "outputs": [
    {
     "name": "stdout",
     "output_type": "stream",
     "text": [
      "2023-10-01 22:58:03,969 INFO sqlalchemy.engine.Engine BEGIN (implicit)\n",
      "2023-10-01 22:58:03,970 INFO sqlalchemy.engine.Engine select code from `book`\n",
      "2023-10-01 22:58:03,971 INFO sqlalchemy.engine.Engine [generated in 0.00263s] {}\n",
      "2023-10-01 22:58:04,983 INFO sqlalchemy.engine.Engine BEGIN (implicit)\n",
      "2023-10-01 22:58:04,984 INFO sqlalchemy.engine.Engine select id from `publisher`\n",
      "2023-10-01 22:58:04,986 INFO sqlalchemy.engine.Engine [generated in 0.00335s] {}\n",
      "2023-10-01 22:58:05,154 INFO sqlalchemy.engine.Engine BEGIN (implicit)\n",
      "2023-10-01 22:58:05,156 INFO sqlalchemy.engine.Engine DESCRIBE `book_store1`.`book_publisher`\n",
      "2023-10-01 22:58:05,158 INFO sqlalchemy.engine.Engine [raw sql] {}\n",
      "2023-10-01 22:58:05,191 INFO sqlalchemy.engine.Engine ROLLBACK\n",
      "2023-10-01 22:58:05,193 INFO sqlalchemy.engine.Engine BEGIN (implicit)\n",
      "2023-10-01 22:58:05,195 INFO sqlalchemy.engine.Engine \n",
      "CREATE TABLE book_publisher (\n",
      "\tpublisher_id BIGINT, \n",
      "\tbook_code INTEGER\n",
      ")\n",
      "\n",
      "\n",
      "2023-10-01 22:58:05,196 INFO sqlalchemy.engine.Engine [no key 0.00109s] {}\n",
      "2023-10-01 22:58:05,272 INFO sqlalchemy.engine.Engine COMMIT\n",
      "2023-10-01 22:58:05,279 INFO sqlalchemy.engine.Engine BEGIN (implicit)\n",
      "2023-10-01 22:58:05,912 INFO sqlalchemy.engine.Engine INSERT INTO book_publisher (publisher_id, book_code) VALUES (%(publisher_id)s, %(book_code)s)\n",
      "2023-10-01 22:58:05,913 INFO sqlalchemy.engine.Engine [generated in 0.57025s] [{'publisher_id': 1210, 'book_code': 117490}, {'publisher_id': 1786, 'book_code': 85615}, {'publisher_id': 1137, 'book_code': 116495}, {'publisher_id': 2040, 'book_code': 60758}, {'publisher_id': 59, 'book_code': 116922}, {'publisher_id': 1267, 'book_code': 31645}, {'publisher_id': 1470, 'book_code': 47059}, {'publisher_id': 3105, 'book_code': 96425}  ... displaying 10 of 86335 total bound parameter sets ...  {'publisher_id': 3137, 'book_code': 97350}, {'publisher_id': 1533, 'book_code': 87076}]\n",
      "2023-10-01 22:58:07,181 INFO sqlalchemy.engine.Engine COMMIT\n"
     ]
    },
    {
     "data": {
      "text/plain": [
       "86335"
      ]
     },
     "execution_count": 39,
     "metadata": {},
     "output_type": "execute_result"
    }
   ],
   "source": [
    "df_book_publisher = pd.read_csv('full_data/book_publisher.csv')\n",
    "df_book_publisher.dropna(subset=[\"publisher_id\"],inplace=True)\n",
    "df_book_publisher.dropna(subset=[\"book_code\"],inplace=True)\n",
    "df_book_publisher['book_code'] = df_book_publisher['book_code'].astype(int)\n",
    "query = \"select code from `book`\"\n",
    "existing_book_ids = pd.DataFrame(engine.connect().execute(text(query)))['code'].tolist()\n",
    "valid_mask = df_book_publisher['book_code'].isin(existing_book_ids)\n",
    "df_valid_book = df_book_publisher[valid_mask]\n",
    "query = \"select id from `publisher`\"\n",
    "existing_publisher_ids = pd.DataFrame(engine.connect().execute(text(query)))['id'].tolist()\n",
    "valid_mask = df_valid_book['publisher_id'].isin(existing_publisher_ids)\n",
    "df_valid_publisher = df_valid_book[valid_mask]\n",
    "df_valid_publisher.to_csv('modified/modified_book_publisher.csv', index=False)\n",
    "df_valid_publisher.to_sql('book_publisher', engine, if_exists='append', index=False)"
   ]
  },
  {
   "cell_type": "markdown",
   "metadata": {},
   "source": [
    "# crew"
   ]
  },
  {
   "cell_type": "code",
   "execution_count": 40,
   "metadata": {},
   "outputs": [
    {
     "name": "stdout",
     "output_type": "stream",
     "text": [
      "2023-10-01 22:58:13,248 INFO sqlalchemy.engine.Engine BEGIN (implicit)\n",
      "2023-10-01 22:58:13,249 INFO sqlalchemy.engine.Engine select code from `book`\n",
      "2023-10-01 22:58:13,250 INFO sqlalchemy.engine.Engine [cached since 9.282s ago] {}\n",
      "2023-10-01 22:58:13,555 INFO sqlalchemy.engine.Engine BEGIN (implicit)\n",
      "2023-10-01 22:58:13,557 INFO sqlalchemy.engine.Engine select id from `person`\n",
      "2023-10-01 22:58:13,559 INFO sqlalchemy.engine.Engine [generated in 0.00502s] {}\n",
      "2023-10-01 22:58:14,016 INFO sqlalchemy.engine.Engine BEGIN (implicit)\n",
      "2023-10-01 22:58:14,016 INFO sqlalchemy.engine.Engine DESCRIBE `book_store1`.`crew`\n",
      "2023-10-01 22:58:14,017 INFO sqlalchemy.engine.Engine [raw sql] {}\n",
      "2023-10-01 22:58:14,022 INFO sqlalchemy.engine.Engine ROLLBACK\n",
      "2023-10-01 22:58:14,025 INFO sqlalchemy.engine.Engine BEGIN (implicit)\n",
      "2023-10-01 22:58:14,027 INFO sqlalchemy.engine.Engine \n",
      "CREATE TABLE crew (\n",
      "\tbook_code BIGINT, \n",
      "\tperson_counter BIGINT, \n",
      "\t`role` TEXT\n",
      ")\n",
      "\n",
      "\n",
      "2023-10-01 22:58:14,028 INFO sqlalchemy.engine.Engine [no key 0.00119s] {}\n",
      "2023-10-01 22:58:14,062 INFO sqlalchemy.engine.Engine COMMIT\n",
      "2023-10-01 22:58:14,079 INFO sqlalchemy.engine.Engine BEGIN (implicit)\n",
      "2023-10-01 22:58:14,708 INFO sqlalchemy.engine.Engine INSERT INTO crew (book_code, person_counter, `role`) VALUES (%(book_code)s, %(person_counter)s, %(role)s)\n",
      "2023-10-01 22:58:14,709 INFO sqlalchemy.engine.Engine [generated in 0.54988s] [{'book_code': 31645, 'person_counter': 10, 'role': 'writer'}, {'book_code': 47059, 'person_counter': 11, 'role': 'writer'}, {'book_code': 47059, 'person_counter': 12, 'role': 'translator'}, {'book_code': 96425, 'person_counter': 13, 'role': 'writer'}, {'book_code': 113102, 'person_counter': 15, 'role': 'writer'}, {'book_code': 113102, 'person_counter': 16, 'role': 'translator'}, {'book_code': 81549, 'person_counter': 18, 'role': 'writer'}, {'book_code': 426, 'person_counter': 19, 'role': 'writer'}  ... displaying 10 of 96150 total bound parameter sets ...  {'book_code': 53892, 'person_counter': 4201, 'role': 'translator'}, {'book_code': 97350, 'person_counter': 50850, 'role': 'writer'}]\n",
      "2023-10-01 22:58:16,345 INFO sqlalchemy.engine.Engine COMMIT\n"
     ]
    },
    {
     "data": {
      "text/plain": [
       "96150"
      ]
     },
     "execution_count": 40,
     "metadata": {},
     "output_type": "execute_result"
    }
   ],
   "source": [
    "df_crew = pd.read_csv('full_data/crew.csv')\n",
    "df_crew.dropna(subset=[\"book_code\"],inplace=True)\n",
    "df_crew.dropna(subset=[\"person_counter\"],inplace=True)\n",
    "df_crew.dropna(subset=[\"role\"],inplace=True)\n",
    "query = \"select code from `book`\"\n",
    "existing_book_ids = pd.DataFrame(engine.connect().execute(text(query)))['code'].tolist()\n",
    "valid_mask = df_crew['book_code'].isin(existing_book_ids)\n",
    "df_valid_book = df_crew[valid_mask]\n",
    "query = \"select id from `person`\"\n",
    "existing_person_ids = pd.DataFrame(engine.connect().execute(text(query)))['id'].tolist()\n",
    "valid_mask = df_valid_book['person_counter'].isin(existing_person_ids)\n",
    "df_valid_person = df_valid_book[valid_mask]\n",
    "df_valid_person.to_csv('modified/modified_crew.csv', index=False)\n",
    "df_valid_person.to_sql('crew', engine, if_exists='append', index=False)"
   ]
  }
 ],
 "metadata": {
  "kernelspec": {
   "display_name": "Python 3.10.6 64-bit",
   "language": "python",
   "name": "python3"
  },
  "language_info": {
   "codemirror_mode": {
    "name": "ipython",
    "version": 3
   },
   "file_extension": ".py",
   "mimetype": "text/x-python",
   "name": "python",
   "nbconvert_exporter": "python",
   "pygments_lexer": "ipython3",
   "version": "3.10.6"
  },
  "orig_nbformat": 4,
  "vscode": {
   "interpreter": {
    "hash": "73c10509234451b7c9059ae5f54ad33529ef7b4c9c761939e46712064d00bc14"
   }
  }
 },
 "nbformat": 4,
 "nbformat_minor": 2
}
