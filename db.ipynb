{
 "cells": [
  {
   "cell_type": "markdown",
   "metadata": {},
   "source": [
    "# connect\n"
   ]
  },
  {
   "cell_type": "code",
   "execution_count": 21,
   "metadata": {},
   "outputs": [
    {
     "name": "stdout",
     "output_type": "stream",
     "text": [
      "2023-09-26 23:29:33,463 INFO sqlalchemy.engine.Engine SELECT DATABASE()\n",
      "2023-09-26 23:29:33,465 INFO sqlalchemy.engine.Engine [raw sql] {}\n",
      "2023-09-26 23:29:33,470 INFO sqlalchemy.engine.Engine SELECT @@sql_mode\n",
      "2023-09-26 23:29:33,472 INFO sqlalchemy.engine.Engine [raw sql] {}\n",
      "2023-09-26 23:29:33,477 INFO sqlalchemy.engine.Engine SELECT @@lower_case_table_names\n",
      "2023-09-26 23:29:33,479 INFO sqlalchemy.engine.Engine [raw sql] {}\n"
     ]
    }
   ],
   "source": [
    "import pandas as pd\n",
    "import mysql.connector\n",
    "from sqlalchemy import create_engine, MetaData, URL, Identity\n",
    "from sqlalchemy import Table, Column, Integer, String, BOOLEAN, DATE, ForeignKey\n",
    "\n",
    "\n",
    "#Creating Database,Connection\n",
    "meta = MetaData()\n",
    "USERNAME = 'root'\n",
    "PASSWORD = '13771377Mnn@'\n",
    "SERVER = 'localhost'\n",
    "PORT = 3306\n",
    "DATABASE = 'book_store'\n",
    "\n",
    "url_object = URL.create(\"mysql+mysqlconnector\",\n",
    "                        username=USERNAME,\n",
    "                        password=PASSWORD,\n",
    "                        host=SERVER,\n",
    "                        database=DATABASE)\n",
    "engine = create_engine(url_object,echo = True)\n",
    "conn = engine.connect()"
   ]
  },
  {
   "cell_type": "markdown",
   "metadata": {},
   "source": [
    "# create model database"
   ]
  },
  {
   "cell_type": "code",
   "execution_count": 22,
   "metadata": {},
   "outputs": [
    {
     "name": "stdout",
     "output_type": "stream",
     "text": [
      "2023-09-26 23:29:33,577 INFO sqlalchemy.engine.Engine BEGIN (implicit)\n",
      "2023-09-26 23:29:33,579 INFO sqlalchemy.engine.Engine DESCRIBE `book_store`.`book`\n",
      "2023-09-26 23:29:33,580 INFO sqlalchemy.engine.Engine [raw sql] {}\n",
      "2023-09-26 23:29:33,589 INFO sqlalchemy.engine.Engine \n",
      "CREATE TABLE book (\n",
      "\tcode INTEGER NOT NULL AUTO_INCREMENT, \n",
      "\ttitle_persian VARCHAR(50), \n",
      "\ttitle_english VARCHAR(50), \n",
      "\tprice INTEGER, \n",
      "\tdiscount INTEGER, \n",
      "\tgrade INTEGER, \n",
      "\tshabak VARCHAR(30), \n",
      "\tpage_count INTEGER, \n",
      "\trelease_year_sh INTEGER, \n",
      "\trelease_year_mi INTEGER, \n",
      "\texist BOOL, \n",
      "\tearliest_access DATE, \n",
      "\tprint_series INTEGER, \n",
      "\tcover VARCHAR(50), \n",
      "\tghate VARCHAR(50), \n",
      "\tPRIMARY KEY (code)\n",
      ")\n",
      "\n",
      "\n",
      "2023-09-26 23:29:33,590 INFO sqlalchemy.engine.Engine [no key 0.00112s] {}\n",
      "2023-09-26 23:29:33,657 INFO sqlalchemy.engine.Engine COMMIT\n"
     ]
    }
   ],
   "source": [
    "#Creating Tables\n",
    "#book\n",
    "book = Table(\n",
    "    'book', meta,\n",
    "    Column('code', Integer, primary_key=True),\n",
    "    Column('title_persian', String(50)),\n",
    "    Column('title_english', String(50)),\n",
    "    Column('price', Integer),\n",
    "    Column('discount', Integer),\n",
    "    Column('grade', Integer),\n",
    "    Column('shabak', String(30)),\n",
    "    Column('page_count', Integer),\n",
    "    Column('release_year_sh', Integer),\n",
    "    Column('release_year_mi', Integer),\n",
    "    Column('exist', BOOLEAN),\n",
    "    Column('earliest_access', DATE),\n",
    "    Column('print_series', Integer),\n",
    "    Column('cover', String(50)),\n",
    "    Column('ghate', String(50))\n",
    ")\n",
    "meta.create_all(engine)"
   ]
  },
  {
   "cell_type": "code",
   "execution_count": 23,
   "metadata": {},
   "outputs": [
    {
     "name": "stdout",
     "output_type": "stream",
     "text": [
      "2023-09-26 23:29:33,702 INFO sqlalchemy.engine.Engine BEGIN (implicit)\n",
      "2023-09-26 23:29:33,703 INFO sqlalchemy.engine.Engine DESCRIBE `book_store`.`book`\n",
      "2023-09-26 23:29:33,705 INFO sqlalchemy.engine.Engine [raw sql] {}\n",
      "2023-09-26 23:29:33,709 INFO sqlalchemy.engine.Engine DESCRIBE `book_store`.`group`\n",
      "2023-09-26 23:29:33,710 INFO sqlalchemy.engine.Engine [raw sql] {}\n",
      "2023-09-26 23:29:33,713 INFO sqlalchemy.engine.Engine \n",
      "CREATE TABLE `group` (\n",
      "\tid INTEGER NOT NULL AUTO_INCREMENT, \n",
      "\tdescription VARCHAR(500), \n",
      "\tPRIMARY KEY (id)\n",
      ")\n",
      "\n",
      "\n",
      "2023-09-26 23:29:33,715 INFO sqlalchemy.engine.Engine [no key 0.00221s] {}\n",
      "2023-09-26 23:29:33,746 INFO sqlalchemy.engine.Engine COMMIT\n"
     ]
    }
   ],
   "source": [
    "#group\n",
    "group = Table(\n",
    "    'group', meta,\n",
    "    Column('id', Integer, primary_key=True),\n",
    "    Column('description', String(500))\n",
    ")\n",
    "meta.create_all(engine)"
   ]
  },
  {
   "cell_type": "code",
   "execution_count": 24,
   "metadata": {},
   "outputs": [
    {
     "name": "stdout",
     "output_type": "stream",
     "text": [
      "2023-09-26 23:29:33,863 INFO sqlalchemy.engine.Engine BEGIN (implicit)\n",
      "2023-09-26 23:29:33,869 INFO sqlalchemy.engine.Engine DESCRIBE `book_store`.`book`\n",
      "2023-09-26 23:29:33,872 INFO sqlalchemy.engine.Engine [raw sql] {}\n",
      "2023-09-26 23:29:33,885 INFO sqlalchemy.engine.Engine DESCRIBE `book_store`.`group`\n",
      "2023-09-26 23:29:33,892 INFO sqlalchemy.engine.Engine [raw sql] {}\n",
      "2023-09-26 23:29:33,901 INFO sqlalchemy.engine.Engine DESCRIBE `book_store`.`group_book`\n",
      "2023-09-26 23:29:33,904 INFO sqlalchemy.engine.Engine [raw sql] {}\n",
      "2023-09-26 23:29:33,908 INFO sqlalchemy.engine.Engine \n",
      "CREATE TABLE group_book (\n",
      "\tid INTEGER NOT NULL AUTO_INCREMENT, \n",
      "\tgroup_id INTEGER, \n",
      "\tPRIMARY KEY (id), \n",
      "\tFOREIGN KEY(group_id) REFERENCES `group` (id)\n",
      ")\n",
      "\n",
      "\n",
      "2023-09-26 23:29:33,909 INFO sqlalchemy.engine.Engine [no key 0.00107s] {}\n",
      "2023-09-26 23:29:33,969 INFO sqlalchemy.engine.Engine COMMIT\n"
     ]
    }
   ],
   "source": [
    "#group_book\n",
    "group_book = Table(\n",
    "    'group_book', meta,\n",
    "    Column('id', Integer, primary_key=True, autoincrement=True),\n",
    "    Column('group_id', Integer, ForeignKey('group.id'))\n",
    ")\n",
    "meta.create_all(engine)"
   ]
  },
  {
   "cell_type": "code",
   "execution_count": 26,
   "metadata": {},
   "outputs": [
    {
     "name": "stdout",
     "output_type": "stream",
     "text": [
      "2023-09-26 23:33:05,378 INFO sqlalchemy.engine.Engine BEGIN (implicit)\n",
      "2023-09-26 23:33:05,381 INFO sqlalchemy.engine.Engine DESCRIBE `book_store`.`book`\n",
      "2023-09-26 23:33:05,384 INFO sqlalchemy.engine.Engine [raw sql] {}\n",
      "2023-09-26 23:33:05,393 INFO sqlalchemy.engine.Engine DESCRIBE `book_store`.`group`\n",
      "2023-09-26 23:33:05,394 INFO sqlalchemy.engine.Engine [raw sql] {}\n",
      "2023-09-26 23:33:05,397 INFO sqlalchemy.engine.Engine DESCRIBE `book_store`.`group_book`\n",
      "2023-09-26 23:33:05,398 INFO sqlalchemy.engine.Engine [raw sql] {}\n",
      "2023-09-26 23:33:05,402 INFO sqlalchemy.engine.Engine DESCRIBE `book_store`.`person`\n",
      "2023-09-26 23:33:05,403 INFO sqlalchemy.engine.Engine [raw sql] {}\n",
      "2023-09-26 23:33:05,406 INFO sqlalchemy.engine.Engine \n",
      "CREATE TABLE person (\n",
      "\tcounter INTEGER NOT NULL AUTO_INCREMENT, \n",
      "\tid INTEGER, \n",
      "\tname VARCHAR(50), \n",
      "\tdescription VARCHAR(500), \n",
      "\tPRIMARY KEY (counter)\n",
      ")\n",
      "\n",
      "\n",
      "2023-09-26 23:33:05,407 INFO sqlalchemy.engine.Engine [no key 0.00125s] {}\n",
      "2023-09-26 23:33:05,425 INFO sqlalchemy.engine.Engine COMMIT\n"
     ]
    }
   ],
   "source": [
    "#person\n",
    "person = Table(\n",
    "    'person', meta,\n",
    "    Column('counter', Integer, primary_key=True,autoincrement=True),\n",
    "    Column('id', Integer),\n",
    "    Column('name', String(50)),\n",
    "    Column('description', String(500))\n",
    ")\n",
    "meta.create_all(engine)"
   ]
  },
  {
   "cell_type": "code",
   "execution_count": 27,
   "metadata": {},
   "outputs": [
    {
     "name": "stdout",
     "output_type": "stream",
     "text": [
      "2023-09-26 23:33:07,547 INFO sqlalchemy.engine.Engine BEGIN (implicit)\n",
      "2023-09-26 23:33:07,549 INFO sqlalchemy.engine.Engine DESCRIBE `book_store`.`book`\n",
      "2023-09-26 23:33:07,550 INFO sqlalchemy.engine.Engine [raw sql] {}\n",
      "2023-09-26 23:33:07,557 INFO sqlalchemy.engine.Engine DESCRIBE `book_store`.`group`\n",
      "2023-09-26 23:33:07,558 INFO sqlalchemy.engine.Engine [raw sql] {}\n",
      "2023-09-26 23:33:07,563 INFO sqlalchemy.engine.Engine DESCRIBE `book_store`.`group_book`\n",
      "2023-09-26 23:33:07,564 INFO sqlalchemy.engine.Engine [raw sql] {}\n",
      "2023-09-26 23:33:07,567 INFO sqlalchemy.engine.Engine DESCRIBE `book_store`.`person`\n",
      "2023-09-26 23:33:07,568 INFO sqlalchemy.engine.Engine [raw sql] {}\n",
      "2023-09-26 23:33:07,575 INFO sqlalchemy.engine.Engine DESCRIBE `book_store`.`publisher`\n",
      "2023-09-26 23:33:07,576 INFO sqlalchemy.engine.Engine [raw sql] {}\n",
      "2023-09-26 23:33:07,581 INFO sqlalchemy.engine.Engine \n",
      "CREATE TABLE publisher (\n",
      "\tid INTEGER NOT NULL AUTO_INCREMENT, \n",
      "\tname VARCHAR(50), \n",
      "\tPRIMARY KEY (id)\n",
      ")\n",
      "\n",
      "\n",
      "2023-09-26 23:33:07,583 INFO sqlalchemy.engine.Engine [no key 0.00208s] {}\n",
      "2023-09-26 23:33:07,603 INFO sqlalchemy.engine.Engine COMMIT\n"
     ]
    }
   ],
   "source": [
    "#publisher\n",
    "publisher = Table(\n",
    "    'publisher', meta,\n",
    "    Column('id', Integer, primary_key=True),\n",
    "    Column('name', String(50))\n",
    ")\n",
    "meta.create_all(engine)"
   ]
  },
  {
   "cell_type": "code",
   "execution_count": 28,
   "metadata": {},
   "outputs": [
    {
     "name": "stdout",
     "output_type": "stream",
     "text": [
      "2023-09-26 23:33:09,720 INFO sqlalchemy.engine.Engine BEGIN (implicit)\n",
      "2023-09-26 23:33:09,726 INFO sqlalchemy.engine.Engine DESCRIBE `book_store`.`book`\n",
      "2023-09-26 23:33:09,729 INFO sqlalchemy.engine.Engine [raw sql] {}\n",
      "2023-09-26 23:33:09,734 INFO sqlalchemy.engine.Engine DESCRIBE `book_store`.`group`\n",
      "2023-09-26 23:33:09,734 INFO sqlalchemy.engine.Engine [raw sql] {}\n",
      "2023-09-26 23:33:09,742 INFO sqlalchemy.engine.Engine DESCRIBE `book_store`.`group_book`\n",
      "2023-09-26 23:33:09,743 INFO sqlalchemy.engine.Engine [raw sql] {}\n",
      "2023-09-26 23:33:09,749 INFO sqlalchemy.engine.Engine DESCRIBE `book_store`.`person`\n",
      "2023-09-26 23:33:09,750 INFO sqlalchemy.engine.Engine [raw sql] {}\n",
      "2023-09-26 23:33:09,756 INFO sqlalchemy.engine.Engine DESCRIBE `book_store`.`publisher`\n",
      "2023-09-26 23:33:09,758 INFO sqlalchemy.engine.Engine [raw sql] {}\n",
      "2023-09-26 23:33:09,763 INFO sqlalchemy.engine.Engine DESCRIBE `book_store`.`category`\n",
      "2023-09-26 23:33:09,764 INFO sqlalchemy.engine.Engine [raw sql] {}\n",
      "2023-09-26 23:33:09,767 INFO sqlalchemy.engine.Engine \n",
      "CREATE TABLE category (\n",
      "\tid INTEGER NOT NULL AUTO_INCREMENT, \n",
      "\tname VARCHAR(50), \n",
      "\tdescription VARCHAR(500), \n",
      "\tPRIMARY KEY (id)\n",
      ")\n",
      "\n",
      "\n",
      "2023-09-26 23:33:09,768 INFO sqlalchemy.engine.Engine [no key 0.00134s] {}\n",
      "2023-09-26 23:33:09,795 INFO sqlalchemy.engine.Engine COMMIT\n"
     ]
    }
   ],
   "source": [
    "#category\n",
    "category = Table(\n",
    "    'category', meta,\n",
    "    Column('id', Integer, primary_key=True),\n",
    "    Column('name', String(50)),\n",
    "    Column('description', String(500))\n",
    ")\n",
    "meta.create_all(engine)"
   ]
  },
  {
   "cell_type": "code",
   "execution_count": 29,
   "metadata": {},
   "outputs": [
    {
     "name": "stdout",
     "output_type": "stream",
     "text": [
      "2023-09-26 23:33:12,219 INFO sqlalchemy.engine.Engine BEGIN (implicit)\n",
      "2023-09-26 23:33:12,223 INFO sqlalchemy.engine.Engine DESCRIBE `book_store`.`book`\n",
      "2023-09-26 23:33:12,225 INFO sqlalchemy.engine.Engine [raw sql] {}\n",
      "2023-09-26 23:33:12,234 INFO sqlalchemy.engine.Engine DESCRIBE `book_store`.`group`\n",
      "2023-09-26 23:33:12,235 INFO sqlalchemy.engine.Engine [raw sql] {}\n",
      "2023-09-26 23:33:12,240 INFO sqlalchemy.engine.Engine DESCRIBE `book_store`.`group_book`\n",
      "2023-09-26 23:33:12,241 INFO sqlalchemy.engine.Engine [raw sql] {}\n",
      "2023-09-26 23:33:12,244 INFO sqlalchemy.engine.Engine DESCRIBE `book_store`.`person`\n",
      "2023-09-26 23:33:12,245 INFO sqlalchemy.engine.Engine [raw sql] {}\n",
      "2023-09-26 23:33:12,248 INFO sqlalchemy.engine.Engine DESCRIBE `book_store`.`publisher`\n",
      "2023-09-26 23:33:12,249 INFO sqlalchemy.engine.Engine [raw sql] {}\n",
      "2023-09-26 23:33:12,252 INFO sqlalchemy.engine.Engine DESCRIBE `book_store`.`category`\n",
      "2023-09-26 23:33:12,253 INFO sqlalchemy.engine.Engine [raw sql] {}\n",
      "2023-09-26 23:33:12,258 INFO sqlalchemy.engine.Engine DESCRIBE `book_store`.`group_category`\n",
      "2023-09-26 23:33:12,259 INFO sqlalchemy.engine.Engine [raw sql] {}\n",
      "2023-09-26 23:33:12,266 INFO sqlalchemy.engine.Engine \n",
      "CREATE TABLE group_category (\n",
      "\tid INTEGER NOT NULL AUTO_INCREMENT, \n",
      "\tgroup_id INTEGER, \n",
      "\tcategory_id INTEGER, \n",
      "\tPRIMARY KEY (id), \n",
      "\tFOREIGN KEY(group_id) REFERENCES `group` (id), \n",
      "\tFOREIGN KEY(category_id) REFERENCES category (id)\n",
      ")\n",
      "\n",
      "\n",
      "2023-09-26 23:33:12,268 INFO sqlalchemy.engine.Engine [no key 0.00252s] {}\n",
      "2023-09-26 23:33:12,338 INFO sqlalchemy.engine.Engine COMMIT\n"
     ]
    }
   ],
   "source": [
    "#group_category\n",
    "group_category = Table(\n",
    "    'group_category', meta,\n",
    "    Column('id', Integer, primary_key=True, autoincrement=True),\n",
    "    Column('group_id', Integer, ForeignKey('group.id')),\n",
    "    Column('category_id', Integer, ForeignKey('category.id'))\n",
    ")\n",
    "meta.create_all(engine)"
   ]
  },
  {
   "cell_type": "code",
   "execution_count": 30,
   "metadata": {},
   "outputs": [
    {
     "name": "stdout",
     "output_type": "stream",
     "text": [
      "2023-09-26 23:33:15,984 INFO sqlalchemy.engine.Engine BEGIN (implicit)\n",
      "2023-09-26 23:33:15,986 INFO sqlalchemy.engine.Engine DESCRIBE `book_store`.`book`\n",
      "2023-09-26 23:33:15,987 INFO sqlalchemy.engine.Engine [raw sql] {}\n",
      "2023-09-26 23:33:15,993 INFO sqlalchemy.engine.Engine DESCRIBE `book_store`.`group`\n",
      "2023-09-26 23:33:15,995 INFO sqlalchemy.engine.Engine [raw sql] {}\n",
      "2023-09-26 23:33:15,999 INFO sqlalchemy.engine.Engine DESCRIBE `book_store`.`group_book`\n",
      "2023-09-26 23:33:16,000 INFO sqlalchemy.engine.Engine [raw sql] {}\n",
      "2023-09-26 23:33:16,003 INFO sqlalchemy.engine.Engine DESCRIBE `book_store`.`person`\n",
      "2023-09-26 23:33:16,004 INFO sqlalchemy.engine.Engine [raw sql] {}\n",
      "2023-09-26 23:33:16,010 INFO sqlalchemy.engine.Engine DESCRIBE `book_store`.`publisher`\n",
      "2023-09-26 23:33:16,011 INFO sqlalchemy.engine.Engine [raw sql] {}\n",
      "2023-09-26 23:33:16,014 INFO sqlalchemy.engine.Engine DESCRIBE `book_store`.`category`\n",
      "2023-09-26 23:33:16,015 INFO sqlalchemy.engine.Engine [raw sql] {}\n",
      "2023-09-26 23:33:16,019 INFO sqlalchemy.engine.Engine DESCRIBE `book_store`.`group_category`\n",
      "2023-09-26 23:33:16,020 INFO sqlalchemy.engine.Engine [raw sql] {}\n",
      "2023-09-26 23:33:16,028 INFO sqlalchemy.engine.Engine DESCRIBE `book_store`.`book_publisher`\n",
      "2023-09-26 23:33:16,030 INFO sqlalchemy.engine.Engine [raw sql] {}\n",
      "2023-09-26 23:33:16,035 INFO sqlalchemy.engine.Engine \n",
      "CREATE TABLE book_publisher (\n",
      "\tid INTEGER NOT NULL AUTO_INCREMENT, \n",
      "\tbook_code INTEGER, \n",
      "\tpublisher_id INTEGER, \n",
      "\tPRIMARY KEY (id), \n",
      "\tFOREIGN KEY(book_code) REFERENCES book (code), \n",
      "\tFOREIGN KEY(publisher_id) REFERENCES publisher (id)\n",
      ")\n",
      "\n",
      "\n",
      "2023-09-26 23:33:16,037 INFO sqlalchemy.engine.Engine [no key 0.00187s] {}\n",
      "2023-09-26 23:33:16,068 INFO sqlalchemy.engine.Engine COMMIT\n"
     ]
    }
   ],
   "source": [
    "#book_publisher\n",
    "book_publisher = Table(\n",
    "    'book_publisher', meta,\n",
    "    Column('id', Integer, primary_key=True, autoincrement=True),\n",
    "    Column('book_code', Integer, ForeignKey('book.code')),\n",
    "    Column('publisher_id', Integer, ForeignKey('publisher.id'))\n",
    ")\n",
    "meta.create_all(engine)"
   ]
  },
  {
   "cell_type": "code",
   "execution_count": 31,
   "metadata": {},
   "outputs": [
    {
     "name": "stdout",
     "output_type": "stream",
     "text": [
      "2023-09-26 23:33:19,434 INFO sqlalchemy.engine.Engine BEGIN (implicit)\n",
      "2023-09-26 23:33:19,439 INFO sqlalchemy.engine.Engine DESCRIBE `book_store`.`book`\n",
      "2023-09-26 23:33:19,443 INFO sqlalchemy.engine.Engine [raw sql] {}\n",
      "2023-09-26 23:33:19,454 INFO sqlalchemy.engine.Engine DESCRIBE `book_store`.`group`\n",
      "2023-09-26 23:33:19,456 INFO sqlalchemy.engine.Engine [raw sql] {}\n",
      "2023-09-26 23:33:19,461 INFO sqlalchemy.engine.Engine DESCRIBE `book_store`.`group_book`\n",
      "2023-09-26 23:33:19,462 INFO sqlalchemy.engine.Engine [raw sql] {}\n",
      "2023-09-26 23:33:19,465 INFO sqlalchemy.engine.Engine DESCRIBE `book_store`.`person`\n",
      "2023-09-26 23:33:19,466 INFO sqlalchemy.engine.Engine [raw sql] {}\n",
      "2023-09-26 23:33:19,471 INFO sqlalchemy.engine.Engine DESCRIBE `book_store`.`publisher`\n",
      "2023-09-26 23:33:19,472 INFO sqlalchemy.engine.Engine [raw sql] {}\n",
      "2023-09-26 23:33:19,480 INFO sqlalchemy.engine.Engine DESCRIBE `book_store`.`category`\n",
      "2023-09-26 23:33:19,483 INFO sqlalchemy.engine.Engine [raw sql] {}\n",
      "2023-09-26 23:33:19,488 INFO sqlalchemy.engine.Engine DESCRIBE `book_store`.`group_category`\n",
      "2023-09-26 23:33:19,489 INFO sqlalchemy.engine.Engine [raw sql] {}\n",
      "2023-09-26 23:33:19,494 INFO sqlalchemy.engine.Engine DESCRIBE `book_store`.`book_publisher`\n",
      "2023-09-26 23:33:19,495 INFO sqlalchemy.engine.Engine [raw sql] {}\n",
      "2023-09-26 23:33:19,499 INFO sqlalchemy.engine.Engine DESCRIBE `book_store`.`crew`\n",
      "2023-09-26 23:33:19,500 INFO sqlalchemy.engine.Engine [raw sql] {}\n",
      "2023-09-26 23:33:19,503 INFO sqlalchemy.engine.Engine \n",
      "CREATE TABLE crew (\n",
      "\tid INTEGER NOT NULL AUTO_INCREMENT, \n",
      "\tbook_code INTEGER, \n",
      "\tperson_counter INTEGER, \n",
      "\t`role` VARCHAR(15), \n",
      "\tPRIMARY KEY (id), \n",
      "\tFOREIGN KEY(book_code) REFERENCES book (code), \n",
      "\tFOREIGN KEY(person_counter) REFERENCES person (counter)\n",
      ")\n",
      "\n",
      "\n",
      "2023-09-26 23:33:19,504 INFO sqlalchemy.engine.Engine [no key 0.00161s] {}\n",
      "2023-09-26 23:33:19,552 INFO sqlalchemy.engine.Engine COMMIT\n"
     ]
    }
   ],
   "source": [
    "#crew\n",
    "crew = Table(\n",
    "    'crew', meta,\n",
    "    Column('id', Integer, primary_key=True, autoincrement=True),\n",
    "    Column('book_code', Integer, ForeignKey('book.code')),\n",
    "    Column('person_counter', Integer, ForeignKey('person.counter')),\n",
    "    Column('role', String(15))\n",
    ")\n",
    "meta.create_all(engine)"
   ]
  }
 ],
 "metadata": {
  "kernelspec": {
   "display_name": "Python 3.10.6 64-bit",
   "language": "python",
   "name": "python3"
  },
  "language_info": {
   "codemirror_mode": {
    "name": "ipython",
    "version": 3
   },
   "file_extension": ".py",
   "mimetype": "text/x-python",
   "name": "python",
   "nbconvert_exporter": "python",
   "pygments_lexer": "ipython3",
   "version": "3.10.6"
  },
  "orig_nbformat": 4,
  "vscode": {
   "interpreter": {
    "hash": "73c10509234451b7c9059ae5f54ad33529ef7b4c9c761939e46712064d00bc14"
   }
  }
 },
 "nbformat": 4,
 "nbformat_minor": 2
}
