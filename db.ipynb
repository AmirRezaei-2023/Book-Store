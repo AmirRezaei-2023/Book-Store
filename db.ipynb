{
 "cells": [
  {
   "cell_type": "markdown",
   "metadata": {
    "collapsed": false
   },
   "source": [
    "## import\n"
   ]
  },
  {
   "cell_type": "code",
   "execution_count": 1,
   "metadata": {
    "ExecuteTime": {
     "end_time": "2023-09-29T09:40:36.199207500Z",
     "start_time": "2023-09-29T09:40:33.471325300Z"
    },
    "collapsed": false
   },
   "outputs": [],
   "source": [
    "import pandas as pd\n",
    "import mysql.connector\n",
    "from sqlalchemy import create_engine, MetaData, URL, Identity\n",
    "from sqlalchemy import Table, Column, Integer, String, BOOLEAN, DATE, ForeignKey"
   ]
  },
  {
   "cell_type": "markdown",
   "metadata": {
    "collapsed": false
   },
   "source": [
    "# connect to database"
   ]
  },
  {
   "cell_type": "code",
   "execution_count": 2,
   "metadata": {
    "ExecuteTime": {
     "end_time": "2023-09-29T09:40:36.666408300Z",
     "start_time": "2023-09-29T09:40:36.200689700Z"
    },
    "collapsed": false
   },
   "outputs": [],
   "source": [
    "meta = MetaData()\n",
    "USERNAME = 'root'\n",
    "PASSWORD = 'A1382L1234i@#'\n",
    "SERVER = 'localhost'\n",
    "PORT = 3306\n",
    "DATABASE = 'book-store'\n",
    "\n",
    "url_object = URL.create(\"mysql+mysqlconnector\",\n",
    "                        username=USERNAME,\n",
    "                        password=PASSWORD,\n",
    "                        host=SERVER,\n",
    "                        database=DATABASE)\n",
    "engine = create_engine(url_object)\n",
    "conn = engine.connect()\n"
   ]
  },
  {
   "cell_type": "markdown",
   "metadata": {
    "collapsed": false
   },
   "source": [
    "## Creating tables and Inserting Data"
   ]
  },
  {
   "cell_type": "markdown",
   "metadata": {
    "collapsed": false
   },
   "source": [
    "### Book"
   ]
  },
  {
   "cell_type": "code",
   "execution_count": 3,
   "metadata": {
    "ExecuteTime": {
     "end_time": "2023-09-29T09:40:36.715376500Z",
     "start_time": "2023-09-29T09:40:36.672409800Z"
    },
    "collapsed": false
   },
   "outputs": [],
   "source": [
    "book = Table(\n",
    "    'book', meta,\n",
    "    Column('code', Integer, primary_key=True),\n",
    "    Column('title_persian', String(200)),\n",
    "    Column('title_english', String(200)),\n",
    "    Column('price', Integer),\n",
    "    Column('discount', Integer),\n",
    "    Column('grade', Integer),\n",
    "    Column('shabak', String(30)),\n",
    "    Column('page_count', Integer),\n",
    "    Column('release_year_sh', Integer),\n",
    "    Column('release_year_mi', Integer),\n",
    "    Column('exist', BOOLEAN),\n",
    "    Column('earliest_access', DATE),\n",
    "    Column('print_series', Integer),\n",
    "    Column('cover', String(50)),\n",
    "    Column('ghate', String(50))\n",
    ")\n",
    "meta.create_all(engine)\n"
   ]
  },
  {
   "cell_type": "code",
   "execution_count": 4,
   "metadata": {
    "ExecuteTime": {
     "end_time": "2023-09-29T09:40:36.745142300Z",
     "start_time": "2023-09-29T09:40:36.704376Z"
    },
    "collapsed": false
   },
   "outputs": [
    {
     "data": {
      "text/plain": [
       "2"
      ]
     },
     "execution_count": 4,
     "metadata": {},
     "output_type": "execute_result"
    }
   ],
   "source": [
    "df_book = pd.read_csv('book.csv')\n",
    "df_book.dropna(subset=[\"code\"],inplace=True)\n",
    "df_book.drop_duplicates(subset=[\"code\"],inplace=True)\n",
    "df_book.to_csv('modified/modified_book.csv', index=False, encoding='utf-8-sig')\n",
    "df_book.to_sql('book', engine, if_exists='append', index=False)"
   ]
  },
  {
   "cell_type": "markdown",
   "metadata": {
    "collapsed": false
   },
   "source": [
    "### Group"
   ]
  },
  {
   "cell_type": "code",
   "execution_count": 5,
   "metadata": {
    "ExecuteTime": {
     "end_time": "2023-09-29T09:40:36.807718100Z",
     "start_time": "2023-09-29T09:40:36.744302300Z"
    },
    "collapsed": false
   },
   "outputs": [],
   "source": [
    "group = Table(\n",
    "    'group', meta,\n",
    "    Column('id', Integer, primary_key=True),\n",
    "    Column('description', String(5000))\n",
    ")\n",
    "meta.create_all(engine)\n"
   ]
  },
  {
   "cell_type": "code",
   "execution_count": 6,
   "metadata": {
    "ExecuteTime": {
     "end_time": "2023-09-29T09:40:36.819165900Z",
     "start_time": "2023-09-29T09:40:36.772117600Z"
    },
    "collapsed": false
   },
   "outputs": [
    {
     "data": {
      "text/plain": [
       "1"
      ]
     },
     "execution_count": 6,
     "metadata": {},
     "output_type": "execute_result"
    }
   ],
   "source": [
    "df_group = pd.read_csv('group.csv')\n",
    "df_group.dropna(subset=[\"group_id\"],inplace=True)\n",
    "df_group.drop_duplicates(subset=[\"group_id\"],inplace=True)\n",
    "df_group.rename(columns={'group_id': 'id'}, inplace=True)\n",
    "if df_group[\"description\"].isnull().all():\n",
    "    df_group[\"description\"] = 'None'\n",
    "df_group.to_csv('modified/modified_group.csv', index=False, encoding='utf-8-sig')\n",
    "df_group.to_sql('group', engine, if_exists='append', index=False)"
   ]
  },
  {
   "cell_type": "markdown",
   "metadata": {
    "collapsed": false
   },
   "source": [
    "### Group_Book"
   ]
  },
  {
   "cell_type": "code",
   "execution_count": 7,
   "metadata": {
    "ExecuteTime": {
     "end_time": "2023-09-29T09:40:36.886043400Z",
     "start_time": "2023-09-29T09:40:36.808574500Z"
    },
    "collapsed": false
   },
   "outputs": [],
   "source": [
    "group_book = Table(\n",
    "    'group_book', meta,\n",
    "    Column('id', Integer, primary_key=True, autoincrement=True),\n",
    "    Column('group_id', Integer, ForeignKey('group.id')),\n",
    "    Column('book_code', Integer, ForeignKey('book.code'))\n",
    ")\n",
    "meta.create_all(engine)\n"
   ]
  },
  {
   "cell_type": "code",
   "execution_count": 9,
   "metadata": {
    "ExecuteTime": {
     "end_time": "2023-09-29T09:41:19.962896Z",
     "start_time": "2023-09-29T09:41:19.939388500Z"
    },
    "collapsed": false
   },
   "outputs": [
    {
     "data": {
      "text/plain": [
       "2"
      ]
     },
     "execution_count": 9,
     "metadata": {},
     "output_type": "execute_result"
    }
   ],
   "source": [
    "df_group_book = pd.read_csv('group_book.csv')\n",
    "df_group_book.dropna(subset=[\"group_id\"],inplace=True)\n",
    "df_group_book.dropna(subset=[\"book_code\"],inplace=True)\n",
    "df_group_book['book_code'] = df_group_book['book_code'].astype(int)\n",
    "for index in df_group_book.index:\n",
    "    if ( df_group_book.loc[index, 'book_code'] not in df_book['code'].values.tolist()) or (df_group_book.loc[index, 'group_id'] not in df_group['id'].values.tolist()):\n",
    "        df_group_book.drop(index=index, inplace=True)\n",
    "df_group_book.to_csv('modified/modified_group_book.csv', index=False, encoding='utf-8-sig')\n",
    "df_group_book.to_sql('group_book', engine, if_exists='append', index=False)"
   ]
  },
  {
   "cell_type": "markdown",
   "metadata": {
    "collapsed": false
   },
   "source": [
    "### Person"
   ]
  },
  {
   "cell_type": "code",
   "execution_count": 10,
   "metadata": {
    "ExecuteTime": {
     "end_time": "2023-09-29T09:41:22.940414400Z",
     "start_time": "2023-09-29T09:41:22.886168800Z"
    },
    "collapsed": false
   },
   "outputs": [],
   "source": [
    "person = Table(\n",
    "    'person', meta,\n",
    "    Column('counter', Integer, primary_key=True, autoincrement=False),\n",
    "    Column('person_id', Integer),\n",
    "    Column('name', String(100)),\n",
    "    Column('description', String(5000))\n",
    ")\n",
    "meta.create_all(engine)\n"
   ]
  },
  {
   "cell_type": "code",
   "execution_count": 11,
   "metadata": {
    "ExecuteTime": {
     "end_time": "2023-09-29T09:41:25.420701100Z",
     "start_time": "2023-09-29T09:41:25.361860400Z"
    },
    "collapsed": false
   },
   "outputs": [
    {
     "data": {
      "text/plain": [
       "3"
      ]
     },
     "execution_count": 11,
     "metadata": {},
     "output_type": "execute_result"
    }
   ],
   "source": [
    "df_person = pd.read_csv('person.csv')\n",
    "df_person.dropna(subset=[\"counter\"],inplace=True)\n",
    "df_person.dropna(subset=[\"name\"], inplace=True)\n",
    "df_person.drop_duplicates(subset=[\"counter\"],inplace=True)\n",
    "df_person.rename(columns={'id': 'person_id'}, inplace=True)\n",
    "# if df_person[\"description\"].isnull().all():\n",
    "#     df_person[\"description\"] = 'None'\n",
    "df_person.to_csv('modified/modified_person.csv', index=False, encoding='utf-8-sig')\n",
    "df_person.to_sql('person', engine, if_exists='append', index=False)"
   ]
  },
  {
   "cell_type": "markdown",
   "metadata": {
    "collapsed": false
   },
   "source": [
    "### Publisher"
   ]
  },
  {
   "cell_type": "code",
   "execution_count": 12,
   "metadata": {
    "ExecuteTime": {
     "end_time": "2023-09-29T09:41:29.464737400Z",
     "start_time": "2023-09-29T09:41:29.427179Z"
    },
    "collapsed": false
   },
   "outputs": [],
   "source": [
    "publisher = Table(\n",
    "    'publisher', meta,\n",
    "    Column('id', Integer, primary_key=True),\n",
    "    Column('name', String(100))\n",
    ")\n",
    "meta.create_all(engine)\n"
   ]
  },
  {
   "cell_type": "code",
   "execution_count": 13,
   "metadata": {
    "ExecuteTime": {
     "end_time": "2023-09-29T09:41:31.907290100Z",
     "start_time": "2023-09-29T09:41:31.878524Z"
    },
    "collapsed": false
   },
   "outputs": [
    {
     "data": {
      "text/plain": [
       "2"
      ]
     },
     "execution_count": 13,
     "metadata": {},
     "output_type": "execute_result"
    }
   ],
   "source": [
    "df_publisher = pd.read_csv('publisher.csv')\n",
    "df_publisher.dropna(subset=[\"id\"],inplace=True)\n",
    "df_publisher.drop_duplicates(subset=[\"id\"],inplace=True)\n",
    "df_publisher.to_csv('modified/modified_publisher.csv', index=False, encoding='utf-8-sig')\n",
    "df_publisher.to_sql('publisher', engine, if_exists='append', index=False)"
   ]
  },
  {
   "cell_type": "markdown",
   "metadata": {
    "collapsed": false
   },
   "source": [
    "### Category"
   ]
  },
  {
   "cell_type": "code",
   "execution_count": 14,
   "metadata": {
    "ExecuteTime": {
     "end_time": "2023-09-29T09:41:34.793155300Z",
     "start_time": "2023-09-29T09:41:34.749187200Z"
    },
    "collapsed": false
   },
   "outputs": [],
   "source": [
    "category = Table(\n",
    "    'category', meta,\n",
    "    Column('id', Integer, primary_key=True),\n",
    "    Column('name', String(150)),\n",
    "    Column('description', String(5000))\n",
    ")\n",
    "meta.create_all(engine)\n"
   ]
  },
  {
   "cell_type": "code",
   "execution_count": 15,
   "metadata": {
    "ExecuteTime": {
     "end_time": "2023-09-29T09:41:38.340664600Z",
     "start_time": "2023-09-29T09:41:38.294357200Z"
    },
    "collapsed": false
   },
   "outputs": [
    {
     "data": {
      "text/plain": [
       "5"
      ]
     },
     "execution_count": 15,
     "metadata": {},
     "output_type": "execute_result"
    }
   ],
   "source": [
    "df_category = pd.read_csv('category.csv')\n",
    "df_category.dropna(subset=[\"id\"],inplace=True)\n",
    "df_category.drop_duplicates(subset=[\"id\"],inplace=True)\n",
    "if df_category[\"description\"].isnull().all():\n",
    "    df_category[\"description\"] = 'None'\n",
    "df_category.to_csv('modified/modified_category.csv', index=False, encoding='utf-8-sig')\n",
    "df_category.to_sql('category', engine, if_exists='append', index=False)"
   ]
  },
  {
   "cell_type": "markdown",
   "metadata": {
    "collapsed": false
   },
   "source": [
    "### Group_Category"
   ]
  },
  {
   "cell_type": "code",
   "execution_count": 16,
   "metadata": {
    "ExecuteTime": {
     "end_time": "2023-09-29T09:41:40.893586700Z",
     "start_time": "2023-09-29T09:41:40.835846800Z"
    },
    "collapsed": false
   },
   "outputs": [],
   "source": [
    "group_category = Table(\n",
    "    'group_category', meta,\n",
    "    Column('id', Integer, primary_key=True, autoincrement=True),\n",
    "    Column('group_id', Integer, ForeignKey('group.id')),\n",
    "    Column('category_id', Integer, ForeignKey('category.id'))\n",
    ")\n",
    "meta.create_all(engine)\n"
   ]
  },
  {
   "cell_type": "code",
   "execution_count": 17,
   "metadata": {
    "ExecuteTime": {
     "end_time": "2023-09-29T09:41:43.651247100Z",
     "start_time": "2023-09-29T09:41:43.628705900Z"
    },
    "collapsed": false
   },
   "outputs": [
    {
     "data": {
      "text/plain": [
       "10"
      ]
     },
     "execution_count": 17,
     "metadata": {},
     "output_type": "execute_result"
    }
   ],
   "source": [
    "df_group_category = pd.read_csv('group_category.csv')\n",
    "df_group_category.dropna(subset=[\"group_id\"],inplace=True)\n",
    "df_group_category.dropna(subset=[\"category_id\"],inplace=True)\n",
    "for index in df_group_category.index:\n",
    "    if (df_group_category.loc[index, 'group_id'] not in df_group['id'].values.tolist()) or (df_group_category.loc[index, 'category_id'] not in df_category['id'].values.tolist()):\n",
    "        df_group_category.drop(index=index, inplace=True)\n",
    "df_group_category.to_csv('modified/modified_group_category.csv', index=False, encoding='utf-8-sig')\n",
    "df_group_category.to_sql('group_category', engine, if_exists='append', index=False)"
   ]
  },
  {
   "cell_type": "markdown",
   "metadata": {
    "collapsed": false
   },
   "source": [
    "### Book_publisher"
   ]
  },
  {
   "cell_type": "code",
   "execution_count": 18,
   "metadata": {
    "ExecuteTime": {
     "end_time": "2023-09-29T09:41:46.271086300Z",
     "start_time": "2023-09-29T09:41:46.229907200Z"
    },
    "collapsed": false
   },
   "outputs": [],
   "source": [
    "book_publisher = Table(\n",
    "    'book_publisher', meta,\n",
    "    Column('id', Integer, primary_key=True, autoincrement=True),\n",
    "    Column('book_code', Integer, ForeignKey('book.code')),\n",
    "    Column('publisher_id', Integer, ForeignKey('publisher.id'))\n",
    ")\n",
    "meta.create_all(engine)\n"
   ]
  },
  {
   "cell_type": "code",
   "execution_count": 19,
   "metadata": {
    "ExecuteTime": {
     "end_time": "2023-09-29T09:41:49.099355900Z",
     "start_time": "2023-09-29T09:41:48.885394900Z"
    },
    "collapsed": false
   },
   "outputs": [
    {
     "data": {
      "text/plain": [
       "2"
      ]
     },
     "execution_count": 19,
     "metadata": {},
     "output_type": "execute_result"
    }
   ],
   "source": [
    "df_book_publisher = pd.read_csv('book_publisher.csv')\n",
    "df_book_publisher.dropna(subset=[\"publisher_id\"],inplace=True)\n",
    "df_book_publisher.dropna(subset=[\"book_code\"],inplace=True)\n",
    "df_book_publisher['book_code'] = df_book_publisher['book_code'].astype(int)\n",
    "df_book_publisher.to_csv('modified/modified_book_publisher.csv', index=False, encoding='utf-8-sig')\n",
    "for index in df_book_publisher.index:\n",
    "    if (df_book_publisher.loc[index, 'book_code'] not in df_book['code'].values.tolist()) or (df_book_publisher.loc[index, 'publisher_id'] not in df_publisher['id'].values.tolist()):\n",
    "        df_book_publisher.drop(index=index, inplace=True)\n",
    "df_book_publisher.to_sql('book_publisher', engine, if_exists='append', index=False)"
   ]
  },
  {
   "cell_type": "markdown",
   "metadata": {
    "collapsed": false
   },
   "source": [
    "### Crew"
   ]
  },
  {
   "cell_type": "code",
   "execution_count": 20,
   "metadata": {
    "ExecuteTime": {
     "end_time": "2023-09-29T09:41:51.276709800Z",
     "start_time": "2023-09-29T09:41:51.216022400Z"
    },
    "collapsed": false
   },
   "outputs": [],
   "source": [
    "crew = Table(\n",
    "    'crew', meta,\n",
    "    Column('id', Integer, primary_key=True, autoincrement=True),\n",
    "    Column('book_code', Integer, ForeignKey('book.code')),\n",
    "    Column('person_counter', Integer, ForeignKey('person.counter')),\n",
    "    Column('role', String(15))\n",
    ")\n",
    "meta.create_all(engine)\n"
   ]
  },
  {
   "cell_type": "code",
   "execution_count": 21,
   "metadata": {
    "ExecuteTime": {
     "end_time": "2023-09-29T09:41:54.653955600Z",
     "start_time": "2023-09-29T09:41:54.619247300Z"
    },
    "collapsed": false
   },
   "outputs": [
    {
     "data": {
      "text/plain": [
       "4"
      ]
     },
     "execution_count": 21,
     "metadata": {},
     "output_type": "execute_result"
    }
   ],
   "source": [
    "df_crew = pd.read_csv('crew.csv')\n",
    "df_crew.dropna(subset=[\"book_code\"],inplace=True)\n",
    "df_crew.dropna(subset=[\"person_counter\"],inplace=True)\n",
    "df_crew.dropna(subset=[\"role\"],inplace=True)\n",
    "df_crew['person_counter'] = df_crew['person_counter'].astype('int')\n",
    "for index in df_crew.index:\n",
    "    if (df_crew.loc[index, 'book_code'] not in df_book['code'].values.tolist()) or (df_crew.loc[index, 'person_counter'] not in df_person['counter'].values.tolist()):\n",
    "        df_crew.drop(index=index, inplace=True)\n",
    "df_crew.to_csv('modified/modified_crew.csv', index=False, encoding='utf-8-sig')\n",
    "df_crew.to_sql('crew', engine, if_exists='append', index=False)"
   ]
  }
 ],
 "metadata": {
  "kernelspec": {
   "display_name": "Python 3",
   "language": "python",
   "name": "python3"
  },
  "language_info": {
   "codemirror_mode": {
    "name": "ipython",
    "version": 2
   },
   "file_extension": ".py",
   "mimetype": "text/x-python",
   "name": "python",
   "nbconvert_exporter": "python",
   "pygments_lexer": "ipython2",
   "version": "2.7.6"
  }
 },
 "nbformat": 4,
 "nbformat_minor": 0
}
