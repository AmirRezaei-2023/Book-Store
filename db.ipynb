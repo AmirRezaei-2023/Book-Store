{
 "cells": [
  {
   "cell_type": "markdown",
   "metadata": {},
   "source": [
    "# connect\n"
   ]
  },
  {
   "cell_type": "code",
   "execution_count": 1,
   "metadata": {},
   "outputs": [
    {
     "name": "stdout",
     "output_type": "stream",
     "text": [
      "2023-09-29 09:43:38,979 INFO sqlalchemy.engine.Engine SELECT DATABASE()\n",
      "2023-09-29 09:43:38,980 INFO sqlalchemy.engine.Engine [raw sql] {}\n",
      "2023-09-29 09:43:38,983 INFO sqlalchemy.engine.Engine SELECT @@sql_mode\n",
      "2023-09-29 09:43:38,985 INFO sqlalchemy.engine.Engine [raw sql] {}\n",
      "2023-09-29 09:43:38,990 INFO sqlalchemy.engine.Engine SELECT @@lower_case_table_names\n",
      "2023-09-29 09:43:38,993 INFO sqlalchemy.engine.Engine [raw sql] {}\n"
     ]
    }
   ],
   "source": [
    "import pandas as pd\n",
    "import mysql.connector\n",
    "from sqlalchemy import create_engine, MetaData, URL, Identity\n",
    "from sqlalchemy import Table, Column, Integer, String, BOOLEAN, DATE, ForeignKey\n",
    "\n",
    "\n",
    "#Creating Database,Connection\n",
    "meta = MetaData()\n",
    "USERNAME = 'root'\n",
    "PASSWORD = '13771377Mnn@'\n",
    "SERVER = 'localhost'\n",
    "PORT = 3306\n",
    "DATABASE = 'book_store'\n",
    "\n",
    "url_object = URL.create(\"mysql+mysqlconnector\",\n",
    "                        username=USERNAME,\n",
    "                        password=PASSWORD,\n",
    "                        host=SERVER,\n",
    "                        database=DATABASE)\n",
    "engine = create_engine(url_object,echo = True)\n",
    "conn = engine.connect()"
   ]
  },
  {
   "cell_type": "markdown",
   "metadata": {},
   "source": [
    "# create model database"
   ]
  },
  {
   "cell_type": "code",
   "execution_count": 2,
   "metadata": {},
   "outputs": [
    {
     "name": "stdout",
     "output_type": "stream",
     "text": [
      "2023-09-29 09:43:42,303 INFO sqlalchemy.engine.Engine BEGIN (implicit)\n",
      "2023-09-29 09:43:42,305 INFO sqlalchemy.engine.Engine DESCRIBE `book_store`.`book`\n",
      "2023-09-29 09:43:42,307 INFO sqlalchemy.engine.Engine [raw sql] {}\n",
      "2023-09-29 09:43:42,316 INFO sqlalchemy.engine.Engine \n",
      "CREATE TABLE book (\n",
      "\tcode INTEGER NOT NULL AUTO_INCREMENT, \n",
      "\ttitle_persian VARCHAR(2000), \n",
      "\ttitle_english VARCHAR(2000), \n",
      "\tprice INTEGER, \n",
      "\tdiscount INTEGER, \n",
      "\tgrade INTEGER, \n",
      "\tshabak VARCHAR(50), \n",
      "\tpage_count INTEGER, \n",
      "\trelease_year_sh INTEGER, \n",
      "\trelease_year_mi INTEGER, \n",
      "\texist BOOL, \n",
      "\tearliest_access DATE, \n",
      "\tprint_series INTEGER, \n",
      "\tcover VARCHAR(100), \n",
      "\tghate VARCHAR(100), \n",
      "\tPRIMARY KEY (code)\n",
      ")\n",
      "\n",
      "\n",
      "2023-09-29 09:43:42,317 INFO sqlalchemy.engine.Engine [no key 0.00169s] {}\n",
      "2023-09-29 09:43:42,351 INFO sqlalchemy.engine.Engine COMMIT\n"
     ]
    }
   ],
   "source": [
    "#Creating Tables\n",
    "#book\n",
    "book = Table(\n",
    "    'book', meta,\n",
    "    Column('code', Integer, primary_key=True),\n",
    "    Column('title_persian', String(2000)),\n",
    "    Column('title_english', String(2000)),\n",
    "    Column('price', Integer),\n",
    "    Column('discount', Integer),\n",
    "    Column('grade', Integer),\n",
    "    Column('shabak', String(50)),\n",
    "    Column('page_count', Integer),\n",
    "    Column('release_year_sh', Integer),\n",
    "    Column('release_year_mi', Integer),\n",
    "    Column('exist', BOOLEAN),\n",
    "    Column('earliest_access', DATE),\n",
    "    Column('print_series', Integer),\n",
    "    Column('cover', String(100)),\n",
    "    Column('ghate', String(100))\n",
    ")\n",
    "meta.create_all(engine)"
   ]
  },
  {
   "cell_type": "code",
   "execution_count": 3,
   "metadata": {},
   "outputs": [
    {
     "name": "stdout",
     "output_type": "stream",
     "text": [
      "2023-09-29 09:46:36,022 INFO sqlalchemy.engine.Engine BEGIN (implicit)\n",
      "2023-09-29 09:46:36,027 INFO sqlalchemy.engine.Engine DESCRIBE `book_store`.`book`\n",
      "2023-09-29 09:46:36,030 INFO sqlalchemy.engine.Engine [raw sql] {}\n",
      "2023-09-29 09:46:36,038 INFO sqlalchemy.engine.Engine DESCRIBE `book_store`.`group`\n",
      "2023-09-29 09:46:36,040 INFO sqlalchemy.engine.Engine [raw sql] {}\n",
      "2023-09-29 09:46:36,075 INFO sqlalchemy.engine.Engine \n",
      "CREATE TABLE `group` (\n",
      "\tid INTEGER NOT NULL AUTO_INCREMENT, \n",
      "\tdescription VARCHAR(5000), \n",
      "\tPRIMARY KEY (id)\n",
      ")\n",
      "\n",
      "\n",
      "2023-09-29 09:46:36,077 INFO sqlalchemy.engine.Engine [no key 0.03294s] {}\n",
      "2023-09-29 09:46:36,163 INFO sqlalchemy.engine.Engine COMMIT\n"
     ]
    }
   ],
   "source": [
    "#group\n",
    "group = Table(\n",
    "    'group', meta,\n",
    "    Column('id', Integer, primary_key=True),\n",
    "    Column('description', String(5000))\n",
    ")\n",
    "meta.create_all(engine)"
   ]
  },
  {
   "cell_type": "code",
   "execution_count": 4,
   "metadata": {},
   "outputs": [
    {
     "name": "stdout",
     "output_type": "stream",
     "text": [
      "2023-09-29 09:47:02,900 INFO sqlalchemy.engine.Engine BEGIN (implicit)\n",
      "2023-09-29 09:47:02,902 INFO sqlalchemy.engine.Engine DESCRIBE `book_store`.`book`\n",
      "2023-09-29 09:47:02,903 INFO sqlalchemy.engine.Engine [raw sql] {}\n",
      "2023-09-29 09:47:02,906 INFO sqlalchemy.engine.Engine DESCRIBE `book_store`.`group`\n",
      "2023-09-29 09:47:02,908 INFO sqlalchemy.engine.Engine [raw sql] {}\n",
      "2023-09-29 09:47:02,915 INFO sqlalchemy.engine.Engine DESCRIBE `book_store`.`group_book`\n",
      "2023-09-29 09:47:02,918 INFO sqlalchemy.engine.Engine [raw sql] {}\n",
      "2023-09-29 09:47:02,920 INFO sqlalchemy.engine.Engine \n",
      "CREATE TABLE group_book (\n",
      "\tid INTEGER NOT NULL AUTO_INCREMENT, \n",
      "\tgroup_id INTEGER, \n",
      "\tbook_code INTEGER, \n",
      "\tPRIMARY KEY (id), \n",
      "\tFOREIGN KEY(group_id) REFERENCES `group` (id), \n",
      "\tFOREIGN KEY(book_code) REFERENCES book (code)\n",
      ")\n",
      "\n",
      "\n",
      "2023-09-29 09:47:02,921 INFO sqlalchemy.engine.Engine [no key 0.00116s] {}\n",
      "2023-09-29 09:47:02,997 INFO sqlalchemy.engine.Engine COMMIT\n"
     ]
    }
   ],
   "source": [
    "#group_book\n",
    "group_book = Table(\n",
    "    'group_book', meta,\n",
    "    Column('id', Integer, primary_key=True, autoincrement=True),\n",
    "    Column('group_id', Integer, ForeignKey('group.id')),\n",
    "    Column('book_code', Integer, ForeignKey('book.code'))\n",
    ")\n",
    "meta.create_all(engine)"
   ]
  },
  {
   "cell_type": "code",
   "execution_count": 5,
   "metadata": {},
   "outputs": [
    {
     "name": "stdout",
     "output_type": "stream",
     "text": [
      "2023-09-29 09:55:40,022 INFO sqlalchemy.engine.Engine BEGIN (implicit)\n",
      "2023-09-29 09:55:40,025 INFO sqlalchemy.engine.Engine DESCRIBE `book_store`.`book`\n",
      "2023-09-29 09:55:40,026 INFO sqlalchemy.engine.Engine [raw sql] {}\n",
      "2023-09-29 09:55:40,035 INFO sqlalchemy.engine.Engine DESCRIBE `book_store`.`group`\n",
      "2023-09-29 09:55:40,036 INFO sqlalchemy.engine.Engine [raw sql] {}\n",
      "2023-09-29 09:55:40,040 INFO sqlalchemy.engine.Engine DESCRIBE `book_store`.`group_book`\n",
      "2023-09-29 09:55:40,041 INFO sqlalchemy.engine.Engine [raw sql] {}\n",
      "2023-09-29 09:55:40,046 INFO sqlalchemy.engine.Engine DESCRIBE `book_store`.`person`\n",
      "2023-09-29 09:55:40,050 INFO sqlalchemy.engine.Engine [raw sql] {}\n",
      "2023-09-29 09:55:40,054 INFO sqlalchemy.engine.Engine \n",
      "CREATE TABLE person (\n",
      "\tcounter INTEGER NOT NULL AUTO_INCREMENT, \n",
      "\tid INTEGER, \n",
      "\tname VARCHAR(100), \n",
      "\tdescription VARCHAR(5000), \n",
      "\tPRIMARY KEY (counter)\n",
      ")\n",
      "\n",
      "\n",
      "2023-09-29 09:55:40,054 INFO sqlalchemy.engine.Engine [no key 0.00121s] {}\n",
      "2023-09-29 09:55:40,099 INFO sqlalchemy.engine.Engine COMMIT\n"
     ]
    }
   ],
   "source": [
    "#person\n",
    "person = Table(\n",
    "    'person', meta,\n",
    "    Column('counter', Integer, primary_key=True,autoincrement=True),\n",
    "    Column('id', Integer),\n",
    "    Column('name', String(100)),\n",
    "    Column('description', String(5000))\n",
    ")\n",
    "meta.create_all(engine)"
   ]
  },
  {
   "cell_type": "code",
   "execution_count": 6,
   "metadata": {},
   "outputs": [
    {
     "name": "stdout",
     "output_type": "stream",
     "text": [
      "2023-09-29 09:55:41,897 INFO sqlalchemy.engine.Engine BEGIN (implicit)\n",
      "2023-09-29 09:55:41,901 INFO sqlalchemy.engine.Engine DESCRIBE `book_store`.`book`\n",
      "2023-09-29 09:55:41,904 INFO sqlalchemy.engine.Engine [raw sql] {}\n",
      "2023-09-29 09:55:41,908 INFO sqlalchemy.engine.Engine DESCRIBE `book_store`.`group`\n",
      "2023-09-29 09:55:41,909 INFO sqlalchemy.engine.Engine [raw sql] {}\n",
      "2023-09-29 09:55:41,947 INFO sqlalchemy.engine.Engine DESCRIBE `book_store`.`group_book`\n",
      "2023-09-29 09:55:41,949 INFO sqlalchemy.engine.Engine [raw sql] {}\n",
      "2023-09-29 09:55:41,953 INFO sqlalchemy.engine.Engine DESCRIBE `book_store`.`person`\n",
      "2023-09-29 09:55:41,954 INFO sqlalchemy.engine.Engine [raw sql] {}\n",
      "2023-09-29 09:55:41,962 INFO sqlalchemy.engine.Engine DESCRIBE `book_store`.`publisher`\n",
      "2023-09-29 09:55:41,962 INFO sqlalchemy.engine.Engine [raw sql] {}\n",
      "2023-09-29 09:55:41,965 INFO sqlalchemy.engine.Engine \n",
      "CREATE TABLE publisher (\n",
      "\tid INTEGER NOT NULL AUTO_INCREMENT, \n",
      "\tname VARCHAR(100), \n",
      "\tPRIMARY KEY (id)\n",
      ")\n",
      "\n",
      "\n",
      "2023-09-29 09:55:41,966 INFO sqlalchemy.engine.Engine [no key 0.00153s] {}\n",
      "2023-09-29 09:55:42,004 INFO sqlalchemy.engine.Engine COMMIT\n"
     ]
    }
   ],
   "source": [
    "#publisher\n",
    "publisher = Table(\n",
    "    'publisher', meta,\n",
    "    Column('id', Integer, primary_key=True),\n",
    "    Column('name', String(100))\n",
    ")\n",
    "meta.create_all(engine)"
   ]
  },
  {
   "cell_type": "code",
   "execution_count": 7,
   "metadata": {},
   "outputs": [
    {
     "name": "stdout",
     "output_type": "stream",
     "text": [
      "2023-09-29 09:55:45,818 INFO sqlalchemy.engine.Engine BEGIN (implicit)\n",
      "2023-09-29 09:55:45,820 INFO sqlalchemy.engine.Engine DESCRIBE `book_store`.`book`\n",
      "2023-09-29 09:55:45,821 INFO sqlalchemy.engine.Engine [raw sql] {}\n",
      "2023-09-29 09:55:45,826 INFO sqlalchemy.engine.Engine DESCRIBE `book_store`.`group`\n",
      "2023-09-29 09:55:45,828 INFO sqlalchemy.engine.Engine [raw sql] {}\n",
      "2023-09-29 09:55:45,833 INFO sqlalchemy.engine.Engine DESCRIBE `book_store`.`group_book`\n",
      "2023-09-29 09:55:45,834 INFO sqlalchemy.engine.Engine [raw sql] {}\n",
      "2023-09-29 09:55:45,840 INFO sqlalchemy.engine.Engine DESCRIBE `book_store`.`person`\n",
      "2023-09-29 09:55:45,841 INFO sqlalchemy.engine.Engine [raw sql] {}\n",
      "2023-09-29 09:55:45,847 INFO sqlalchemy.engine.Engine DESCRIBE `book_store`.`publisher`\n",
      "2023-09-29 09:55:45,850 INFO sqlalchemy.engine.Engine [raw sql] {}\n",
      "2023-09-29 09:55:45,858 INFO sqlalchemy.engine.Engine DESCRIBE `book_store`.`category`\n",
      "2023-09-29 09:55:45,860 INFO sqlalchemy.engine.Engine [raw sql] {}\n",
      "2023-09-29 09:55:45,869 INFO sqlalchemy.engine.Engine \n",
      "CREATE TABLE category (\n",
      "\tid INTEGER NOT NULL AUTO_INCREMENT, \n",
      "\tname VARCHAR(150), \n",
      "\tdescription VARCHAR(5000), \n",
      "\tPRIMARY KEY (id)\n",
      ")\n",
      "\n",
      "\n",
      "2023-09-29 09:55:45,871 INFO sqlalchemy.engine.Engine [no key 0.00140s] {}\n",
      "2023-09-29 09:55:45,896 INFO sqlalchemy.engine.Engine COMMIT\n"
     ]
    }
   ],
   "source": [
    "#category\n",
    "category = Table(\n",
    "    'category', meta,\n",
    "    Column('id', Integer, primary_key=True),\n",
    "    Column('name', String(150)),\n",
    "    Column('description', String(5000))\n",
    ")\n",
    "meta.create_all(engine)"
   ]
  },
  {
   "cell_type": "code",
   "execution_count": 8,
   "metadata": {},
   "outputs": [
    {
     "name": "stdout",
     "output_type": "stream",
     "text": [
      "2023-09-29 09:55:47,848 INFO sqlalchemy.engine.Engine BEGIN (implicit)\n",
      "2023-09-29 09:55:47,849 INFO sqlalchemy.engine.Engine DESCRIBE `book_store`.`book`\n",
      "2023-09-29 09:55:47,850 INFO sqlalchemy.engine.Engine [raw sql] {}\n",
      "2023-09-29 09:55:47,854 INFO sqlalchemy.engine.Engine DESCRIBE `book_store`.`group`\n",
      "2023-09-29 09:55:47,855 INFO sqlalchemy.engine.Engine [raw sql] {}\n",
      "2023-09-29 09:55:47,859 INFO sqlalchemy.engine.Engine DESCRIBE `book_store`.`group_book`\n",
      "2023-09-29 09:55:47,861 INFO sqlalchemy.engine.Engine [raw sql] {}\n",
      "2023-09-29 09:55:47,868 INFO sqlalchemy.engine.Engine DESCRIBE `book_store`.`person`\n",
      "2023-09-29 09:55:47,869 INFO sqlalchemy.engine.Engine [raw sql] {}\n",
      "2023-09-29 09:55:47,872 INFO sqlalchemy.engine.Engine DESCRIBE `book_store`.`publisher`\n",
      "2023-09-29 09:55:47,873 INFO sqlalchemy.engine.Engine [raw sql] {}\n",
      "2023-09-29 09:55:47,876 INFO sqlalchemy.engine.Engine DESCRIBE `book_store`.`category`\n",
      "2023-09-29 09:55:47,877 INFO sqlalchemy.engine.Engine [raw sql] {}\n",
      "2023-09-29 09:55:47,885 INFO sqlalchemy.engine.Engine DESCRIBE `book_store`.`group_category`\n",
      "2023-09-29 09:55:47,887 INFO sqlalchemy.engine.Engine [raw sql] {}\n",
      "2023-09-29 09:55:47,891 INFO sqlalchemy.engine.Engine \n",
      "CREATE TABLE group_category (\n",
      "\tid INTEGER NOT NULL AUTO_INCREMENT, \n",
      "\tgroup_id INTEGER, \n",
      "\tcategory_id INTEGER, \n",
      "\tPRIMARY KEY (id), \n",
      "\tFOREIGN KEY(group_id) REFERENCES `group` (id), \n",
      "\tFOREIGN KEY(category_id) REFERENCES category (id)\n",
      ")\n",
      "\n",
      "\n",
      "2023-09-29 09:55:47,892 INFO sqlalchemy.engine.Engine [no key 0.00138s] {}\n",
      "2023-09-29 09:55:47,931 INFO sqlalchemy.engine.Engine COMMIT\n"
     ]
    }
   ],
   "source": [
    "#group_category\n",
    "group_category = Table(\n",
    "    'group_category', meta,\n",
    "    Column('id', Integer, primary_key=True, autoincrement=True),\n",
    "    Column('group_id', Integer, ForeignKey('group.id')),\n",
    "    Column('category_id', Integer, ForeignKey('category.id'))\n",
    ")\n",
    "meta.create_all(engine)"
   ]
  },
  {
   "cell_type": "code",
   "execution_count": 9,
   "metadata": {},
   "outputs": [
    {
     "name": "stdout",
     "output_type": "stream",
     "text": [
      "2023-09-29 09:55:50,286 INFO sqlalchemy.engine.Engine BEGIN (implicit)\n",
      "2023-09-29 09:55:50,291 INFO sqlalchemy.engine.Engine DESCRIBE `book_store`.`book`\n",
      "2023-09-29 09:55:50,292 INFO sqlalchemy.engine.Engine [raw sql] {}\n",
      "2023-09-29 09:55:50,297 INFO sqlalchemy.engine.Engine DESCRIBE `book_store`.`group`\n",
      "2023-09-29 09:55:50,298 INFO sqlalchemy.engine.Engine [raw sql] {}\n",
      "2023-09-29 09:55:50,303 INFO sqlalchemy.engine.Engine DESCRIBE `book_store`.`group_book`\n",
      "2023-09-29 09:55:50,304 INFO sqlalchemy.engine.Engine [raw sql] {}\n",
      "2023-09-29 09:55:50,310 INFO sqlalchemy.engine.Engine DESCRIBE `book_store`.`person`\n",
      "2023-09-29 09:55:50,310 INFO sqlalchemy.engine.Engine [raw sql] {}\n",
      "2023-09-29 09:55:50,315 INFO sqlalchemy.engine.Engine DESCRIBE `book_store`.`publisher`\n",
      "2023-09-29 09:55:50,316 INFO sqlalchemy.engine.Engine [raw sql] {}\n",
      "2023-09-29 09:55:50,319 INFO sqlalchemy.engine.Engine DESCRIBE `book_store`.`category`\n",
      "2023-09-29 09:55:50,320 INFO sqlalchemy.engine.Engine [raw sql] {}\n",
      "2023-09-29 09:55:50,327 INFO sqlalchemy.engine.Engine DESCRIBE `book_store`.`group_category`\n",
      "2023-09-29 09:55:50,329 INFO sqlalchemy.engine.Engine [raw sql] {}\n",
      "2023-09-29 09:55:50,332 INFO sqlalchemy.engine.Engine DESCRIBE `book_store`.`book_publisher`\n",
      "2023-09-29 09:55:50,333 INFO sqlalchemy.engine.Engine [raw sql] {}\n",
      "2023-09-29 09:55:50,336 INFO sqlalchemy.engine.Engine \n",
      "CREATE TABLE book_publisher (\n",
      "\tid INTEGER NOT NULL AUTO_INCREMENT, \n",
      "\tbook_code INTEGER, \n",
      "\tpublisher_id INTEGER, \n",
      "\tPRIMARY KEY (id), \n",
      "\tFOREIGN KEY(book_code) REFERENCES book (code), \n",
      "\tFOREIGN KEY(publisher_id) REFERENCES publisher (id)\n",
      ")\n",
      "\n",
      "\n",
      "2023-09-29 09:55:50,337 INFO sqlalchemy.engine.Engine [no key 0.00118s] {}\n",
      "2023-09-29 09:55:50,423 INFO sqlalchemy.engine.Engine COMMIT\n"
     ]
    }
   ],
   "source": [
    "#book_publisher\n",
    "book_publisher = Table(\n",
    "    'book_publisher', meta,\n",
    "    Column('id', Integer, primary_key=True, autoincrement=True),\n",
    "    Column('book_code', Integer, ForeignKey('book.code')),\n",
    "    Column('publisher_id', Integer, ForeignKey('publisher.id'))\n",
    ")\n",
    "meta.create_all(engine)"
   ]
  },
  {
   "cell_type": "code",
   "execution_count": 10,
   "metadata": {},
   "outputs": [
    {
     "name": "stdout",
     "output_type": "stream",
     "text": [
      "2023-09-29 09:55:53,270 INFO sqlalchemy.engine.Engine BEGIN (implicit)\n",
      "2023-09-29 09:55:53,273 INFO sqlalchemy.engine.Engine DESCRIBE `book_store`.`book`\n",
      "2023-09-29 09:55:53,275 INFO sqlalchemy.engine.Engine [raw sql] {}\n",
      "2023-09-29 09:55:53,280 INFO sqlalchemy.engine.Engine DESCRIBE `book_store`.`group`\n",
      "2023-09-29 09:55:53,283 INFO sqlalchemy.engine.Engine [raw sql] {}\n",
      "2023-09-29 09:55:53,289 INFO sqlalchemy.engine.Engine DESCRIBE `book_store`.`group_book`\n",
      "2023-09-29 09:55:53,290 INFO sqlalchemy.engine.Engine [raw sql] {}\n",
      "2023-09-29 09:55:53,297 INFO sqlalchemy.engine.Engine DESCRIBE `book_store`.`person`\n",
      "2023-09-29 09:55:53,299 INFO sqlalchemy.engine.Engine [raw sql] {}\n",
      "2023-09-29 09:55:53,308 INFO sqlalchemy.engine.Engine DESCRIBE `book_store`.`publisher`\n",
      "2023-09-29 09:55:53,310 INFO sqlalchemy.engine.Engine [raw sql] {}\n",
      "2023-09-29 09:55:53,318 INFO sqlalchemy.engine.Engine DESCRIBE `book_store`.`category`\n",
      "2023-09-29 09:55:53,319 INFO sqlalchemy.engine.Engine [raw sql] {}\n",
      "2023-09-29 09:55:53,325 INFO sqlalchemy.engine.Engine DESCRIBE `book_store`.`group_category`\n",
      "2023-09-29 09:55:53,326 INFO sqlalchemy.engine.Engine [raw sql] {}\n",
      "2023-09-29 09:55:53,328 INFO sqlalchemy.engine.Engine DESCRIBE `book_store`.`book_publisher`\n",
      "2023-09-29 09:55:53,329 INFO sqlalchemy.engine.Engine [raw sql] {}\n",
      "2023-09-29 09:55:53,337 INFO sqlalchemy.engine.Engine DESCRIBE `book_store`.`crew`\n",
      "2023-09-29 09:55:53,338 INFO sqlalchemy.engine.Engine [raw sql] {}\n",
      "2023-09-29 09:55:53,342 INFO sqlalchemy.engine.Engine \n",
      "CREATE TABLE crew (\n",
      "\tid INTEGER NOT NULL AUTO_INCREMENT, \n",
      "\tbook_code INTEGER, \n",
      "\tperson_counter INTEGER, \n",
      "\t`role` VARCHAR(15), \n",
      "\tPRIMARY KEY (id), \n",
      "\tFOREIGN KEY(book_code) REFERENCES book (code), \n",
      "\tFOREIGN KEY(person_counter) REFERENCES person (counter)\n",
      ")\n",
      "\n",
      "\n",
      "2023-09-29 09:55:53,343 INFO sqlalchemy.engine.Engine [no key 0.00128s] {}\n",
      "2023-09-29 09:55:53,384 INFO sqlalchemy.engine.Engine COMMIT\n"
     ]
    }
   ],
   "source": [
    "#crew\n",
    "crew = Table(\n",
    "    'crew', meta,\n",
    "    Column('id', Integer, primary_key=True, autoincrement=True),\n",
    "    Column('book_code', Integer, ForeignKey('book.code')),\n",
    "    Column('person_counter', Integer, ForeignKey('person.counter')),\n",
    "    Column('role', String(15))\n",
    ")\n",
    "meta.create_all(engine)"
   ]
  }
 ],
 "metadata": {
  "kernelspec": {
   "display_name": "Python 3.10.6 64-bit",
   "language": "python",
   "name": "python3"
  },
  "language_info": {
   "codemirror_mode": {
    "name": "ipython",
    "version": 3
   },
   "file_extension": ".py",
   "mimetype": "text/x-python",
   "name": "python",
   "nbconvert_exporter": "python",
   "pygments_lexer": "ipython3",
   "version": "3.10.6"
  },
  "orig_nbformat": 4,
  "vscode": {
   "interpreter": {
    "hash": "73c10509234451b7c9059ae5f54ad33529ef7b4c9c761939e46712064d00bc14"
   }
  }
 },
 "nbformat": 4,
 "nbformat_minor": 2
}
