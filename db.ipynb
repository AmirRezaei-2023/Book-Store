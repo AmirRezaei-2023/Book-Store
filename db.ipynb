{
 "cells": [
  {
   "cell_type": "markdown",
   "metadata": {},
   "source": [
    "# connect\n"
   ]
  },
  {
   "cell_type": "code",
   "execution_count": 1,
   "metadata": {},
   "outputs": [
    {
     "name": "stdout",
     "output_type": "stream",
     "text": [
      "2023-09-26 23:55:09,300 INFO sqlalchemy.engine.Engine SELECT DATABASE()\n",
      "2023-09-26 23:55:09,301 INFO sqlalchemy.engine.Engine [raw sql] {}\n",
      "2023-09-26 23:55:09,303 INFO sqlalchemy.engine.Engine SELECT @@sql_mode\n",
      "2023-09-26 23:55:09,304 INFO sqlalchemy.engine.Engine [raw sql] {}\n",
      "2023-09-26 23:55:09,307 INFO sqlalchemy.engine.Engine SELECT @@lower_case_table_names\n",
      "2023-09-26 23:55:09,310 INFO sqlalchemy.engine.Engine [raw sql] {}\n"
     ]
    }
   ],
   "source": [
    "import pandas as pd\n",
    "import mysql.connector\n",
    "from sqlalchemy import create_engine, MetaData, URL, Identity\n",
    "from sqlalchemy import Table, Column, Integer, String, BOOLEAN, DATE, ForeignKey\n",
    "\n",
    "\n",
    "#Creating Database,Connection\n",
    "meta = MetaData()\n",
    "USERNAME = 'root'\n",
    "PASSWORD = '13771377Mnn@'\n",
    "SERVER = 'localhost'\n",
    "PORT = 3306\n",
    "DATABASE = 'book_store'\n",
    "\n",
    "url_object = URL.create(\"mysql+mysqlconnector\",\n",
    "                        username=USERNAME,\n",
    "                        password=PASSWORD,\n",
    "                        host=SERVER,\n",
    "                        database=DATABASE)\n",
    "engine = create_engine(url_object,echo = True)\n",
    "conn = engine.connect()"
   ]
  },
  {
   "cell_type": "markdown",
   "metadata": {},
   "source": [
    "# create model database"
   ]
  },
  {
   "cell_type": "code",
   "execution_count": 2,
   "metadata": {},
   "outputs": [
    {
     "name": "stdout",
     "output_type": "stream",
     "text": [
      "2023-09-26 23:55:09,412 INFO sqlalchemy.engine.Engine BEGIN (implicit)\n",
      "2023-09-26 23:55:09,416 INFO sqlalchemy.engine.Engine DESCRIBE `book_store`.`book`\n",
      "2023-09-26 23:55:09,419 INFO sqlalchemy.engine.Engine [raw sql] {}\n",
      "2023-09-26 23:55:09,468 INFO sqlalchemy.engine.Engine \n",
      "CREATE TABLE book (\n",
      "\tcode INTEGER NOT NULL AUTO_INCREMENT, \n",
      "\ttitle_persian VARCHAR(2000), \n",
      "\ttitle_english VARCHAR(2000), \n",
      "\tprice INTEGER, \n",
      "\tdiscount INTEGER, \n",
      "\tgrade INTEGER, \n",
      "\tshabak VARCHAR(50), \n",
      "\tpage_count INTEGER, \n",
      "\trelease_year_sh INTEGER, \n",
      "\trelease_year_mi INTEGER, \n",
      "\texist BOOL, \n",
      "\tearliest_access DATE, \n",
      "\tprint_series INTEGER, \n",
      "\tcover VARCHAR(100), \n",
      "\tghate VARCHAR(100), \n",
      "\tPRIMARY KEY (code)\n",
      ")\n",
      "\n",
      "\n",
      "2023-09-26 23:55:09,469 INFO sqlalchemy.engine.Engine [no key 0.00202s] {}\n",
      "2023-09-26 23:55:09,612 INFO sqlalchemy.engine.Engine COMMIT\n"
     ]
    }
   ],
   "source": [
    "#Creating Tables\n",
    "#book\n",
    "book = Table(\n",
    "    'book', meta,\n",
    "    Column('code', Integer, primary_key=True),\n",
    "    Column('title_persian', String(2000)),\n",
    "    Column('title_english', String(2000)),\n",
    "    Column('price', Integer),\n",
    "    Column('discount', Integer),\n",
    "    Column('grade', Integer),\n",
    "    Column('shabak', String(50)),\n",
    "    Column('page_count', Integer),\n",
    "    Column('release_year_sh', Integer),\n",
    "    Column('release_year_mi', Integer),\n",
    "    Column('exist', BOOLEAN),\n",
    "    Column('earliest_access', DATE),\n",
    "    Column('print_series', Integer),\n",
    "    Column('cover', String(100)),\n",
    "    Column('ghate', String(100))\n",
    ")\n",
    "meta.create_all(engine)"
   ]
  },
  {
   "cell_type": "code",
   "execution_count": 3,
   "metadata": {},
   "outputs": [
    {
     "name": "stdout",
     "output_type": "stream",
     "text": [
      "2023-09-26 23:55:09,770 INFO sqlalchemy.engine.Engine BEGIN (implicit)\n",
      "2023-09-26 23:55:09,772 INFO sqlalchemy.engine.Engine DESCRIBE `book_store`.`book`\n",
      "2023-09-26 23:55:09,773 INFO sqlalchemy.engine.Engine [raw sql] {}\n",
      "2023-09-26 23:55:09,789 INFO sqlalchemy.engine.Engine DESCRIBE `book_store`.`group`\n",
      "2023-09-26 23:55:09,792 INFO sqlalchemy.engine.Engine [raw sql] {}\n",
      "2023-09-26 23:55:09,803 INFO sqlalchemy.engine.Engine \n",
      "CREATE TABLE `group` (\n",
      "\tid INTEGER NOT NULL AUTO_INCREMENT, \n",
      "\tdescription VARCHAR(5000), \n",
      "\tPRIMARY KEY (id)\n",
      ")\n",
      "\n",
      "\n",
      "2023-09-26 23:55:09,804 INFO sqlalchemy.engine.Engine [no key 0.00201s] {}\n",
      "2023-09-26 23:55:09,868 INFO sqlalchemy.engine.Engine COMMIT\n"
     ]
    }
   ],
   "source": [
    "#group\n",
    "group = Table(\n",
    "    'group', meta,\n",
    "    Column('id', Integer, primary_key=True),\n",
    "    Column('description', String(5000))\n",
    ")\n",
    "meta.create_all(engine)"
   ]
  },
  {
   "cell_type": "code",
   "execution_count": 4,
   "metadata": {},
   "outputs": [
    {
     "name": "stdout",
     "output_type": "stream",
     "text": [
      "2023-09-26 23:55:09,946 INFO sqlalchemy.engine.Engine BEGIN (implicit)\n",
      "2023-09-26 23:55:09,950 INFO sqlalchemy.engine.Engine DESCRIBE `book_store`.`book`\n",
      "2023-09-26 23:55:09,952 INFO sqlalchemy.engine.Engine [raw sql] {}\n",
      "2023-09-26 23:55:09,960 INFO sqlalchemy.engine.Engine DESCRIBE `book_store`.`group`\n",
      "2023-09-26 23:55:09,966 INFO sqlalchemy.engine.Engine [raw sql] {}\n",
      "2023-09-26 23:55:09,981 INFO sqlalchemy.engine.Engine DESCRIBE `book_store`.`group_book`\n",
      "2023-09-26 23:55:09,983 INFO sqlalchemy.engine.Engine [raw sql] {}\n",
      "2023-09-26 23:55:09,988 INFO sqlalchemy.engine.Engine \n",
      "CREATE TABLE group_book (\n",
      "\tid INTEGER NOT NULL AUTO_INCREMENT, \n",
      "\tgroup_id INTEGER, \n",
      "\tPRIMARY KEY (id), \n",
      "\tFOREIGN KEY(group_id) REFERENCES `group` (id)\n",
      ")\n",
      "\n",
      "\n",
      "2023-09-26 23:55:09,989 INFO sqlalchemy.engine.Engine [no key 0.00172s] {}\n",
      "2023-09-26 23:55:10,057 INFO sqlalchemy.engine.Engine COMMIT\n"
     ]
    }
   ],
   "source": [
    "#group_book\n",
    "group_book = Table(\n",
    "    'group_book', meta,\n",
    "    Column('id', Integer, primary_key=True, autoincrement=True),\n",
    "    Column('group_id', Integer, ForeignKey('group.id'))\n",
    ")\n",
    "meta.create_all(engine)"
   ]
  },
  {
   "cell_type": "code",
   "execution_count": 5,
   "metadata": {},
   "outputs": [
    {
     "name": "stdout",
     "output_type": "stream",
     "text": [
      "2023-09-26 23:55:10,188 INFO sqlalchemy.engine.Engine BEGIN (implicit)\n",
      "2023-09-26 23:55:10,191 INFO sqlalchemy.engine.Engine DESCRIBE `book_store`.`book`\n",
      "2023-09-26 23:55:10,194 INFO sqlalchemy.engine.Engine [raw sql] {}\n",
      "2023-09-26 23:55:10,204 INFO sqlalchemy.engine.Engine DESCRIBE `book_store`.`group`\n",
      "2023-09-26 23:55:10,206 INFO sqlalchemy.engine.Engine [raw sql] {}\n",
      "2023-09-26 23:55:10,216 INFO sqlalchemy.engine.Engine DESCRIBE `book_store`.`group_book`\n",
      "2023-09-26 23:55:10,220 INFO sqlalchemy.engine.Engine [raw sql] {}\n",
      "2023-09-26 23:55:10,238 INFO sqlalchemy.engine.Engine DESCRIBE `book_store`.`person`\n",
      "2023-09-26 23:55:10,245 INFO sqlalchemy.engine.Engine [raw sql] {}\n",
      "2023-09-26 23:55:10,250 INFO sqlalchemy.engine.Engine \n",
      "CREATE TABLE person (\n",
      "\tcounter INTEGER NOT NULL AUTO_INCREMENT, \n",
      "\tid INTEGER, \n",
      "\tname VARCHAR(100), \n",
      "\tdescription VARCHAR(5000), \n",
      "\tPRIMARY KEY (counter)\n",
      ")\n",
      "\n",
      "\n",
      "2023-09-26 23:55:10,252 INFO sqlalchemy.engine.Engine [no key 0.00215s] {}\n",
      "2023-09-26 23:55:10,299 INFO sqlalchemy.engine.Engine COMMIT\n"
     ]
    }
   ],
   "source": [
    "#person\n",
    "person = Table(\n",
    "    'person', meta,\n",
    "    Column('counter', Integer, primary_key=True,autoincrement=True),\n",
    "    Column('id', Integer),\n",
    "    Column('name', String(100)),\n",
    "    Column('description', String(5000))\n",
    ")\n",
    "meta.create_all(engine)"
   ]
  },
  {
   "cell_type": "code",
   "execution_count": 6,
   "metadata": {},
   "outputs": [
    {
     "name": "stdout",
     "output_type": "stream",
     "text": [
      "2023-09-26 23:55:10,443 INFO sqlalchemy.engine.Engine BEGIN (implicit)\n",
      "2023-09-26 23:55:10,449 INFO sqlalchemy.engine.Engine DESCRIBE `book_store`.`book`\n",
      "2023-09-26 23:55:10,451 INFO sqlalchemy.engine.Engine [raw sql] {}\n",
      "2023-09-26 23:55:10,457 INFO sqlalchemy.engine.Engine DESCRIBE `book_store`.`group`\n",
      "2023-09-26 23:55:10,460 INFO sqlalchemy.engine.Engine [raw sql] {}\n",
      "2023-09-26 23:55:10,472 INFO sqlalchemy.engine.Engine DESCRIBE `book_store`.`group_book`\n",
      "2023-09-26 23:55:10,474 INFO sqlalchemy.engine.Engine [raw sql] {}\n",
      "2023-09-26 23:55:10,485 INFO sqlalchemy.engine.Engine DESCRIBE `book_store`.`person`\n",
      "2023-09-26 23:55:10,489 INFO sqlalchemy.engine.Engine [raw sql] {}\n",
      "2023-09-26 23:55:10,496 INFO sqlalchemy.engine.Engine DESCRIBE `book_store`.`publisher`\n",
      "2023-09-26 23:55:10,497 INFO sqlalchemy.engine.Engine [raw sql] {}\n",
      "2023-09-26 23:55:10,500 INFO sqlalchemy.engine.Engine \n",
      "CREATE TABLE publisher (\n",
      "\tid INTEGER NOT NULL AUTO_INCREMENT, \n",
      "\tname VARCHAR(100), \n",
      "\tPRIMARY KEY (id)\n",
      ")\n",
      "\n",
      "\n",
      "2023-09-26 23:55:10,502 INFO sqlalchemy.engine.Engine [no key 0.00168s] {}\n",
      "2023-09-26 23:55:10,557 INFO sqlalchemy.engine.Engine COMMIT\n"
     ]
    }
   ],
   "source": [
    "#publisher\n",
    "publisher = Table(\n",
    "    'publisher', meta,\n",
    "    Column('id', Integer, primary_key=True),\n",
    "    Column('name', String(100))\n",
    ")\n",
    "meta.create_all(engine)"
   ]
  },
  {
   "cell_type": "code",
   "execution_count": 7,
   "metadata": {},
   "outputs": [
    {
     "name": "stdout",
     "output_type": "stream",
     "text": [
      "2023-09-26 23:55:10,646 INFO sqlalchemy.engine.Engine BEGIN (implicit)\n",
      "2023-09-26 23:55:10,650 INFO sqlalchemy.engine.Engine DESCRIBE `book_store`.`book`\n",
      "2023-09-26 23:55:10,652 INFO sqlalchemy.engine.Engine [raw sql] {}\n",
      "2023-09-26 23:55:10,657 INFO sqlalchemy.engine.Engine DESCRIBE `book_store`.`group`\n",
      "2023-09-26 23:55:10,658 INFO sqlalchemy.engine.Engine [raw sql] {}\n",
      "2023-09-26 23:55:10,667 INFO sqlalchemy.engine.Engine DESCRIBE `book_store`.`group_book`\n",
      "2023-09-26 23:55:10,668 INFO sqlalchemy.engine.Engine [raw sql] {}\n",
      "2023-09-26 23:55:10,672 INFO sqlalchemy.engine.Engine DESCRIBE `book_store`.`person`\n",
      "2023-09-26 23:55:10,672 INFO sqlalchemy.engine.Engine [raw sql] {}\n",
      "2023-09-26 23:55:10,678 INFO sqlalchemy.engine.Engine DESCRIBE `book_store`.`publisher`\n",
      "2023-09-26 23:55:10,680 INFO sqlalchemy.engine.Engine [raw sql] {}\n",
      "2023-09-26 23:55:10,687 INFO sqlalchemy.engine.Engine DESCRIBE `book_store`.`category`\n",
      "2023-09-26 23:55:10,688 INFO sqlalchemy.engine.Engine [raw sql] {}\n",
      "2023-09-26 23:55:10,690 INFO sqlalchemy.engine.Engine \n",
      "CREATE TABLE category (\n",
      "\tid INTEGER NOT NULL AUTO_INCREMENT, \n",
      "\tname VARCHAR(50), \n",
      "\tdescription VARCHAR(5000), \n",
      "\tPRIMARY KEY (id)\n",
      ")\n",
      "\n",
      "\n",
      "2023-09-26 23:55:10,700 INFO sqlalchemy.engine.Engine [no key 0.00960s] {}\n",
      "2023-09-26 23:55:10,767 INFO sqlalchemy.engine.Engine COMMIT\n"
     ]
    }
   ],
   "source": [
    "#category\n",
    "category = Table(\n",
    "    'category', meta,\n",
    "    Column('id', Integer, primary_key=True),\n",
    "    Column('name', String(50)),\n",
    "    Column('description', String(5000))\n",
    ")\n",
    "meta.create_all(engine)"
   ]
  },
  {
   "cell_type": "code",
   "execution_count": 8,
   "metadata": {},
   "outputs": [
    {
     "name": "stdout",
     "output_type": "stream",
     "text": [
      "2023-09-26 23:55:10,933 INFO sqlalchemy.engine.Engine BEGIN (implicit)\n",
      "2023-09-26 23:55:10,939 INFO sqlalchemy.engine.Engine DESCRIBE `book_store`.`book`\n",
      "2023-09-26 23:55:10,942 INFO sqlalchemy.engine.Engine [raw sql] {}\n",
      "2023-09-26 23:55:10,956 INFO sqlalchemy.engine.Engine DESCRIBE `book_store`.`group`\n",
      "2023-09-26 23:55:10,964 INFO sqlalchemy.engine.Engine [raw sql] {}\n",
      "2023-09-26 23:55:10,979 INFO sqlalchemy.engine.Engine DESCRIBE `book_store`.`group_book`\n",
      "2023-09-26 23:55:10,987 INFO sqlalchemy.engine.Engine [raw sql] {}\n",
      "2023-09-26 23:55:10,992 INFO sqlalchemy.engine.Engine DESCRIBE `book_store`.`person`\n",
      "2023-09-26 23:55:10,997 INFO sqlalchemy.engine.Engine [raw sql] {}\n",
      "2023-09-26 23:55:11,006 INFO sqlalchemy.engine.Engine DESCRIBE `book_store`.`publisher`\n",
      "2023-09-26 23:55:11,010 INFO sqlalchemy.engine.Engine [raw sql] {}\n",
      "2023-09-26 23:55:11,014 INFO sqlalchemy.engine.Engine DESCRIBE `book_store`.`category`\n",
      "2023-09-26 23:55:11,015 INFO sqlalchemy.engine.Engine [raw sql] {}\n",
      "2023-09-26 23:55:11,019 INFO sqlalchemy.engine.Engine DESCRIBE `book_store`.`group_category`\n",
      "2023-09-26 23:55:11,020 INFO sqlalchemy.engine.Engine [raw sql] {}\n",
      "2023-09-26 23:55:11,023 INFO sqlalchemy.engine.Engine \n",
      "CREATE TABLE group_category (\n",
      "\tid INTEGER NOT NULL AUTO_INCREMENT, \n",
      "\tgroup_id INTEGER, \n",
      "\tcategory_id INTEGER, \n",
      "\tPRIMARY KEY (id), \n",
      "\tFOREIGN KEY(group_id) REFERENCES `group` (id), \n",
      "\tFOREIGN KEY(category_id) REFERENCES category (id)\n",
      ")\n",
      "\n",
      "\n",
      "2023-09-26 23:55:11,025 INFO sqlalchemy.engine.Engine [no key 0.00179s] {}\n",
      "2023-09-26 23:55:11,153 INFO sqlalchemy.engine.Engine COMMIT\n"
     ]
    }
   ],
   "source": [
    "#group_category\n",
    "group_category = Table(\n",
    "    'group_category', meta,\n",
    "    Column('id', Integer, primary_key=True, autoincrement=True),\n",
    "    Column('group_id', Integer, ForeignKey('group.id')),\n",
    "    Column('category_id', Integer, ForeignKey('category.id'))\n",
    ")\n",
    "meta.create_all(engine)"
   ]
  },
  {
   "cell_type": "code",
   "execution_count": 9,
   "metadata": {},
   "outputs": [
    {
     "name": "stdout",
     "output_type": "stream",
     "text": [
      "2023-09-26 23:55:11,400 INFO sqlalchemy.engine.Engine BEGIN (implicit)\n",
      "2023-09-26 23:55:11,403 INFO sqlalchemy.engine.Engine DESCRIBE `book_store`.`book`\n",
      "2023-09-26 23:55:11,408 INFO sqlalchemy.engine.Engine [raw sql] {}\n",
      "2023-09-26 23:55:11,413 INFO sqlalchemy.engine.Engine DESCRIBE `book_store`.`group`\n",
      "2023-09-26 23:55:11,414 INFO sqlalchemy.engine.Engine [raw sql] {}\n",
      "2023-09-26 23:55:11,417 INFO sqlalchemy.engine.Engine DESCRIBE `book_store`.`group_book`\n",
      "2023-09-26 23:55:11,418 INFO sqlalchemy.engine.Engine [raw sql] {}\n",
      "2023-09-26 23:55:11,422 INFO sqlalchemy.engine.Engine DESCRIBE `book_store`.`person`\n",
      "2023-09-26 23:55:11,423 INFO sqlalchemy.engine.Engine [raw sql] {}\n",
      "2023-09-26 23:55:11,434 INFO sqlalchemy.engine.Engine DESCRIBE `book_store`.`publisher`\n",
      "2023-09-26 23:55:11,440 INFO sqlalchemy.engine.Engine [raw sql] {}\n",
      "2023-09-26 23:55:11,449 INFO sqlalchemy.engine.Engine DESCRIBE `book_store`.`category`\n",
      "2023-09-26 23:55:11,451 INFO sqlalchemy.engine.Engine [raw sql] {}\n",
      "2023-09-26 23:55:11,455 INFO sqlalchemy.engine.Engine DESCRIBE `book_store`.`group_category`\n",
      "2023-09-26 23:55:11,456 INFO sqlalchemy.engine.Engine [raw sql] {}\n",
      "2023-09-26 23:55:11,465 INFO sqlalchemy.engine.Engine DESCRIBE `book_store`.`book_publisher`\n",
      "2023-09-26 23:55:11,468 INFO sqlalchemy.engine.Engine [raw sql] {}\n",
      "2023-09-26 23:55:11,473 INFO sqlalchemy.engine.Engine \n",
      "CREATE TABLE book_publisher (\n",
      "\tid INTEGER NOT NULL AUTO_INCREMENT, \n",
      "\tbook_code INTEGER, \n",
      "\tpublisher_id INTEGER, \n",
      "\tPRIMARY KEY (id), \n",
      "\tFOREIGN KEY(book_code) REFERENCES book (code), \n",
      "\tFOREIGN KEY(publisher_id) REFERENCES publisher (id)\n",
      ")\n",
      "\n",
      "\n",
      "2023-09-26 23:55:11,475 INFO sqlalchemy.engine.Engine [no key 0.00206s] {}\n",
      "2023-09-26 23:55:11,545 INFO sqlalchemy.engine.Engine COMMIT\n"
     ]
    }
   ],
   "source": [
    "#book_publisher\n",
    "book_publisher = Table(\n",
    "    'book_publisher', meta,\n",
    "    Column('id', Integer, primary_key=True, autoincrement=True),\n",
    "    Column('book_code', Integer, ForeignKey('book.code')),\n",
    "    Column('publisher_id', Integer, ForeignKey('publisher.id'))\n",
    ")\n",
    "meta.create_all(engine)"
   ]
  },
  {
   "cell_type": "code",
   "execution_count": 10,
   "metadata": {},
   "outputs": [
    {
     "name": "stdout",
     "output_type": "stream",
     "text": [
      "2023-09-26 23:55:11,628 INFO sqlalchemy.engine.Engine BEGIN (implicit)\n",
      "2023-09-26 23:55:11,632 INFO sqlalchemy.engine.Engine DESCRIBE `book_store`.`book`\n",
      "2023-09-26 23:55:11,633 INFO sqlalchemy.engine.Engine [raw sql] {}\n",
      "2023-09-26 23:55:11,638 INFO sqlalchemy.engine.Engine DESCRIBE `book_store`.`group`\n",
      "2023-09-26 23:55:11,639 INFO sqlalchemy.engine.Engine [raw sql] {}\n",
      "2023-09-26 23:55:11,643 INFO sqlalchemy.engine.Engine DESCRIBE `book_store`.`group_book`\n",
      "2023-09-26 23:55:11,644 INFO sqlalchemy.engine.Engine [raw sql] {}\n",
      "2023-09-26 23:55:11,647 INFO sqlalchemy.engine.Engine DESCRIBE `book_store`.`person`\n",
      "2023-09-26 23:55:11,648 INFO sqlalchemy.engine.Engine [raw sql] {}\n",
      "2023-09-26 23:55:11,651 INFO sqlalchemy.engine.Engine DESCRIBE `book_store`.`publisher`\n",
      "2023-09-26 23:55:11,652 INFO sqlalchemy.engine.Engine [raw sql] {}\n",
      "2023-09-26 23:55:11,657 INFO sqlalchemy.engine.Engine DESCRIBE `book_store`.`category`\n",
      "2023-09-26 23:55:11,658 INFO sqlalchemy.engine.Engine [raw sql] {}\n",
      "2023-09-26 23:55:11,663 INFO sqlalchemy.engine.Engine DESCRIBE `book_store`.`group_category`\n",
      "2023-09-26 23:55:11,664 INFO sqlalchemy.engine.Engine [raw sql] {}\n",
      "2023-09-26 23:55:11,667 INFO sqlalchemy.engine.Engine DESCRIBE `book_store`.`book_publisher`\n",
      "2023-09-26 23:55:11,669 INFO sqlalchemy.engine.Engine [raw sql] {}\n",
      "2023-09-26 23:55:11,673 INFO sqlalchemy.engine.Engine DESCRIBE `book_store`.`crew`\n",
      "2023-09-26 23:55:11,675 INFO sqlalchemy.engine.Engine [raw sql] {}\n",
      "2023-09-26 23:55:11,718 INFO sqlalchemy.engine.Engine \n",
      "CREATE TABLE crew (\n",
      "\tid INTEGER NOT NULL AUTO_INCREMENT, \n",
      "\tbook_code INTEGER, \n",
      "\tperson_counter INTEGER, \n",
      "\t`role` VARCHAR(15), \n",
      "\tPRIMARY KEY (id), \n",
      "\tFOREIGN KEY(book_code) REFERENCES book (code), \n",
      "\tFOREIGN KEY(person_counter) REFERENCES person (counter)\n",
      ")\n",
      "\n",
      "\n",
      "2023-09-26 23:55:11,719 INFO sqlalchemy.engine.Engine [no key 0.03429s] {}\n",
      "2023-09-26 23:55:11,862 INFO sqlalchemy.engine.Engine COMMIT\n"
     ]
    }
   ],
   "source": [
    "#crew\n",
    "crew = Table(\n",
    "    'crew', meta,\n",
    "    Column('id', Integer, primary_key=True, autoincrement=True),\n",
    "    Column('book_code', Integer, ForeignKey('book.code')),\n",
    "    Column('person_counter', Integer, ForeignKey('person.counter')),\n",
    "    Column('role', String(15))\n",
    ")\n",
    "meta.create_all(engine)"
   ]
  }
 ],
 "metadata": {
  "kernelspec": {
   "display_name": "Python 3.10.6 64-bit",
   "language": "python",
   "name": "python3"
  },
  "language_info": {
   "codemirror_mode": {
    "name": "ipython",
    "version": 3
   },
   "file_extension": ".py",
   "mimetype": "text/x-python",
   "name": "python",
   "nbconvert_exporter": "python",
   "pygments_lexer": "ipython3",
   "version": "3.10.6"
  },
  "orig_nbformat": 4,
  "vscode": {
   "interpreter": {
    "hash": "73c10509234451b7c9059ae5f54ad33529ef7b4c9c761939e46712064d00bc14"
   }
  }
 },
 "nbformat": 4,
 "nbformat_minor": 2
}
