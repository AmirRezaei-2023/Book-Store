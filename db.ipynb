{
 "cells": [
  {
   "cell_type": "markdown",
   "metadata": {},
   "source": [
    "# connect\n"
   ]
  },
  {
   "cell_type": "code",
   "execution_count": 40,
   "metadata": {},
   "outputs": [
    {
     "name": "stdout",
     "output_type": "stream",
     "text": [
      "2023-09-28 09:12:16,565 INFO sqlalchemy.engine.Engine SELECT DATABASE()\n",
      "2023-09-28 09:12:16,566 INFO sqlalchemy.engine.Engine [raw sql] {}\n",
      "2023-09-28 09:12:16,571 INFO sqlalchemy.engine.Engine SELECT @@sql_mode\n",
      "2023-09-28 09:12:16,571 INFO sqlalchemy.engine.Engine [raw sql] {}\n",
      "2023-09-28 09:12:16,573 INFO sqlalchemy.engine.Engine SELECT @@lower_case_table_names\n",
      "2023-09-28 09:12:16,574 INFO sqlalchemy.engine.Engine [raw sql] {}\n"
     ]
    }
   ],
   "source": [
    "import pandas as pd\n",
    "import mysql.connector\n",
    "from sqlalchemy import create_engine, MetaData, URL, Identity\n",
    "from sqlalchemy import Table, Column, Integer, String, BOOLEAN, DATE, ForeignKey\n",
    "\n",
    "\n",
    "#Creating Database,Connection\n",
    "meta = MetaData()\n",
    "USERNAME = 'root'\n",
    "PASSWORD = '13771377Mnn@'\n",
    "SERVER = 'localhost'\n",
    "PORT = 3306\n",
    "DATABASE = 'book_store'\n",
    "\n",
    "url_object = URL.create(\"mysql+mysqlconnector\",\n",
    "                        username=USERNAME,\n",
    "                        password=PASSWORD,\n",
    "                        host=SERVER,\n",
    "                        database=DATABASE)\n",
    "engine = create_engine(url_object,echo = True)\n",
    "conn = engine.connect()"
   ]
  },
  {
   "cell_type": "markdown",
   "metadata": {},
   "source": [
    "# create model database"
   ]
  },
  {
   "cell_type": "code",
   "execution_count": 41,
   "metadata": {},
   "outputs": [
    {
     "name": "stdout",
     "output_type": "stream",
     "text": [
      "2023-09-28 09:12:16,719 INFO sqlalchemy.engine.Engine BEGIN (implicit)\n",
      "2023-09-28 09:12:16,720 INFO sqlalchemy.engine.Engine DESCRIBE `book_store`.`book`\n",
      "2023-09-28 09:12:16,721 INFO sqlalchemy.engine.Engine [raw sql] {}\n",
      "2023-09-28 09:12:16,738 INFO sqlalchemy.engine.Engine \n",
      "CREATE TABLE book (\n",
      "\tcode INTEGER NOT NULL AUTO_INCREMENT, \n",
      "\ttitle_persian VARCHAR(2000), \n",
      "\ttitle_english VARCHAR(2000), \n",
      "\tprice INTEGER, \n",
      "\tdiscount INTEGER, \n",
      "\tgrade INTEGER, \n",
      "\tshabak VARCHAR(50), \n",
      "\tpage_count INTEGER, \n",
      "\trelease_year_sh INTEGER, \n",
      "\trelease_year_mi INTEGER, \n",
      "\texist BOOL, \n",
      "\tearliest_access DATE, \n",
      "\tprint_series INTEGER, \n",
      "\tcover VARCHAR(100), \n",
      "\tghate VARCHAR(100), \n",
      "\tPRIMARY KEY (code)\n",
      ")\n",
      "\n",
      "\n",
      "2023-09-28 09:12:16,740 INFO sqlalchemy.engine.Engine [no key 0.00311s] {}\n",
      "2023-09-28 09:12:16,823 INFO sqlalchemy.engine.Engine COMMIT\n"
     ]
    }
   ],
   "source": [
    "#Creating Tables\n",
    "#book\n",
    "book = Table(\n",
    "    'book', meta,\n",
    "    Column('code', Integer, primary_key=True),\n",
    "    Column('title_persian', String(2000)),\n",
    "    Column('title_english', String(2000)),\n",
    "    Column('price', Integer),\n",
    "    Column('discount', Integer),\n",
    "    Column('grade', Integer),\n",
    "    Column('shabak', String(50)),\n",
    "    Column('page_count', Integer),\n",
    "    Column('release_year_sh', Integer),\n",
    "    Column('release_year_mi', Integer),\n",
    "    Column('exist', BOOLEAN),\n",
    "    Column('earliest_access', DATE),\n",
    "    Column('print_series', Integer),\n",
    "    Column('cover', String(100)),\n",
    "    Column('ghate', String(100))\n",
    ")\n",
    "meta.create_all(engine)"
   ]
  },
  {
   "cell_type": "code",
   "execution_count": 42,
   "metadata": {},
   "outputs": [
    {
     "name": "stdout",
     "output_type": "stream",
     "text": [
      "2023-09-28 09:12:16,891 INFO sqlalchemy.engine.Engine BEGIN (implicit)\n",
      "2023-09-28 09:12:16,892 INFO sqlalchemy.engine.Engine DESCRIBE `book_store`.`book`\n",
      "2023-09-28 09:12:16,893 INFO sqlalchemy.engine.Engine [raw sql] {}\n",
      "2023-09-28 09:12:16,900 INFO sqlalchemy.engine.Engine DESCRIBE `book_store`.`group`\n",
      "2023-09-28 09:12:16,900 INFO sqlalchemy.engine.Engine [raw sql] {}\n",
      "2023-09-28 09:12:16,903 INFO sqlalchemy.engine.Engine \n",
      "CREATE TABLE `group` (\n",
      "\tid INTEGER NOT NULL AUTO_INCREMENT, \n",
      "\tdescription VARCHAR(5000), \n",
      "\tPRIMARY KEY (id)\n",
      ")\n",
      "\n",
      "\n",
      "2023-09-28 09:12:16,905 INFO sqlalchemy.engine.Engine [no key 0.00126s] {}\n",
      "2023-09-28 09:12:16,950 INFO sqlalchemy.engine.Engine COMMIT\n"
     ]
    }
   ],
   "source": [
    "#group\n",
    "group = Table(\n",
    "    'group', meta,\n",
    "    Column('id', Integer, primary_key=True),\n",
    "    Column('description', String(5000))\n",
    ")\n",
    "meta.create_all(engine)"
   ]
  },
  {
   "cell_type": "code",
   "execution_count": 43,
   "metadata": {},
   "outputs": [
    {
     "name": "stdout",
     "output_type": "stream",
     "text": [
      "2023-09-28 09:12:17,026 INFO sqlalchemy.engine.Engine BEGIN (implicit)\n",
      "2023-09-28 09:12:17,031 INFO sqlalchemy.engine.Engine DESCRIBE `book_store`.`book`\n",
      "2023-09-28 09:12:17,034 INFO sqlalchemy.engine.Engine [raw sql] {}\n",
      "2023-09-28 09:12:17,038 INFO sqlalchemy.engine.Engine DESCRIBE `book_store`.`group`\n",
      "2023-09-28 09:12:17,040 INFO sqlalchemy.engine.Engine [raw sql] {}\n",
      "2023-09-28 09:12:17,046 INFO sqlalchemy.engine.Engine DESCRIBE `book_store`.`group_book`\n",
      "2023-09-28 09:12:17,048 INFO sqlalchemy.engine.Engine [raw sql] {}\n",
      "2023-09-28 09:12:17,053 INFO sqlalchemy.engine.Engine \n",
      "CREATE TABLE group_book (\n",
      "\tid INTEGER NOT NULL AUTO_INCREMENT, \n",
      "\tgroup_id INTEGER, \n",
      "\tbook_code INTEGER, \n",
      "\tPRIMARY KEY (id), \n",
      "\tFOREIGN KEY(group_id) REFERENCES `group` (id), \n",
      "\tFOREIGN KEY(book_code) REFERENCES book (code)\n",
      ")\n",
      "\n",
      "\n",
      "2023-09-28 09:12:17,054 INFO sqlalchemy.engine.Engine [no key 0.00158s] {}\n",
      "2023-09-28 09:12:17,117 INFO sqlalchemy.engine.Engine COMMIT\n"
     ]
    }
   ],
   "source": [
    "#group_book\n",
    "group_book = Table(\n",
    "    'group_book', meta,\n",
    "    Column('id', Integer, primary_key=True, autoincrement=True),\n",
    "    Column('group_id', Integer, ForeignKey('group.id')),\n",
    "    Column('book_code', Integer, ForeignKey('book.code'))\n",
    ")\n",
    "meta.create_all(engine)"
   ]
  },
  {
   "cell_type": "code",
   "execution_count": 44,
   "metadata": {},
   "outputs": [
    {
     "name": "stdout",
     "output_type": "stream",
     "text": [
      "2023-09-28 09:12:17,185 INFO sqlalchemy.engine.Engine BEGIN (implicit)\n",
      "2023-09-28 09:12:17,186 INFO sqlalchemy.engine.Engine DESCRIBE `book_store`.`book`\n",
      "2023-09-28 09:12:17,187 INFO sqlalchemy.engine.Engine [raw sql] {}\n",
      "2023-09-28 09:12:17,190 INFO sqlalchemy.engine.Engine DESCRIBE `book_store`.`group`\n",
      "2023-09-28 09:12:17,191 INFO sqlalchemy.engine.Engine [raw sql] {}\n",
      "2023-09-28 09:12:17,198 INFO sqlalchemy.engine.Engine DESCRIBE `book_store`.`group_book`\n",
      "2023-09-28 09:12:17,200 INFO sqlalchemy.engine.Engine [raw sql] {}\n",
      "2023-09-28 09:12:17,203 INFO sqlalchemy.engine.Engine DESCRIBE `book_store`.`person`\n",
      "2023-09-28 09:12:17,204 INFO sqlalchemy.engine.Engine [raw sql] {}\n",
      "2023-09-28 09:12:17,207 INFO sqlalchemy.engine.Engine \n",
      "CREATE TABLE person (\n",
      "\tcounter INTEGER NOT NULL AUTO_INCREMENT, \n",
      "\tid INTEGER, \n",
      "\tname VARCHAR(100), \n",
      "\tdescription VARCHAR(5000), \n",
      "\tPRIMARY KEY (counter)\n",
      ")\n",
      "\n",
      "\n",
      "2023-09-28 09:12:17,208 INFO sqlalchemy.engine.Engine [no key 0.00118s] {}\n",
      "2023-09-28 09:12:17,241 INFO sqlalchemy.engine.Engine COMMIT\n"
     ]
    }
   ],
   "source": [
    "#person\n",
    "person = Table(\n",
    "    'person', meta,\n",
    "    Column('counter', Integer, primary_key=True,autoincrement=True),\n",
    "    Column('id', Integer),\n",
    "    Column('name', String(100)),\n",
    "    Column('description', String(5000))\n",
    ")\n",
    "meta.create_all(engine)"
   ]
  },
  {
   "cell_type": "code",
   "execution_count": 45,
   "metadata": {},
   "outputs": [
    {
     "name": "stdout",
     "output_type": "stream",
     "text": [
      "2023-09-28 09:12:17,338 INFO sqlalchemy.engine.Engine BEGIN (implicit)\n",
      "2023-09-28 09:12:17,340 INFO sqlalchemy.engine.Engine DESCRIBE `book_store`.`book`\n",
      "2023-09-28 09:12:17,342 INFO sqlalchemy.engine.Engine [raw sql] {}\n",
      "2023-09-28 09:12:17,350 INFO sqlalchemy.engine.Engine DESCRIBE `book_store`.`group`\n",
      "2023-09-28 09:12:17,352 INFO sqlalchemy.engine.Engine [raw sql] {}\n",
      "2023-09-28 09:12:17,356 INFO sqlalchemy.engine.Engine DESCRIBE `book_store`.`group_book`\n",
      "2023-09-28 09:12:17,357 INFO sqlalchemy.engine.Engine [raw sql] {}\n",
      "2023-09-28 09:12:17,359 INFO sqlalchemy.engine.Engine DESCRIBE `book_store`.`person`\n",
      "2023-09-28 09:12:17,360 INFO sqlalchemy.engine.Engine [raw sql] {}\n",
      "2023-09-28 09:12:17,366 INFO sqlalchemy.engine.Engine DESCRIBE `book_store`.`publisher`\n",
      "2023-09-28 09:12:17,367 INFO sqlalchemy.engine.Engine [raw sql] {}\n",
      "2023-09-28 09:12:17,369 INFO sqlalchemy.engine.Engine \n",
      "CREATE TABLE publisher (\n",
      "\tid INTEGER NOT NULL AUTO_INCREMENT, \n",
      "\tname VARCHAR(100), \n",
      "\tPRIMARY KEY (id)\n",
      ")\n",
      "\n",
      "\n",
      "2023-09-28 09:12:17,371 INFO sqlalchemy.engine.Engine [no key 0.00168s] {}\n",
      "2023-09-28 09:12:17,422 INFO sqlalchemy.engine.Engine COMMIT\n"
     ]
    }
   ],
   "source": [
    "#publisher\n",
    "publisher = Table(\n",
    "    'publisher', meta,\n",
    "    Column('id', Integer, primary_key=True),\n",
    "    Column('name', String(100))\n",
    ")\n",
    "meta.create_all(engine)"
   ]
  },
  {
   "cell_type": "code",
   "execution_count": 46,
   "metadata": {},
   "outputs": [
    {
     "name": "stdout",
     "output_type": "stream",
     "text": [
      "2023-09-28 09:12:17,509 INFO sqlalchemy.engine.Engine BEGIN (implicit)\n",
      "2023-09-28 09:12:17,511 INFO sqlalchemy.engine.Engine DESCRIBE `book_store`.`book`\n",
      "2023-09-28 09:12:17,518 INFO sqlalchemy.engine.Engine [raw sql] {}\n",
      "2023-09-28 09:12:17,522 INFO sqlalchemy.engine.Engine DESCRIBE `book_store`.`group`\n",
      "2023-09-28 09:12:17,523 INFO sqlalchemy.engine.Engine [raw sql] {}\n",
      "2023-09-28 09:12:17,527 INFO sqlalchemy.engine.Engine DESCRIBE `book_store`.`group_book`\n",
      "2023-09-28 09:12:17,529 INFO sqlalchemy.engine.Engine [raw sql] {}\n",
      "2023-09-28 09:12:17,538 INFO sqlalchemy.engine.Engine DESCRIBE `book_store`.`person`\n",
      "2023-09-28 09:12:17,540 INFO sqlalchemy.engine.Engine [raw sql] {}\n",
      "2023-09-28 09:12:17,543 INFO sqlalchemy.engine.Engine DESCRIBE `book_store`.`publisher`\n",
      "2023-09-28 09:12:17,544 INFO sqlalchemy.engine.Engine [raw sql] {}\n",
      "2023-09-28 09:12:17,555 INFO sqlalchemy.engine.Engine DESCRIBE `book_store`.`category`\n",
      "2023-09-28 09:12:17,557 INFO sqlalchemy.engine.Engine [raw sql] {}\n",
      "2023-09-28 09:12:17,562 INFO sqlalchemy.engine.Engine \n",
      "CREATE TABLE category (\n",
      "\tid INTEGER NOT NULL AUTO_INCREMENT, \n",
      "\tname VARCHAR(150), \n",
      "\tdescription VARCHAR(5000), \n",
      "\tPRIMARY KEY (id)\n",
      ")\n",
      "\n",
      "\n",
      "2023-09-28 09:12:17,564 INFO sqlalchemy.engine.Engine [no key 0.00365s] {}\n",
      "2023-09-28 09:12:17,657 INFO sqlalchemy.engine.Engine COMMIT\n"
     ]
    }
   ],
   "source": [
    "#category\n",
    "category = Table(\n",
    "    'category', meta,\n",
    "    Column('id', Integer, primary_key=True),\n",
    "    Column('name', String(150)),\n",
    "    Column('description', String(5000))\n",
    ")\n",
    "meta.create_all(engine)"
   ]
  },
  {
   "cell_type": "code",
   "execution_count": 47,
   "metadata": {},
   "outputs": [
    {
     "name": "stdout",
     "output_type": "stream",
     "text": [
      "2023-09-28 09:12:17,768 INFO sqlalchemy.engine.Engine BEGIN (implicit)\n",
      "2023-09-28 09:12:17,770 INFO sqlalchemy.engine.Engine DESCRIBE `book_store`.`book`\n",
      "2023-09-28 09:12:17,771 INFO sqlalchemy.engine.Engine [raw sql] {}\n",
      "2023-09-28 09:12:17,776 INFO sqlalchemy.engine.Engine DESCRIBE `book_store`.`group`\n",
      "2023-09-28 09:12:17,777 INFO sqlalchemy.engine.Engine [raw sql] {}\n",
      "2023-09-28 09:12:17,782 INFO sqlalchemy.engine.Engine DESCRIBE `book_store`.`group_book`\n",
      "2023-09-28 09:12:17,783 INFO sqlalchemy.engine.Engine [raw sql] {}\n",
      "2023-09-28 09:12:17,786 INFO sqlalchemy.engine.Engine DESCRIBE `book_store`.`person`\n",
      "2023-09-28 09:12:17,786 INFO sqlalchemy.engine.Engine [raw sql] {}\n",
      "2023-09-28 09:12:17,791 INFO sqlalchemy.engine.Engine DESCRIBE `book_store`.`publisher`\n",
      "2023-09-28 09:12:17,792 INFO sqlalchemy.engine.Engine [raw sql] {}\n",
      "2023-09-28 09:12:17,797 INFO sqlalchemy.engine.Engine DESCRIBE `book_store`.`category`\n",
      "2023-09-28 09:12:17,798 INFO sqlalchemy.engine.Engine [raw sql] {}\n",
      "2023-09-28 09:12:17,803 INFO sqlalchemy.engine.Engine DESCRIBE `book_store`.`group_category`\n",
      "2023-09-28 09:12:17,804 INFO sqlalchemy.engine.Engine [raw sql] {}\n",
      "2023-09-28 09:12:17,807 INFO sqlalchemy.engine.Engine \n",
      "CREATE TABLE group_category (\n",
      "\tid INTEGER NOT NULL AUTO_INCREMENT, \n",
      "\tgroup_id INTEGER, \n",
      "\tcategory_id INTEGER, \n",
      "\tPRIMARY KEY (id), \n",
      "\tFOREIGN KEY(group_id) REFERENCES `group` (id), \n",
      "\tFOREIGN KEY(category_id) REFERENCES category (id)\n",
      ")\n",
      "\n",
      "\n",
      "2023-09-28 09:12:17,808 INFO sqlalchemy.engine.Engine [no key 0.00109s] {}\n",
      "2023-09-28 09:12:17,853 INFO sqlalchemy.engine.Engine COMMIT\n"
     ]
    }
   ],
   "source": [
    "#group_category\n",
    "group_category = Table(\n",
    "    'group_category', meta,\n",
    "    Column('id', Integer, primary_key=True, autoincrement=True),\n",
    "    Column('group_id', Integer, ForeignKey('group.id')),\n",
    "    Column('category_id', Integer, ForeignKey('category.id'))\n",
    ")\n",
    "meta.create_all(engine)"
   ]
  },
  {
   "cell_type": "code",
   "execution_count": 48,
   "metadata": {},
   "outputs": [
    {
     "name": "stdout",
     "output_type": "stream",
     "text": [
      "2023-09-28 09:12:17,953 INFO sqlalchemy.engine.Engine BEGIN (implicit)\n",
      "2023-09-28 09:12:17,959 INFO sqlalchemy.engine.Engine DESCRIBE `book_store`.`book`\n",
      "2023-09-28 09:12:17,961 INFO sqlalchemy.engine.Engine [raw sql] {}\n",
      "2023-09-28 09:12:17,969 INFO sqlalchemy.engine.Engine DESCRIBE `book_store`.`group`\n",
      "2023-09-28 09:12:17,971 INFO sqlalchemy.engine.Engine [raw sql] {}\n",
      "2023-09-28 09:12:17,976 INFO sqlalchemy.engine.Engine DESCRIBE `book_store`.`group_book`\n",
      "2023-09-28 09:12:17,978 INFO sqlalchemy.engine.Engine [raw sql] {}\n",
      "2023-09-28 09:12:17,986 INFO sqlalchemy.engine.Engine DESCRIBE `book_store`.`person`\n",
      "2023-09-28 09:12:17,989 INFO sqlalchemy.engine.Engine [raw sql] {}\n",
      "2023-09-28 09:12:17,993 INFO sqlalchemy.engine.Engine DESCRIBE `book_store`.`publisher`\n",
      "2023-09-28 09:12:17,995 INFO sqlalchemy.engine.Engine [raw sql] {}\n",
      "2023-09-28 09:12:18,003 INFO sqlalchemy.engine.Engine DESCRIBE `book_store`.`category`\n",
      "2023-09-28 09:12:18,007 INFO sqlalchemy.engine.Engine [raw sql] {}\n",
      "2023-09-28 09:12:18,014 INFO sqlalchemy.engine.Engine DESCRIBE `book_store`.`group_category`\n",
      "2023-09-28 09:12:18,017 INFO sqlalchemy.engine.Engine [raw sql] {}\n",
      "2023-09-28 09:12:18,025 INFO sqlalchemy.engine.Engine DESCRIBE `book_store`.`book_publisher`\n",
      "2023-09-28 09:12:18,026 INFO sqlalchemy.engine.Engine [raw sql] {}\n",
      "2023-09-28 09:12:18,031 INFO sqlalchemy.engine.Engine \n",
      "CREATE TABLE book_publisher (\n",
      "\tid INTEGER NOT NULL AUTO_INCREMENT, \n",
      "\tbook_code INTEGER, \n",
      "\tpublisher_id INTEGER, \n",
      "\tPRIMARY KEY (id), \n",
      "\tFOREIGN KEY(book_code) REFERENCES book (code), \n",
      "\tFOREIGN KEY(publisher_id) REFERENCES publisher (id)\n",
      ")\n",
      "\n",
      "\n",
      "2023-09-28 09:12:18,033 INFO sqlalchemy.engine.Engine [no key 0.00228s] {}\n",
      "2023-09-28 09:12:18,078 INFO sqlalchemy.engine.Engine COMMIT\n"
     ]
    }
   ],
   "source": [
    "#book_publisher\n",
    "book_publisher = Table(\n",
    "    'book_publisher', meta,\n",
    "    Column('id', Integer, primary_key=True, autoincrement=True),\n",
    "    Column('book_code', Integer, ForeignKey('book.code')),\n",
    "    Column('publisher_id', Integer, ForeignKey('publisher.id'))\n",
    ")\n",
    "meta.create_all(engine)"
   ]
  },
  {
   "cell_type": "code",
   "execution_count": 49,
   "metadata": {},
   "outputs": [
    {
     "name": "stdout",
     "output_type": "stream",
     "text": [
      "2023-09-28 09:12:18,136 INFO sqlalchemy.engine.Engine BEGIN (implicit)\n",
      "2023-09-28 09:12:18,138 INFO sqlalchemy.engine.Engine DESCRIBE `book_store`.`book`\n",
      "2023-09-28 09:12:18,139 INFO sqlalchemy.engine.Engine [raw sql] {}\n",
      "2023-09-28 09:12:18,142 INFO sqlalchemy.engine.Engine DESCRIBE `book_store`.`group`\n",
      "2023-09-28 09:12:18,143 INFO sqlalchemy.engine.Engine [raw sql] {}\n",
      "2023-09-28 09:12:18,148 INFO sqlalchemy.engine.Engine DESCRIBE `book_store`.`group_book`\n",
      "2023-09-28 09:12:18,149 INFO sqlalchemy.engine.Engine [raw sql] {}\n",
      "2023-09-28 09:12:18,153 INFO sqlalchemy.engine.Engine DESCRIBE `book_store`.`person`\n",
      "2023-09-28 09:12:18,153 INFO sqlalchemy.engine.Engine [raw sql] {}\n",
      "2023-09-28 09:12:18,156 INFO sqlalchemy.engine.Engine DESCRIBE `book_store`.`publisher`\n",
      "2023-09-28 09:12:18,157 INFO sqlalchemy.engine.Engine [raw sql] {}\n",
      "2023-09-28 09:12:18,160 INFO sqlalchemy.engine.Engine DESCRIBE `book_store`.`category`\n",
      "2023-09-28 09:12:18,162 INFO sqlalchemy.engine.Engine [raw sql] {}\n",
      "2023-09-28 09:12:18,168 INFO sqlalchemy.engine.Engine DESCRIBE `book_store`.`group_category`\n",
      "2023-09-28 09:12:18,169 INFO sqlalchemy.engine.Engine [raw sql] {}\n",
      "2023-09-28 09:12:18,173 INFO sqlalchemy.engine.Engine DESCRIBE `book_store`.`book_publisher`\n",
      "2023-09-28 09:12:18,215 INFO sqlalchemy.engine.Engine [raw sql] {}\n",
      "2023-09-28 09:12:18,223 INFO sqlalchemy.engine.Engine DESCRIBE `book_store`.`crew`\n",
      "2023-09-28 09:12:18,225 INFO sqlalchemy.engine.Engine [raw sql] {}\n",
      "2023-09-28 09:12:18,230 INFO sqlalchemy.engine.Engine \n",
      "CREATE TABLE crew (\n",
      "\tid INTEGER NOT NULL AUTO_INCREMENT, \n",
      "\tbook_code INTEGER, \n",
      "\tperson_counter INTEGER, \n",
      "\t`role` VARCHAR(15), \n",
      "\tPRIMARY KEY (id), \n",
      "\tFOREIGN KEY(book_code) REFERENCES book (code), \n",
      "\tFOREIGN KEY(person_counter) REFERENCES person (counter)\n",
      ")\n",
      "\n",
      "\n",
      "2023-09-28 09:12:18,247 INFO sqlalchemy.engine.Engine [no key 0.01666s] {}\n",
      "2023-09-28 09:12:18,293 INFO sqlalchemy.engine.Engine COMMIT\n"
     ]
    }
   ],
   "source": [
    "#crew\n",
    "crew = Table(\n",
    "    'crew', meta,\n",
    "    Column('id', Integer, primary_key=True, autoincrement=True),\n",
    "    Column('book_code', Integer, ForeignKey('book.code')),\n",
    "    Column('person_counter', Integer, ForeignKey('person.counter')),\n",
    "    Column('role', String(15))\n",
    ")\n",
    "meta.create_all(engine)"
   ]
  }
 ],
 "metadata": {
  "kernelspec": {
   "display_name": "Python 3.10.6 64-bit",
   "language": "python",
   "name": "python3"
  },
  "language_info": {
   "codemirror_mode": {
    "name": "ipython",
    "version": 3
   },
   "file_extension": ".py",
   "mimetype": "text/x-python",
   "name": "python",
   "nbconvert_exporter": "python",
   "pygments_lexer": "ipython3",
   "version": "3.10.6"
  },
  "orig_nbformat": 4,
  "vscode": {
   "interpreter": {
    "hash": "73c10509234451b7c9059ae5f54ad33529ef7b4c9c761939e46712064d00bc14"
   }
  }
 },
 "nbformat": 4,
 "nbformat_minor": 2
}
