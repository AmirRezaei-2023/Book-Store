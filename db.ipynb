{
 "cells": [
  {
   "cell_type": "markdown",
   "metadata": {},
   "source": [
    "# connect\n"
   ]
  },
  {
   "cell_type": "code",
   "execution_count": 12,
   "metadata": {},
   "outputs": [
    {
     "name": "stdout",
     "output_type": "stream",
     "text": [
      "2023-10-01 22:24:01,443 INFO sqlalchemy.engine.Engine SELECT DATABASE()\n",
      "2023-10-01 22:24:01,525 INFO sqlalchemy.engine.Engine [raw sql] {}\n",
      "2023-10-01 22:24:01,615 INFO sqlalchemy.engine.Engine SELECT @@sql_mode\n",
      "2023-10-01 22:24:01,615 INFO sqlalchemy.engine.Engine [raw sql] {}\n",
      "2023-10-01 22:24:01,617 INFO sqlalchemy.engine.Engine SELECT @@lower_case_table_names\n",
      "2023-10-01 22:24:01,618 INFO sqlalchemy.engine.Engine [raw sql] {}\n"
     ]
    }
   ],
   "source": [
    "import pandas as pd\n",
    "import mysql.connector\n",
    "from sqlalchemy import create_engine, MetaData, URL, Identity\n",
    "from sqlalchemy import Table, Column, Integer, String, BOOLEAN, DATE, ForeignKey\n",
    "\n",
    "\n",
    "#Creating Database,Connection\n",
    "meta = MetaData()\n",
    "USERNAME = 'root'\n",
    "PASSWORD = '13771377Mnn@'\n",
    "SERVER = 'localhost'\n",
    "PORT = 3306\n",
    "DATABASE = 'book_store1'\n",
    "\n",
    "url_object = URL.create(\"mysql+mysqlconnector\",\n",
    "                        username=USERNAME,\n",
    "                        password=PASSWORD,\n",
    "                        host=SERVER,\n",
    "                        database=DATABASE)\n",
    "engine = create_engine(url_object,echo = True)\n",
    "conn = engine.connect()"
   ]
  },
  {
   "cell_type": "markdown",
   "metadata": {},
   "source": [
    "# create model database"
   ]
  },
  {
   "cell_type": "code",
   "execution_count": 13,
   "metadata": {},
   "outputs": [
    {
     "name": "stdout",
     "output_type": "stream",
     "text": [
      "2023-10-01 22:24:04,538 INFO sqlalchemy.engine.Engine BEGIN (implicit)\n",
      "2023-10-01 22:24:04,539 INFO sqlalchemy.engine.Engine DESCRIBE `book_store1`.`book`\n",
      "2023-10-01 22:24:04,541 INFO sqlalchemy.engine.Engine [raw sql] {}\n",
      "2023-10-01 22:24:04,633 INFO sqlalchemy.engine.Engine \n",
      "CREATE TABLE book (\n",
      "\tcode INTEGER NOT NULL AUTO_INCREMENT, \n",
      "\ttitle_persian VARCHAR(2000), \n",
      "\ttitle_english VARCHAR(2000), \n",
      "\tprice INTEGER, \n",
      "\tdiscount INTEGER, \n",
      "\tgrade INTEGER, \n",
      "\tshabak VARCHAR(50), \n",
      "\tpage_count INTEGER, \n",
      "\trelease_year_sh INTEGER, \n",
      "\trelease_year_mi INTEGER, \n",
      "\texist BOOL, \n",
      "\tearliest_access DATE, \n",
      "\tprint_series INTEGER, \n",
      "\tcover VARCHAR(100), \n",
      "\tghate VARCHAR(100), \n",
      "\tPRIMARY KEY (code)\n",
      ")\n",
      "\n",
      "\n",
      "2023-10-01 22:24:04,634 INFO sqlalchemy.engine.Engine [no key 0.00142s] {}\n",
      "2023-10-01 22:24:04,789 INFO sqlalchemy.engine.Engine COMMIT\n"
     ]
    }
   ],
   "source": [
    "#Creating Tables\n",
    "#book\n",
    "book = Table(\n",
    "    'book', meta,\n",
    "    Column('code', Integer, primary_key=True),\n",
    "    Column('title_persian', String(2000)),\n",
    "    Column('title_english', String(2000)),\n",
    "    Column('price', Integer),\n",
    "    Column('discount', Integer),\n",
    "    Column('grade', Integer),\n",
    "    Column('shabak', String(50)),\n",
    "    Column('page_count', Integer),\n",
    "    Column('release_year_sh', Integer),\n",
    "    Column('release_year_mi', Integer),\n",
    "    Column('exist', BOOLEAN),\n",
    "    Column('earliest_access', DATE),\n",
    "    Column('print_series', Integer),\n",
    "    Column('cover', String(100)),\n",
    "    Column('ghate', String(100))\n",
    ")\n",
    "meta.create_all(engine)"
   ]
  },
  {
   "cell_type": "code",
   "execution_count": 14,
   "metadata": {},
   "outputs": [
    {
     "name": "stdout",
     "output_type": "stream",
     "text": [
      "2023-10-01 22:24:06,180 INFO sqlalchemy.engine.Engine BEGIN (implicit)\n",
      "2023-10-01 22:24:06,184 INFO sqlalchemy.engine.Engine DESCRIBE `book_store1`.`book`\n",
      "2023-10-01 22:24:06,186 INFO sqlalchemy.engine.Engine [raw sql] {}\n",
      "2023-10-01 22:24:06,212 INFO sqlalchemy.engine.Engine DESCRIBE `book_store1`.`group`\n",
      "2023-10-01 22:24:06,213 INFO sqlalchemy.engine.Engine [raw sql] {}\n",
      "2023-10-01 22:24:06,219 INFO sqlalchemy.engine.Engine \n",
      "CREATE TABLE `group` (\n",
      "\tid INTEGER NOT NULL AUTO_INCREMENT, \n",
      "\tdescription VARCHAR(5000), \n",
      "\tPRIMARY KEY (id)\n",
      ")\n",
      "\n",
      "\n",
      "2023-10-01 22:24:06,220 INFO sqlalchemy.engine.Engine [no key 0.00166s] {}\n",
      "2023-10-01 22:24:06,253 INFO sqlalchemy.engine.Engine COMMIT\n"
     ]
    }
   ],
   "source": [
    "#group\n",
    "group = Table(\n",
    "    'group', meta,\n",
    "    Column('id', Integer, primary_key=True),\n",
    "    Column('description', String(5000))\n",
    ")\n",
    "meta.create_all(engine)"
   ]
  },
  {
   "cell_type": "code",
   "execution_count": 15,
   "metadata": {},
   "outputs": [
    {
     "name": "stdout",
     "output_type": "stream",
     "text": [
      "2023-10-01 22:55:06,004 INFO sqlalchemy.engine.Engine BEGIN (implicit)\n",
      "2023-10-01 22:55:06,110 INFO sqlalchemy.engine.Engine DESCRIBE `book_store1`.`book`\n",
      "2023-10-01 22:55:06,127 INFO sqlalchemy.engine.Engine [raw sql] {}\n",
      "2023-10-01 22:55:06,336 INFO sqlalchemy.engine.Engine DESCRIBE `book_store1`.`group`\n",
      "2023-10-01 22:55:06,338 INFO sqlalchemy.engine.Engine [raw sql] {}\n",
      "2023-10-01 22:55:06,341 INFO sqlalchemy.engine.Engine DESCRIBE `book_store1`.`group_book`\n",
      "2023-10-01 22:55:06,342 INFO sqlalchemy.engine.Engine [raw sql] {}\n",
      "2023-10-01 22:55:06,429 INFO sqlalchemy.engine.Engine \n",
      "CREATE TABLE group_book (\n",
      "\tid INTEGER NOT NULL AUTO_INCREMENT, \n",
      "\tgroup_id INTEGER, \n",
      "\tbook_code INTEGER, \n",
      "\tPRIMARY KEY (id), \n",
      "\tFOREIGN KEY(group_id) REFERENCES `group` (id), \n",
      "\tFOREIGN KEY(book_code) REFERENCES book (code)\n",
      ")\n",
      "\n",
      "\n",
      "2023-10-01 22:55:06,439 INFO sqlalchemy.engine.Engine [no key 0.01069s] {}\n",
      "2023-10-01 22:55:06,820 INFO sqlalchemy.engine.Engine COMMIT\n"
     ]
    }
   ],
   "source": [
    "#group_book\n",
    "group_book = Table(\n",
    "    'group_book', meta,\n",
    "    Column('id', Integer, primary_key=True, autoincrement=True),\n",
    "    Column('group_id', Integer, ForeignKey('group.id')),\n",
    "    Column('book_code', Integer, ForeignKey('book.code'))\n",
    ")\n",
    "meta.create_all(engine)"
   ]
  },
  {
   "cell_type": "code",
   "execution_count": 6,
   "metadata": {},
   "outputs": [
    {
     "name": "stdout",
     "output_type": "stream",
     "text": [
      "2023-10-01 21:43:55,182 INFO sqlalchemy.engine.Engine BEGIN (implicit)\n",
      "2023-10-01 21:43:55,184 INFO sqlalchemy.engine.Engine DESCRIBE `book_store1`.`book`\n",
      "2023-10-01 21:43:55,187 INFO sqlalchemy.engine.Engine [raw sql] {}\n",
      "2023-10-01 21:43:55,197 INFO sqlalchemy.engine.Engine DESCRIBE `book_store1`.`group`\n",
      "2023-10-01 21:43:55,199 INFO sqlalchemy.engine.Engine [raw sql] {}\n",
      "2023-10-01 21:43:55,206 INFO sqlalchemy.engine.Engine DESCRIBE `book_store1`.`group_book`\n",
      "2023-10-01 21:43:55,208 INFO sqlalchemy.engine.Engine [raw sql] {}\n",
      "2023-10-01 21:43:55,216 INFO sqlalchemy.engine.Engine DESCRIBE `book_store1`.`person`\n",
      "2023-10-01 21:43:55,217 INFO sqlalchemy.engine.Engine [raw sql] {}\n",
      "2023-10-01 21:43:55,227 INFO sqlalchemy.engine.Engine \n",
      "CREATE TABLE person (\n",
      "\tcounter INTEGER NOT NULL AUTO_INCREMENT, \n",
      "\tid INTEGER, \n",
      "\tname VARCHAR(100), \n",
      "\tdescription VARCHAR(5000), \n",
      "\tPRIMARY KEY (counter)\n",
      ")\n",
      "\n",
      "\n",
      "2023-10-01 21:43:55,228 INFO sqlalchemy.engine.Engine [no key 0.00195s] {}\n",
      "2023-10-01 21:43:55,256 INFO sqlalchemy.engine.Engine COMMIT\n"
     ]
    }
   ],
   "source": [
    "#person\n",
    "person = Table(\n",
    "    'person', meta,\n",
    "    Column('counter', Integer, primary_key=True,autoincrement=True),\n",
    "    Column('id', Integer),\n",
    "    Column('name', String(100)),\n",
    "    Column('description', String(5000))\n",
    ")\n",
    "meta.create_all(engine)"
   ]
  },
  {
   "cell_type": "code",
   "execution_count": 7,
   "metadata": {},
   "outputs": [
    {
     "name": "stdout",
     "output_type": "stream",
     "text": [
      "2023-10-01 21:43:55,323 INFO sqlalchemy.engine.Engine BEGIN (implicit)\n",
      "2023-10-01 21:43:55,326 INFO sqlalchemy.engine.Engine DESCRIBE `book_store1`.`book`\n",
      "2023-10-01 21:43:55,327 INFO sqlalchemy.engine.Engine [raw sql] {}\n",
      "2023-10-01 21:43:55,331 INFO sqlalchemy.engine.Engine DESCRIBE `book_store1`.`group`\n",
      "2023-10-01 21:43:55,332 INFO sqlalchemy.engine.Engine [raw sql] {}\n",
      "2023-10-01 21:43:55,339 INFO sqlalchemy.engine.Engine DESCRIBE `book_store1`.`group_book`\n",
      "2023-10-01 21:43:55,340 INFO sqlalchemy.engine.Engine [raw sql] {}\n",
      "2023-10-01 21:43:55,345 INFO sqlalchemy.engine.Engine DESCRIBE `book_store1`.`person`\n",
      "2023-10-01 21:43:55,347 INFO sqlalchemy.engine.Engine [raw sql] {}\n",
      "2023-10-01 21:43:55,355 INFO sqlalchemy.engine.Engine DESCRIBE `book_store1`.`publisher`\n",
      "2023-10-01 21:43:55,360 INFO sqlalchemy.engine.Engine [raw sql] {}\n",
      "2023-10-01 21:43:55,368 INFO sqlalchemy.engine.Engine \n",
      "CREATE TABLE publisher (\n",
      "\tid INTEGER NOT NULL AUTO_INCREMENT, \n",
      "\tname VARCHAR(100), \n",
      "\tPRIMARY KEY (id)\n",
      ")\n",
      "\n",
      "\n",
      "2023-10-01 21:43:55,373 INFO sqlalchemy.engine.Engine [no key 0.00465s] {}\n",
      "2023-10-01 21:43:55,480 INFO sqlalchemy.engine.Engine COMMIT\n"
     ]
    }
   ],
   "source": [
    "#publisher\n",
    "publisher = Table(\n",
    "    'publisher', meta,\n",
    "    Column('id', Integer, primary_key=True),\n",
    "    Column('name', String(100))\n",
    ")\n",
    "meta.create_all(engine)"
   ]
  },
  {
   "cell_type": "code",
   "execution_count": 8,
   "metadata": {},
   "outputs": [
    {
     "name": "stdout",
     "output_type": "stream",
     "text": [
      "2023-10-01 21:43:55,567 INFO sqlalchemy.engine.Engine BEGIN (implicit)\n",
      "2023-10-01 21:43:55,570 INFO sqlalchemy.engine.Engine DESCRIBE `book_store1`.`book`\n",
      "2023-10-01 21:43:55,574 INFO sqlalchemy.engine.Engine [raw sql] {}\n",
      "2023-10-01 21:43:55,580 INFO sqlalchemy.engine.Engine DESCRIBE `book_store1`.`group`\n",
      "2023-10-01 21:43:55,582 INFO sqlalchemy.engine.Engine [raw sql] {}\n",
      "2023-10-01 21:43:55,587 INFO sqlalchemy.engine.Engine DESCRIBE `book_store1`.`group_book`\n",
      "2023-10-01 21:43:55,590 INFO sqlalchemy.engine.Engine [raw sql] {}\n",
      "2023-10-01 21:43:55,593 INFO sqlalchemy.engine.Engine DESCRIBE `book_store1`.`person`\n",
      "2023-10-01 21:43:55,594 INFO sqlalchemy.engine.Engine [raw sql] {}\n",
      "2023-10-01 21:43:55,596 INFO sqlalchemy.engine.Engine DESCRIBE `book_store1`.`publisher`\n",
      "2023-10-01 21:43:55,597 INFO sqlalchemy.engine.Engine [raw sql] {}\n",
      "2023-10-01 21:43:55,600 INFO sqlalchemy.engine.Engine DESCRIBE `book_store1`.`category`\n",
      "2023-10-01 21:43:55,601 INFO sqlalchemy.engine.Engine [raw sql] {}\n",
      "2023-10-01 21:43:55,609 INFO sqlalchemy.engine.Engine \n",
      "CREATE TABLE category (\n",
      "\tid INTEGER NOT NULL AUTO_INCREMENT, \n",
      "\tname VARCHAR(150), \n",
      "\tdescription VARCHAR(5000), \n",
      "\tPRIMARY KEY (id)\n",
      ")\n",
      "\n",
      "\n",
      "2023-10-01 21:43:55,610 INFO sqlalchemy.engine.Engine [no key 0.00189s] {}\n",
      "2023-10-01 21:43:55,632 INFO sqlalchemy.engine.Engine COMMIT\n"
     ]
    }
   ],
   "source": [
    "#category\n",
    "category = Table(\n",
    "    'category', meta,\n",
    "    Column('id', Integer, primary_key=True),\n",
    "    Column('name', String(150)),\n",
    "    Column('description', String(5000))\n",
    ")\n",
    "meta.create_all(engine)"
   ]
  },
  {
   "cell_type": "code",
   "execution_count": 9,
   "metadata": {},
   "outputs": [
    {
     "name": "stdout",
     "output_type": "stream",
     "text": [
      "2023-10-01 21:43:55,711 INFO sqlalchemy.engine.Engine BEGIN (implicit)\n",
      "2023-10-01 21:43:55,715 INFO sqlalchemy.engine.Engine DESCRIBE `book_store1`.`book`\n",
      "2023-10-01 21:43:55,716 INFO sqlalchemy.engine.Engine [raw sql] {}\n",
      "2023-10-01 21:43:55,720 INFO sqlalchemy.engine.Engine DESCRIBE `book_store1`.`group`\n",
      "2023-10-01 21:43:55,722 INFO sqlalchemy.engine.Engine [raw sql] {}\n",
      "2023-10-01 21:43:55,728 INFO sqlalchemy.engine.Engine DESCRIBE `book_store1`.`group_book`\n",
      "2023-10-01 21:43:55,729 INFO sqlalchemy.engine.Engine [raw sql] {}\n",
      "2023-10-01 21:43:55,732 INFO sqlalchemy.engine.Engine DESCRIBE `book_store1`.`person`\n",
      "2023-10-01 21:43:55,733 INFO sqlalchemy.engine.Engine [raw sql] {}\n",
      "2023-10-01 21:43:55,738 INFO sqlalchemy.engine.Engine DESCRIBE `book_store1`.`publisher`\n",
      "2023-10-01 21:43:55,740 INFO sqlalchemy.engine.Engine [raw sql] {}\n",
      "2023-10-01 21:43:55,745 INFO sqlalchemy.engine.Engine DESCRIBE `book_store1`.`category`\n",
      "2023-10-01 21:43:55,745 INFO sqlalchemy.engine.Engine [raw sql] {}\n",
      "2023-10-01 21:43:55,749 INFO sqlalchemy.engine.Engine DESCRIBE `book_store1`.`group_category`\n",
      "2023-10-01 21:43:55,750 INFO sqlalchemy.engine.Engine [raw sql] {}\n",
      "2023-10-01 21:43:55,756 INFO sqlalchemy.engine.Engine \n",
      "CREATE TABLE group_category (\n",
      "\tid INTEGER NOT NULL AUTO_INCREMENT, \n",
      "\tgroup_id INTEGER, \n",
      "\tcategory_id INTEGER, \n",
      "\tPRIMARY KEY (id), \n",
      "\tFOREIGN KEY(group_id) REFERENCES `group` (id), \n",
      "\tFOREIGN KEY(category_id) REFERENCES category (id)\n",
      ")\n",
      "\n",
      "\n",
      "2023-10-01 21:43:55,758 INFO sqlalchemy.engine.Engine [no key 0.00248s] {}\n",
      "2023-10-01 21:43:55,803 INFO sqlalchemy.engine.Engine COMMIT\n"
     ]
    }
   ],
   "source": [
    "#group_category\n",
    "group_category = Table(\n",
    "    'group_category', meta,\n",
    "    Column('id', Integer, primary_key=True, autoincrement=True),\n",
    "    Column('group_id', Integer, ForeignKey('group.id')),\n",
    "    Column('category_id', Integer, ForeignKey('category.id'))\n",
    ")\n",
    "meta.create_all(engine)"
   ]
  },
  {
   "cell_type": "code",
   "execution_count": 10,
   "metadata": {},
   "outputs": [
    {
     "name": "stdout",
     "output_type": "stream",
     "text": [
      "2023-10-01 21:43:55,921 INFO sqlalchemy.engine.Engine BEGIN (implicit)\n",
      "2023-10-01 21:43:55,926 INFO sqlalchemy.engine.Engine DESCRIBE `book_store1`.`book`\n",
      "2023-10-01 21:43:55,927 INFO sqlalchemy.engine.Engine [raw sql] {}\n",
      "2023-10-01 21:43:55,931 INFO sqlalchemy.engine.Engine DESCRIBE `book_store1`.`group`\n",
      "2023-10-01 21:43:55,932 INFO sqlalchemy.engine.Engine [raw sql] {}\n",
      "2023-10-01 21:43:55,940 INFO sqlalchemy.engine.Engine DESCRIBE `book_store1`.`group_book`\n",
      "2023-10-01 21:43:55,942 INFO sqlalchemy.engine.Engine [raw sql] {}\n",
      "2023-10-01 21:43:55,946 INFO sqlalchemy.engine.Engine DESCRIBE `book_store1`.`person`\n",
      "2023-10-01 21:43:55,947 INFO sqlalchemy.engine.Engine [raw sql] {}\n",
      "2023-10-01 21:43:55,951 INFO sqlalchemy.engine.Engine DESCRIBE `book_store1`.`publisher`\n",
      "2023-10-01 21:43:55,953 INFO sqlalchemy.engine.Engine [raw sql] {}\n",
      "2023-10-01 21:43:55,960 INFO sqlalchemy.engine.Engine DESCRIBE `book_store1`.`category`\n",
      "2023-10-01 21:43:55,961 INFO sqlalchemy.engine.Engine [raw sql] {}\n",
      "2023-10-01 21:43:55,967 INFO sqlalchemy.engine.Engine DESCRIBE `book_store1`.`group_category`\n",
      "2023-10-01 21:43:55,968 INFO sqlalchemy.engine.Engine [raw sql] {}\n",
      "2023-10-01 21:43:55,981 INFO sqlalchemy.engine.Engine DESCRIBE `book_store1`.`book_publisher`\n",
      "2023-10-01 21:43:55,982 INFO sqlalchemy.engine.Engine [raw sql] {}\n",
      "2023-10-01 21:43:55,990 INFO sqlalchemy.engine.Engine \n",
      "CREATE TABLE book_publisher (\n",
      "\tid INTEGER NOT NULL AUTO_INCREMENT, \n",
      "\tbook_code INTEGER, \n",
      "\tpublisher_id INTEGER, \n",
      "\tPRIMARY KEY (id), \n",
      "\tFOREIGN KEY(book_code) REFERENCES book (code), \n",
      "\tFOREIGN KEY(publisher_id) REFERENCES publisher (id)\n",
      ")\n",
      "\n",
      "\n",
      "2023-10-01 21:43:55,991 INFO sqlalchemy.engine.Engine [no key 0.00244s] {}\n",
      "2023-10-01 21:43:56,033 INFO sqlalchemy.engine.Engine COMMIT\n"
     ]
    }
   ],
   "source": [
    "#book_publisher\n",
    "book_publisher = Table(\n",
    "    'book_publisher', meta,\n",
    "    Column('id', Integer, primary_key=True, autoincrement=True),\n",
    "    Column('book_code', Integer, ForeignKey('book.code')),\n",
    "    Column('publisher_id', Integer, ForeignKey('publisher.id'))\n",
    ")\n",
    "meta.create_all(engine)"
   ]
  },
  {
   "cell_type": "code",
   "execution_count": 11,
   "metadata": {},
   "outputs": [
    {
     "name": "stdout",
     "output_type": "stream",
     "text": [
      "2023-10-01 21:43:56,083 INFO sqlalchemy.engine.Engine BEGIN (implicit)\n",
      "2023-10-01 21:43:56,084 INFO sqlalchemy.engine.Engine DESCRIBE `book_store1`.`book`\n",
      "2023-10-01 21:43:56,086 INFO sqlalchemy.engine.Engine [raw sql] {}\n",
      "2023-10-01 21:43:56,095 INFO sqlalchemy.engine.Engine DESCRIBE `book_store1`.`group`\n",
      "2023-10-01 21:43:56,096 INFO sqlalchemy.engine.Engine [raw sql] {}\n",
      "2023-10-01 21:43:56,100 INFO sqlalchemy.engine.Engine DESCRIBE `book_store1`.`group_book`\n",
      "2023-10-01 21:43:56,102 INFO sqlalchemy.engine.Engine [raw sql] {}\n",
      "2023-10-01 21:43:56,110 INFO sqlalchemy.engine.Engine DESCRIBE `book_store1`.`person`\n",
      "2023-10-01 21:43:56,111 INFO sqlalchemy.engine.Engine [raw sql] {}\n",
      "2023-10-01 21:43:56,115 INFO sqlalchemy.engine.Engine DESCRIBE `book_store1`.`publisher`\n",
      "2023-10-01 21:43:56,116 INFO sqlalchemy.engine.Engine [raw sql] {}\n",
      "2023-10-01 21:43:56,121 INFO sqlalchemy.engine.Engine DESCRIBE `book_store1`.`category`\n",
      "2023-10-01 21:43:56,123 INFO sqlalchemy.engine.Engine [raw sql] {}\n",
      "2023-10-01 21:43:56,128 INFO sqlalchemy.engine.Engine DESCRIBE `book_store1`.`group_category`\n",
      "2023-10-01 21:43:56,129 INFO sqlalchemy.engine.Engine [raw sql] {}\n",
      "2023-10-01 21:43:56,134 INFO sqlalchemy.engine.Engine DESCRIBE `book_store1`.`book_publisher`\n",
      "2023-10-01 21:43:56,137 INFO sqlalchemy.engine.Engine [raw sql] {}\n",
      "2023-10-01 21:43:56,147 INFO sqlalchemy.engine.Engine DESCRIBE `book_store1`.`crew`\n",
      "2023-10-01 21:43:56,148 INFO sqlalchemy.engine.Engine [raw sql] {}\n",
      "2023-10-01 21:43:56,155 INFO sqlalchemy.engine.Engine \n",
      "CREATE TABLE crew (\n",
      "\tid INTEGER NOT NULL AUTO_INCREMENT, \n",
      "\tbook_code INTEGER, \n",
      "\tperson_counter INTEGER, \n",
      "\t`role` VARCHAR(15), \n",
      "\tPRIMARY KEY (id), \n",
      "\tFOREIGN KEY(book_code) REFERENCES book (code), \n",
      "\tFOREIGN KEY(person_counter) REFERENCES person (counter)\n",
      ")\n",
      "\n",
      "\n",
      "2023-10-01 21:43:56,157 INFO sqlalchemy.engine.Engine [no key 0.00332s] {}\n",
      "2023-10-01 21:43:56,241 INFO sqlalchemy.engine.Engine COMMIT\n"
     ]
    }
   ],
   "source": [
    "#crew\n",
    "crew = Table(\n",
    "    'crew', meta,\n",
    "    Column('id', Integer, primary_key=True, autoincrement=True),\n",
    "    Column('book_code', Integer, ForeignKey('book.code')),\n",
    "    Column('person_counter', Integer, ForeignKey('person.counter')),\n",
    "    Column('role', String(15))\n",
    ")\n",
    "meta.create_all(engine)"
   ]
  }
 ],
 "metadata": {
  "kernelspec": {
   "display_name": "Python 3.10.6 64-bit",
   "language": "python",
   "name": "python3"
  },
  "language_info": {
   "codemirror_mode": {
    "name": "ipython",
    "version": 3
   },
   "file_extension": ".py",
   "mimetype": "text/x-python",
   "name": "python",
   "nbconvert_exporter": "python",
   "pygments_lexer": "ipython3",
   "version": "3.10.6"
  },
  "orig_nbformat": 4,
  "vscode": {
   "interpreter": {
    "hash": "73c10509234451b7c9059ae5f54ad33529ef7b4c9c761939e46712064d00bc14"
   }
  }
 },
 "nbformat": 4,
 "nbformat_minor": 2
}
