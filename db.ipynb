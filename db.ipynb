{
 "cells": [
  {
   "cell_type": "markdown",
   "metadata": {},
   "source": [
    "# connect\n"
   ]
  },
  {
   "cell_type": "code",
   "execution_count": 16,
   "metadata": {},
   "outputs": [
    {
     "name": "stdout",
     "output_type": "stream",
     "text": [
      "2023-09-28 08:32:11,646 INFO sqlalchemy.engine.Engine SELECT DATABASE()\n",
      "2023-09-28 08:32:11,667 INFO sqlalchemy.engine.Engine [raw sql] {}\n",
      "2023-09-28 08:32:11,756 INFO sqlalchemy.engine.Engine SELECT @@sql_mode\n",
      "2023-09-28 08:32:11,757 INFO sqlalchemy.engine.Engine [raw sql] {}\n",
      "2023-09-28 08:32:11,760 INFO sqlalchemy.engine.Engine SELECT @@lower_case_table_names\n",
      "2023-09-28 08:32:11,761 INFO sqlalchemy.engine.Engine [raw sql] {}\n"
     ]
    }
   ],
   "source": [
    "import pandas as pd\n",
    "import mysql.connector\n",
    "from sqlalchemy import create_engine, MetaData, URL, Identity\n",
    "from sqlalchemy import Table, Column, Integer, String, BOOLEAN, DATE, ForeignKey\n",
    "\n",
    "\n",
    "#Creating Database,Connection\n",
    "meta = MetaData()\n",
    "USERNAME = 'root'\n",
    "PASSWORD = '13771377Mnn@'\n",
    "SERVER = 'localhost'\n",
    "PORT = 3306\n",
    "DATABASE = 'book_store'\n",
    "\n",
    "url_object = URL.create(\"mysql+mysqlconnector\",\n",
    "                        username=USERNAME,\n",
    "                        password=PASSWORD,\n",
    "                        host=SERVER,\n",
    "                        database=DATABASE)\n",
    "engine = create_engine(url_object,echo = True)\n",
    "conn = engine.connect()"
   ]
  },
  {
   "cell_type": "markdown",
   "metadata": {},
   "source": [
    "# create model database"
   ]
  },
  {
   "cell_type": "code",
   "execution_count": 17,
   "metadata": {},
   "outputs": [
    {
     "name": "stdout",
     "output_type": "stream",
     "text": [
      "2023-09-28 08:32:16,122 INFO sqlalchemy.engine.Engine BEGIN (implicit)\n",
      "2023-09-28 08:32:16,135 INFO sqlalchemy.engine.Engine DESCRIBE `book_store`.`book`\n",
      "2023-09-28 08:32:16,135 INFO sqlalchemy.engine.Engine [raw sql] {}\n",
      "2023-09-28 08:32:16,320 INFO sqlalchemy.engine.Engine \n",
      "CREATE TABLE book (\n",
      "\tcode INTEGER NOT NULL AUTO_INCREMENT, \n",
      "\ttitle_persian VARCHAR(2000), \n",
      "\ttitle_english VARCHAR(2000), \n",
      "\tprice INTEGER, \n",
      "\tdiscount INTEGER, \n",
      "\tgrade INTEGER, \n",
      "\tshabak VARCHAR(50), \n",
      "\tpage_count INTEGER, \n",
      "\trelease_year_sh INTEGER, \n",
      "\trelease_year_mi INTEGER, \n",
      "\texist BOOL, \n",
      "\tearliest_access DATE, \n",
      "\tprint_series INTEGER, \n",
      "\tcover VARCHAR(100), \n",
      "\tghate VARCHAR(100), \n",
      "\tPRIMARY KEY (code)\n",
      ")\n",
      "\n",
      "\n",
      "2023-09-28 08:32:16,323 INFO sqlalchemy.engine.Engine [no key 0.00303s] {}\n",
      "2023-09-28 08:32:16,448 INFO sqlalchemy.engine.Engine COMMIT\n"
     ]
    }
   ],
   "source": [
    "#Creating Tables\n",
    "#book\n",
    "book = Table(\n",
    "    'book', meta,\n",
    "    Column('code', Integer, primary_key=True),\n",
    "    Column('title_persian', String(2000)),\n",
    "    Column('title_english', String(2000)),\n",
    "    Column('price', Integer),\n",
    "    Column('discount', Integer),\n",
    "    Column('grade', Integer),\n",
    "    Column('shabak', String(50)),\n",
    "    Column('page_count', Integer),\n",
    "    Column('release_year_sh', Integer),\n",
    "    Column('release_year_mi', Integer),\n",
    "    Column('exist', BOOLEAN),\n",
    "    Column('earliest_access', DATE),\n",
    "    Column('print_series', Integer),\n",
    "    Column('cover', String(100)),\n",
    "    Column('ghate', String(100))\n",
    ")\n",
    "meta.create_all(engine)"
   ]
  },
  {
   "cell_type": "code",
   "execution_count": 18,
   "metadata": {},
   "outputs": [
    {
     "name": "stdout",
     "output_type": "stream",
     "text": [
      "2023-09-28 08:34:30,640 INFO sqlalchemy.engine.Engine BEGIN (implicit)\n",
      "2023-09-28 08:34:30,647 INFO sqlalchemy.engine.Engine DESCRIBE `book_store`.`book`\n",
      "2023-09-28 08:34:30,650 INFO sqlalchemy.engine.Engine [raw sql] {}\n",
      "2023-09-28 08:34:30,676 INFO sqlalchemy.engine.Engine DESCRIBE `book_store`.`group`\n",
      "2023-09-28 08:34:30,680 INFO sqlalchemy.engine.Engine [raw sql] {}\n",
      "2023-09-28 08:34:30,684 INFO sqlalchemy.engine.Engine \n",
      "CREATE TABLE `group` (\n",
      "\tid INTEGER NOT NULL AUTO_INCREMENT, \n",
      "\tdescription VARCHAR(5000), \n",
      "\tPRIMARY KEY (id)\n",
      ")\n",
      "\n",
      "\n",
      "2023-09-28 08:34:30,703 INFO sqlalchemy.engine.Engine [no key 0.01839s] {}\n",
      "2023-09-28 08:34:30,775 INFO sqlalchemy.engine.Engine COMMIT\n"
     ]
    }
   ],
   "source": [
    "#group\n",
    "group = Table(\n",
    "    'group', meta,\n",
    "    Column('id', Integer, primary_key=True),\n",
    "    Column('description', String(5000))\n",
    ")\n",
    "meta.create_all(engine)"
   ]
  },
  {
   "cell_type": "code",
   "execution_count": 9,
   "metadata": {},
   "outputs": [
    {
     "name": "stdout",
     "output_type": "stream",
     "text": [
      "2023-09-27 00:31:19,640 INFO sqlalchemy.engine.Engine BEGIN (implicit)\n",
      "2023-09-27 00:31:19,642 INFO sqlalchemy.engine.Engine DESCRIBE `book_store`.`book`\n",
      "2023-09-27 00:31:19,645 INFO sqlalchemy.engine.Engine [raw sql] {}\n",
      "2023-09-27 00:31:19,650 INFO sqlalchemy.engine.Engine DESCRIBE `book_store`.`group`\n",
      "2023-09-27 00:31:19,651 INFO sqlalchemy.engine.Engine [raw sql] {}\n",
      "2023-09-27 00:31:19,656 INFO sqlalchemy.engine.Engine DESCRIBE `book_store`.`group_book`\n",
      "2023-09-27 00:31:19,657 INFO sqlalchemy.engine.Engine [raw sql] {}\n",
      "2023-09-27 00:31:19,662 INFO sqlalchemy.engine.Engine \n",
      "CREATE TABLE group_book (\n",
      "\tid INTEGER NOT NULL AUTO_INCREMENT, \n",
      "\tgroup_id INTEGER, \n",
      "\tbook_code INTEGER, \n",
      "\tPRIMARY KEY (id), \n",
      "\tFOREIGN KEY(group_id) REFERENCES `group` (id), \n",
      "\tFOREIGN KEY(book_code) REFERENCES book (code)\n",
      ")\n",
      "\n",
      "\n",
      "2023-09-27 00:31:19,664 INFO sqlalchemy.engine.Engine [no key 0.00383s] {}\n",
      "2023-09-27 00:31:19,706 INFO sqlalchemy.engine.Engine COMMIT\n"
     ]
    }
   ],
   "source": [
    "#group_book\n",
    "group_book = Table(\n",
    "    'group_book', meta,\n",
    "    Column('id', Integer, primary_key=True, autoincrement=True),\n",
    "    Column('group_id', Integer, ForeignKey('group.id')),\n",
    "    Column('book_code', Integer, ForeignKey('book.code'))\n",
    ")\n",
    "meta.create_all(engine)"
   ]
  },
  {
   "cell_type": "code",
   "execution_count": 19,
   "metadata": {},
   "outputs": [
    {
     "name": "stdout",
     "output_type": "stream",
     "text": [
      "2023-09-28 08:47:55,324 INFO sqlalchemy.engine.Engine BEGIN (implicit)\n",
      "2023-09-28 08:47:55,327 INFO sqlalchemy.engine.Engine DESCRIBE `book_store`.`book`\n",
      "2023-09-28 08:47:55,328 INFO sqlalchemy.engine.Engine [raw sql] {}\n",
      "2023-09-28 08:47:55,331 INFO sqlalchemy.engine.Engine DESCRIBE `book_store`.`group`\n",
      "2023-09-28 08:47:55,332 INFO sqlalchemy.engine.Engine [raw sql] {}\n",
      "2023-09-28 08:47:55,337 INFO sqlalchemy.engine.Engine DESCRIBE `book_store`.`person`\n",
      "2023-09-28 08:47:55,370 INFO sqlalchemy.engine.Engine [raw sql] {}\n",
      "2023-09-28 08:47:55,376 INFO sqlalchemy.engine.Engine \n",
      "CREATE TABLE person (\n",
      "\tcounter INTEGER NOT NULL AUTO_INCREMENT, \n",
      "\tid INTEGER, \n",
      "\tname VARCHAR(100), \n",
      "\tdescription VARCHAR(5000), \n",
      "\tPRIMARY KEY (counter)\n",
      ")\n",
      "\n",
      "\n",
      "2023-09-28 08:47:55,377 INFO sqlalchemy.engine.Engine [no key 0.00191s] {}\n",
      "2023-09-28 08:47:55,432 INFO sqlalchemy.engine.Engine COMMIT\n"
     ]
    }
   ],
   "source": [
    "#person\n",
    "person = Table(\n",
    "    'person', meta,\n",
    "    Column('counter', Integer, primary_key=True,autoincrement=True),\n",
    "    Column('id', Integer),\n",
    "    Column('name', String(100)),\n",
    "    Column('description', String(5000))\n",
    ")\n",
    "meta.create_all(engine)"
   ]
  },
  {
   "cell_type": "code",
   "execution_count": 20,
   "metadata": {},
   "outputs": [
    {
     "name": "stdout",
     "output_type": "stream",
     "text": [
      "2023-09-28 08:51:14,603 INFO sqlalchemy.engine.Engine BEGIN (implicit)\n",
      "2023-09-28 08:51:14,608 INFO sqlalchemy.engine.Engine DESCRIBE `book_store`.`book`\n",
      "2023-09-28 08:51:14,611 INFO sqlalchemy.engine.Engine [raw sql] {}\n",
      "2023-09-28 08:51:14,618 INFO sqlalchemy.engine.Engine DESCRIBE `book_store`.`group`\n",
      "2023-09-28 08:51:14,622 INFO sqlalchemy.engine.Engine [raw sql] {}\n",
      "2023-09-28 08:51:14,627 INFO sqlalchemy.engine.Engine DESCRIBE `book_store`.`person`\n",
      "2023-09-28 08:51:14,628 INFO sqlalchemy.engine.Engine [raw sql] {}\n",
      "2023-09-28 08:51:14,632 INFO sqlalchemy.engine.Engine DESCRIBE `book_store`.`publisher`\n",
      "2023-09-28 08:51:14,634 INFO sqlalchemy.engine.Engine [raw sql] {}\n",
      "2023-09-28 08:51:14,642 INFO sqlalchemy.engine.Engine \n",
      "CREATE TABLE publisher (\n",
      "\tid INTEGER NOT NULL AUTO_INCREMENT, \n",
      "\tname VARCHAR(100), \n",
      "\tPRIMARY KEY (id)\n",
      ")\n",
      "\n",
      "\n",
      "2023-09-28 08:51:14,644 INFO sqlalchemy.engine.Engine [no key 0.00288s] {}\n",
      "2023-09-28 08:51:14,696 INFO sqlalchemy.engine.Engine COMMIT\n"
     ]
    }
   ],
   "source": [
    "#publisher\n",
    "publisher = Table(\n",
    "    'publisher', meta,\n",
    "    Column('id', Integer, primary_key=True),\n",
    "    Column('name', String(100))\n",
    ")\n",
    "meta.create_all(engine)"
   ]
  },
  {
   "cell_type": "code",
   "execution_count": 21,
   "metadata": {},
   "outputs": [
    {
     "name": "stdout",
     "output_type": "stream",
     "text": [
      "2023-09-28 08:51:46,450 INFO sqlalchemy.engine.Engine BEGIN (implicit)\n",
      "2023-09-28 08:51:46,488 INFO sqlalchemy.engine.Engine DESCRIBE `book_store`.`book`\n",
      "2023-09-28 08:51:46,489 INFO sqlalchemy.engine.Engine [raw sql] {}\n",
      "2023-09-28 08:51:46,492 INFO sqlalchemy.engine.Engine DESCRIBE `book_store`.`group`\n",
      "2023-09-28 08:51:46,493 INFO sqlalchemy.engine.Engine [raw sql] {}\n",
      "2023-09-28 08:51:46,498 INFO sqlalchemy.engine.Engine DESCRIBE `book_store`.`person`\n",
      "2023-09-28 08:51:46,500 INFO sqlalchemy.engine.Engine [raw sql] {}\n",
      "2023-09-28 08:51:46,509 INFO sqlalchemy.engine.Engine DESCRIBE `book_store`.`publisher`\n",
      "2023-09-28 08:51:46,512 INFO sqlalchemy.engine.Engine [raw sql] {}\n",
      "2023-09-28 08:51:46,518 INFO sqlalchemy.engine.Engine DESCRIBE `book_store`.`category`\n",
      "2023-09-28 08:51:46,519 INFO sqlalchemy.engine.Engine [raw sql] {}\n",
      "2023-09-28 08:51:46,533 INFO sqlalchemy.engine.Engine \n",
      "CREATE TABLE category (\n",
      "\tid INTEGER NOT NULL AUTO_INCREMENT, \n",
      "\tname VARCHAR(150), \n",
      "\tdescription VARCHAR(5000), \n",
      "\tPRIMARY KEY (id)\n",
      ")\n",
      "\n",
      "\n",
      "2023-09-28 08:51:46,535 INFO sqlalchemy.engine.Engine [no key 0.00212s] {}\n",
      "2023-09-28 08:51:46,572 INFO sqlalchemy.engine.Engine COMMIT\n"
     ]
    }
   ],
   "source": [
    "#category\n",
    "category = Table(\n",
    "    'category', meta,\n",
    "    Column('id', Integer, primary_key=True),\n",
    "    Column('name', String(150)),\n",
    "    Column('description', String(5000))\n",
    ")\n",
    "meta.create_all(engine)"
   ]
  },
  {
   "cell_type": "code",
   "execution_count": null,
   "metadata": {},
   "outputs": [],
   "source": [
    "#group_category\n",
    "group_category = Table(\n",
    "    'group_category', meta,\n",
    "    Column('id', Integer, primary_key=True, autoincrement=True),\n",
    "    Column('group_id', Integer, ForeignKey('group.id')),\n",
    "    Column('category_id', Integer, ForeignKey('category.id'))\n",
    ")\n",
    "meta.create_all(engine)"
   ]
  },
  {
   "cell_type": "code",
   "execution_count": 24,
   "metadata": {},
   "outputs": [
    {
     "name": "stdout",
     "output_type": "stream",
     "text": [
      "2023-09-28 08:56:54,730 INFO sqlalchemy.engine.Engine BEGIN (implicit)\n",
      "2023-09-28 08:56:54,732 INFO sqlalchemy.engine.Engine DESCRIBE `book_store`.`book`\n",
      "2023-09-28 08:56:54,734 INFO sqlalchemy.engine.Engine [raw sql] {}\n",
      "2023-09-28 08:56:54,739 INFO sqlalchemy.engine.Engine DESCRIBE `book_store`.`group`\n",
      "2023-09-28 08:56:54,741 INFO sqlalchemy.engine.Engine [raw sql] {}\n",
      "2023-09-28 08:56:54,749 INFO sqlalchemy.engine.Engine DESCRIBE `book_store`.`person`\n",
      "2023-09-28 08:56:54,751 INFO sqlalchemy.engine.Engine [raw sql] {}\n",
      "2023-09-28 08:56:54,758 INFO sqlalchemy.engine.Engine DESCRIBE `book_store`.`publisher`\n",
      "2023-09-28 08:56:54,759 INFO sqlalchemy.engine.Engine [raw sql] {}\n",
      "2023-09-28 08:56:54,763 INFO sqlalchemy.engine.Engine DESCRIBE `book_store`.`category`\n",
      "2023-09-28 08:56:54,764 INFO sqlalchemy.engine.Engine [raw sql] {}\n",
      "2023-09-28 08:56:54,766 INFO sqlalchemy.engine.Engine DESCRIBE `book_store`.`group_category`\n",
      "2023-09-28 08:56:54,767 INFO sqlalchemy.engine.Engine [raw sql] {}\n",
      "2023-09-28 08:56:54,771 INFO sqlalchemy.engine.Engine DESCRIBE `book_store`.`book_publisher`\n",
      "2023-09-28 08:56:54,772 INFO sqlalchemy.engine.Engine [raw sql] {}\n",
      "2023-09-28 08:56:54,775 INFO sqlalchemy.engine.Engine \n",
      "CREATE TABLE book_publisher (\n",
      "\tid INTEGER NOT NULL AUTO_INCREMENT, \n",
      "\tbook_code INTEGER, \n",
      "\tpublisher_id INTEGER, \n",
      "\tPRIMARY KEY (id), \n",
      "\tFOREIGN KEY(book_code) REFERENCES book (code), \n",
      "\tFOREIGN KEY(publisher_id) REFERENCES publisher (id)\n",
      ")\n",
      "\n",
      "\n",
      "2023-09-28 08:56:54,777 INFO sqlalchemy.engine.Engine [no key 0.00259s] {}\n",
      "2023-09-28 08:56:54,832 INFO sqlalchemy.engine.Engine COMMIT\n"
     ]
    }
   ],
   "source": [
    "#book_publisher\n",
    "book_publisher = Table(\n",
    "    'book_publisher', meta,\n",
    "    Column('id', Integer, primary_key=True, autoincrement=True),\n",
    "    Column('book_code', Integer, ForeignKey('book.code')),\n",
    "    Column('publisher_id', Integer, ForeignKey('publisher.id'))\n",
    ")\n",
    "meta.create_all(engine)"
   ]
  },
  {
   "cell_type": "code",
   "execution_count": null,
   "metadata": {},
   "outputs": [],
   "source": [
    "#crew\n",
    "crew = Table(\n",
    "    'crew', meta,\n",
    "    Column('id', Integer, primary_key=True, autoincrement=True),\n",
    "    Column('book_code', Integer, ForeignKey('book.code')),\n",
    "    Column('person_counter', Integer, ForeignKey('person.counter')),\n",
    "    Column('role', String(15))\n",
    ")\n",
    "meta.create_all(engine)"
   ]
  }
 ],
 "metadata": {
  "kernelspec": {
   "display_name": "Python 3.10.6 64-bit",
   "language": "python",
   "name": "python3"
  },
  "language_info": {
   "codemirror_mode": {
    "name": "ipython",
    "version": 3
   },
   "file_extension": ".py",
   "mimetype": "text/x-python",
   "name": "python",
   "nbconvert_exporter": "python",
   "pygments_lexer": "ipython3",
   "version": "3.10.6"
  },
  "orig_nbformat": 4,
  "vscode": {
   "interpreter": {
    "hash": "73c10509234451b7c9059ae5f54ad33529ef7b4c9c761939e46712064d00bc14"
   }
  }
 },
 "nbformat": 4,
 "nbformat_minor": 2
}
