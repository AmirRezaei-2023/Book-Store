{
 "cells": [
  {
   "cell_type": "markdown",
   "metadata": {},
   "source": [
    "# connect\n"
   ]
  },
  {
   "cell_type": "code",
   "execution_count": 25,
   "metadata": {},
   "outputs": [
    {
     "name": "stdout",
     "output_type": "stream",
     "text": [
      "2023-09-28 09:01:36,272 INFO sqlalchemy.engine.Engine SELECT DATABASE()\n",
      "2023-09-28 09:01:36,272 INFO sqlalchemy.engine.Engine [raw sql] {}\n",
      "2023-09-28 09:01:36,276 INFO sqlalchemy.engine.Engine SELECT @@sql_mode\n",
      "2023-09-28 09:01:36,277 INFO sqlalchemy.engine.Engine [raw sql] {}\n",
      "2023-09-28 09:01:36,281 INFO sqlalchemy.engine.Engine SELECT @@lower_case_table_names\n",
      "2023-09-28 09:01:36,283 INFO sqlalchemy.engine.Engine [raw sql] {}\n"
     ]
    }
   ],
   "source": [
    "import pandas as pd\n",
    "import mysql.connector\n",
    "from sqlalchemy import create_engine, MetaData, URL, Identity\n",
    "from sqlalchemy import Table, Column, Integer, String, BOOLEAN, DATE, ForeignKey\n",
    "\n",
    "\n",
    "#Creating Database,Connection\n",
    "meta = MetaData()\n",
    "USERNAME = 'root'\n",
    "PASSWORD = '13771377Mnn@'\n",
    "SERVER = 'localhost'\n",
    "PORT = 3306\n",
    "DATABASE = 'book_store'\n",
    "\n",
    "url_object = URL.create(\"mysql+mysqlconnector\",\n",
    "                        username=USERNAME,\n",
    "                        password=PASSWORD,\n",
    "                        host=SERVER,\n",
    "                        database=DATABASE)\n",
    "engine = create_engine(url_object,echo = True)\n",
    "conn = engine.connect()"
   ]
  },
  {
   "cell_type": "markdown",
   "metadata": {},
   "source": [
    "# create model database"
   ]
  },
  {
   "cell_type": "code",
   "execution_count": 26,
   "metadata": {},
   "outputs": [
    {
     "name": "stdout",
     "output_type": "stream",
     "text": [
      "2023-09-28 09:01:36,383 INFO sqlalchemy.engine.Engine BEGIN (implicit)\n",
      "2023-09-28 09:01:36,386 INFO sqlalchemy.engine.Engine DESCRIBE `book_store`.`book`\n",
      "2023-09-28 09:01:36,388 INFO sqlalchemy.engine.Engine [raw sql] {}\n",
      "2023-09-28 09:01:36,392 INFO sqlalchemy.engine.Engine \n",
      "CREATE TABLE book (\n",
      "\tcode INTEGER NOT NULL AUTO_INCREMENT, \n",
      "\ttitle_persian VARCHAR(2000), \n",
      "\ttitle_english VARCHAR(2000), \n",
      "\tprice INTEGER, \n",
      "\tdiscount INTEGER, \n",
      "\tgrade INTEGER, \n",
      "\tshabak VARCHAR(50), \n",
      "\tpage_count INTEGER, \n",
      "\trelease_year_sh INTEGER, \n",
      "\trelease_year_mi INTEGER, \n",
      "\texist BOOL, \n",
      "\tearliest_access DATE, \n",
      "\tprint_series INTEGER, \n",
      "\tcover VARCHAR(100), \n",
      "\tghate VARCHAR(100), \n",
      "\tPRIMARY KEY (code)\n",
      ")\n",
      "\n",
      "\n",
      "2023-09-28 09:01:36,392 INFO sqlalchemy.engine.Engine [no key 0.00113s] {}\n",
      "2023-09-28 09:01:36,497 INFO sqlalchemy.engine.Engine COMMIT\n"
     ]
    }
   ],
   "source": [
    "#Creating Tables\n",
    "#book\n",
    "book = Table(\n",
    "    'book', meta,\n",
    "    Column('code', Integer, primary_key=True),\n",
    "    Column('title_persian', String(2000)),\n",
    "    Column('title_english', String(2000)),\n",
    "    Column('price', Integer),\n",
    "    Column('discount', Integer),\n",
    "    Column('grade', Integer),\n",
    "    Column('shabak', String(50)),\n",
    "    Column('page_count', Integer),\n",
    "    Column('release_year_sh', Integer),\n",
    "    Column('release_year_mi', Integer),\n",
    "    Column('exist', BOOLEAN),\n",
    "    Column('earliest_access', DATE),\n",
    "    Column('print_series', Integer),\n",
    "    Column('cover', String(100)),\n",
    "    Column('ghate', String(100))\n",
    ")\n",
    "meta.create_all(engine)"
   ]
  },
  {
   "cell_type": "code",
   "execution_count": 27,
   "metadata": {},
   "outputs": [
    {
     "name": "stdout",
     "output_type": "stream",
     "text": [
      "2023-09-28 09:01:36,572 INFO sqlalchemy.engine.Engine BEGIN (implicit)\n",
      "2023-09-28 09:01:36,576 INFO sqlalchemy.engine.Engine DESCRIBE `book_store`.`book`\n",
      "2023-09-28 09:01:36,580 INFO sqlalchemy.engine.Engine [raw sql] {}\n",
      "2023-09-28 09:01:36,587 INFO sqlalchemy.engine.Engine DESCRIBE `book_store`.`group`\n",
      "2023-09-28 09:01:36,588 INFO sqlalchemy.engine.Engine [raw sql] {}\n",
      "2023-09-28 09:01:36,591 INFO sqlalchemy.engine.Engine \n",
      "CREATE TABLE `group` (\n",
      "\tid INTEGER NOT NULL AUTO_INCREMENT, \n",
      "\tdescription VARCHAR(5000), \n",
      "\tPRIMARY KEY (id)\n",
      ")\n",
      "\n",
      "\n",
      "2023-09-28 09:01:36,592 INFO sqlalchemy.engine.Engine [no key 0.00137s] {}\n",
      "2023-09-28 09:01:36,655 INFO sqlalchemy.engine.Engine COMMIT\n"
     ]
    }
   ],
   "source": [
    "#group\n",
    "group = Table(\n",
    "    'group', meta,\n",
    "    Column('id', Integer, primary_key=True),\n",
    "    Column('description', String(5000))\n",
    ")\n",
    "meta.create_all(engine)"
   ]
  },
  {
   "cell_type": "code",
   "execution_count": 28,
   "metadata": {},
   "outputs": [
    {
     "name": "stdout",
     "output_type": "stream",
     "text": [
      "2023-09-28 09:01:36,818 INFO sqlalchemy.engine.Engine BEGIN (implicit)\n",
      "2023-09-28 09:01:36,824 INFO sqlalchemy.engine.Engine DESCRIBE `book_store`.`book`\n",
      "2023-09-28 09:01:36,826 INFO sqlalchemy.engine.Engine [raw sql] {}\n",
      "2023-09-28 09:01:36,835 INFO sqlalchemy.engine.Engine DESCRIBE `book_store`.`group`\n",
      "2023-09-28 09:01:36,837 INFO sqlalchemy.engine.Engine [raw sql] {}\n",
      "2023-09-28 09:01:36,842 INFO sqlalchemy.engine.Engine DESCRIBE `book_store`.`group_book`\n",
      "2023-09-28 09:01:36,843 INFO sqlalchemy.engine.Engine [raw sql] {}\n",
      "2023-09-28 09:01:36,846 INFO sqlalchemy.engine.Engine \n",
      "CREATE TABLE group_book (\n",
      "\tid INTEGER NOT NULL AUTO_INCREMENT, \n",
      "\tgroup_id INTEGER, \n",
      "\tbook_code INTEGER, \n",
      "\tPRIMARY KEY (id), \n",
      "\tFOREIGN KEY(group_id) REFERENCES `group` (id), \n",
      "\tFOREIGN KEY(book_code) REFERENCES book (code)\n",
      ")\n",
      "\n",
      "\n",
      "2023-09-28 09:01:36,849 INFO sqlalchemy.engine.Engine [no key 0.00329s] {}\n",
      "2023-09-28 09:01:36,901 INFO sqlalchemy.engine.Engine COMMIT\n"
     ]
    }
   ],
   "source": [
    "#group_book\n",
    "group_book = Table(\n",
    "    'group_book', meta,\n",
    "    Column('id', Integer, primary_key=True, autoincrement=True),\n",
    "    Column('group_id', Integer, ForeignKey('group.id')),\n",
    "    Column('book_code', Integer, ForeignKey('book.code'))\n",
    ")\n",
    "meta.create_all(engine)"
   ]
  },
  {
   "cell_type": "code",
   "execution_count": 29,
   "metadata": {},
   "outputs": [
    {
     "name": "stdout",
     "output_type": "stream",
     "text": [
      "2023-09-28 09:01:36,979 INFO sqlalchemy.engine.Engine BEGIN (implicit)\n",
      "2023-09-28 09:01:36,984 INFO sqlalchemy.engine.Engine DESCRIBE `book_store`.`book`\n",
      "2023-09-28 09:01:36,986 INFO sqlalchemy.engine.Engine [raw sql] {}\n",
      "2023-09-28 09:01:36,991 INFO sqlalchemy.engine.Engine DESCRIBE `book_store`.`group`\n",
      "2023-09-28 09:01:36,992 INFO sqlalchemy.engine.Engine [raw sql] {}\n",
      "2023-09-28 09:01:36,996 INFO sqlalchemy.engine.Engine DESCRIBE `book_store`.`group_book`\n",
      "2023-09-28 09:01:36,998 INFO sqlalchemy.engine.Engine [raw sql] {}\n",
      "2023-09-28 09:01:37,005 INFO sqlalchemy.engine.Engine DESCRIBE `book_store`.`person`\n",
      "2023-09-28 09:01:37,006 INFO sqlalchemy.engine.Engine [raw sql] {}\n",
      "2023-09-28 09:01:37,010 INFO sqlalchemy.engine.Engine \n",
      "CREATE TABLE person (\n",
      "\tcounter INTEGER NOT NULL AUTO_INCREMENT, \n",
      "\tid INTEGER, \n",
      "\tname VARCHAR(100), \n",
      "\tdescription VARCHAR(5000), \n",
      "\tPRIMARY KEY (counter)\n",
      ")\n",
      "\n",
      "\n",
      "2023-09-28 09:01:37,011 INFO sqlalchemy.engine.Engine [no key 0.00130s] {}\n",
      "2023-09-28 09:01:37,031 INFO sqlalchemy.engine.Engine COMMIT\n"
     ]
    }
   ],
   "source": [
    "#person\n",
    "person = Table(\n",
    "    'person', meta,\n",
    "    Column('counter', Integer, primary_key=True,autoincrement=True),\n",
    "    Column('id', Integer),\n",
    "    Column('name', String(100)),\n",
    "    Column('description', String(5000))\n",
    ")\n",
    "meta.create_all(engine)"
   ]
  },
  {
   "cell_type": "code",
   "execution_count": 30,
   "metadata": {},
   "outputs": [
    {
     "name": "stdout",
     "output_type": "stream",
     "text": [
      "2023-09-28 09:01:37,120 INFO sqlalchemy.engine.Engine BEGIN (implicit)\n",
      "2023-09-28 09:01:37,122 INFO sqlalchemy.engine.Engine DESCRIBE `book_store`.`book`\n",
      "2023-09-28 09:01:37,123 INFO sqlalchemy.engine.Engine [raw sql] {}\n",
      "2023-09-28 09:01:37,128 INFO sqlalchemy.engine.Engine DESCRIBE `book_store`.`group`\n",
      "2023-09-28 09:01:37,130 INFO sqlalchemy.engine.Engine [raw sql] {}\n",
      "2023-09-28 09:01:37,142 INFO sqlalchemy.engine.Engine DESCRIBE `book_store`.`group_book`\n",
      "2023-09-28 09:01:37,144 INFO sqlalchemy.engine.Engine [raw sql] {}\n",
      "2023-09-28 09:01:37,152 INFO sqlalchemy.engine.Engine DESCRIBE `book_store`.`person`\n",
      "2023-09-28 09:01:37,153 INFO sqlalchemy.engine.Engine [raw sql] {}\n",
      "2023-09-28 09:01:37,158 INFO sqlalchemy.engine.Engine DESCRIBE `book_store`.`publisher`\n",
      "2023-09-28 09:01:37,159 INFO sqlalchemy.engine.Engine [raw sql] {}\n",
      "2023-09-28 09:01:37,165 INFO sqlalchemy.engine.Engine \n",
      "CREATE TABLE publisher (\n",
      "\tid INTEGER NOT NULL AUTO_INCREMENT, \n",
      "\tname VARCHAR(100), \n",
      "\tPRIMARY KEY (id)\n",
      ")\n",
      "\n",
      "\n",
      "2023-09-28 09:01:37,166 INFO sqlalchemy.engine.Engine [no key 0.00159s] {}\n",
      "2023-09-28 09:01:37,192 INFO sqlalchemy.engine.Engine COMMIT\n"
     ]
    }
   ],
   "source": [
    "#publisher\n",
    "publisher = Table(\n",
    "    'publisher', meta,\n",
    "    Column('id', Integer, primary_key=True),\n",
    "    Column('name', String(100))\n",
    ")\n",
    "meta.create_all(engine)"
   ]
  },
  {
   "cell_type": "code",
   "execution_count": 31,
   "metadata": {},
   "outputs": [
    {
     "name": "stdout",
     "output_type": "stream",
     "text": [
      "2023-09-28 09:01:37,277 INFO sqlalchemy.engine.Engine BEGIN (implicit)\n",
      "2023-09-28 09:01:37,279 INFO sqlalchemy.engine.Engine DESCRIBE `book_store`.`book`\n",
      "2023-09-28 09:01:37,282 INFO sqlalchemy.engine.Engine [raw sql] {}\n",
      "2023-09-28 09:01:37,287 INFO sqlalchemy.engine.Engine DESCRIBE `book_store`.`group`\n",
      "2023-09-28 09:01:37,288 INFO sqlalchemy.engine.Engine [raw sql] {}\n",
      "2023-09-28 09:01:37,290 INFO sqlalchemy.engine.Engine DESCRIBE `book_store`.`group_book`\n",
      "2023-09-28 09:01:37,291 INFO sqlalchemy.engine.Engine [raw sql] {}\n",
      "2023-09-28 09:01:37,294 INFO sqlalchemy.engine.Engine DESCRIBE `book_store`.`person`\n",
      "2023-09-28 09:01:37,295 INFO sqlalchemy.engine.Engine [raw sql] {}\n",
      "2023-09-28 09:01:37,301 INFO sqlalchemy.engine.Engine DESCRIBE `book_store`.`publisher`\n",
      "2023-09-28 09:01:37,302 INFO sqlalchemy.engine.Engine [raw sql] {}\n",
      "2023-09-28 09:01:37,305 INFO sqlalchemy.engine.Engine DESCRIBE `book_store`.`category`\n",
      "2023-09-28 09:01:37,306 INFO sqlalchemy.engine.Engine [raw sql] {}\n",
      "2023-09-28 09:01:37,309 INFO sqlalchemy.engine.Engine \n",
      "CREATE TABLE category (\n",
      "\tid INTEGER NOT NULL AUTO_INCREMENT, \n",
      "\tname VARCHAR(150), \n",
      "\tdescription VARCHAR(5000), \n",
      "\tPRIMARY KEY (id)\n",
      ")\n",
      "\n",
      "\n",
      "2023-09-28 09:01:37,310 INFO sqlalchemy.engine.Engine [no key 0.00146s] {}\n",
      "2023-09-28 09:01:37,340 INFO sqlalchemy.engine.Engine COMMIT\n"
     ]
    }
   ],
   "source": [
    "#category\n",
    "category = Table(\n",
    "    'category', meta,\n",
    "    Column('id', Integer, primary_key=True),\n",
    "    Column('name', String(150)),\n",
    "    Column('description', String(5000))\n",
    ")\n",
    "meta.create_all(engine)"
   ]
  },
  {
   "cell_type": "code",
   "execution_count": 32,
   "metadata": {},
   "outputs": [
    {
     "name": "stdout",
     "output_type": "stream",
     "text": [
      "2023-09-28 09:01:37,427 INFO sqlalchemy.engine.Engine BEGIN (implicit)\n",
      "2023-09-28 09:01:37,436 INFO sqlalchemy.engine.Engine DESCRIBE `book_store`.`book`\n",
      "2023-09-28 09:01:37,438 INFO sqlalchemy.engine.Engine [raw sql] {}\n",
      "2023-09-28 09:01:37,442 INFO sqlalchemy.engine.Engine DESCRIBE `book_store`.`group`\n",
      "2023-09-28 09:01:37,443 INFO sqlalchemy.engine.Engine [raw sql] {}\n",
      "2023-09-28 09:01:37,445 INFO sqlalchemy.engine.Engine DESCRIBE `book_store`.`group_book`\n",
      "2023-09-28 09:01:37,448 INFO sqlalchemy.engine.Engine [raw sql] {}\n",
      "2023-09-28 09:01:37,455 INFO sqlalchemy.engine.Engine DESCRIBE `book_store`.`person`\n",
      "2023-09-28 09:01:37,456 INFO sqlalchemy.engine.Engine [raw sql] {}\n",
      "2023-09-28 09:01:37,459 INFO sqlalchemy.engine.Engine DESCRIBE `book_store`.`publisher`\n",
      "2023-09-28 09:01:37,460 INFO sqlalchemy.engine.Engine [raw sql] {}\n",
      "2023-09-28 09:01:37,463 INFO sqlalchemy.engine.Engine DESCRIBE `book_store`.`category`\n",
      "2023-09-28 09:01:37,464 INFO sqlalchemy.engine.Engine [raw sql] {}\n",
      "2023-09-28 09:01:37,472 INFO sqlalchemy.engine.Engine DESCRIBE `book_store`.`group_category`\n",
      "2023-09-28 09:01:37,473 INFO sqlalchemy.engine.Engine [raw sql] {}\n",
      "2023-09-28 09:01:37,477 INFO sqlalchemy.engine.Engine \n",
      "CREATE TABLE group_category (\n",
      "\tid INTEGER NOT NULL AUTO_INCREMENT, \n",
      "\tgroup_id INTEGER, \n",
      "\tcategory_id INTEGER, \n",
      "\tPRIMARY KEY (id), \n",
      "\tFOREIGN KEY(group_id) REFERENCES `group` (id), \n",
      "\tFOREIGN KEY(category_id) REFERENCES category (id)\n",
      ")\n",
      "\n",
      "\n",
      "2023-09-28 09:01:37,479 INFO sqlalchemy.engine.Engine [no key 0.00149s] {}\n",
      "2023-09-28 09:01:37,512 INFO sqlalchemy.engine.Engine COMMIT\n"
     ]
    }
   ],
   "source": [
    "#group_category\n",
    "group_category = Table(\n",
    "    'group_category', meta,\n",
    "    Column('id', Integer, primary_key=True, autoincrement=True),\n",
    "    Column('group_id', Integer, ForeignKey('group.id')),\n",
    "    Column('category_id', Integer, ForeignKey('category.id'))\n",
    ")\n",
    "meta.create_all(engine)"
   ]
  },
  {
   "cell_type": "code",
   "execution_count": 33,
   "metadata": {},
   "outputs": [
    {
     "name": "stdout",
     "output_type": "stream",
     "text": [
      "2023-09-28 09:01:37,611 INFO sqlalchemy.engine.Engine BEGIN (implicit)\n",
      "2023-09-28 09:01:37,613 INFO sqlalchemy.engine.Engine DESCRIBE `book_store`.`book`\n",
      "2023-09-28 09:01:37,616 INFO sqlalchemy.engine.Engine [raw sql] {}\n",
      "2023-09-28 09:01:37,625 INFO sqlalchemy.engine.Engine DESCRIBE `book_store`.`group`\n",
      "2023-09-28 09:01:37,627 INFO sqlalchemy.engine.Engine [raw sql] {}\n",
      "2023-09-28 09:01:37,635 INFO sqlalchemy.engine.Engine DESCRIBE `book_store`.`group_book`\n",
      "2023-09-28 09:01:37,637 INFO sqlalchemy.engine.Engine [raw sql] {}\n",
      "2023-09-28 09:01:37,642 INFO sqlalchemy.engine.Engine DESCRIBE `book_store`.`person`\n",
      "2023-09-28 09:01:37,643 INFO sqlalchemy.engine.Engine [raw sql] {}\n",
      "2023-09-28 09:01:37,647 INFO sqlalchemy.engine.Engine DESCRIBE `book_store`.`publisher`\n",
      "2023-09-28 09:01:37,649 INFO sqlalchemy.engine.Engine [raw sql] {}\n",
      "2023-09-28 09:01:37,659 INFO sqlalchemy.engine.Engine DESCRIBE `book_store`.`category`\n",
      "2023-09-28 09:01:37,661 INFO sqlalchemy.engine.Engine [raw sql] {}\n",
      "2023-09-28 09:01:37,668 INFO sqlalchemy.engine.Engine DESCRIBE `book_store`.`group_category`\n",
      "2023-09-28 09:01:37,670 INFO sqlalchemy.engine.Engine [raw sql] {}\n",
      "2023-09-28 09:01:37,677 INFO sqlalchemy.engine.Engine DESCRIBE `book_store`.`book_publisher`\n",
      "2023-09-28 09:01:37,678 INFO sqlalchemy.engine.Engine [raw sql] {}\n",
      "2023-09-28 09:01:37,682 INFO sqlalchemy.engine.Engine \n",
      "CREATE TABLE book_publisher (\n",
      "\tid INTEGER NOT NULL AUTO_INCREMENT, \n",
      "\tbook_code INTEGER, \n",
      "\tpublisher_id INTEGER, \n",
      "\tPRIMARY KEY (id), \n",
      "\tFOREIGN KEY(book_code) REFERENCES book (code), \n",
      "\tFOREIGN KEY(publisher_id) REFERENCES publisher (id)\n",
      ")\n",
      "\n",
      "\n",
      "2023-09-28 09:01:37,685 INFO sqlalchemy.engine.Engine [no key 0.00380s] {}\n",
      "2023-09-28 09:01:37,740 INFO sqlalchemy.engine.Engine COMMIT\n"
     ]
    }
   ],
   "source": [
    "#book_publisher\n",
    "book_publisher = Table(\n",
    "    'book_publisher', meta,\n",
    "    Column('id', Integer, primary_key=True, autoincrement=True),\n",
    "    Column('book_code', Integer, ForeignKey('book.code')),\n",
    "    Column('publisher_id', Integer, ForeignKey('publisher.id'))\n",
    ")\n",
    "meta.create_all(engine)"
   ]
  },
  {
   "cell_type": "code",
   "execution_count": 34,
   "metadata": {},
   "outputs": [
    {
     "name": "stdout",
     "output_type": "stream",
     "text": [
      "2023-09-28 09:01:37,840 INFO sqlalchemy.engine.Engine BEGIN (implicit)\n",
      "2023-09-28 09:01:37,842 INFO sqlalchemy.engine.Engine DESCRIBE `book_store`.`book`\n",
      "2023-09-28 09:01:37,843 INFO sqlalchemy.engine.Engine [raw sql] {}\n",
      "2023-09-28 09:01:37,851 INFO sqlalchemy.engine.Engine DESCRIBE `book_store`.`group`\n",
      "2023-09-28 09:01:37,853 INFO sqlalchemy.engine.Engine [raw sql] {}\n",
      "2023-09-28 09:01:37,859 INFO sqlalchemy.engine.Engine DESCRIBE `book_store`.`group_book`\n",
      "2023-09-28 09:01:37,860 INFO sqlalchemy.engine.Engine [raw sql] {}\n",
      "2023-09-28 09:01:37,863 INFO sqlalchemy.engine.Engine DESCRIBE `book_store`.`person`\n",
      "2023-09-28 09:01:37,865 INFO sqlalchemy.engine.Engine [raw sql] {}\n",
      "2023-09-28 09:01:37,875 INFO sqlalchemy.engine.Engine DESCRIBE `book_store`.`publisher`\n",
      "2023-09-28 09:01:37,877 INFO sqlalchemy.engine.Engine [raw sql] {}\n",
      "2023-09-28 09:01:37,883 INFO sqlalchemy.engine.Engine DESCRIBE `book_store`.`category`\n",
      "2023-09-28 09:01:37,884 INFO sqlalchemy.engine.Engine [raw sql] {}\n",
      "2023-09-28 09:01:37,889 INFO sqlalchemy.engine.Engine DESCRIBE `book_store`.`group_category`\n",
      "2023-09-28 09:01:37,890 INFO sqlalchemy.engine.Engine [raw sql] {}\n",
      "2023-09-28 09:01:37,894 INFO sqlalchemy.engine.Engine DESCRIBE `book_store`.`book_publisher`\n",
      "2023-09-28 09:01:37,895 INFO sqlalchemy.engine.Engine [raw sql] {}\n",
      "2023-09-28 09:01:37,904 INFO sqlalchemy.engine.Engine DESCRIBE `book_store`.`crew`\n",
      "2023-09-28 09:01:37,906 INFO sqlalchemy.engine.Engine [raw sql] {}\n",
      "2023-09-28 09:01:37,910 INFO sqlalchemy.engine.Engine \n",
      "CREATE TABLE crew (\n",
      "\tid INTEGER NOT NULL AUTO_INCREMENT, \n",
      "\tbook_code INTEGER, \n",
      "\tperson_counter INTEGER, \n",
      "\t`role` VARCHAR(15), \n",
      "\tPRIMARY KEY (id), \n",
      "\tFOREIGN KEY(book_code) REFERENCES book (code), \n",
      "\tFOREIGN KEY(person_counter) REFERENCES person (counter)\n",
      ")\n",
      "\n",
      "\n",
      "2023-09-28 09:01:37,911 INFO sqlalchemy.engine.Engine [no key 0.00131s] {}\n",
      "2023-09-28 09:01:37,987 INFO sqlalchemy.engine.Engine COMMIT\n"
     ]
    }
   ],
   "source": [
    "#crew\n",
    "crew = Table(\n",
    "    'crew', meta,\n",
    "    Column('id', Integer, primary_key=True, autoincrement=True),\n",
    "    Column('book_code', Integer, ForeignKey('book.code')),\n",
    "    Column('person_counter', Integer, ForeignKey('person.counter')),\n",
    "    Column('role', String(15))\n",
    ")\n",
    "meta.create_all(engine)"
   ]
  }
 ],
 "metadata": {
  "kernelspec": {
   "display_name": "Python 3.10.6 64-bit",
   "language": "python",
   "name": "python3"
  },
  "language_info": {
   "codemirror_mode": {
    "name": "ipython",
    "version": 3
   },
   "file_extension": ".py",
   "mimetype": "text/x-python",
   "name": "python",
   "nbconvert_exporter": "python",
   "pygments_lexer": "ipython3",
   "version": "3.10.6"
  },
  "orig_nbformat": 4,
  "vscode": {
   "interpreter": {
    "hash": "73c10509234451b7c9059ae5f54ad33529ef7b4c9c761939e46712064d00bc14"
   }
  }
 },
 "nbformat": 4,
 "nbformat_minor": 2
}
