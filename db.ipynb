{
 "cells": [
  {
   "cell_type": "markdown",
   "metadata": {},
   "source": [
    "# connect\n"
   ]
  },
  {
   "cell_type": "code",
   "execution_count": 6,
   "metadata": {},
   "outputs": [
    {
     "name": "stdout",
     "output_type": "stream",
     "text": [
      "2023-09-27 00:31:19,133 INFO sqlalchemy.engine.Engine SELECT DATABASE()\n",
      "2023-09-27 00:31:19,133 INFO sqlalchemy.engine.Engine [raw sql] {}\n",
      "2023-09-27 00:31:19,136 INFO sqlalchemy.engine.Engine SELECT @@sql_mode\n",
      "2023-09-27 00:31:19,138 INFO sqlalchemy.engine.Engine [raw sql] {}\n",
      "2023-09-27 00:31:19,140 INFO sqlalchemy.engine.Engine SELECT @@lower_case_table_names\n",
      "2023-09-27 00:31:19,141 INFO sqlalchemy.engine.Engine [raw sql] {}\n"
     ]
    }
   ],
   "source": [
    "import pandas as pd\n",
    "import mysql.connector\n",
    "from sqlalchemy import create_engine, MetaData, URL, Identity\n",
    "from sqlalchemy import Table, Column, Integer, String, BOOLEAN, DATE, ForeignKey\n",
    "\n",
    "\n",
    "#Creating Database,Connection\n",
    "meta = MetaData()\n",
    "USERNAME = 'root'\n",
    "PASSWORD = '13771377Mnn@'\n",
    "SERVER = 'localhost'\n",
    "PORT = 3306\n",
    "DATABASE = 'book_store'\n",
    "\n",
    "url_object = URL.create(\"mysql+mysqlconnector\",\n",
    "                        username=USERNAME,\n",
    "                        password=PASSWORD,\n",
    "                        host=SERVER,\n",
    "                        database=DATABASE)\n",
    "engine = create_engine(url_object,echo = True)\n",
    "conn = engine.connect()"
   ]
  },
  {
   "cell_type": "markdown",
   "metadata": {},
   "source": [
    "# create model database"
   ]
  },
  {
   "cell_type": "code",
   "execution_count": 7,
   "metadata": {},
   "outputs": [
    {
     "name": "stdout",
     "output_type": "stream",
     "text": [
      "2023-09-27 00:31:19,236 INFO sqlalchemy.engine.Engine BEGIN (implicit)\n",
      "2023-09-27 00:31:19,239 INFO sqlalchemy.engine.Engine DESCRIBE `book_store`.`book`\n",
      "2023-09-27 00:31:19,239 INFO sqlalchemy.engine.Engine [raw sql] {}\n",
      "2023-09-27 00:31:19,289 INFO sqlalchemy.engine.Engine \n",
      "CREATE TABLE book (\n",
      "\tcode INTEGER NOT NULL AUTO_INCREMENT, \n",
      "\ttitle_persian VARCHAR(2000), \n",
      "\ttitle_english VARCHAR(2000), \n",
      "\tprice INTEGER, \n",
      "\tdiscount INTEGER, \n",
      "\tgrade INTEGER, \n",
      "\tshabak VARCHAR(50), \n",
      "\tpage_count INTEGER, \n",
      "\trelease_year_sh INTEGER, \n",
      "\trelease_year_mi INTEGER, \n",
      "\texist BOOL, \n",
      "\tearliest_access DATE, \n",
      "\tprint_series INTEGER, \n",
      "\tcover VARCHAR(100), \n",
      "\tghate VARCHAR(100), \n",
      "\tPRIMARY KEY (code)\n",
      ")\n",
      "\n",
      "\n",
      "2023-09-27 00:31:19,291 INFO sqlalchemy.engine.Engine [no key 0.00313s] {}\n",
      "2023-09-27 00:31:19,370 INFO sqlalchemy.engine.Engine COMMIT\n"
     ]
    }
   ],
   "source": [
    "#Creating Tables\n",
    "#book\n",
    "book = Table(\n",
    "    'book', meta,\n",
    "    Column('code', Integer, primary_key=True),\n",
    "    Column('title_persian', String(2000)),\n",
    "    Column('title_english', String(2000)),\n",
    "    Column('price', Integer),\n",
    "    Column('discount', Integer),\n",
    "    Column('grade', Integer),\n",
    "    Column('shabak', String(50)),\n",
    "    Column('page_count', Integer),\n",
    "    Column('release_year_sh', Integer),\n",
    "    Column('release_year_mi', Integer),\n",
    "    Column('exist', BOOLEAN),\n",
    "    Column('earliest_access', DATE),\n",
    "    Column('print_series', Integer),\n",
    "    Column('cover', String(100)),\n",
    "    Column('ghate', String(100))\n",
    ")\n",
    "meta.create_all(engine)"
   ]
  },
  {
   "cell_type": "code",
   "execution_count": 8,
   "metadata": {},
   "outputs": [
    {
     "name": "stdout",
     "output_type": "stream",
     "text": [
      "2023-09-27 00:31:19,468 INFO sqlalchemy.engine.Engine BEGIN (implicit)\n",
      "2023-09-27 00:31:19,470 INFO sqlalchemy.engine.Engine DESCRIBE `book_store`.`book`\n",
      "2023-09-27 00:31:19,471 INFO sqlalchemy.engine.Engine [raw sql] {}\n",
      "2023-09-27 00:31:19,478 INFO sqlalchemy.engine.Engine DESCRIBE `book_store`.`group`\n",
      "2023-09-27 00:31:19,482 INFO sqlalchemy.engine.Engine [raw sql] {}\n",
      "2023-09-27 00:31:19,484 INFO sqlalchemy.engine.Engine \n",
      "CREATE TABLE `group` (\n",
      "\tid INTEGER NOT NULL AUTO_INCREMENT, \n",
      "\tdescription VARCHAR(5000), \n",
      "\tPRIMARY KEY (id)\n",
      ")\n",
      "\n",
      "\n",
      "2023-09-27 00:31:19,485 INFO sqlalchemy.engine.Engine [no key 0.00131s] {}\n",
      "2023-09-27 00:31:19,505 INFO sqlalchemy.engine.Engine COMMIT\n"
     ]
    }
   ],
   "source": [
    "#group\n",
    "group = Table(\n",
    "    'group', meta,\n",
    "    Column('id', Integer, primary_key=True),\n",
    "    Column('description', String(5000))\n",
    ")\n",
    "meta.create_all(engine)"
   ]
  },
  {
   "cell_type": "code",
   "execution_count": 9,
   "metadata": {},
   "outputs": [
    {
     "name": "stdout",
     "output_type": "stream",
     "text": [
      "2023-09-27 00:31:19,640 INFO sqlalchemy.engine.Engine BEGIN (implicit)\n",
      "2023-09-27 00:31:19,642 INFO sqlalchemy.engine.Engine DESCRIBE `book_store`.`book`\n",
      "2023-09-27 00:31:19,645 INFO sqlalchemy.engine.Engine [raw sql] {}\n",
      "2023-09-27 00:31:19,650 INFO sqlalchemy.engine.Engine DESCRIBE `book_store`.`group`\n",
      "2023-09-27 00:31:19,651 INFO sqlalchemy.engine.Engine [raw sql] {}\n",
      "2023-09-27 00:31:19,656 INFO sqlalchemy.engine.Engine DESCRIBE `book_store`.`group_book`\n",
      "2023-09-27 00:31:19,657 INFO sqlalchemy.engine.Engine [raw sql] {}\n",
      "2023-09-27 00:31:19,662 INFO sqlalchemy.engine.Engine \n",
      "CREATE TABLE group_book (\n",
      "\tid INTEGER NOT NULL AUTO_INCREMENT, \n",
      "\tgroup_id INTEGER, \n",
      "\tbook_code INTEGER, \n",
      "\tPRIMARY KEY (id), \n",
      "\tFOREIGN KEY(group_id) REFERENCES `group` (id), \n",
      "\tFOREIGN KEY(book_code) REFERENCES book (code)\n",
      ")\n",
      "\n",
      "\n",
      "2023-09-27 00:31:19,664 INFO sqlalchemy.engine.Engine [no key 0.00383s] {}\n",
      "2023-09-27 00:31:19,706 INFO sqlalchemy.engine.Engine COMMIT\n"
     ]
    }
   ],
   "source": [
    "#group_book\n",
    "group_book = Table(\n",
    "    'group_book', meta,\n",
    "    Column('id', Integer, primary_key=True, autoincrement=True),\n",
    "    Column('group_id', Integer, ForeignKey('group.id')),\n",
    "    Column('book_code', Integer, ForeignKey('book.code'))\n",
    ")\n",
    "meta.create_all(engine)"
   ]
  },
  {
   "cell_type": "code",
   "execution_count": 10,
   "metadata": {},
   "outputs": [
    {
     "name": "stdout",
     "output_type": "stream",
     "text": [
      "2023-09-27 00:31:19,883 INFO sqlalchemy.engine.Engine BEGIN (implicit)\n",
      "2023-09-27 00:31:19,887 INFO sqlalchemy.engine.Engine DESCRIBE `book_store`.`book`\n",
      "2023-09-27 00:31:19,889 INFO sqlalchemy.engine.Engine [raw sql] {}\n",
      "2023-09-27 00:31:19,899 INFO sqlalchemy.engine.Engine DESCRIBE `book_store`.`group`\n",
      "2023-09-27 00:31:19,902 INFO sqlalchemy.engine.Engine [raw sql] {}\n",
      "2023-09-27 00:31:19,912 INFO sqlalchemy.engine.Engine DESCRIBE `book_store`.`group_book`\n",
      "2023-09-27 00:31:19,913 INFO sqlalchemy.engine.Engine [raw sql] {}\n",
      "2023-09-27 00:31:19,917 INFO sqlalchemy.engine.Engine DESCRIBE `book_store`.`person`\n",
      "2023-09-27 00:31:19,918 INFO sqlalchemy.engine.Engine [raw sql] {}\n",
      "2023-09-27 00:31:19,921 INFO sqlalchemy.engine.Engine \n",
      "CREATE TABLE person (\n",
      "\tcounter INTEGER NOT NULL AUTO_INCREMENT, \n",
      "\tid INTEGER, \n",
      "\tname VARCHAR(100), \n",
      "\tdescription VARCHAR(5000), \n",
      "\tPRIMARY KEY (counter)\n",
      ")\n",
      "\n",
      "\n",
      "2023-09-27 00:31:19,922 INFO sqlalchemy.engine.Engine [no key 0.00161s] {}\n",
      "2023-09-27 00:31:19,953 INFO sqlalchemy.engine.Engine COMMIT\n"
     ]
    }
   ],
   "source": [
    "#person\n",
    "person = Table(\n",
    "    'person', meta,\n",
    "    Column('counter', Integer, primary_key=True,autoincrement=True),\n",
    "    Column('id', Integer),\n",
    "    Column('name', String(100)),\n",
    "    Column('description', String(5000))\n",
    ")\n",
    "meta.create_all(engine)"
   ]
  },
  {
   "cell_type": "code",
   "execution_count": 11,
   "metadata": {},
   "outputs": [
    {
     "name": "stdout",
     "output_type": "stream",
     "text": [
      "2023-09-27 00:31:20,023 INFO sqlalchemy.engine.Engine BEGIN (implicit)\n",
      "2023-09-27 00:31:20,024 INFO sqlalchemy.engine.Engine DESCRIBE `book_store`.`book`\n",
      "2023-09-27 00:31:20,025 INFO sqlalchemy.engine.Engine [raw sql] {}\n",
      "2023-09-27 00:31:20,032 INFO sqlalchemy.engine.Engine DESCRIBE `book_store`.`group`\n",
      "2023-09-27 00:31:20,033 INFO sqlalchemy.engine.Engine [raw sql] {}\n",
      "2023-09-27 00:31:20,037 INFO sqlalchemy.engine.Engine DESCRIBE `book_store`.`group_book`\n",
      "2023-09-27 00:31:20,038 INFO sqlalchemy.engine.Engine [raw sql] {}\n",
      "2023-09-27 00:31:20,042 INFO sqlalchemy.engine.Engine DESCRIBE `book_store`.`person`\n",
      "2023-09-27 00:31:20,043 INFO sqlalchemy.engine.Engine [raw sql] {}\n",
      "2023-09-27 00:31:20,050 INFO sqlalchemy.engine.Engine DESCRIBE `book_store`.`publisher`\n",
      "2023-09-27 00:31:20,051 INFO sqlalchemy.engine.Engine [raw sql] {}\n",
      "2023-09-27 00:31:20,055 INFO sqlalchemy.engine.Engine \n",
      "CREATE TABLE publisher (\n",
      "\tid INTEGER NOT NULL AUTO_INCREMENT, \n",
      "\tname VARCHAR(100), \n",
      "\tPRIMARY KEY (id)\n",
      ")\n",
      "\n",
      "\n",
      "2023-09-27 00:31:20,056 INFO sqlalchemy.engine.Engine [no key 0.00116s] {}\n",
      "2023-09-27 00:31:20,099 INFO sqlalchemy.engine.Engine COMMIT\n"
     ]
    }
   ],
   "source": [
    "#publisher\n",
    "publisher = Table(\n",
    "    'publisher', meta,\n",
    "    Column('id', Integer, primary_key=True),\n",
    "    Column('name', String(100))\n",
    ")\n",
    "meta.create_all(engine)"
   ]
  },
  {
   "cell_type": "code",
   "execution_count": 12,
   "metadata": {},
   "outputs": [
    {
     "name": "stdout",
     "output_type": "stream",
     "text": [
      "2023-09-27 00:31:20,177 INFO sqlalchemy.engine.Engine BEGIN (implicit)\n",
      "2023-09-27 00:31:20,184 INFO sqlalchemy.engine.Engine DESCRIBE `book_store`.`book`\n",
      "2023-09-27 00:31:20,186 INFO sqlalchemy.engine.Engine [raw sql] {}\n",
      "2023-09-27 00:31:20,191 INFO sqlalchemy.engine.Engine DESCRIBE `book_store`.`group`\n",
      "2023-09-27 00:31:20,193 INFO sqlalchemy.engine.Engine [raw sql] {}\n",
      "2023-09-27 00:31:20,204 INFO sqlalchemy.engine.Engine DESCRIBE `book_store`.`group_book`\n",
      "2023-09-27 00:31:20,206 INFO sqlalchemy.engine.Engine [raw sql] {}\n",
      "2023-09-27 00:31:20,211 INFO sqlalchemy.engine.Engine DESCRIBE `book_store`.`person`\n",
      "2023-09-27 00:31:20,218 INFO sqlalchemy.engine.Engine [raw sql] {}\n",
      "2023-09-27 00:31:20,234 INFO sqlalchemy.engine.Engine DESCRIBE `book_store`.`publisher`\n",
      "2023-09-27 00:31:20,236 INFO sqlalchemy.engine.Engine [raw sql] {}\n",
      "2023-09-27 00:31:20,253 INFO sqlalchemy.engine.Engine DESCRIBE `book_store`.`category`\n",
      "2023-09-27 00:31:20,255 INFO sqlalchemy.engine.Engine [raw sql] {}\n",
      "2023-09-27 00:31:20,265 INFO sqlalchemy.engine.Engine \n",
      "CREATE TABLE category (\n",
      "\tid INTEGER NOT NULL AUTO_INCREMENT, \n",
      "\tname VARCHAR(50), \n",
      "\tdescription VARCHAR(5000), \n",
      "\tPRIMARY KEY (id)\n",
      ")\n",
      "\n",
      "\n",
      "2023-09-27 00:31:20,268 INFO sqlalchemy.engine.Engine [no key 0.00357s] {}\n",
      "2023-09-27 00:31:20,298 INFO sqlalchemy.engine.Engine COMMIT\n"
     ]
    }
   ],
   "source": [
    "#category\n",
    "category = Table(\n",
    "    'category', meta,\n",
    "    Column('id', Integer, primary_key=True),\n",
    "    Column('name', String(150)),\n",
    "    Column('description', String(5000))\n",
    ")\n",
    "meta.create_all(engine)"
   ]
  },
  {
   "cell_type": "code",
   "execution_count": 13,
   "metadata": {},
   "outputs": [
    {
     "name": "stdout",
     "output_type": "stream",
     "text": [
      "2023-09-27 00:31:20,389 INFO sqlalchemy.engine.Engine BEGIN (implicit)\n",
      "2023-09-27 00:31:20,396 INFO sqlalchemy.engine.Engine DESCRIBE `book_store`.`book`\n",
      "2023-09-27 00:31:20,402 INFO sqlalchemy.engine.Engine [raw sql] {}\n",
      "2023-09-27 00:31:20,415 INFO sqlalchemy.engine.Engine DESCRIBE `book_store`.`group`\n",
      "2023-09-27 00:31:20,420 INFO sqlalchemy.engine.Engine [raw sql] {}\n",
      "2023-09-27 00:31:20,429 INFO sqlalchemy.engine.Engine DESCRIBE `book_store`.`group_book`\n",
      "2023-09-27 00:31:20,430 INFO sqlalchemy.engine.Engine [raw sql] {}\n",
      "2023-09-27 00:31:20,434 INFO sqlalchemy.engine.Engine DESCRIBE `book_store`.`person`\n",
      "2023-09-27 00:31:20,435 INFO sqlalchemy.engine.Engine [raw sql] {}\n",
      "2023-09-27 00:31:20,439 INFO sqlalchemy.engine.Engine DESCRIBE `book_store`.`publisher`\n",
      "2023-09-27 00:31:20,441 INFO sqlalchemy.engine.Engine [raw sql] {}\n",
      "2023-09-27 00:31:20,446 INFO sqlalchemy.engine.Engine DESCRIBE `book_store`.`category`\n",
      "2023-09-27 00:31:20,449 INFO sqlalchemy.engine.Engine [raw sql] {}\n",
      "2023-09-27 00:31:20,458 INFO sqlalchemy.engine.Engine DESCRIBE `book_store`.`group_category`\n",
      "2023-09-27 00:31:20,459 INFO sqlalchemy.engine.Engine [raw sql] {}\n",
      "2023-09-27 00:31:20,470 INFO sqlalchemy.engine.Engine \n",
      "CREATE TABLE group_category (\n",
      "\tid INTEGER NOT NULL AUTO_INCREMENT, \n",
      "\tgroup_id INTEGER, \n",
      "\tcategory_id INTEGER, \n",
      "\tPRIMARY KEY (id), \n",
      "\tFOREIGN KEY(group_id) REFERENCES `group` (id), \n",
      "\tFOREIGN KEY(category_id) REFERENCES category (id)\n",
      ")\n",
      "\n",
      "\n",
      "2023-09-27 00:31:20,474 INFO sqlalchemy.engine.Engine [no key 0.00505s] {}\n",
      "2023-09-27 00:31:20,524 INFO sqlalchemy.engine.Engine COMMIT\n"
     ]
    }
   ],
   "source": [
    "#group_category\n",
    "group_category = Table(\n",
    "    'group_category', meta,\n",
    "    Column('id', Integer, primary_key=True, autoincrement=True),\n",
    "    Column('group_id', Integer, ForeignKey('group.id')),\n",
    "    Column('category_id', Integer, ForeignKey('category.id'))\n",
    ")\n",
    "meta.create_all(engine)"
   ]
  },
  {
   "cell_type": "code",
   "execution_count": 14,
   "metadata": {},
   "outputs": [
    {
     "name": "stdout",
     "output_type": "stream",
     "text": [
      "2023-09-27 00:31:20,600 INFO sqlalchemy.engine.Engine BEGIN (implicit)\n",
      "2023-09-27 00:31:20,602 INFO sqlalchemy.engine.Engine DESCRIBE `book_store`.`book`\n",
      "2023-09-27 00:31:20,603 INFO sqlalchemy.engine.Engine [raw sql] {}\n",
      "2023-09-27 00:31:20,607 INFO sqlalchemy.engine.Engine DESCRIBE `book_store`.`group`\n",
      "2023-09-27 00:31:20,608 INFO sqlalchemy.engine.Engine [raw sql] {}\n",
      "2023-09-27 00:31:20,615 INFO sqlalchemy.engine.Engine DESCRIBE `book_store`.`group_book`\n",
      "2023-09-27 00:31:20,617 INFO sqlalchemy.engine.Engine [raw sql] {}\n",
      "2023-09-27 00:31:20,620 INFO sqlalchemy.engine.Engine DESCRIBE `book_store`.`person`\n",
      "2023-09-27 00:31:20,621 INFO sqlalchemy.engine.Engine [raw sql] {}\n",
      "2023-09-27 00:31:20,625 INFO sqlalchemy.engine.Engine DESCRIBE `book_store`.`publisher`\n",
      "2023-09-27 00:31:20,626 INFO sqlalchemy.engine.Engine [raw sql] {}\n",
      "2023-09-27 00:31:20,638 INFO sqlalchemy.engine.Engine DESCRIBE `book_store`.`category`\n",
      "2023-09-27 00:31:20,641 INFO sqlalchemy.engine.Engine [raw sql] {}\n",
      "2023-09-27 00:31:20,652 INFO sqlalchemy.engine.Engine DESCRIBE `book_store`.`group_category`\n",
      "2023-09-27 00:31:20,655 INFO sqlalchemy.engine.Engine [raw sql] {}\n",
      "2023-09-27 00:31:20,664 INFO sqlalchemy.engine.Engine DESCRIBE `book_store`.`book_publisher`\n",
      "2023-09-27 00:31:20,666 INFO sqlalchemy.engine.Engine [raw sql] {}\n",
      "2023-09-27 00:31:20,670 INFO sqlalchemy.engine.Engine \n",
      "CREATE TABLE book_publisher (\n",
      "\tid INTEGER NOT NULL AUTO_INCREMENT, \n",
      "\tbook_code INTEGER, \n",
      "\tpublisher_id INTEGER, \n",
      "\tPRIMARY KEY (id), \n",
      "\tFOREIGN KEY(book_code) REFERENCES book (code), \n",
      "\tFOREIGN KEY(publisher_id) REFERENCES publisher (id)\n",
      ")\n",
      "\n",
      "\n",
      "2023-09-27 00:31:20,671 INFO sqlalchemy.engine.Engine [no key 0.00205s] {}\n",
      "2023-09-27 00:31:20,708 INFO sqlalchemy.engine.Engine COMMIT\n"
     ]
    }
   ],
   "source": [
    "#book_publisher\n",
    "book_publisher = Table(\n",
    "    'book_publisher', meta,\n",
    "    Column('id', Integer, primary_key=True, autoincrement=True),\n",
    "    Column('book_code', Integer, ForeignKey('book.code')),\n",
    "    Column('publisher_id', Integer, ForeignKey('publisher.id'))\n",
    ")\n",
    "meta.create_all(engine)"
   ]
  },
  {
   "cell_type": "code",
   "execution_count": null,
   "metadata": {},
   "outputs": [],
   "source": [
    "#crew\n",
    "crew = Table(\n",
    "    'crew', meta,\n",
    "    Column('id', Integer, primary_key=True, autoincrement=True),\n",
    "    Column('book_code', Integer, ForeignKey('book.code')),\n",
    "    Column('person_counter', Integer, ForeignKey('person.counter')),\n",
    "    Column('role', String(15))\n",
    ")\n",
    "meta.create_all(engine)"
   ]
  }
 ],
 "metadata": {
  "kernelspec": {
   "display_name": "Python 3.10.6 64-bit",
   "language": "python",
   "name": "python3"
  },
  "language_info": {
   "codemirror_mode": {
    "name": "ipython",
    "version": 3
   },
   "file_extension": ".py",
   "mimetype": "text/x-python",
   "name": "python",
   "nbconvert_exporter": "python",
   "pygments_lexer": "ipython3",
   "version": "3.10.6"
  },
  "orig_nbformat": 4,
  "vscode": {
   "interpreter": {
    "hash": "73c10509234451b7c9059ae5f54ad33529ef7b4c9c761939e46712064d00bc14"
   }
  }
 },
 "nbformat": 4,
 "nbformat_minor": 2
}
