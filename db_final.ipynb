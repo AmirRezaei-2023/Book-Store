{
 "cells": [
  {
   "cell_type": "markdown",
   "metadata": {
    "collapsed": false
   },
   "source": [
    "## import\n"
   ]
  },
  {
   "cell_type": "code",
   "execution_count": 3,
   "metadata": {
    "ExecuteTime": {
     "end_time": "2023-10-01T20:15:52.635284500Z",
     "start_time": "2023-10-01T20:15:52.632184700Z"
    },
    "collapsed": false
   },
   "outputs": [],
   "source": [
    "import pandas as pd\n",
    "import mysql.connector\n",
    "from sqlalchemy.sql import text\n",
    "from sqlalchemy import create_engine, MetaData, URL, Identity\n",
    "from sqlalchemy import Table, Column, Integer, String, BOOLEAN, DATE, ForeignKey, TEXT"
   ]
  },
  {
   "cell_type": "markdown",
   "metadata": {
    "collapsed": false
   },
   "source": [
    "# connect to database"
   ]
  },
  {
   "cell_type": "code",
   "execution_count": 4,
   "metadata": {
    "ExecuteTime": {
     "end_time": "2023-10-01T20:15:55.991314900Z",
     "start_time": "2023-10-01T20:15:55.975243100Z"
    },
    "collapsed": false
   },
   "outputs": [],
   "source": [
    "meta = MetaData()\n",
    "USERNAME = 'root'\n",
    "PASSWORD = '13771377Mnn@'\n",
    "SERVER = 'localhost'\n",
    "PORT = 3306\n",
    "DATABASE = 'book_store'\n",
    "\n",
    "url_object = URL.create(\"mysql+mysqlconnector\",\n",
    "                        username=USERNAME,\n",
    "                        password=PASSWORD,\n",
    "                        host=SERVER,\n",
    "                        database=DATABASE)\n",
    "engine = create_engine(url_object, echo=False)\n",
    "conn = engine.connect()"
   ]
  },
  {
   "cell_type": "markdown",
   "metadata": {
    "collapsed": false
   },
   "source": [
    "## Creating tables and Inserting Data"
   ]
  },
  {
   "cell_type": "markdown",
   "metadata": {
    "collapsed": false
   },
   "source": [
    "### Book"
   ]
  },
  {
   "cell_type": "code",
   "execution_count": 5,
   "metadata": {
    "ExecuteTime": {
     "end_time": "2023-10-01T20:15:58.815159Z",
     "start_time": "2023-10-01T20:15:58.764231Z"
    },
    "collapsed": false
   },
   "outputs": [],
   "source": [
    "book = Table(\n",
    "    'book', meta,\n",
    "    Column('code', Integer, primary_key=True),\n",
    "    Column('title_persian', String(200)),\n",
    "    Column('title_english', String(200)),\n",
    "    Column('price', Integer),\n",
    "    Column('discount', Integer),\n",
    "    Column('grade', Integer),\n",
    "    Column('shabak', String(2000)),\n",
    "    Column('page_count', Integer),\n",
    "    Column('release_year_sh', Integer),\n",
    "    Column('release_year_mi', Integer),\n",
    "    Column('exist', BOOLEAN),\n",
    "    Column('earliest_access', DATE),\n",
    "    Column('print_series', Integer),\n",
    "    Column('cover', String(50)),\n",
    "    Column('ghate', String(50))\n",
    ")\n",
    "meta.create_all(engine)\n"
   ]
  },
  {
   "cell_type": "code",
   "execution_count": 6,
   "metadata": {
    "ExecuteTime": {
     "end_time": "2023-10-01T20:16:08.273312700Z",
     "start_time": "2023-10-01T20:16:01.696859700Z"
    },
    "collapsed": false
   },
   "outputs": [
    {
     "data": {
      "text/plain": [
       "94389"
      ]
     },
     "execution_count": 6,
     "metadata": {},
     "output_type": "execute_result"
    }
   ],
   "source": [
    "df_book = pd.read_csv('full_data/book.csv')\n",
    "df_book.dropna(subset=[\"code\"],inplace=True)\n",
    "df_book.drop_duplicates(subset=[\"code\"],inplace=True)\n",
    "df_book.to_csv('modified/modified_book.csv', index=False, encoding='utf-8-sig')\n",
    "df_book.to_sql('book', engine, if_exists='append', index=False)"
   ]
  },
  {
   "cell_type": "markdown",
   "metadata": {
    "collapsed": false
   },
   "source": [
    "### Group"
   ]
  },
  {
   "cell_type": "code",
   "execution_count": 7,
   "metadata": {
    "ExecuteTime": {
     "end_time": "2023-10-01T20:16:13.409879500Z",
     "start_time": "2023-10-01T20:16:13.359689100Z"
    },
    "collapsed": false
   },
   "outputs": [],
   "source": [
    "group = Table(\n",
    "    'group', meta,\n",
    "    Column('id', Integer, primary_key=True),\n",
    "    Column('description', TEXT)\n",
    ")\n",
    "meta.create_all(engine)\n"
   ]
  },
  {
   "cell_type": "code",
   "execution_count": 9,
   "metadata": {
    "ExecuteTime": {
     "end_time": "2023-10-01T20:16:18.177717600Z",
     "start_time": "2023-10-01T20:16:15.585233200Z"
    },
    "collapsed": false
   },
   "outputs": [],
   "source": [
    "df_group = pd.read_csv('full_data/group.csv')\n",
    "df_group.dropna(subset=[\"group_id\"],inplace=True)\n",
    "df_group.drop_duplicates(subset=[\"group_id\"],inplace=True)\n",
    "df_group['group_id'] = df_group['group_id'].astype(int).astype(object)\n",
    "df_group.rename(columns={'group_id': 'id'}, inplace=True)\n",
    "if df_group[\"description\"].isnull().all():\n",
    "    df_group[\"description\"] = 'None'\n",
    "df_group.to_csv('modified/modified_group.csv', index=False, encoding='utf-8-sig')\n"
   ]
  },
  {
   "cell_type": "code",
   "execution_count": 10,
   "metadata": {
    "ExecuteTime": {
     "end_time": "2023-10-01T20:16:34.056823400Z",
     "start_time": "2023-10-01T20:16:21.273433500Z"
    },
    "collapsed": false
   },
   "outputs": [
    {
     "data": {
      "text/plain": [
       "34787"
      ]
     },
     "execution_count": 10,
     "metadata": {},
     "output_type": "execute_result"
    }
   ],
   "source": [
    "df_group.head(50000).to_sql('group', engine, if_exists='append', index=False)\n",
    "df_group.tail(len(df_group['id'].values.tolist()) - 50000).to_sql('group', engine, if_exists='append', index=False)"
   ]
  },
  {
   "cell_type": "markdown",
   "metadata": {
    "collapsed": false
   },
   "source": [
    "### Group_Book"
   ]
  },
  {
   "cell_type": "code",
   "execution_count": 11,
   "metadata": {
    "ExecuteTime": {
     "end_time": "2023-10-01T20:17:13.788492800Z",
     "start_time": "2023-10-01T20:17:13.746793400Z"
    },
    "collapsed": false
   },
   "outputs": [],
   "source": [
    "group_book = Table(\n",
    "    'group_book', meta,\n",
    "    Column('id', Integer, primary_key=True, autoincrement=True),\n",
    "    Column('group_id', Integer, ForeignKey('group.id')),\n",
    "    Column('book_code', Integer, ForeignKey('book.code'))\n",
    ")\n",
    "meta.create_all(engine)\n"
   ]
  },
  {
   "cell_type": "code",
   "execution_count": 12,
   "metadata": {
    "ExecuteTime": {
     "end_time": "2023-10-01T20:24:52.113668200Z",
     "start_time": "2023-10-01T20:17:17.965968400Z"
    },
    "collapsed": false
   },
   "outputs": [
    {
     "data": {
      "text/plain": [
       "87929"
      ]
     },
     "execution_count": 12,
     "metadata": {},
     "output_type": "execute_result"
    }
   ],
   "source": [
    "df_group_book = pd.read_csv('full_data/group_book.csv')\n",
    "df_group_book.dropna(subset=[\"group_id\"],inplace=True)\n",
    "df_group_book.dropna(subset=[\"book_code\"],inplace=True)\n",
    "df_group_book['book_code'] = df_group_book['book_code'].astype(int)\n",
    "for index in df_group_book.index:\n",
    "    if ( df_group_book.loc[index, 'book_code'] not in df_book['code'].values.tolist()) or (df_group_book.loc[index, 'group_id'] not in df_group['id'].values.tolist()):\n",
    "        df_group_book.drop(index=index, inplace=True)\n",
    "df_group_book.to_csv('modified/modified_group_book.csv', index=False, encoding='utf-8-sig')\n",
    "df_group_book.to_sql('group_book', engine, if_exists='append', index=False)"
   ]
  },
  {
   "cell_type": "markdown",
   "metadata": {
    "collapsed": false
   },
   "source": [
    "### Person"
   ]
  },
  {
   "cell_type": "code",
   "execution_count": 13,
   "metadata": {
    "ExecuteTime": {
     "end_time": "2023-10-01T20:26:46.783300700Z",
     "start_time": "2023-10-01T20:26:46.734596700Z"
    },
    "collapsed": false
   },
   "outputs": [],
   "source": [
    "person = Table(\n",
    "    'person', meta,\n",
    "    Column('counter', Integer, primary_key=True, autoincrement=False),\n",
    "    Column('person_id', Integer),\n",
    "    Column('name', String(100)),\n",
    "    Column('description', TEXT)\n",
    ")\n",
    "meta.create_all(engine)\n"
   ]
  },
  {
   "cell_type": "code",
   "execution_count": 15,
   "metadata": {
    "ExecuteTime": {
     "end_time": "2023-10-01T20:26:53.339819Z",
     "start_time": "2023-10-01T20:26:50.052823600Z"
    },
    "collapsed": false
   },
   "outputs": [
    {
     "data": {
      "text/plain": [
       "50849"
      ]
     },
     "execution_count": 15,
     "metadata": {},
     "output_type": "execute_result"
    }
   ],
   "source": [
    "df_person = pd.read_csv('full_data/person.csv')\n",
    "df_person.dropna(subset=[\"counter\"],inplace=True)\n",
    "df_person.dropna(subset=[\"name\"], inplace=True)\n",
    "df_person.drop_duplicates(subset=[\"counter\"],inplace=True)\n",
    "df_person.rename(columns={'id': 'person_id'}, inplace=True)\n",
    "# if df_person[\"description\"].isnull().all():\n",
    "#     df_person[\"description\"] = 'None'\n",
    "df_person.to_csv('modified/modified_person.csv', index=False, encoding='utf-8-sig')\n",
    "df_person.to_sql('person', engine, if_exists='append', index=False)"
   ]
  },
  {
   "cell_type": "markdown",
   "metadata": {
    "collapsed": false
   },
   "source": [
    "### Publisher"
   ]
  },
  {
   "cell_type": "code",
   "execution_count": 16,
   "metadata": {
    "ExecuteTime": {
     "end_time": "2023-10-01T20:26:55.325472200Z",
     "start_time": "2023-10-01T20:26:55.238198500Z"
    },
    "collapsed": false
   },
   "outputs": [],
   "source": [
    "publisher = Table(\n",
    "    'publisher', meta,\n",
    "    Column('id', Integer, primary_key=True),\n",
    "    Column('name', String(100))\n",
    ")\n",
    "meta.create_all(engine)\n"
   ]
  },
  {
   "cell_type": "code",
   "execution_count": 17,
   "metadata": {
    "ExecuteTime": {
     "end_time": "2023-10-01T20:26:57.645959Z",
     "start_time": "2023-10-01T20:26:57.556772600Z"
    },
    "collapsed": false
   },
   "outputs": [
    {
     "data": {
      "text/plain": [
       "2098"
      ]
     },
     "execution_count": 17,
     "metadata": {},
     "output_type": "execute_result"
    }
   ],
   "source": [
    "df_publisher = pd.read_csv('full_data/publisher.csv')\n",
    "df_publisher.dropna(subset=[\"id\"],inplace=True)\n",
    "df_publisher.drop_duplicates(subset=[\"id\"],inplace=True)\n",
    "df_publisher.to_csv('modified/modified_publisher.csv', index=False, encoding='utf-8-sig')\n",
    "df_publisher.to_sql('publisher', engine, if_exists='append', index=False)"
   ]
  },
  {
   "cell_type": "markdown",
   "metadata": {
    "collapsed": false
   },
   "source": [
    "### Category"
   ]
  },
  {
   "cell_type": "code",
   "execution_count": 18,
   "metadata": {
    "ExecuteTime": {
     "end_time": "2023-10-01T20:26:59.787515Z",
     "start_time": "2023-10-01T20:26:59.752157200Z"
    },
    "collapsed": false
   },
   "outputs": [],
   "source": [
    "category = Table(\n",
    "    'category', meta,\n",
    "    Column('id', Integer, primary_key=True),\n",
    "    Column('name', String(150)),\n",
    "    Column('description', TEXT)\n",
    ")\n",
    "meta.create_all(engine)\n"
   ]
  },
  {
   "cell_type": "code",
   "execution_count": 19,
   "metadata": {
    "ExecuteTime": {
     "end_time": "2023-10-01T20:27:03.308880200Z",
     "start_time": "2023-10-01T20:27:03.003308700Z"
    },
    "collapsed": false
   },
   "outputs": [
    {
     "data": {
      "text/plain": [
       "1078"
      ]
     },
     "execution_count": 19,
     "metadata": {},
     "output_type": "execute_result"
    }
   ],
   "source": [
    "df_category = pd.read_csv('full_data/category.csv')\n",
    "df_category.dropna(subset=[\"id\"],inplace=True)\n",
    "df_category.drop_duplicates(subset=[\"id\"],inplace=True)\n",
    "if df_category[\"description\"].isnull().all():\n",
    "    df_category[\"description\"] = 'None'\n",
    "df_category.to_csv('modified/modified_category.csv', index=False, encoding='utf-8-sig')\n",
    "df_category.to_sql('category', engine, if_exists='append', index=False)"
   ]
  },
  {
   "cell_type": "markdown",
   "metadata": {
    "collapsed": false
   },
   "source": [
    "### Group_Category"
   ]
  },
  {
   "cell_type": "code",
   "execution_count": 20,
   "metadata": {
    "ExecuteTime": {
     "end_time": "2023-10-01T20:27:08.295533300Z",
     "start_time": "2023-10-01T20:27:08.246715600Z"
    },
    "collapsed": false
   },
   "outputs": [],
   "source": [
    "group_category = Table(\n",
    "    'group_category', meta,\n",
    "    Column('id', Integer, primary_key=True, autoincrement=True),\n",
    "    Column('group_id', Integer, ForeignKey('group.id')),\n",
    "    Column('category_id', Integer, ForeignKey('category.id'))\n",
    ")\n",
    "meta.create_all(engine)\n"
   ]
  },
  {
   "cell_type": "code",
   "execution_count": 21,
   "metadata": {
    "ExecuteTime": {
     "end_time": "2023-10-01T20:53:41.763054200Z",
     "start_time": "2023-10-01T20:27:10.545344100Z"
    },
    "collapsed": false
   },
   "outputs": [
    {
     "data": {
      "text/plain": [
       "404581"
      ]
     },
     "execution_count": 21,
     "metadata": {},
     "output_type": "execute_result"
    }
   ],
   "source": [
    "df_group_category = pd.read_csv('full_data/group_category.csv')\n",
    "df_group_category.dropna(subset=[\"group_id\"],inplace=True)\n",
    "df_group_category.dropna(subset=[\"category_id\"],inplace=True)\n",
    "for index in df_group_category.index:\n",
    "    if (df_group_category.loc[index, 'group_id'] not in df_group['id'].values.tolist()) or (df_group_category.loc[index, 'category_id'] not in df_category['id'].values.tolist()):\n",
    "        df_group_category.drop(index=index, inplace=True)\n",
    "df_group_category.to_csv('modified/modified_group_category.csv', index=False, encoding='utf-8-sig')\n",
    "df_group_category.to_sql('group_category', engine, if_exists='append', index=False)"
   ]
  },
  {
   "cell_type": "markdown",
   "metadata": {
    "collapsed": false
   },
   "source": [
    "### Book_publisher"
   ]
  },
  {
   "cell_type": "code",
   "execution_count": 22,
   "metadata": {
    "ExecuteTime": {
     "end_time": "2023-10-01T20:55:40.136084800Z",
     "start_time": "2023-10-01T20:55:40.069248800Z"
    },
    "collapsed": false
   },
   "outputs": [],
   "source": [
    "book_publisher = Table(\n",
    "    'book_publisher', meta,\n",
    "    Column('id', Integer, primary_key=True, autoincrement=True),\n",
    "    Column('book_code', Integer, ForeignKey('book.code')),\n",
    "    Column('publisher_id', Integer, ForeignKey('publisher.id'))\n",
    ")\n",
    "meta.create_all(engine)\n"
   ]
  },
  {
   "cell_type": "code",
   "execution_count": 26,
   "metadata": {
    "ExecuteTime": {
     "end_time": "2023-10-01T21:00:33.372889100Z",
     "start_time": "2023-10-01T20:55:42.568794300Z"
    },
    "collapsed": false
   },
   "outputs": [
    {
     "data": {
      "text/plain": [
       "86335"
      ]
     },
     "execution_count": 26,
     "metadata": {},
     "output_type": "execute_result"
    }
   ],
   "source": [
    "df_book_publisher = pd.read_csv('full_data/book_publisher.csv')\n",
    "df_book_publisher.dropna(subset=[\"publisher_id\"],inplace=True)\n",
    "df_book_publisher.dropna(subset=[\"book_code\"],inplace=True)\n",
    "df_book_publisher['book_code'] = df_book_publisher['book_code'].astype(int)\n",
    "df_book_publisher.to_csv('modified/modified_book_publisher.csv', index=False, encoding='utf-8-sig')\n",
    "for index in df_book_publisher.index:\n",
    "    if (df_book_publisher.loc[index, 'book_code'] not in df_book['code'].values.tolist()) or (df_book_publisher.loc[index, 'publisher_id'] not in df_publisher['id'].values.tolist()):\n",
    "        df_book_publisher.drop(index=index, inplace=True)\n",
    "df_book_publisher.to_sql('book_publisher', engine, if_exists='append', index=False)"
   ]
  },
  {
   "cell_type": "markdown",
   "metadata": {
    "collapsed": false
   },
   "source": [
    "### Crew"
   ]
  },
  {
   "cell_type": "code",
   "execution_count": 27,
   "metadata": {
    "ExecuteTime": {
     "end_time": "2023-10-01T21:01:41.783462800Z",
     "start_time": "2023-10-01T21:01:41.731125800Z"
    },
    "collapsed": false
   },
   "outputs": [],
   "source": [
    "crew = Table(\n",
    "    'crew', meta,\n",
    "    Column('id', Integer, primary_key=True, autoincrement=True),\n",
    "    Column('book_code', Integer, ForeignKey('book.code')),\n",
    "    Column('person_counter', Integer, ForeignKey('person.counter')),\n",
    "    Column('role', String(15))\n",
    ")\n",
    "meta.create_all(engine)\n"
   ]
  },
  {
   "cell_type": "code",
   "execution_count": 29,
   "metadata": {
    "ExecuteTime": {
     "end_time": "2023-10-01T21:12:14.023130700Z",
     "start_time": "2023-10-01T21:01:45.839717200Z"
    },
    "collapsed": false
   },
   "outputs": [
    {
     "data": {
      "text/plain": [
       "134007"
      ]
     },
     "execution_count": 29,
     "metadata": {},
     "output_type": "execute_result"
    }
   ],
   "source": [
    "df_crew = pd.read_csv('full_data/crew.csv')\n",
    "df_crew.dropna(subset=[\"book_code\"],inplace=True)\n",
    "df_crew.dropna(subset=[\"person_counter\"],inplace=True)\n",
    "df_crew.dropna(subset=[\"role\"],inplace=True)\n",
    "df_crew['person_counter'] = df_crew['person_counter'].astype('int')\n",
    "for index in df_crew.index:\n",
    "    if (df_crew.loc[index, 'book_code'] not in df_book['code'].values.tolist()) or (df_crew.loc[index, 'person_counter'] not in df_person['counter'].values.tolist()):\n",
    "        df_crew.drop(index=index, inplace=True)\n",
    "df_crew.to_csv('modified/modified_crew.csv', index=False, encoding='utf-8-sig')\n",
    "df_crew.to_sql('crew', engine, if_exists='append', index=False)"
   ]
  }
 ],
 "metadata": {
  "kernelspec": {
   "display_name": "Python 3.10.6 64-bit",
   "language": "python",
   "name": "python3"
  },
  "language_info": {
   "codemirror_mode": {
    "name": "ipython",
    "version": 3
   },
   "file_extension": ".py",
   "mimetype": "text/x-python",
   "name": "python",
   "nbconvert_exporter": "python",
   "pygments_lexer": "ipython3",
   "version": "3.10.6"
  },
  "vscode": {
   "interpreter": {
    "hash": "73c10509234451b7c9059ae5f54ad33529ef7b4c9c761939e46712064d00bc14"
   }
  }
 },
 "nbformat": 4,
 "nbformat_minor": 0
}
