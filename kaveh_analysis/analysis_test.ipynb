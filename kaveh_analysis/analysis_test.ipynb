{
 "cells": [
  {
   "cell_type": "markdown",
   "metadata": {},
   "source": [
    "# Analysis & Testing\n",
    "Client & Author's Orders + Hypothesis Testing"
   ]
  },
  {
   "cell_type": "code",
   "execution_count": 1,
   "metadata": {},
   "outputs": [],
   "source": [
    "import required_dataframes as rd\n",
    "import pandas as pd\n",
    "from sklearn.preprocessing import MinMaxScaler, StandardScaler\n",
    "import matplotlib.pyplot as plt\n",
    "import seaborn as sns\n",
    "import numpy as np\n",
    "from scipy.stats import ttest_ind, boxcox\n",
    "import pingouin as pg"
   ]
  },
  {
   "cell_type": "markdown",
   "metadata": {},
   "source": [
    "## 1. Client Oder #1\n",
    "### “Top Five Romance Authors”"
   ]
  },
  {
   "cell_type": "code",
   "execution_count": 2,
   "metadata": {},
   "outputs": [
    {
     "name": "stderr",
     "output_type": "stream",
     "text": [
      "/Users/kvmmn/Desktop/data_summit/quda/quda_projects/Book-Store/kaveh_analysis/required_dataframes.py:68: UserWarning: pandas only supports SQLAlchemy connectable (engine/connection) or database string URI or sqlite3 DBAPI2 connection. Other DBAPI2 objects are not tested. Please consider using SQLAlchemy.\n",
      "  return pd.read_sql(query, conn)\n"
     ]
    },
    {
     "data": {
      "text/html": [
       "<div>\n",
       "<style scoped>\n",
       "    .dataframe tbody tr th:only-of-type {\n",
       "        vertical-align: middle;\n",
       "    }\n",
       "\n",
       "    .dataframe tbody tr th {\n",
       "        vertical-align: top;\n",
       "    }\n",
       "\n",
       "    .dataframe thead th {\n",
       "        text-align: right;\n",
       "    }\n",
       "</style>\n",
       "<table border=\"1\" class=\"dataframe\">\n",
       "  <thead>\n",
       "    <tr style=\"text-align: right;\">\n",
       "      <th></th>\n",
       "      <th>name</th>\n",
       "      <th>num_of_romance_books</th>\n",
       "      <th>avg_grade</th>\n",
       "      <th>num_of_awards_tags</th>\n",
       "      <th>num_of_list_tags</th>\n",
       "      <th>description</th>\n",
       "    </tr>\n",
       "  </thead>\n",
       "  <tbody>\n",
       "    <tr>\n",
       "      <th>0</th>\n",
       "      <td>شارلوت برونته</td>\n",
       "      <td>529</td>\n",
       "      <td>3.5614</td>\n",
       "      <td>NaN</td>\n",
       "      <td>2624.0</td>\n",
       "      <td>شارلوت برونته، زاده ی ۲۱ آوریل ۱۸۱۶ و درگذشته ...</td>\n",
       "    </tr>\n",
       "    <tr>\n",
       "      <th>1</th>\n",
       "      <td>اف اسکات فیتزجرالد</td>\n",
       "      <td>112</td>\n",
       "      <td>4.0000</td>\n",
       "      <td>NaN</td>\n",
       "      <td>472.0</td>\n",
       "      <td>None</td>\n",
       "    </tr>\n",
       "    <tr>\n",
       "      <th>2</th>\n",
       "      <td>آندره ژید</td>\n",
       "      <td>24</td>\n",
       "      <td>3.6667</td>\n",
       "      <td>24.0</td>\n",
       "      <td>6.0</td>\n",
       "      <td>پل گیوم آندره ژید، زاده ی ۱۸۶۹ و درگذشته ی ۱۹۵...</td>\n",
       "    </tr>\n",
       "    <tr>\n",
       "      <th>3</th>\n",
       "      <td>هاروکی موراکامی</td>\n",
       "      <td>15</td>\n",
       "      <td>4.0000</td>\n",
       "      <td>9.0</td>\n",
       "      <td>22.0</td>\n",
       "      <td>هاروکی موراکامی در ۱۲ ژانویه ۱۹۴۹ در کیوتو ژاپ...</td>\n",
       "    </tr>\n",
       "    <tr>\n",
       "      <th>4</th>\n",
       "      <td>جوجو مویز</td>\n",
       "      <td>12</td>\n",
       "      <td>4.0000</td>\n",
       "      <td>NaN</td>\n",
       "      <td>NaN</td>\n",
       "      <td>None</td>\n",
       "    </tr>\n",
       "  </tbody>\n",
       "</table>\n",
       "</div>"
      ],
      "text/plain": [
       "                 name  num_of_romance_books  avg_grade  num_of_awards_tags  \\\n",
       "0       شارلوت برونته                   529     3.5614                 NaN   \n",
       "1  اف اسکات فیتزجرالد                   112     4.0000                 NaN   \n",
       "2           آندره ژید                    24     3.6667                24.0   \n",
       "3     هاروکی موراکامی                    15     4.0000                 9.0   \n",
       "4           جوجو مویز                    12     4.0000                 NaN   \n",
       "\n",
       "   num_of_list_tags                                        description  \n",
       "0            2624.0  شارلوت برونته، زاده ی ۲۱ آوریل ۱۸۱۶ و درگذشته ...  \n",
       "1             472.0                                               None  \n",
       "2               6.0  پل گیوم آندره ژید، زاده ی ۱۸۶۹ و درگذشته ی ۱۹۵...  \n",
       "3              22.0  هاروکی موراکامی در ۱۲ ژانویه ۱۹۴۹ در کیوتو ژاپ...  \n",
       "4               NaN                                               None  "
      ]
     },
     "execution_count": 2,
     "metadata": {},
     "output_type": "execute_result"
    }
   ],
   "source": [
    "df1 = rd.request_one()\n",
    "df1.head()"
   ]
  },
  {
   "cell_type": "code",
   "execution_count": 3,
   "metadata": {},
   "outputs": [
    {
     "data": {
      "text/plain": [
       "name                    0\n",
       "num_of_romance_books    0\n",
       "avg_grade               0\n",
       "num_of_awards_tags      0\n",
       "num_of_list_tags        0\n",
       "description             0\n",
       "dtype: int64"
      ]
     },
     "execution_count": 3,
     "metadata": {},
     "output_type": "execute_result"
    }
   ],
   "source": [
    "# Handle missing values: Null -> 0\n",
    "\n",
    "df1 = df1.fillna(0)\n",
    "\n",
    "df1.isnull().sum()"
   ]
  },
  {
   "cell_type": "code",
   "execution_count": 4,
   "metadata": {},
   "outputs": [
    {
     "data": {
      "text/html": [
       "<div>\n",
       "<style scoped>\n",
       "    .dataframe tbody tr th:only-of-type {\n",
       "        vertical-align: middle;\n",
       "    }\n",
       "\n",
       "    .dataframe tbody tr th {\n",
       "        vertical-align: top;\n",
       "    }\n",
       "\n",
       "    .dataframe thead th {\n",
       "        text-align: right;\n",
       "    }\n",
       "</style>\n",
       "<table border=\"1\" class=\"dataframe\">\n",
       "  <thead>\n",
       "    <tr style=\"text-align: right;\">\n",
       "      <th></th>\n",
       "      <th>name</th>\n",
       "      <th>num_of_romance_books</th>\n",
       "      <th>avg_grade</th>\n",
       "      <th>num_of_awards_tags</th>\n",
       "      <th>num_of_list_tags</th>\n",
       "      <th>description</th>\n",
       "    </tr>\n",
       "  </thead>\n",
       "  <tbody>\n",
       "    <tr>\n",
       "      <th>0</th>\n",
       "      <td>شارلوت برونته</td>\n",
       "      <td>2.000000</td>\n",
       "      <td>1.5614</td>\n",
       "      <td>1.000</td>\n",
       "      <td>2.000000</td>\n",
       "      <td>شارلوت برونته، زاده ی ۲۱ آوریل ۱۸۱۶ و درگذشته ...</td>\n",
       "    </tr>\n",
       "    <tr>\n",
       "      <th>1</th>\n",
       "      <td>اف اسکات فیتزجرالد</td>\n",
       "      <td>1.210227</td>\n",
       "      <td>2.0000</td>\n",
       "      <td>1.000</td>\n",
       "      <td>1.179878</td>\n",
       "      <td>0</td>\n",
       "    </tr>\n",
       "    <tr>\n",
       "      <th>2</th>\n",
       "      <td>آندره ژید</td>\n",
       "      <td>1.043561</td>\n",
       "      <td>1.6667</td>\n",
       "      <td>2.000</td>\n",
       "      <td>1.002287</td>\n",
       "      <td>پل گیوم آندره ژید، زاده ی ۱۸۶۹ و درگذشته ی ۱۹۵...</td>\n",
       "    </tr>\n",
       "    <tr>\n",
       "      <th>3</th>\n",
       "      <td>هاروکی موراکامی</td>\n",
       "      <td>1.026515</td>\n",
       "      <td>2.0000</td>\n",
       "      <td>1.375</td>\n",
       "      <td>1.008384</td>\n",
       "      <td>هاروکی موراکامی در ۱۲ ژانویه ۱۹۴۹ در کیوتو ژاپ...</td>\n",
       "    </tr>\n",
       "    <tr>\n",
       "      <th>4</th>\n",
       "      <td>جوجو مویز</td>\n",
       "      <td>1.020833</td>\n",
       "      <td>2.0000</td>\n",
       "      <td>1.000</td>\n",
       "      <td>1.000000</td>\n",
       "      <td>0</td>\n",
       "    </tr>\n",
       "  </tbody>\n",
       "</table>\n",
       "</div>"
      ],
      "text/plain": [
       "                 name  num_of_romance_books  avg_grade  num_of_awards_tags  \\\n",
       "0       شارلوت برونته              2.000000     1.5614               1.000   \n",
       "1  اف اسکات فیتزجرالد              1.210227     2.0000               1.000   \n",
       "2           آندره ژید              1.043561     1.6667               2.000   \n",
       "3     هاروکی موراکامی              1.026515     2.0000               1.375   \n",
       "4           جوجو مویز              1.020833     2.0000               1.000   \n",
       "\n",
       "   num_of_list_tags                                        description  \n",
       "0          2.000000  شارلوت برونته، زاده ی ۲۱ آوریل ۱۸۱۶ و درگذشته ...  \n",
       "1          1.179878                                                  0  \n",
       "2          1.002287  پل گیوم آندره ژید، زاده ی ۱۸۶۹ و درگذشته ی ۱۹۵...  \n",
       "3          1.008384  هاروکی موراکامی در ۱۲ ژانویه ۱۹۴۹ در کیوتو ژاپ...  \n",
       "4          1.000000                                                  0  "
      ]
     },
     "execution_count": 4,
     "metadata": {},
     "output_type": "execute_result"
    }
   ],
   "source": [
    "# Normalize numerical values to the range (1, 2)\n",
    "\n",
    "cols_to_scale = [\n",
    "    \"num_of_romance_books\",\n",
    "    \"avg_grade\",\n",
    "    \"num_of_awards_tags\",\n",
    "    \"num_of_list_tags\",\n",
    "]\n",
    "min_max_scaler = MinMaxScaler(feature_range=(1, 2))\n",
    "df1[cols_to_scale] = min_max_scaler.fit_transform(df1[cols_to_scale])\n",
    "\n",
    "df1.head()"
   ]
  },
  {
   "cell_type": "markdown",
   "metadata": {},
   "source": [
    "### Metric for client order 1\n",
    "metric_1 = f1 × f2<sup>2</sup> × f3<sup>3</sup> × f4 <br><br>\n",
    "f1 = Author's Romance Books Count <br>\n",
    "f2 = Average Rating of Author's Romance Books <br>\n",
    "f3 = Number of Awards For Author's Romance Books <br>\n",
    "f4 = Number of Listings For Author's Romance Books"
   ]
  },
  {
   "cell_type": "code",
   "execution_count": 5,
   "metadata": {},
   "outputs": [
    {
     "name": "stdout",
     "output_type": "stream",
     "text": [
      "Top 5 writers are: \n"
     ]
    },
    {
     "data": {
      "text/html": [
       "<div>\n",
       "<style scoped>\n",
       "    .dataframe tbody tr th:only-of-type {\n",
       "        vertical-align: middle;\n",
       "    }\n",
       "\n",
       "    .dataframe tbody tr th {\n",
       "        vertical-align: top;\n",
       "    }\n",
       "\n",
       "    .dataframe thead th {\n",
       "        text-align: right;\n",
       "    }\n",
       "</style>\n",
       "<table border=\"1\" class=\"dataframe\">\n",
       "  <thead>\n",
       "    <tr style=\"text-align: right;\">\n",
       "      <th></th>\n",
       "      <th>name</th>\n",
       "      <th>metric_1</th>\n",
       "    </tr>\n",
       "  </thead>\n",
       "  <tbody>\n",
       "    <tr>\n",
       "      <th>0</th>\n",
       "      <td>شارلوت برونته</td>\n",
       "      <td>30.45</td>\n",
       "    </tr>\n",
       "    <tr>\n",
       "      <th>1</th>\n",
       "      <td>اف اسکات فیتزجرالد</td>\n",
       "      <td>13.82</td>\n",
       "    </tr>\n",
       "    <tr>\n",
       "      <th>3</th>\n",
       "      <td>هاروکی موراکامی</td>\n",
       "      <td>11.69</td>\n",
       "    </tr>\n",
       "    <tr>\n",
       "      <th>2</th>\n",
       "      <td>آندره ژید</td>\n",
       "      <td>10.11</td>\n",
       "    </tr>\n",
       "    <tr>\n",
       "      <th>4</th>\n",
       "      <td>جوجو مویز</td>\n",
       "      <td>8.34</td>\n",
       "    </tr>\n",
       "  </tbody>\n",
       "</table>\n",
       "</div>"
      ],
      "text/plain": [
       "                 name  metric_1\n",
       "0       شارلوت برونته     30.45\n",
       "1  اف اسکات فیتزجرالد     13.82\n",
       "3     هاروکی موراکامی     11.69\n",
       "2           آندره ژید     10.11\n",
       "4           جوجو مویز      8.34"
      ]
     },
     "metadata": {},
     "output_type": "display_data"
    }
   ],
   "source": [
    "# Compute the final metric for each author\n",
    "# Approach:\n",
    "#   Very strong Rating effect\n",
    "#   Strong number of books effect\n",
    "\n",
    "df1[\"metric_1\"] = round(\n",
    "    df1[\"num_of_romance_books\"] ** 2\n",
    "    * df1[\"avg_grade\"] ** 3\n",
    "    * df1[\"num_of_awards_tags\"]\n",
    "    * df1[\"num_of_list_tags\"],\n",
    "    2,\n",
    ")\n",
    "\n",
    "top_writers = (\n",
    "    df1[[\"name\", \"metric_1\"]].sort_values(by=\"metric_1\", ascending=False).head(5)\n",
    ")\n",
    "\n",
    "print(f\"Top 5 writers are: \")\n",
    "display(top_writers)"
   ]
  },
  {
   "cell_type": "markdown",
   "metadata": {},
   "source": [
    "------------------------------------------------"
   ]
  },
  {
   "cell_type": "markdown",
   "metadata": {},
   "source": [
    "## 2. Client Oder #2\n",
    "### “Books With Best Quality & Price”"
   ]
  },
  {
   "cell_type": "code",
   "execution_count": 6,
   "metadata": {},
   "outputs": [
    {
     "name": "stderr",
     "output_type": "stream",
     "text": [
      "/Users/kvmmn/Desktop/data_summit/quda/quda_projects/Book-Store/kaveh_analysis/required_dataframes.py:96: UserWarning: pandas only supports SQLAlchemy connectable (engine/connection) or database string URI or sqlite3 DBAPI2 connection. Other DBAPI2 objects are not tested. Please consider using SQLAlchemy.\n",
      "  return pd.read_sql(query, conn)\n"
     ]
    },
    {
     "data": {
      "text/html": [
       "<div>\n",
       "<style scoped>\n",
       "    .dataframe tbody tr th:only-of-type {\n",
       "        vertical-align: middle;\n",
       "    }\n",
       "\n",
       "    .dataframe tbody tr th {\n",
       "        vertical-align: top;\n",
       "    }\n",
       "\n",
       "    .dataframe thead th {\n",
       "        text-align: right;\n",
       "    }\n",
       "</style>\n",
       "<table border=\"1\" class=\"dataframe\">\n",
       "  <thead>\n",
       "    <tr style=\"text-align: right;\">\n",
       "      <th></th>\n",
       "      <th>code</th>\n",
       "      <th>title_persian</th>\n",
       "      <th>title_english</th>\n",
       "      <th>price</th>\n",
       "      <th>release_year_mi</th>\n",
       "      <th>release_year_sh</th>\n",
       "      <th>grade</th>\n",
       "      <th>page_count</th>\n",
       "      <th>cover</th>\n",
       "      <th>num_of_award_tags</th>\n",
       "      <th>num_of_list_tags</th>\n",
       "    </tr>\n",
       "  </thead>\n",
       "  <tbody>\n",
       "    <tr>\n",
       "      <th>0</th>\n",
       "      <td>115704</td>\n",
       "      <td>خداحافظ گل سوری</td>\n",
       "      <td>Selected poems</td>\n",
       "      <td>73000</td>\n",
       "      <td>NaN</td>\n",
       "      <td>1397.0</td>\n",
       "      <td>4</td>\n",
       "      <td>183.0</td>\n",
       "      <td>شومیز</td>\n",
       "      <td>NaN</td>\n",
       "      <td>NaN</td>\n",
       "    </tr>\n",
       "    <tr>\n",
       "      <th>1</th>\n",
       "      <td>32523</td>\n",
       "      <td>الفاظ و اشیا</td>\n",
       "      <td>The Order of Things</td>\n",
       "      <td>440000</td>\n",
       "      <td>1966.0</td>\n",
       "      <td>1402.0</td>\n",
       "      <td>4</td>\n",
       "      <td>512.0</td>\n",
       "      <td>شومیز</td>\n",
       "      <td>NaN</td>\n",
       "      <td>NaN</td>\n",
       "    </tr>\n",
       "    <tr>\n",
       "      <th>2</th>\n",
       "      <td>94001</td>\n",
       "      <td>گریه کن سرزمین محبوب من</td>\n",
       "      <td>Cry my beloved land</td>\n",
       "      <td>80000</td>\n",
       "      <td>NaN</td>\n",
       "      <td>1401.0</td>\n",
       "      <td>4</td>\n",
       "      <td>174.0</td>\n",
       "      <td>شومیز</td>\n",
       "      <td>NaN</td>\n",
       "      <td>NaN</td>\n",
       "    </tr>\n",
       "    <tr>\n",
       "      <th>3</th>\n",
       "      <td>64403</td>\n",
       "      <td>کارگاه ها</td>\n",
       "      <td>Atelieres</td>\n",
       "      <td>240000</td>\n",
       "      <td>1996.0</td>\n",
       "      <td>1400.0</td>\n",
       "      <td>4</td>\n",
       "      <td>603.0</td>\n",
       "      <td>جلدسخت</td>\n",
       "      <td>NaN</td>\n",
       "      <td>NaN</td>\n",
       "    </tr>\n",
       "    <tr>\n",
       "      <th>4</th>\n",
       "      <td>73920</td>\n",
       "      <td>چگونه ایمیل های موثر تهیه کنیم</td>\n",
       "      <td>Writing Effective E-Mail</td>\n",
       "      <td>49900</td>\n",
       "      <td>1998.0</td>\n",
       "      <td>1388.0</td>\n",
       "      <td>3</td>\n",
       "      <td>183.0</td>\n",
       "      <td>شومیز</td>\n",
       "      <td>1.0</td>\n",
       "      <td>NaN</td>\n",
       "    </tr>\n",
       "    <tr>\n",
       "      <th>...</th>\n",
       "      <td>...</td>\n",
       "      <td>...</td>\n",
       "      <td>...</td>\n",
       "      <td>...</td>\n",
       "      <td>...</td>\n",
       "      <td>...</td>\n",
       "      <td>...</td>\n",
       "      <td>...</td>\n",
       "      <td>...</td>\n",
       "      <td>...</td>\n",
       "      <td>...</td>\n",
       "    </tr>\n",
       "    <tr>\n",
       "      <th>3588</th>\n",
       "      <td>60983</td>\n",
       "      <td>مبانی روان شناسی ورزش و تمرین 1</td>\n",
       "      <td>Foundations of sport and exercise psychology</td>\n",
       "      <td>279000</td>\n",
       "      <td>2011.0</td>\n",
       "      <td>1401.0</td>\n",
       "      <td>3</td>\n",
       "      <td>436.0</td>\n",
       "      <td>شومیز</td>\n",
       "      <td>NaN</td>\n",
       "      <td>1.0</td>\n",
       "    </tr>\n",
       "    <tr>\n",
       "      <th>3589</th>\n",
       "      <td>96799</td>\n",
       "      <td>مبانی روان شناسی ورزش و تمرین 2</td>\n",
       "      <td>Foundations of sport and exercise psychology</td>\n",
       "      <td>299000</td>\n",
       "      <td>1995.0</td>\n",
       "      <td>1401.0</td>\n",
       "      <td>3</td>\n",
       "      <td>472.0</td>\n",
       "      <td>شومیز</td>\n",
       "      <td>NaN</td>\n",
       "      <td>1.0</td>\n",
       "    </tr>\n",
       "    <tr>\n",
       "      <th>3590</th>\n",
       "      <td>71279</td>\n",
       "      <td>روش خوردن هوشمندانه</td>\n",
       "      <td>Bright Line Eating</td>\n",
       "      <td>119000</td>\n",
       "      <td>2017.0</td>\n",
       "      <td>1399.0</td>\n",
       "      <td>4</td>\n",
       "      <td>312.0</td>\n",
       "      <td>شومیز</td>\n",
       "      <td>NaN</td>\n",
       "      <td>NaN</td>\n",
       "    </tr>\n",
       "    <tr>\n",
       "      <th>3591</th>\n",
       "      <td>60442</td>\n",
       "      <td>60 نکته آشپزی</td>\n",
       "      <td>Cooking</td>\n",
       "      <td>1000</td>\n",
       "      <td>NaN</td>\n",
       "      <td>1387.0</td>\n",
       "      <td>3</td>\n",
       "      <td>31.0</td>\n",
       "      <td>شومیز</td>\n",
       "      <td>NaN</td>\n",
       "      <td>NaN</td>\n",
       "    </tr>\n",
       "    <tr>\n",
       "      <th>3592</th>\n",
       "      <td>41066</td>\n",
       "      <td>سه سفرنامه</td>\n",
       "      <td>Three travelogues</td>\n",
       "      <td>55000</td>\n",
       "      <td>NaN</td>\n",
       "      <td>1398.0</td>\n",
       "      <td>4</td>\n",
       "      <td>482.0</td>\n",
       "      <td>زرکوب</td>\n",
       "      <td>NaN</td>\n",
       "      <td>NaN</td>\n",
       "    </tr>\n",
       "  </tbody>\n",
       "</table>\n",
       "<p>3593 rows × 11 columns</p>\n",
       "</div>"
      ],
      "text/plain": [
       "        code                    title_persian  \\\n",
       "0     115704                  خداحافظ گل سوری   \n",
       "1      32523                     الفاظ و اشیا   \n",
       "2      94001          گریه کن سرزمین محبوب من   \n",
       "3      64403                        کارگاه ها   \n",
       "4      73920   چگونه ایمیل های موثر تهیه کنیم   \n",
       "...      ...                              ...   \n",
       "3588   60983  مبانی روان شناسی ورزش و تمرین 1   \n",
       "3589   96799  مبانی روان شناسی ورزش و تمرین 2   \n",
       "3590   71279              روش خوردن هوشمندانه   \n",
       "3591   60442                    60 نکته آشپزی   \n",
       "3592   41066                       سه سفرنامه   \n",
       "\n",
       "                                      title_english   price  release_year_mi  \\\n",
       "0                                    Selected poems   73000              NaN   \n",
       "1                               The Order of Things  440000           1966.0   \n",
       "2                               Cry my beloved land   80000              NaN   \n",
       "3                                         Atelieres  240000           1996.0   \n",
       "4                          Writing Effective E-Mail   49900           1998.0   \n",
       "...                                             ...     ...              ...   \n",
       "3588   Foundations of sport and exercise psychology  279000           2011.0   \n",
       "3589   Foundations of sport and exercise psychology  299000           1995.0   \n",
       "3590                             Bright Line Eating  119000           2017.0   \n",
       "3591                                        Cooking    1000              NaN   \n",
       "3592                              Three travelogues   55000              NaN   \n",
       "\n",
       "      release_year_sh  grade  page_count   cover  num_of_award_tags  \\\n",
       "0              1397.0      4       183.0   شومیز                NaN   \n",
       "1              1402.0      4       512.0   شومیز                NaN   \n",
       "2              1401.0      4       174.0   شومیز                NaN   \n",
       "3              1400.0      4       603.0  جلدسخت                NaN   \n",
       "4              1388.0      3       183.0   شومیز                1.0   \n",
       "...               ...    ...         ...     ...                ...   \n",
       "3588           1401.0      3       436.0   شومیز                NaN   \n",
       "3589           1401.0      3       472.0   شومیز                NaN   \n",
       "3590           1399.0      4       312.0   شومیز                NaN   \n",
       "3591           1387.0      3        31.0   شومیز                NaN   \n",
       "3592           1398.0      4       482.0   زرکوب                NaN   \n",
       "\n",
       "      num_of_list_tags  \n",
       "0                  NaN  \n",
       "1                  NaN  \n",
       "2                  NaN  \n",
       "3                  NaN  \n",
       "4                  NaN  \n",
       "...                ...  \n",
       "3588               1.0  \n",
       "3589               1.0  \n",
       "3590               NaN  \n",
       "3591               NaN  \n",
       "3592               NaN  \n",
       "\n",
       "[3593 rows x 11 columns]"
      ]
     },
     "execution_count": 6,
     "metadata": {},
     "output_type": "execute_result"
    }
   ],
   "source": [
    "df2 = rd.request_two()\n",
    "df2"
   ]
  },
  {
   "cell_type": "code",
   "execution_count": 7,
   "metadata": {},
   "outputs": [
    {
     "data": {
      "text/plain": [
       "code                    0\n",
       "title_persian           0\n",
       "title_english          30\n",
       "price                   0\n",
       "release_year_mi      1642\n",
       "release_year_sh         0\n",
       "grade                   0\n",
       "page_count              0\n",
       "cover                   0\n",
       "num_of_award_tags       0\n",
       "num_of_list_tags        0\n",
       "dtype: int64"
      ]
     },
     "execution_count": 7,
     "metadata": {},
     "output_type": "execute_result"
    }
   ],
   "source": [
    "# Handle missing values\n",
    "\n",
    "# Null -> 0 :: (Hard = 1, Soft = 0)\n",
    "df2[\"cover\"] = df2[\"cover\"].fillna(\"نرم\")\n",
    "\n",
    "# Null -> Mean of the page counts\n",
    "df2[\"page_count\"] = df2[\"page_count\"].fillna(df2[\"page_count\"].mean())\n",
    "\n",
    "# Null -> Median of the release years shamsi\n",
    "df2[\"release_year_sh\"] = df2[\"release_year_sh\"].fillna(df2[\"release_year_sh\"].median())\n",
    "\n",
    "# Null -> 0\n",
    "df2[\"num_of_award_tags\"] = df2[\"num_of_award_tags\"].fillna(0)\n",
    "\n",
    "# Null -> 0\n",
    "df2[\"num_of_list_tags\"] = df2[\"num_of_list_tags\"].fillna(0)\n",
    "\n",
    "df2.isnull().sum()"
   ]
  },
  {
   "cell_type": "code",
   "execution_count": 8,
   "metadata": {},
   "outputs": [
    {
     "data": {
      "text/plain": [
       "cover\n",
       "0    3251\n",
       "1     342\n",
       "Name: count, dtype: int64"
      ]
     },
     "execution_count": 8,
     "metadata": {},
     "output_type": "execute_result"
    }
   ],
   "source": [
    "# Assign cover type: f2\n",
    "# Hard = 1 / covers including text \"سخت\" or \"زرکوب\" or \"چرم\"\n",
    "# Soft = 0 / covers including text \"نرم\" or \"سلفونی\" or \"شومیز\"\n",
    "\n",
    "\n",
    "def cover_type(cover):\n",
    "    if \"سخت\" in cover or \"زرکوب\" in cover or \"چرم\" in cover:\n",
    "        return 1\n",
    "    else:\n",
    "        return 0\n",
    "\n",
    "\n",
    "df2[\"cover\"] = df2[\"cover\"].apply(cover_type)\n",
    "\n",
    "df2[\"cover\"].value_counts()"
   ]
  },
  {
   "cell_type": "code",
   "execution_count": 9,
   "metadata": {},
   "outputs": [
    {
     "data": {
      "text/plain": [
       "page_count\n",
       "3.0    1788\n",
       "1.0     908\n",
       "5.0     897\n",
       "Name: count, dtype: int64"
      ]
     },
     "execution_count": 9,
     "metadata": {},
     "output_type": "execute_result"
    }
   ],
   "source": [
    "# Assign page count type: f3\n",
    "# Short = 1, Medium = 3, Long = 5\n",
    "\n",
    "page_bins = [\n",
    "    0,\n",
    "    df2[\"page_count\"].quantile(0.25),\n",
    "    df2[\"page_count\"].quantile(0.75),\n",
    "    df2[\"page_count\"].max() + 1,\n",
    "]\n",
    "page_labels = [1, 3, 5]\n",
    "df2[\"page_count\"] = pd.cut(\n",
    "    df2[\"page_count\"], bins=page_bins, labels=page_labels, include_lowest=True\n",
    ")\n",
    "\n",
    "df2[\"page_count\"] = df2[\"page_count\"].astype(float)\n",
    "df2[\"page_count\"].value_counts()"
   ]
  },
  {
   "cell_type": "code",
   "execution_count": 10,
   "metadata": {},
   "outputs": [
    {
     "data": {
      "text/plain": [
       "release_year_sh\n",
       "3.0    1317\n",
       "1.0    1257\n",
       "5.0    1019\n",
       "Name: count, dtype: int64"
      ]
     },
     "execution_count": 10,
     "metadata": {},
     "output_type": "execute_result"
    }
   ],
   "source": [
    "# Assign publish shamsi year type: F4\n",
    "# Classic = 1, Old = 3, Modern = 5\n",
    "\n",
    "year_bins = [\n",
    "    0,\n",
    "    df2[\"release_year_sh\"].quantile(0.33),\n",
    "    df2[\"release_year_sh\"].quantile(0.66),\n",
    "    df2[\"release_year_sh\"].max() + 1,\n",
    "]\n",
    "year_labels = [1, 3, 5]\n",
    "df2[\"release_year_sh\"] = pd.cut(\n",
    "    df2[\"release_year_sh\"], bins=year_bins, labels=year_labels, include_lowest=True\n",
    ")\n",
    "\n",
    "df2[\"release_year_sh\"] = df2[\"release_year_sh\"].astype(float)\n",
    "\n",
    "df2[\"release_year_sh\"].value_counts()"
   ]
  },
  {
   "cell_type": "code",
   "execution_count": 11,
   "metadata": {},
   "outputs": [
    {
     "data": {
      "text/html": [
       "<div>\n",
       "<style scoped>\n",
       "    .dataframe tbody tr th:only-of-type {\n",
       "        vertical-align: middle;\n",
       "    }\n",
       "\n",
       "    .dataframe tbody tr th {\n",
       "        vertical-align: top;\n",
       "    }\n",
       "\n",
       "    .dataframe thead th {\n",
       "        text-align: right;\n",
       "    }\n",
       "</style>\n",
       "<table border=\"1\" class=\"dataframe\">\n",
       "  <thead>\n",
       "    <tr style=\"text-align: right;\">\n",
       "      <th></th>\n",
       "      <th>code</th>\n",
       "      <th>title_persian</th>\n",
       "      <th>title_english</th>\n",
       "      <th>price</th>\n",
       "      <th>release_year_mi</th>\n",
       "      <th>release_year_sh</th>\n",
       "      <th>grade</th>\n",
       "      <th>page_count</th>\n",
       "      <th>cover</th>\n",
       "      <th>num_of_award_tags</th>\n",
       "      <th>num_of_list_tags</th>\n",
       "    </tr>\n",
       "  </thead>\n",
       "  <tbody>\n",
       "    <tr>\n",
       "      <th>0</th>\n",
       "      <td>115704</td>\n",
       "      <td>خداحافظ گل سوری</td>\n",
       "      <td>Selected poems</td>\n",
       "      <td>73000</td>\n",
       "      <td>NaN</td>\n",
       "      <td>-1.177300</td>\n",
       "      <td>0.942612</td>\n",
       "      <td>0.004319</td>\n",
       "      <td>-0.324343</td>\n",
       "      <td>-0.123827</td>\n",
       "      <td>-0.12431</td>\n",
       "    </tr>\n",
       "    <tr>\n",
       "      <th>1</th>\n",
       "      <td>32523</td>\n",
       "      <td>الفاظ و اشیا</td>\n",
       "      <td>The Order of Things</td>\n",
       "      <td>440000</td>\n",
       "      <td>1966.0</td>\n",
       "      <td>1.344333</td>\n",
       "      <td>0.942612</td>\n",
       "      <td>1.415212</td>\n",
       "      <td>-0.324343</td>\n",
       "      <td>-0.123827</td>\n",
       "      <td>-0.12431</td>\n",
       "    </tr>\n",
       "    <tr>\n",
       "      <th>2</th>\n",
       "      <td>94001</td>\n",
       "      <td>گریه کن سرزمین محبوب من</td>\n",
       "      <td>Cry my beloved land</td>\n",
       "      <td>80000</td>\n",
       "      <td>NaN</td>\n",
       "      <td>1.344333</td>\n",
       "      <td>0.942612</td>\n",
       "      <td>0.004319</td>\n",
       "      <td>-0.324343</td>\n",
       "      <td>-0.123827</td>\n",
       "      <td>-0.12431</td>\n",
       "    </tr>\n",
       "    <tr>\n",
       "      <th>3</th>\n",
       "      <td>64403</td>\n",
       "      <td>کارگاه ها</td>\n",
       "      <td>Atelieres</td>\n",
       "      <td>240000</td>\n",
       "      <td>1996.0</td>\n",
       "      <td>0.083516</td>\n",
       "      <td>0.942612</td>\n",
       "      <td>1.415212</td>\n",
       "      <td>3.083156</td>\n",
       "      <td>-0.123827</td>\n",
       "      <td>-0.12431</td>\n",
       "    </tr>\n",
       "    <tr>\n",
       "      <th>4</th>\n",
       "      <td>73920</td>\n",
       "      <td>چگونه ایمیل های موثر تهیه کنیم</td>\n",
       "      <td>Writing Effective E-Mail</td>\n",
       "      <td>49900</td>\n",
       "      <td>1998.0</td>\n",
       "      <td>-1.177300</td>\n",
       "      <td>-1.028753</td>\n",
       "      <td>0.004319</td>\n",
       "      <td>-0.324343</td>\n",
       "      <td>1.011148</td>\n",
       "      <td>-0.12431</td>\n",
       "    </tr>\n",
       "  </tbody>\n",
       "</table>\n",
       "</div>"
      ],
      "text/plain": [
       "     code                   title_persian              title_english   price  \\\n",
       "0  115704                 خداحافظ گل سوری             Selected poems   73000   \n",
       "1   32523                    الفاظ و اشیا        The Order of Things  440000   \n",
       "2   94001         گریه کن سرزمین محبوب من        Cry my beloved land   80000   \n",
       "3   64403                       کارگاه ها                  Atelieres  240000   \n",
       "4   73920  چگونه ایمیل های موثر تهیه کنیم   Writing Effective E-Mail   49900   \n",
       "\n",
       "   release_year_mi  release_year_sh     grade  page_count     cover  \\\n",
       "0              NaN        -1.177300  0.942612    0.004319 -0.324343   \n",
       "1           1966.0         1.344333  0.942612    1.415212 -0.324343   \n",
       "2              NaN         1.344333  0.942612    0.004319 -0.324343   \n",
       "3           1996.0         0.083516  0.942612    1.415212  3.083156   \n",
       "4           1998.0        -1.177300 -1.028753    0.004319 -0.324343   \n",
       "\n",
       "   num_of_award_tags  num_of_list_tags  \n",
       "0          -0.123827          -0.12431  \n",
       "1          -0.123827          -0.12431  \n",
       "2          -0.123827          -0.12431  \n",
       "3          -0.123827          -0.12431  \n",
       "4           1.011148          -0.12431  "
      ]
     },
     "execution_count": 11,
     "metadata": {},
     "output_type": "execute_result"
    }
   ],
   "source": [
    "# Normalize numerical values to the range (1, 2)\n",
    "\n",
    "cols_to_scale_2 = [\n",
    "    \"grade\",\n",
    "    \"cover\",\n",
    "    \"page_count\",\n",
    "    \"release_year_sh\",\n",
    "    \"num_of_award_tags\",\n",
    "    \"num_of_list_tags\",\n",
    "]\n",
    "standard_scaler = StandardScaler()\n",
    "df2[cols_to_scale_2] = standard_scaler.fit_transform(df2[cols_to_scale_2])\n",
    "\n",
    "df2.head()"
   ]
  },
  {
   "cell_type": "markdown",
   "metadata": {},
   "source": [
    "### Metric for client order 2\n",
    "metric_2 = w1×f1 + w2×f2 + w3×f3 + w4×f4 + w5×f5 + w6×f6"
   ]
  },
  {
   "cell_type": "markdown",
   "metadata": {},
   "source": [
    "f1 = Rating  <br>\n",
    "f2 = Cover Type (Soft or Hard) <br>\n",
    "f3 = Pages Count <br>\n",
    "f4 = Shamsi Year of Publishin <br>\n",
    "f5 = Number of Awards <br>\n",
    "f6 = Number of Listings"
   ]
  },
  {
   "cell_type": "code",
   "execution_count": 12,
   "metadata": {},
   "outputs": [],
   "source": [
    "# Weights for each feature\n",
    "\n",
    "w1 = 40\n",
    "w2 = 5\n",
    "w3 = 5\n",
    "w4 = 5\n",
    "w5 = 23\n",
    "w6 = 22"
   ]
  },
  {
   "cell_type": "code",
   "execution_count": 13,
   "metadata": {},
   "outputs": [
    {
     "data": {
      "text/html": [
       "<div>\n",
       "<style scoped>\n",
       "    .dataframe tbody tr th:only-of-type {\n",
       "        vertical-align: middle;\n",
       "    }\n",
       "\n",
       "    .dataframe tbody tr th {\n",
       "        vertical-align: top;\n",
       "    }\n",
       "\n",
       "    .dataframe thead th {\n",
       "        text-align: right;\n",
       "    }\n",
       "</style>\n",
       "<table border=\"1\" class=\"dataframe\">\n",
       "  <thead>\n",
       "    <tr style=\"text-align: right;\">\n",
       "      <th></th>\n",
       "      <th>code</th>\n",
       "      <th>title_persian</th>\n",
       "      <th>title_english</th>\n",
       "      <th>price</th>\n",
       "      <th>release_year_mi</th>\n",
       "      <th>release_year_sh</th>\n",
       "      <th>grade</th>\n",
       "      <th>page_count</th>\n",
       "      <th>cover</th>\n",
       "      <th>num_of_award_tags</th>\n",
       "      <th>num_of_list_tags</th>\n",
       "      <th>metric_2</th>\n",
       "    </tr>\n",
       "  </thead>\n",
       "  <tbody>\n",
       "    <tr>\n",
       "      <th>0</th>\n",
       "      <td>115704</td>\n",
       "      <td>خداحافظ گل سوری</td>\n",
       "      <td>Selected poems</td>\n",
       "      <td>73000</td>\n",
       "      <td>NaN</td>\n",
       "      <td>-1.177300</td>\n",
       "      <td>0.942612</td>\n",
       "      <td>0.004319</td>\n",
       "      <td>-0.324343</td>\n",
       "      <td>-0.123827</td>\n",
       "      <td>-0.12431</td>\n",
       "      <td>24.635008</td>\n",
       "    </tr>\n",
       "    <tr>\n",
       "      <th>1</th>\n",
       "      <td>32523</td>\n",
       "      <td>الفاظ و اشیا</td>\n",
       "      <td>The Order of Things</td>\n",
       "      <td>440000</td>\n",
       "      <td>1966.0</td>\n",
       "      <td>1.344333</td>\n",
       "      <td>0.942612</td>\n",
       "      <td>1.415212</td>\n",
       "      <td>-0.324343</td>\n",
       "      <td>-0.123827</td>\n",
       "      <td>-0.12431</td>\n",
       "      <td>44.297636</td>\n",
       "    </tr>\n",
       "    <tr>\n",
       "      <th>2</th>\n",
       "      <td>94001</td>\n",
       "      <td>گریه کن سرزمین محبوب من</td>\n",
       "      <td>Cry my beloved land</td>\n",
       "      <td>80000</td>\n",
       "      <td>NaN</td>\n",
       "      <td>1.344333</td>\n",
       "      <td>0.942612</td>\n",
       "      <td>0.004319</td>\n",
       "      <td>-0.324343</td>\n",
       "      <td>-0.123827</td>\n",
       "      <td>-0.12431</td>\n",
       "      <td>37.243171</td>\n",
       "    </tr>\n",
       "    <tr>\n",
       "      <th>3</th>\n",
       "      <td>64403</td>\n",
       "      <td>کارگاه ها</td>\n",
       "      <td>Atelieres</td>\n",
       "      <td>240000</td>\n",
       "      <td>1996.0</td>\n",
       "      <td>0.083516</td>\n",
       "      <td>0.942612</td>\n",
       "      <td>1.415212</td>\n",
       "      <td>3.083156</td>\n",
       "      <td>-0.123827</td>\n",
       "      <td>-0.12431</td>\n",
       "      <td>55.031047</td>\n",
       "    </tr>\n",
       "    <tr>\n",
       "      <th>4</th>\n",
       "      <td>73920</td>\n",
       "      <td>چگونه ایمیل های موثر تهیه کنیم</td>\n",
       "      <td>Writing Effective E-Mail</td>\n",
       "      <td>49900</td>\n",
       "      <td>1998.0</td>\n",
       "      <td>-1.177300</td>\n",
       "      <td>-1.028753</td>\n",
       "      <td>0.004319</td>\n",
       "      <td>-0.324343</td>\n",
       "      <td>1.011148</td>\n",
       "      <td>-0.12431</td>\n",
       "      <td>-28.115152</td>\n",
       "    </tr>\n",
       "  </tbody>\n",
       "</table>\n",
       "</div>"
      ],
      "text/plain": [
       "     code                   title_persian              title_english   price  \\\n",
       "0  115704                 خداحافظ گل سوری             Selected poems   73000   \n",
       "1   32523                    الفاظ و اشیا        The Order of Things  440000   \n",
       "2   94001         گریه کن سرزمین محبوب من        Cry my beloved land   80000   \n",
       "3   64403                       کارگاه ها                  Atelieres  240000   \n",
       "4   73920  چگونه ایمیل های موثر تهیه کنیم   Writing Effective E-Mail   49900   \n",
       "\n",
       "   release_year_mi  release_year_sh     grade  page_count     cover  \\\n",
       "0              NaN        -1.177300  0.942612    0.004319 -0.324343   \n",
       "1           1966.0         1.344333  0.942612    1.415212 -0.324343   \n",
       "2              NaN         1.344333  0.942612    0.004319 -0.324343   \n",
       "3           1996.0         0.083516  0.942612    1.415212  3.083156   \n",
       "4           1998.0        -1.177300 -1.028753    0.004319 -0.324343   \n",
       "\n",
       "   num_of_award_tags  num_of_list_tags   metric_2  \n",
       "0          -0.123827          -0.12431  24.635008  \n",
       "1          -0.123827          -0.12431  44.297636  \n",
       "2          -0.123827          -0.12431  37.243171  \n",
       "3          -0.123827          -0.12431  55.031047  \n",
       "4           1.011148          -0.12431 -28.115152  "
      ]
     },
     "execution_count": 13,
     "metadata": {},
     "output_type": "execute_result"
    }
   ],
   "source": [
    "# Compute the final metric for each book\n",
    "\n",
    "df2[\"metric_2\"] = (\n",
    "    w1 * df2[\"grade\"]\n",
    "    + w2 * df2[\"cover\"]\n",
    "    + w3 * df2[\"page_count\"]\n",
    "    + w4 * df2[\"release_year_sh\"]\n",
    "    + w5 * df2[\"num_of_award_tags\"]\n",
    "    + w6 * df2[\"num_of_list_tags\"]\n",
    ")\n",
    "\n",
    "df2.head()"
   ]
  },
  {
   "cell_type": "code",
   "execution_count": 14,
   "metadata": {},
   "outputs": [
    {
     "name": "stdout",
     "output_type": "stream",
     "text": [
      "Best recommended books are: \n"
     ]
    },
    {
     "data": {
      "text/html": [
       "<div>\n",
       "<style scoped>\n",
       "    .dataframe tbody tr th:only-of-type {\n",
       "        vertical-align: middle;\n",
       "    }\n",
       "\n",
       "    .dataframe tbody tr th {\n",
       "        vertical-align: top;\n",
       "    }\n",
       "\n",
       "    .dataframe thead th {\n",
       "        text-align: right;\n",
       "    }\n",
       "</style>\n",
       "<table border=\"1\" class=\"dataframe\">\n",
       "  <thead>\n",
       "    <tr style=\"text-align: right;\">\n",
       "      <th></th>\n",
       "      <th>code</th>\n",
       "      <th>title_persian</th>\n",
       "      <th>title_english</th>\n",
       "      <th>price</th>\n",
       "      <th>release_year_mi</th>\n",
       "      <th>release_year_sh</th>\n",
       "      <th>grade</th>\n",
       "      <th>page_count</th>\n",
       "      <th>cover</th>\n",
       "      <th>num_of_award_tags</th>\n",
       "      <th>num_of_list_tags</th>\n",
       "      <th>metric_2</th>\n",
       "    </tr>\n",
       "  </thead>\n",
       "  <tbody>\n",
       "    <tr>\n",
       "      <th>25</th>\n",
       "      <td>19359</td>\n",
       "      <td>سوتیکده ی سعادت، پرشین فامیلز، دات کام</td>\n",
       "      <td>Soutikadeh</td>\n",
       "      <td>22000</td>\n",
       "      <td>NaN</td>\n",
       "      <td>0.083516</td>\n",
       "      <td>0.942612</td>\n",
       "      <td>0.004319</td>\n",
       "      <td>-0.324343</td>\n",
       "      <td>-0.123827</td>\n",
       "      <td>-0.124310</td>\n",
       "      <td>30.939089</td>\n",
       "    </tr>\n",
       "    <tr>\n",
       "      <th>60</th>\n",
       "      <td>25558</td>\n",
       "      <td>ساعت 25/اشخاص</td>\n",
       "      <td>Saat</td>\n",
       "      <td>15000</td>\n",
       "      <td>NaN</td>\n",
       "      <td>0.083516</td>\n",
       "      <td>0.942612</td>\n",
       "      <td>0.004319</td>\n",
       "      <td>-0.324343</td>\n",
       "      <td>-0.123827</td>\n",
       "      <td>-0.124310</td>\n",
       "      <td>30.939089</td>\n",
       "    </tr>\n",
       "    <tr>\n",
       "      <th>124</th>\n",
       "      <td>3511</td>\n",
       "      <td>پیراهن ابریشمی سبز رنگ</td>\n",
       "      <td>Collected Short Stories</td>\n",
       "      <td>5000</td>\n",
       "      <td>2007.0</td>\n",
       "      <td>-1.177300</td>\n",
       "      <td>0.942612</td>\n",
       "      <td>-1.406573</td>\n",
       "      <td>-0.324343</td>\n",
       "      <td>1.011148</td>\n",
       "      <td>-0.124310</td>\n",
       "      <td>43.684966</td>\n",
       "    </tr>\n",
       "    <tr>\n",
       "      <th>180</th>\n",
       "      <td>20520</td>\n",
       "      <td>نفرتی که می کاری</td>\n",
       "      <td>The Hate U Give</td>\n",
       "      <td>24000</td>\n",
       "      <td>2017.0</td>\n",
       "      <td>0.083516</td>\n",
       "      <td>0.942612</td>\n",
       "      <td>0.004319</td>\n",
       "      <td>-0.324343</td>\n",
       "      <td>13.495872</td>\n",
       "      <td>0.933558</td>\n",
       "      <td>367.465272</td>\n",
       "    </tr>\n",
       "    <tr>\n",
       "      <th>187</th>\n",
       "      <td>8967</td>\n",
       "      <td>اورازان</td>\n",
       "      <td>Orazan</td>\n",
       "      <td>10000</td>\n",
       "      <td>1978.0</td>\n",
       "      <td>0.083516</td>\n",
       "      <td>0.942612</td>\n",
       "      <td>0.004319</td>\n",
       "      <td>-0.324343</td>\n",
       "      <td>-0.123827</td>\n",
       "      <td>-0.124310</td>\n",
       "      <td>30.939089</td>\n",
       "    </tr>\n",
       "    <tr>\n",
       "      <th>...</th>\n",
       "      <td>...</td>\n",
       "      <td>...</td>\n",
       "      <td>...</td>\n",
       "      <td>...</td>\n",
       "      <td>...</td>\n",
       "      <td>...</td>\n",
       "      <td>...</td>\n",
       "      <td>...</td>\n",
       "      <td>...</td>\n",
       "      <td>...</td>\n",
       "      <td>...</td>\n",
       "      <td>...</td>\n",
       "    </tr>\n",
       "    <tr>\n",
       "      <th>3370</th>\n",
       "      <td>47010</td>\n",
       "      <td>مقدمه ای بر مطالعات علم و تکنولوژی</td>\n",
       "      <td>An Introduction to Science and Technology Stu...</td>\n",
       "      <td>17000</td>\n",
       "      <td>2003.0</td>\n",
       "      <td>-1.177300</td>\n",
       "      <td>0.942612</td>\n",
       "      <td>1.415212</td>\n",
       "      <td>-0.324343</td>\n",
       "      <td>-0.123827</td>\n",
       "      <td>-0.124310</td>\n",
       "      <td>31.689472</td>\n",
       "    </tr>\n",
       "    <tr>\n",
       "      <th>3394</th>\n",
       "      <td>94952</td>\n",
       "      <td>مکانیک کوانتومی _ جلد 1</td>\n",
       "      <td>Introductory Quantum Mechanics</td>\n",
       "      <td>25000</td>\n",
       "      <td>1980.0</td>\n",
       "      <td>-1.177300</td>\n",
       "      <td>0.942612</td>\n",
       "      <td>1.415212</td>\n",
       "      <td>-0.324343</td>\n",
       "      <td>-0.123827</td>\n",
       "      <td>-0.124310</td>\n",
       "      <td>31.689472</td>\n",
       "    </tr>\n",
       "    <tr>\n",
       "      <th>3406</th>\n",
       "      <td>51733</td>\n",
       "      <td>راهنمای سیستم تجارت جهانی</td>\n",
       "      <td>Business Guide to the World Trading System</td>\n",
       "      <td>9500</td>\n",
       "      <td>1999.0</td>\n",
       "      <td>-1.177300</td>\n",
       "      <td>0.942612</td>\n",
       "      <td>1.415212</td>\n",
       "      <td>3.083156</td>\n",
       "      <td>-0.123827</td>\n",
       "      <td>-0.124310</td>\n",
       "      <td>48.726965</td>\n",
       "    </tr>\n",
       "    <tr>\n",
       "      <th>3436</th>\n",
       "      <td>41256</td>\n",
       "      <td>سرچشمه های آفتاب</td>\n",
       "      <td>Sar cheshmeh-haye Aftab</td>\n",
       "      <td>15000</td>\n",
       "      <td>NaN</td>\n",
       "      <td>-1.177300</td>\n",
       "      <td>0.942612</td>\n",
       "      <td>1.415212</td>\n",
       "      <td>-0.324343</td>\n",
       "      <td>-0.123827</td>\n",
       "      <td>-0.124310</td>\n",
       "      <td>31.689472</td>\n",
       "    </tr>\n",
       "    <tr>\n",
       "      <th>3516</th>\n",
       "      <td>119656</td>\n",
       "      <td>پادشاهی زیر زمین</td>\n",
       "      <td>Underground kingdom</td>\n",
       "      <td>20000</td>\n",
       "      <td>1983.0</td>\n",
       "      <td>0.083516</td>\n",
       "      <td>0.942612</td>\n",
       "      <td>0.004319</td>\n",
       "      <td>-0.324343</td>\n",
       "      <td>-0.123827</td>\n",
       "      <td>-0.124310</td>\n",
       "      <td>30.939089</td>\n",
       "    </tr>\n",
       "  </tbody>\n",
       "</table>\n",
       "<p>93 rows × 12 columns</p>\n",
       "</div>"
      ],
      "text/plain": [
       "        code                           title_persian  \\\n",
       "25     19359  سوتیکده ی سعادت، پرشین فامیلز، دات کام   \n",
       "60     25558                           ساعت 25/اشخاص   \n",
       "124     3511                  پیراهن ابریشمی سبز رنگ   \n",
       "180    20520                        نفرتی که می کاری   \n",
       "187     8967                                 اورازان   \n",
       "...      ...                                     ...   \n",
       "3370   47010      مقدمه ای بر مطالعات علم و تکنولوژی   \n",
       "3394   94952                 مکانیک کوانتومی _ جلد 1   \n",
       "3406   51733               راهنمای سیستم تجارت جهانی   \n",
       "3436   41256                        سرچشمه های آفتاب   \n",
       "3516  119656                        پادشاهی زیر زمین   \n",
       "\n",
       "                                          title_english  price  \\\n",
       "25                                           Soutikadeh  22000   \n",
       "60                                                 Saat  15000   \n",
       "124                             Collected Short Stories   5000   \n",
       "180                                     The Hate U Give  24000   \n",
       "187                                              Orazan  10000   \n",
       "...                                                 ...    ...   \n",
       "3370   An Introduction to Science and Technology Stu...  17000   \n",
       "3394                     Introductory Quantum Mechanics  25000   \n",
       "3406         Business Guide to the World Trading System   9500   \n",
       "3436                            Sar cheshmeh-haye Aftab  15000   \n",
       "3516                                Underground kingdom  20000   \n",
       "\n",
       "      release_year_mi  release_year_sh     grade  page_count     cover  \\\n",
       "25                NaN         0.083516  0.942612    0.004319 -0.324343   \n",
       "60                NaN         0.083516  0.942612    0.004319 -0.324343   \n",
       "124            2007.0        -1.177300  0.942612   -1.406573 -0.324343   \n",
       "180            2017.0         0.083516  0.942612    0.004319 -0.324343   \n",
       "187            1978.0         0.083516  0.942612    0.004319 -0.324343   \n",
       "...               ...              ...       ...         ...       ...   \n",
       "3370           2003.0        -1.177300  0.942612    1.415212 -0.324343   \n",
       "3394           1980.0        -1.177300  0.942612    1.415212 -0.324343   \n",
       "3406           1999.0        -1.177300  0.942612    1.415212  3.083156   \n",
       "3436              NaN        -1.177300  0.942612    1.415212 -0.324343   \n",
       "3516           1983.0         0.083516  0.942612    0.004319 -0.324343   \n",
       "\n",
       "      num_of_award_tags  num_of_list_tags    metric_2  \n",
       "25            -0.123827         -0.124310   30.939089  \n",
       "60            -0.123827         -0.124310   30.939089  \n",
       "124            1.011148         -0.124310   43.684966  \n",
       "180           13.495872          0.933558  367.465272  \n",
       "187           -0.123827         -0.124310   30.939089  \n",
       "...                 ...               ...         ...  \n",
       "3370          -0.123827         -0.124310   31.689472  \n",
       "3394          -0.123827         -0.124310   31.689472  \n",
       "3406          -0.123827         -0.124310   48.726965  \n",
       "3436          -0.123827         -0.124310   31.689472  \n",
       "3516          -0.123827         -0.124310   30.939089  \n",
       "\n",
       "[93 rows x 12 columns]"
      ]
     },
     "metadata": {},
     "output_type": "display_data"
    }
   ],
   "source": [
    "# Filter books based on the criteria:\n",
    "# top quality (based on the final metric) and bottom 20% prices\n",
    "\n",
    "threshold_price = df2[\"price\"].quantile(0.2)\n",
    "threshold_metric = df2[\"metric_2\"].quantile(0.75)\n",
    "\n",
    "recommended_books = df2[\n",
    "    (df2[\"price\"] <= threshold_price) & (df2[\"metric_2\"] >= threshold_metric)\n",
    "]\n",
    "\n",
    "print(f\"Best recommended books are: \")\n",
    "display(recommended_books)"
   ]
  },
  {
   "cell_type": "markdown",
   "metadata": {},
   "source": [
    "------------------------------------------------"
   ]
  },
  {
   "cell_type": "markdown",
   "metadata": {},
   "source": [
    "## 3. Author's Order\n",
    "### “Top Five Historical Book Publishers”"
   ]
  },
  {
   "cell_type": "code",
   "execution_count": 15,
   "metadata": {},
   "outputs": [
    {
     "name": "stderr",
     "output_type": "stream",
     "text": [
      "/Users/kvmmn/Desktop/data_summit/quda/quda_projects/Book-Store/kaveh_analysis/required_dataframes.py:147: UserWarning: pandas only supports SQLAlchemy connectable (engine/connection) or database string URI or sqlite3 DBAPI2 connection. Other DBAPI2 objects are not tested. Please consider using SQLAlchemy.\n",
      "  return pd.read_sql(query, conn)\n"
     ]
    },
    {
     "data": {
      "text/html": [
       "<div>\n",
       "<style scoped>\n",
       "    .dataframe tbody tr th:only-of-type {\n",
       "        vertical-align: middle;\n",
       "    }\n",
       "\n",
       "    .dataframe tbody tr th {\n",
       "        vertical-align: top;\n",
       "    }\n",
       "\n",
       "    .dataframe thead th {\n",
       "        text-align: right;\n",
       "    }\n",
       "</style>\n",
       "<table border=\"1\" class=\"dataframe\">\n",
       "  <thead>\n",
       "    <tr style=\"text-align: right;\">\n",
       "      <th></th>\n",
       "      <th>name</th>\n",
       "      <th>num_of_historic_books</th>\n",
       "      <th>avg_grade</th>\n",
       "      <th>num_of_award_tags</th>\n",
       "      <th>num_of_list_tags</th>\n",
       "    </tr>\n",
       "  </thead>\n",
       "  <tbody>\n",
       "    <tr>\n",
       "      <th>0</th>\n",
       "      <td>افق</td>\n",
       "      <td>187</td>\n",
       "      <td>3.5936</td>\n",
       "      <td>NaN</td>\n",
       "      <td>589.0</td>\n",
       "    </tr>\n",
       "    <tr>\n",
       "      <th>1</th>\n",
       "      <td>علم</td>\n",
       "      <td>56</td>\n",
       "      <td>3.3393</td>\n",
       "      <td>NaN</td>\n",
       "      <td>1.0</td>\n",
       "    </tr>\n",
       "    <tr>\n",
       "      <th>2</th>\n",
       "      <td>امیرکبیر</td>\n",
       "      <td>54</td>\n",
       "      <td>3.5556</td>\n",
       "      <td>NaN</td>\n",
       "      <td>242.0</td>\n",
       "    </tr>\n",
       "    <tr>\n",
       "      <th>3</th>\n",
       "      <td>محراب قلم</td>\n",
       "      <td>53</td>\n",
       "      <td>3.3774</td>\n",
       "      <td>NaN</td>\n",
       "      <td>269.0</td>\n",
       "    </tr>\n",
       "    <tr>\n",
       "      <th>4</th>\n",
       "      <td>نشر کتاب پارسه</td>\n",
       "      <td>48</td>\n",
       "      <td>3.0625</td>\n",
       "      <td>NaN</td>\n",
       "      <td>242.0</td>\n",
       "    </tr>\n",
       "  </tbody>\n",
       "</table>\n",
       "</div>"
      ],
      "text/plain": [
       "             name  num_of_historic_books  avg_grade  num_of_award_tags  \\\n",
       "0             افق                    187     3.5936                NaN   \n",
       "1             علم                     56     3.3393                NaN   \n",
       "2        امیرکبیر                     54     3.5556                NaN   \n",
       "3       محراب قلم                     53     3.3774                NaN   \n",
       "4  نشر کتاب پارسه                     48     3.0625                NaN   \n",
       "\n",
       "   num_of_list_tags  \n",
       "0             589.0  \n",
       "1               1.0  \n",
       "2             242.0  \n",
       "3             269.0  \n",
       "4             242.0  "
      ]
     },
     "execution_count": 15,
     "metadata": {},
     "output_type": "execute_result"
    }
   ],
   "source": [
    "df3 = rd.request_three()\n",
    "df3.head()"
   ]
  },
  {
   "cell_type": "code",
   "execution_count": 16,
   "metadata": {},
   "outputs": [
    {
     "data": {
      "text/plain": [
       "name                     0\n",
       "num_of_historic_books    0\n",
       "avg_grade                0\n",
       "num_of_award_tags        0\n",
       "num_of_list_tags         0\n",
       "dtype: int64"
      ]
     },
     "execution_count": 16,
     "metadata": {},
     "output_type": "execute_result"
    }
   ],
   "source": [
    "# Handle missing values: Null -> 0\n",
    "\n",
    "df3 = df3.fillna(0)\n",
    "\n",
    "df3.isnull().sum()"
   ]
  },
  {
   "cell_type": "code",
   "execution_count": 17,
   "metadata": {},
   "outputs": [
    {
     "data": {
      "text/html": [
       "<div>\n",
       "<style scoped>\n",
       "    .dataframe tbody tr th:only-of-type {\n",
       "        vertical-align: middle;\n",
       "    }\n",
       "\n",
       "    .dataframe tbody tr th {\n",
       "        vertical-align: top;\n",
       "    }\n",
       "\n",
       "    .dataframe thead th {\n",
       "        text-align: right;\n",
       "    }\n",
       "</style>\n",
       "<table border=\"1\" class=\"dataframe\">\n",
       "  <thead>\n",
       "    <tr style=\"text-align: right;\">\n",
       "      <th></th>\n",
       "      <th>name</th>\n",
       "      <th>num_of_historic_books</th>\n",
       "      <th>avg_grade</th>\n",
       "      <th>num_of_award_tags</th>\n",
       "      <th>num_of_list_tags</th>\n",
       "      <th>num_of_romance_books</th>\n",
       "      <th>num_of_awards_tags</th>\n",
       "    </tr>\n",
       "  </thead>\n",
       "  <tbody>\n",
       "    <tr>\n",
       "      <th>0</th>\n",
       "      <td>افق</td>\n",
       "      <td>187</td>\n",
       "      <td>1.29680</td>\n",
       "      <td>0.0</td>\n",
       "      <td>2.000000</td>\n",
       "      <td>2.000000</td>\n",
       "      <td>1.0</td>\n",
       "    </tr>\n",
       "    <tr>\n",
       "      <th>1</th>\n",
       "      <td>علم</td>\n",
       "      <td>56</td>\n",
       "      <td>1.16965</td>\n",
       "      <td>0.0</td>\n",
       "      <td>1.001698</td>\n",
       "      <td>1.295699</td>\n",
       "      <td>1.0</td>\n",
       "    </tr>\n",
       "    <tr>\n",
       "      <th>2</th>\n",
       "      <td>امیرکبیر</td>\n",
       "      <td>54</td>\n",
       "      <td>1.27780</td>\n",
       "      <td>0.0</td>\n",
       "      <td>1.410866</td>\n",
       "      <td>1.284946</td>\n",
       "      <td>1.0</td>\n",
       "    </tr>\n",
       "    <tr>\n",
       "      <th>3</th>\n",
       "      <td>محراب قلم</td>\n",
       "      <td>53</td>\n",
       "      <td>1.18870</td>\n",
       "      <td>0.0</td>\n",
       "      <td>1.456706</td>\n",
       "      <td>1.279570</td>\n",
       "      <td>1.0</td>\n",
       "    </tr>\n",
       "    <tr>\n",
       "      <th>4</th>\n",
       "      <td>نشر کتاب پارسه</td>\n",
       "      <td>48</td>\n",
       "      <td>1.03125</td>\n",
       "      <td>0.0</td>\n",
       "      <td>1.410866</td>\n",
       "      <td>1.252688</td>\n",
       "      <td>1.0</td>\n",
       "    </tr>\n",
       "  </tbody>\n",
       "</table>\n",
       "</div>"
      ],
      "text/plain": [
       "             name  num_of_historic_books  avg_grade  num_of_award_tags  \\\n",
       "0             افق                    187    1.29680                0.0   \n",
       "1             علم                     56    1.16965                0.0   \n",
       "2        امیرکبیر                     54    1.27780                0.0   \n",
       "3       محراب قلم                     53    1.18870                0.0   \n",
       "4  نشر کتاب پارسه                     48    1.03125                0.0   \n",
       "\n",
       "   num_of_list_tags  num_of_romance_books  num_of_awards_tags  \n",
       "0          2.000000              2.000000                 1.0  \n",
       "1          1.001698              1.295699                 1.0  \n",
       "2          1.410866              1.284946                 1.0  \n",
       "3          1.456706              1.279570                 1.0  \n",
       "4          1.410866              1.252688                 1.0  "
      ]
     },
     "execution_count": 17,
     "metadata": {},
     "output_type": "execute_result"
    }
   ],
   "source": [
    "# Normalize numerical values to the range (1, 2)\n",
    "\n",
    "cols_to_scale_3 = [\n",
    "    \"num_of_historic_books\",\n",
    "    \"avg_grade\",\n",
    "    \"num_of_award_tags\",\n",
    "    \"num_of_list_tags\",\n",
    "]\n",
    "min_max_scaler = MinMaxScaler(feature_range=(1, 2))\n",
    "df3[cols_to_scale] = min_max_scaler.fit_transform(df3[cols_to_scale_3])\n",
    "\n",
    "df3.head()"
   ]
  },
  {
   "cell_type": "markdown",
   "metadata": {},
   "source": [
    "### Metric for Author's order\n",
    "metric_3 = f1 × f2<sup>2</sup> × f3<sup>3</sup> × f4 <br><br>\n",
    "f1 = Number of Historical Books By Publisher <br>\n",
    "f2 = Average Rating of Publisher's Historical Books <br>\n",
    "f3 = Number of Awards For Publisher's Historical Books <br>\n",
    "f4 = Number of Listings For Publisher's Historical Books"
   ]
  },
  {
   "cell_type": "code",
   "execution_count": 18,
   "metadata": {},
   "outputs": [
    {
     "name": "stdout",
     "output_type": "stream",
     "text": [
      "Top 5 publishers are: \n"
     ]
    },
    {
     "data": {
      "text/html": [
       "<div>\n",
       "<style scoped>\n",
       "    .dataframe tbody tr th:only-of-type {\n",
       "        vertical-align: middle;\n",
       "    }\n",
       "\n",
       "    .dataframe tbody tr th {\n",
       "        vertical-align: top;\n",
       "    }\n",
       "\n",
       "    .dataframe thead th {\n",
       "        text-align: right;\n",
       "    }\n",
       "</style>\n",
       "<table border=\"1\" class=\"dataframe\">\n",
       "  <thead>\n",
       "    <tr style=\"text-align: right;\">\n",
       "      <th></th>\n",
       "      <th>name</th>\n",
       "      <th>metric_3</th>\n",
       "    </tr>\n",
       "  </thead>\n",
       "  <tbody>\n",
       "    <tr>\n",
       "      <th>7</th>\n",
       "      <td>نگاه</td>\n",
       "      <td>7137.93</td>\n",
       "    </tr>\n",
       "    <tr>\n",
       "      <th>9</th>\n",
       "      <td>دنیای نو</td>\n",
       "      <td>5575.02</td>\n",
       "    </tr>\n",
       "    <tr>\n",
       "      <th>5</th>\n",
       "      <td>دبیر</td>\n",
       "      <td>5386.43</td>\n",
       "    </tr>\n",
       "    <tr>\n",
       "      <th>48</th>\n",
       "      <td>پرتقال</td>\n",
       "      <td>55.02</td>\n",
       "    </tr>\n",
       "    <tr>\n",
       "      <th>83</th>\n",
       "      <td>مشکی</td>\n",
       "      <td>8.00</td>\n",
       "    </tr>\n",
       "  </tbody>\n",
       "</table>\n",
       "</div>"
      ],
      "text/plain": [
       "        name  metric_3\n",
       "7       نگاه   7137.93\n",
       "9   دنیای نو   5575.02\n",
       "5       دبیر   5386.43\n",
       "48    پرتقال     55.02\n",
       "83      مشکی      8.00"
      ]
     },
     "metadata": {},
     "output_type": "display_data"
    }
   ],
   "source": [
    "# Compute the final metric for each publisher\n",
    "# Approach:\n",
    "#   Very strong Rating effect\n",
    "#   Strong number of books effect\n",
    "\n",
    "df3[\"metric_3\"] = round(\n",
    "    df3[\"num_of_historic_books\"] ** 2\n",
    "    * df3[\"avg_grade\"] ** 3\n",
    "    * df3[\"num_of_award_tags\"]\n",
    "    * df3[\"num_of_list_tags\"],\n",
    "    2,\n",
    ")\n",
    "\n",
    "top_publishers = (\n",
    "    df3[[\"name\", \"metric_3\"]].sort_values(by=\"metric_3\", ascending=False).head(5)\n",
    ")\n",
    "\n",
    "print(f\"Top 5 publishers are: \")\n",
    "display(top_publishers)"
   ]
  },
  {
   "cell_type": "markdown",
   "metadata": {},
   "source": [
    "------------------------------------------------"
   ]
  },
  {
   "cell_type": "markdown",
   "metadata": {},
   "source": [
    "## 4. Hypothesis #1\n",
    "### “Translation has a significant impact on the book’s price.”"
   ]
  },
  {
   "cell_type": "code",
   "execution_count": 19,
   "metadata": {},
   "outputs": [
    {
     "name": "stderr",
     "output_type": "stream",
     "text": [
      "/Users/kvmmn/Desktop/data_summit/quda/quda_projects/Book-Store/kaveh_analysis/required_dataframes.py:162: UserWarning: pandas only supports SQLAlchemy connectable (engine/connection) or database string URI or sqlite3 DBAPI2 connection. Other DBAPI2 objects are not tested. Please consider using SQLAlchemy.\n",
      "  not_translated_df = pd.read_sql(query, conn)\n",
      "/Users/kvmmn/Desktop/data_summit/quda/quda_projects/Book-Store/kaveh_analysis/required_dataframes.py:174: UserWarning: pandas only supports SQLAlchemy connectable (engine/connection) or database string URI or sqlite3 DBAPI2 connection. Other DBAPI2 objects are not tested. Please consider using SQLAlchemy.\n",
      "  translated_df = pd.read_sql(query, conn)\n"
     ]
    },
    {
     "data": {
      "text/plain": [
       "(     code     price\n",
       " 0   46582  10000000\n",
       " 1   92256   3750000\n",
       " 2   34715   3000000\n",
       " 3  109701   2400000\n",
       " 4   56132   2000000,\n",
       "     code    price\n",
       " 0  20194  2200000\n",
       " 1  23932  1090000\n",
       " 2  84216   980000\n",
       " 3  33126   970000\n",
       " 4  29508   950000)"
      ]
     },
     "execution_count": 19,
     "metadata": {},
     "output_type": "execute_result"
    }
   ],
   "source": [
    "df_translated, df_not_translated = rd.hypothesis_one()\n",
    "\n",
    "df_translated.head(), df_not_translated.head()"
   ]
  },
  {
   "cell_type": "code",
   "execution_count": 20,
   "metadata": {},
   "outputs": [
    {
     "data": {
      "text/plain": [
       "<Axes: ylabel='price'>"
      ]
     },
     "execution_count": 20,
     "metadata": {},
     "output_type": "execute_result"
    },
    {
     "data": {
      "image/png": "[encoded data removed]",
      "text/plain": [
       "<Figure size 1000x500 with 2 Axes>"
      ]
     },
     "metadata": {},
     "output_type": "display_data"
    }
   ],
   "source": [
    "fig, axes = plt.subplots(nrows=1, ncols=2, figsize=(10, 5))\n",
    "sns.boxplot(y=\"price\", data=df_translated, ax=axes[0], color=\"blue\")\n",
    "sns.boxplot(y=\"price\", data=df_not_translated, ax=axes[1], color=\"red\")"
   ]
  },
  {
   "cell_type": "code",
   "execution_count": 21,
   "metadata": {},
   "outputs": [],
   "source": [
    "def remove_outliers(df, column_name=\"price\", threshold=0.95):\n",
    "    Q1 = df[column_name].quantile(1 - threshold)\n",
    "    Q3 = df[column_name].quantile(threshold)\n",
    "    IQR = Q3 - Q1\n",
    "\n",
    "    # lower_bound = Q1 - 1.5 * IQR\n",
    "    upper_bound = Q3 + 1.5 * IQR\n",
    "\n",
    "    filtered_df = df[(df[column_name] <= upper_bound)]\n",
    "\n",
    "    return filtered_df"
   ]
  },
  {
   "cell_type": "code",
   "execution_count": 22,
   "metadata": {},
   "outputs": [],
   "source": [
    "outlier_removal_1 = False\n",
    "\n",
    "# True for Threshold %95\n",
    "# False for Threshold %75\n",
    "outlier_threshold_1 = False"
   ]
  },
  {
   "cell_type": "markdown",
   "metadata": {},
   "source": []
  },
  {
   "cell_type": "code",
   "execution_count": 23,
   "metadata": {},
   "outputs": [],
   "source": [
    "if outlier_removal_1:\n",
    "    if outlier_threshold_1:\n",
    "        df_tr = remove_outliers(df_translated, threshold=0.95)\n",
    "        df_ntr = remove_outliers(df_not_translated, threshold=0.95)\n",
    "    else:\n",
    "        df_tr = remove_outliers(df_translated, threshold=0.75)\n",
    "        df_ntr = remove_outliers(df_not_translated, threshold=0.75)\n",
    "else:\n",
    "    df_tr = df_translated\n",
    "    df_ntr = df_not_translated"
   ]
  },
  {
   "cell_type": "code",
   "execution_count": 24,
   "metadata": {},
   "outputs": [],
   "source": [
    "def create_double_histogram(df1, df2, df1_label, df2_label, title, column_name=\"price\"):\n",
    "    mean_1 = df1[column_name].mean()\n",
    "    mean_2 = df2[column_name].mean()\n",
    "\n",
    "    plt.figure(figsize=(7, 5))\n",
    "    sns.histplot(data=df1, x=column_name, color=\"blue\", kde=True, label=df1_label)\n",
    "    sns.histplot(data=df2, x=column_name, color=\"red\", kde=True, label=df2_label)\n",
    "\n",
    "    mean_text_y = plt.ylim()[1] / 2\n",
    "\n",
    "    plt.axvline(mean_1, color=\"blue\", linestyle=\"--\")\n",
    "    plt.text(mean_1, mean_text_y, f\"{mean_1:,.2}\", rotation=0, color=\"blue\")\n",
    "\n",
    "    plt.axvline(mean_2, color=\"red\", linestyle=\"--\")\n",
    "    plt.text(mean_2, mean_text_y + 20, f\"{mean_2:,.2}\", rotation=0, color=\"red\")\n",
    "\n",
    "    plt.title(title, loc=\"center\")\n",
    "    plt.legend()\n",
    "    plt.tight_layout()\n",
    "    plt.show()"
   ]
  },
  {
   "cell_type": "code",
   "execution_count": 25,
   "metadata": {},
   "outputs": [
    {
     "data": {
      "image/png": "[encoded data removed]",
      "text/plain": [
       "<Figure size 700x500 with 1 Axes>"
      ]
     },
     "metadata": {},
     "output_type": "display_data"
    }
   ],
   "source": [
    "create_double_histogram(\n",
    "    df_tr,\n",
    "    df_ntr,\n",
    "    \"Translated\",\n",
    "    \"Not Translated\",\n",
    "    title=\"Price Distribution for translated and not translated books\",\n",
    ")"
   ]
  },
  {
   "cell_type": "code",
   "execution_count": 26,
   "metadata": {},
   "outputs": [
    {
     "name": "stdout",
     "output_type": "stream",
     "text": [
      "Skewness for translated books: 22.50\n",
      "Skewness for not-translated books: 4.55\n"
     ]
    }
   ],
   "source": [
    "# Measure skewness for both groups\n",
    "\n",
    "skewness_translated = df_tr[\"price\"].skew()\n",
    "skewness_not_translated = df_ntr[\"price\"].skew()\n",
    "\n",
    "print(f\"Skewness for translated books: {skewness_translated:,.2f}\")\n",
    "print(f\"Skewness for not-translated books: {skewness_not_translated:,.2f}\")"
   ]
  },
  {
   "cell_type": "markdown",
   "metadata": {},
   "source": [
    "> Both are right-skewed <br>\n",
    "> \\> We will go on applying **BOXCOX** transformation <br>\n",
    ">   Box-Cox was chosen because it can stabilize variance and transform data towards normality, optimizing the transformation based on the data itself."
   ]
  },
  {
   "cell_type": "code",
   "execution_count": 27,
   "metadata": {},
   "outputs": [
    {
     "name": "stdout",
     "output_type": "stream",
     "text": [
      "Skewness for translated books after boxcox transform: 0.02\n",
      "Skewness for not-translated books after boxcox transform: -0.01\n"
     ]
    },
    {
     "data": {
      "image/png": "[encoded data removed]",
      "text/plain": [
       "<Figure size 700x500 with 1 Axes>"
      ]
     },
     "metadata": {},
     "output_type": "display_data"
    }
   ],
   "source": [
    "skewed = True\n",
    "\n",
    "if skewed:\n",
    "    # Apply BOXCOX transformation for both groups\n",
    "    df_tr[\"price\"], _ = boxcox(df_tr[\"price\"])\n",
    "    df_ntr[\"price\"], _ = boxcox(df_ntr[\"price\"])\n",
    "\n",
    "    skewness_translated = df_tr[\"price\"].skew()\n",
    "    skewness_not_translated = df_ntr[\"price\"].skew()\n",
    "\n",
    "    print(\n",
    "        f\"Skewness for translated books after boxcox transform: {skewness_translated:,.2f}\"\n",
    "    )\n",
    "    print(\n",
    "        f\"Skewness for not-translated books after boxcox transform: {skewness_not_translated:,.2f}\"\n",
    "    )\n",
    "\n",
    "    create_double_histogram(\n",
    "        df_tr,\n",
    "        df_ntr,\n",
    "        \"Translated\",\n",
    "        \"Not Translated\",\n",
    "        title=\"Price Distribution for translated and not translated books applied boxcox transform\",\n",
    "        column_name=\"price\",\n",
    "    )"
   ]
  },
  {
   "cell_type": "code",
   "execution_count": 28,
   "metadata": {},
   "outputs": [
    {
     "name": "stdout",
     "output_type": "stream",
     "text": [
      "T-statistic: -0.28982\n",
      "P-value: 0.77197\n"
     ]
    }
   ],
   "source": [
    "# Perform independent two-sample t-test\n",
    "\n",
    "translated_prices = df_tr[\"price\"]\n",
    "not_translated_prices = df_ntr[\"price\"]\n",
    "\n",
    "t_stat, p_value = ttest_ind(translated_prices, not_translated_prices)\n",
    "\n",
    "print(f\"T-statistic: {t_stat:,.5f}\")\n",
    "print(f\"P-value: {p_value:,.5f}\")"
   ]
  },
  {
   "cell_type": "code",
   "execution_count": 29,
   "metadata": {},
   "outputs": [
    {
     "name": "stdout",
     "output_type": "stream",
     "text": [
      "               T          dof alternative     p-val         CI95%   cohen-d  \\\n",
      "T-test -0.288946  3928.005808   two-sided  0.772638  [-0.2, 0.15]  0.009085   \n",
      "\n",
      "         BF10     power  \n",
      "T-test  0.037  0.059672  \n"
     ]
    }
   ],
   "source": [
    "# Robust t-test\n",
    "result = pg.ttest(translated_prices, not_translated_prices, correction=True)\n",
    "\n",
    "print(result)"
   ]
  },
  {
   "cell_type": "markdown",
   "metadata": {},
   "source": [
    "> A  p-value of **0.000** indicates that the observed data is extremely inconsistent with the null hypothesis. <br>\n",
    "> This leads to the **REJECTION** of the null hypothesis in favor of the alternative hypothesis."
   ]
  },
  {
   "cell_type": "code",
   "execution_count": null,
   "metadata": {},
   "outputs": [],
   "source": []
  },
  {
   "cell_type": "markdown",
   "metadata": {},
   "source": [
    "------------------------------------------------"
   ]
  },
  {
   "cell_type": "markdown",
   "metadata": {},
   "source": [
    "## 5. Hypothesis #2\n",
    "### “There is a significant difference in prices between 'Hard' and ‘Shomiz’ book covers.”"
   ]
  },
  {
   "cell_type": "code",
   "execution_count": 30,
   "metadata": {},
   "outputs": [
    {
     "name": "stderr",
     "output_type": "stream",
     "text": [
      "/Users/kvmmn/Desktop/data_summit/quda/quda_projects/Book-Store/kaveh_analysis/required_dataframes.py:187: UserWarning: pandas only supports SQLAlchemy connectable (engine/connection) or database string URI or sqlite3 DBAPI2 connection. Other DBAPI2 objects are not tested. Please consider using SQLAlchemy.\n",
      "  hard_cover_df = pd.read_sql(query, conn)\n",
      "/Users/kvmmn/Desktop/data_summit/quda/quda_projects/Book-Store/kaveh_analysis/required_dataframes.py:195: UserWarning: pandas only supports SQLAlchemy connectable (engine/connection) or database string URI or sqlite3 DBAPI2 connection. Other DBAPI2 objects are not tested. Please consider using SQLAlchemy.\n",
      "  shomiz_cover_df = pd.read_sql(query, conn)\n"
     ]
    },
    {
     "data": {
      "text/plain": [
       "(     code    price   cover\n",
       " 0  109701  2400000  جلدسخت\n",
       " 1     812  1450000  جلدسخت\n",
       " 2  113018  1200000  جلدسخت\n",
       " 3   50294  1145000  جلدسخت\n",
       " 4   23932  1090000  جلدسخت,\n",
       "      code    price  cover\n",
       " 0   93520  1100000  شومیز\n",
       " 1   97187   950000  شومیز\n",
       " 2  113791   915000  شومیز\n",
       " 3   93963   850000  شومیز\n",
       " 4    6008   835000  شومیز)"
      ]
     },
     "execution_count": 30,
     "metadata": {},
     "output_type": "execute_result"
    }
   ],
   "source": [
    "df_hard, df_shomiz = rd.hypothesis_two()\n",
    "\n",
    "df_hard.head(), df_shomiz.head()"
   ]
  },
  {
   "cell_type": "code",
   "execution_count": 31,
   "metadata": {},
   "outputs": [
    {
     "data": {
      "text/plain": [
       "<Axes: ylabel='price'>"
      ]
     },
     "execution_count": 31,
     "metadata": {},
     "output_type": "execute_result"
    },
    {
     "data": {
      "image/png": "[encoded data removed]",
      "text/plain": [
       "<Figure size 1000x500 with 2 Axes>"
      ]
     },
     "metadata": {},
     "output_type": "display_data"
    }
   ],
   "source": [
    "fig, axes = plt.subplots(nrows=1, ncols=2, figsize=(10, 5))\n",
    "sns.boxplot(y=\"price\", data=df_hard, ax=axes[0], color=\"blue\")\n",
    "sns.boxplot(y=\"price\", data=df_shomiz, ax=axes[1], color=\"red\")"
   ]
  },
  {
   "cell_type": "code",
   "execution_count": 32,
   "metadata": {},
   "outputs": [],
   "source": [
    "outlier_removal_2 = True\n",
    "\n",
    "# True for Threshold %95\n",
    "# False for Threshold %75\n",
    "outlier_threshold_2 = False"
   ]
  },
  {
   "cell_type": "code",
   "execution_count": 33,
   "metadata": {},
   "outputs": [],
   "source": [
    "if outlier_removal_2:\n",
    "    if outlier_threshold_2:\n",
    "        df_hard = remove_outliers(df_hard, threshold=0.95)\n",
    "        df_shomiz = remove_outliers(df_shomiz, threshold=0.95)\n",
    "    else:\n",
    "        df_hard = remove_outliers(df_hard, threshold=0.75)\n",
    "        df_shomiz = remove_outliers(df_shomiz, threshold=0.75)\n",
    "else:\n",
    "    pass"
   ]
  },
  {
   "cell_type": "code",
   "execution_count": 34,
   "metadata": {},
   "outputs": [
    {
     "data": {
      "image/png": "[encoded data removed]",
      "text/plain": [
       "<Figure size 700x500 with 1 Axes>"
      ]
     },
     "metadata": {},
     "output_type": "display_data"
    }
   ],
   "source": [
    "create_double_histogram(\n",
    "    df_hard,\n",
    "    df_shomiz,\n",
    "    \"Hard Cover\",\n",
    "    \"Shomiz Cover\",\n",
    "    title=\"Price Distribution for Hard and Shomiz Cover Types\",\n",
    ")"
   ]
  },
  {
   "cell_type": "code",
   "execution_count": 35,
   "metadata": {},
   "outputs": [
    {
     "name": "stdout",
     "output_type": "stream",
     "text": [
      "Skewness for hard cover books: 1.11\n",
      "Skewness for shomiz cover books: 1.04\n"
     ]
    }
   ],
   "source": [
    "# Measure skewness for both groups\n",
    "\n",
    "skewness_hard = df_hard[\"price\"].skew()\n",
    "skewness_shomiz = df_shomiz[\"price\"].skew()\n",
    "\n",
    "print(f\"Skewness for hard cover books: {skewness_hard:,.2f}\")\n",
    "print(f\"Skewness for shomiz cover books: {skewness_shomiz:,.2f}\")"
   ]
  },
  {
   "cell_type": "markdown",
   "metadata": {},
   "source": [
    "> Both are right-skewed <br>\n",
    "> \\> We will go on applying **BOXCOX** transformation <br>\n",
    ">   Box-Cox was chosen because it can stabilize variance and transform data towards normality, optimizing the transformation based on the data itself."
   ]
  },
  {
   "cell_type": "code",
   "execution_count": 36,
   "metadata": {},
   "outputs": [
    {
     "name": "stdout",
     "output_type": "stream",
     "text": [
      "Skewness for translated books after boxcox transform: -0.10\n",
      "Skewness for not-translated books after boxcox transform: -0.07\n"
     ]
    },
    {
     "data": {
      "image/png": "[encoded data removed]",
      "text/plain": [
       "<Figure size 700x500 with 1 Axes>"
      ]
     },
     "metadata": {},
     "output_type": "display_data"
    }
   ],
   "source": [
    "skewed = True\n",
    "\n",
    "if skewed:\n",
    "    # Apply BOXCOX transformation for both groups\n",
    "    df_hard[\"price\"], _ = boxcox(df_hard[\"price\"])\n",
    "    df_shomiz[\"price\"], _ = boxcox(df_shomiz[\"price\"])\n",
    "\n",
    "    skewness_hard = df_hard[\"price\"].skew()\n",
    "    skewness_shomiz = df_shomiz[\"price\"].skew()\n",
    "\n",
    "    print(f\"Skewness for translated books after boxcox transform: {skewness_hard:,.2f}\")\n",
    "    print(\n",
    "        f\"Skewness for not-translated books after boxcox transform: {skewness_shomiz:,.2f}\"\n",
    "    )\n",
    "\n",
    "    create_double_histogram(\n",
    "        df_hard,\n",
    "        df_shomiz,\n",
    "        \"Hard Cover\",\n",
    "        \"Shomiz Cover\",\n",
    "        title=\"Price Distribution for Hard & Shomiz Cover After Boxcox Transformation\",\n",
    "        column_name=\"price\",\n",
    "    )"
   ]
  },
  {
   "cell_type": "code",
   "execution_count": 37,
   "metadata": {},
   "outputs": [
    {
     "name": "stdout",
     "output_type": "stream",
     "text": [
      "T-statistic: 93.75388\n",
      "P-value: 0.00000\n"
     ]
    }
   ],
   "source": [
    "# Perform independent two-sample t-test\n",
    "\n",
    "hard_prices = df_hard[\"price\"]\n",
    "shomiz_prices = df_shomiz[\"price\"]\n",
    "\n",
    "t_stat, p_value = ttest_ind(hard_prices, shomiz_prices)\n",
    "\n",
    "print(f\"T-statistic: {t_stat:,.5f}\")\n",
    "print(f\"P-value: {p_value:,.5f}\")"
   ]
  },
  {
   "cell_type": "code",
   "execution_count": 38,
   "metadata": {},
   "outputs": [
    {
     "name": "stdout",
     "output_type": "stream",
     "text": [
      "                T         dof alternative         p-val             CI95%  \\\n",
      "T-test  27.476228  176.654233   two-sided  1.100203e-65  [164.26, 189.68]   \n",
      "\n",
      "         cohen-d        BF10  power  \n",
      "T-test  7.191379  2.525e+149    1.0  \n"
     ]
    }
   ],
   "source": [
    "# Robust t-test\n",
    "result = pg.ttest(hard_prices, shomiz_prices, correction=True)\n",
    "\n",
    "print(result)"
   ]
  },
  {
   "cell_type": "markdown",
   "metadata": {},
   "source": [
    "> A  p-value of **0.000** indicates that the observed data is extremely inconsistent with the null hypothesis. <br>\n",
    "> This leads to the **REJECTION** of the null hypothesis in favor of the alternative hypothesis."
   ]
  },
  {
   "cell_type": "code",
   "execution_count": null,
   "metadata": {},
   "outputs": [],
   "source": []
  },
  {
   "cell_type": "markdown",
   "metadata": {},
   "source": [
    "## Hypothesis 2 :: Justification 1"
   ]
  },
  {
   "cell_type": "markdown",
   "metadata": {},
   "source": []
  },
  {
   "cell_type": "markdown",
   "metadata": {},
   "source": [
    "## Hypothesis 2 :: Justification 2"
   ]
  },
  {
   "cell_type": "markdown",
   "metadata": {},
   "source": []
  }
 ],
 "metadata": {
  "kernelspec": {
   "display_name": "qdaenv",
   "language": "python",
   "name": "python3"
  },
  "language_info": {
   "codemirror_mode": {
    "name": "ipython",
    "version": 3
   },
   "file_extension": ".py",
   "mimetype": "text/x-python",
   "name": "python",
   "nbconvert_exporter": "python",
   "pygments_lexer": "ipython3",
   "version": "3.11.3"
  },
  "orig_nbformat": 4
 },
 "nbformat": 4,
 "nbformat_minor": 2
}
