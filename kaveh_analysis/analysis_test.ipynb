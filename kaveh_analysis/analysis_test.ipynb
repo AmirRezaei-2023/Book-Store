{
 "cells": [
  {
   "cell_type": "markdown",
   "metadata": {},
   "source": [
    "# Analysis & Testing\n",
    "Client & Author's Orders + Hypothesis Testing"
   ]
  },
  {
   "cell_type": "code",
   "execution_count": 1,
   "metadata": {},
   "outputs": [],
   "source": [
    "import required_dataframes as rd\n",
    "import pandas as pd\n",
    "from sklearn.preprocessing import MinMaxScaler, StandardScaler\n",
    "import matplotlib.pyplot as plt\n",
    "import seaborn as sns\n",
    "import numpy as np\n",
    "from scipy.stats import ttest_ind, boxcox\n",
    "import pingouin as pg"
   ]
  },
  {
   "cell_type": "markdown",
   "metadata": {},
   "source": [
    "## 1. Client Oder #1\n",
    "### “Top Five Romance Authors”"
   ]
  },
  {
   "cell_type": "code",
   "execution_count": 39,
   "metadata": {},
   "outputs": [
    {
     "name": "stderr",
     "output_type": "stream",
     "text": [
      "/Users/kvmmn/Desktop/data_summit/quda/quda_projects/Book-Store/kaveh_analysis/required_dataframes.py:68: UserWarning: pandas only supports SQLAlchemy connectable (engine/connection) or database string URI or sqlite3 DBAPI2 connection. Other DBAPI2 objects are not tested. Please consider using SQLAlchemy.\n",
      "  return pd.read_sql(query, conn)\n"
     ]
    },
    {
     "data": {
      "text/html": [
       "<div>\n",
       "<style scoped>\n",
       "    .dataframe tbody tr th:only-of-type {\n",
       "        vertical-align: middle;\n",
       "    }\n",
       "\n",
       "    .dataframe tbody tr th {\n",
       "        vertical-align: top;\n",
       "    }\n",
       "\n",
       "    .dataframe thead th {\n",
       "        text-align: right;\n",
       "    }\n",
       "</style>\n",
       "<table border=\"1\" class=\"dataframe\">\n",
       "  <thead>\n",
       "    <tr style=\"text-align: right;\">\n",
       "      <th></th>\n",
       "      <th>name</th>\n",
       "      <th>num_of_romance_books</th>\n",
       "      <th>avg_grade</th>\n",
       "      <th>num_of_awards_tags</th>\n",
       "      <th>num_of_list_tags</th>\n",
       "      <th>description</th>\n",
       "    </tr>\n",
       "  </thead>\n",
       "  <tbody>\n",
       "    <tr>\n",
       "      <th>0</th>\n",
       "      <td>جین آستین</td>\n",
       "      <td>995</td>\n",
       "      <td>3.5970</td>\n",
       "      <td>NaN</td>\n",
       "      <td>3240.0</td>\n",
       "      <td>جین آستین، زاده ی ۱۶ دسامبر ۱۷۷۵ و درگذشته ی ۱...</td>\n",
       "    </tr>\n",
       "    <tr>\n",
       "      <th>1</th>\n",
       "      <td>امیلی برونته</td>\n",
       "      <td>761</td>\n",
       "      <td>3.5506</td>\n",
       "      <td>NaN</td>\n",
       "      <td>3820.0</td>\n",
       "      <td>امیلی برونته، در ۲۱ آوریل ۱۸۱۸ در تورنتن (براد...</td>\n",
       "    </tr>\n",
       "    <tr>\n",
       "      <th>2</th>\n",
       "      <td>شارلوت برونته</td>\n",
       "      <td>614</td>\n",
       "      <td>3.5179</td>\n",
       "      <td>NaN</td>\n",
       "      <td>3533.0</td>\n",
       "      <td>شارلوت برونته، زاده ی ۲۱ آوریل ۱۸۱۶ و درگذشته ...</td>\n",
       "    </tr>\n",
       "    <tr>\n",
       "      <th>3</th>\n",
       "      <td>الیف شافاک</td>\n",
       "      <td>435</td>\n",
       "      <td>3.8092</td>\n",
       "      <td>230.0</td>\n",
       "      <td>808.0</td>\n",
       "      <td>None</td>\n",
       "    </tr>\n",
       "    <tr>\n",
       "      <th>4</th>\n",
       "      <td>جین وبستر</td>\n",
       "      <td>367</td>\n",
       "      <td>3.4251</td>\n",
       "      <td>NaN</td>\n",
       "      <td>227.0</td>\n",
       "      <td>جین وبستر، زاده ی 24 جولای 1876 و درگذشته ی 11...</td>\n",
       "    </tr>\n",
       "  </tbody>\n",
       "</table>\n",
       "</div>"
      ],
      "text/plain": [
       "            name  num_of_romance_books  avg_grade  num_of_awards_tags  \\\n",
       "0      جین آستین                   995     3.5970                 NaN   \n",
       "1   امیلی برونته                   761     3.5506                 NaN   \n",
       "2  شارلوت برونته                   614     3.5179                 NaN   \n",
       "3     الیف شافاک                   435     3.8092               230.0   \n",
       "4      جین وبستر                   367     3.4251                 NaN   \n",
       "\n",
       "   num_of_list_tags                                        description  \n",
       "0            3240.0  جین آستین، زاده ی ۱۶ دسامبر ۱۷۷۵ و درگذشته ی ۱...  \n",
       "1            3820.0  امیلی برونته، در ۲۱ آوریل ۱۸۱۸ در تورنتن (براد...  \n",
       "2            3533.0  شارلوت برونته، زاده ی ۲۱ آوریل ۱۸۱۶ و درگذشته ...  \n",
       "3             808.0                                               None  \n",
       "4             227.0  جین وبستر، زاده ی 24 جولای 1876 و درگذشته ی 11...  "
      ]
     },
     "execution_count": 39,
     "metadata": {},
     "output_type": "execute_result"
    }
   ],
   "source": [
    "# Read from MySQL database\n",
    "\n",
    "df1 = rd.request_one()\n",
    "df1.head()"
   ]
  },
  {
   "cell_type": "code",
   "execution_count": 40,
   "metadata": {},
   "outputs": [
    {
     "data": {
      "text/plain": [
       "name                    0\n",
       "num_of_romance_books    0\n",
       "avg_grade               0\n",
       "num_of_awards_tags      0\n",
       "num_of_list_tags        0\n",
       "description             0\n",
       "dtype: int64"
      ]
     },
     "execution_count": 40,
     "metadata": {},
     "output_type": "execute_result"
    }
   ],
   "source": [
    "# Handle missing values in numerical columns: Null -> 0\n",
    "\n",
    "df1 = df1.fillna(0)\n",
    "\n",
    "df1.isnull().sum()"
   ]
  },
  {
   "cell_type": "code",
   "execution_count": 4,
   "metadata": {},
   "outputs": [
    {
     "data": {
      "text/html": [
       "<div>\n",
       "<style scoped>\n",
       "    .dataframe tbody tr th:only-of-type {\n",
       "        vertical-align: middle;\n",
       "    }\n",
       "\n",
       "    .dataframe tbody tr th {\n",
       "        vertical-align: top;\n",
       "    }\n",
       "\n",
       "    .dataframe thead th {\n",
       "        text-align: right;\n",
       "    }\n",
       "</style>\n",
       "<table border=\"1\" class=\"dataframe\">\n",
       "  <thead>\n",
       "    <tr style=\"text-align: right;\">\n",
       "      <th></th>\n",
       "      <th>name</th>\n",
       "      <th>num_of_romance_books</th>\n",
       "      <th>avg_grade</th>\n",
       "      <th>num_of_awards_tags</th>\n",
       "      <th>num_of_list_tags</th>\n",
       "      <th>description</th>\n",
       "    </tr>\n",
       "  </thead>\n",
       "  <tbody>\n",
       "    <tr>\n",
       "      <th>0</th>\n",
       "      <td>جین آستین</td>\n",
       "      <td>2.000000</td>\n",
       "      <td>1.532333</td>\n",
       "      <td>1.0</td>\n",
       "      <td>1.848168</td>\n",
       "      <td>جین آستین، زاده ی ۱۶ دسامبر ۱۷۷۵ و درگذشته ی ۱...</td>\n",
       "    </tr>\n",
       "    <tr>\n",
       "      <th>1</th>\n",
       "      <td>امیلی برونته</td>\n",
       "      <td>1.764588</td>\n",
       "      <td>1.516867</td>\n",
       "      <td>1.0</td>\n",
       "      <td>2.000000</td>\n",
       "      <td>امیلی برونته، در ۲۱ آوریل ۱۸۱۸ در تورنتن (براد...</td>\n",
       "    </tr>\n",
       "    <tr>\n",
       "      <th>2</th>\n",
       "      <td>شارلوت برونته</td>\n",
       "      <td>1.616700</td>\n",
       "      <td>1.505967</td>\n",
       "      <td>1.0</td>\n",
       "      <td>1.924869</td>\n",
       "      <td>شارلوت برونته، زاده ی ۲۱ آوریل ۱۸۱۶ و درگذشته ...</td>\n",
       "    </tr>\n",
       "    <tr>\n",
       "      <th>3</th>\n",
       "      <td>الیف شافاک</td>\n",
       "      <td>1.436620</td>\n",
       "      <td>1.603067</td>\n",
       "      <td>2.0</td>\n",
       "      <td>1.211518</td>\n",
       "      <td>0</td>\n",
       "    </tr>\n",
       "    <tr>\n",
       "      <th>4</th>\n",
       "      <td>جین وبستر</td>\n",
       "      <td>1.368209</td>\n",
       "      <td>1.475033</td>\n",
       "      <td>1.0</td>\n",
       "      <td>1.059424</td>\n",
       "      <td>جین وبستر، زاده ی 24 جولای 1876 و درگذشته ی 11...</td>\n",
       "    </tr>\n",
       "  </tbody>\n",
       "</table>\n",
       "</div>"
      ],
      "text/plain": [
       "            name  num_of_romance_books  avg_grade  num_of_awards_tags  \\\n",
       "0      جین آستین              2.000000   1.532333                 1.0   \n",
       "1   امیلی برونته              1.764588   1.516867                 1.0   \n",
       "2  شارلوت برونته              1.616700   1.505967                 1.0   \n",
       "3     الیف شافاک              1.436620   1.603067                 2.0   \n",
       "4      جین وبستر              1.368209   1.475033                 1.0   \n",
       "\n",
       "   num_of_list_tags                                        description  \n",
       "0          1.848168  جین آستین، زاده ی ۱۶ دسامبر ۱۷۷۵ و درگذشته ی ۱...  \n",
       "1          2.000000  امیلی برونته، در ۲۱ آوریل ۱۸۱۸ در تورنتن (براد...  \n",
       "2          1.924869  شارلوت برونته، زاده ی ۲۱ آوریل ۱۸۱۶ و درگذشته ...  \n",
       "3          1.211518                                                  0  \n",
       "4          1.059424  جین وبستر، زاده ی 24 جولای 1876 و درگذشته ی 11...  "
      ]
     },
     "execution_count": 4,
     "metadata": {},
     "output_type": "execute_result"
    }
   ],
   "source": [
    "# Normalize numerical values to the range (1, 2)\n",
    "\n",
    "cols_to_scale = [\n",
    "    \"num_of_romance_books\",\n",
    "    \"avg_grade\",\n",
    "    \"num_of_awards_tags\",\n",
    "    \"num_of_list_tags\",\n",
    "]\n",
    "min_max_scaler = MinMaxScaler(feature_range=(1, 2))\n",
    "df1[cols_to_scale] = min_max_scaler.fit_transform(df1[cols_to_scale])\n",
    "\n",
    "df1.head()"
   ]
  },
  {
   "cell_type": "markdown",
   "metadata": {},
   "source": [
    "### Metric for client order 1\n",
    "metric_1 = f1 × f2<sup>2</sup> × f3<sup>3</sup> × f4 <br><br>\n",
    "f1 = Author's Romance Books Count <br>\n",
    "f2 = Average Rating of Author's Romance Books <br>\n",
    "f3 = Number of Awards For Author's Romance Books <br>\n",
    "f4 = Number of Listings For Author's Romance Books"
   ]
  },
  {
   "cell_type": "code",
   "execution_count": 5,
   "metadata": {},
   "outputs": [
    {
     "name": "stdout",
     "output_type": "stream",
     "text": [
      "Top 5 writers are: \n"
     ]
    },
    {
     "data": {
      "text/html": [
       "<div>\n",
       "<style scoped>\n",
       "    .dataframe tbody tr th:only-of-type {\n",
       "        vertical-align: middle;\n",
       "    }\n",
       "\n",
       "    .dataframe tbody tr th {\n",
       "        vertical-align: top;\n",
       "    }\n",
       "\n",
       "    .dataframe thead th {\n",
       "        text-align: right;\n",
       "    }\n",
       "</style>\n",
       "<table border=\"1\" class=\"dataframe\">\n",
       "  <thead>\n",
       "    <tr style=\"text-align: right;\">\n",
       "      <th></th>\n",
       "      <th>name</th>\n",
       "      <th>metric_1</th>\n",
       "    </tr>\n",
       "  </thead>\n",
       "  <tbody>\n",
       "    <tr>\n",
       "      <th>0</th>\n",
       "      <td>جین آستین</td>\n",
       "      <td>26.60</td>\n",
       "    </tr>\n",
       "    <tr>\n",
       "      <th>1</th>\n",
       "      <td>امیلی برونته</td>\n",
       "      <td>21.73</td>\n",
       "    </tr>\n",
       "    <tr>\n",
       "      <th>3</th>\n",
       "      <td>الیف شافاک</td>\n",
       "      <td>20.60</td>\n",
       "    </tr>\n",
       "    <tr>\n",
       "      <th>2</th>\n",
       "      <td>شارلوت برونته</td>\n",
       "      <td>17.18</td>\n",
       "    </tr>\n",
       "    <tr>\n",
       "      <th>8</th>\n",
       "      <td>گابریل گارسیا مارکز</td>\n",
       "      <td>9.82</td>\n",
       "    </tr>\n",
       "  </tbody>\n",
       "</table>\n",
       "</div>"
      ],
      "text/plain": [
       "                  name  metric_1\n",
       "0            جین آستین     26.60\n",
       "1         امیلی برونته     21.73\n",
       "3           الیف شافاک     20.60\n",
       "2        شارلوت برونته     17.18\n",
       "8  گابریل گارسیا مارکز      9.82"
      ]
     },
     "metadata": {},
     "output_type": "display_data"
    }
   ],
   "source": [
    "# Compute the final metric for each author\n",
    "# Approach:\n",
    "#   Very strong Rating effect\n",
    "#   Strong number of books effect\n",
    "\n",
    "df1[\"metric_1\"] = round(\n",
    "    df1[\"num_of_romance_books\"] ** 2\n",
    "    * df1[\"avg_grade\"] ** 3\n",
    "    * df1[\"num_of_awards_tags\"]\n",
    "    * df1[\"num_of_list_tags\"],\n",
    "    2,\n",
    ")\n",
    "\n",
    "top_writers = (\n",
    "    df1[[\"name\", \"metric_1\"]].sort_values(by=\"metric_1\", ascending=False).head(5)\n",
    ")\n",
    "\n",
    "print(f\"Top 5 writers are: \")\n",
    "display(top_writers)"
   ]
  },
  {
   "cell_type": "markdown",
   "metadata": {},
   "source": [
    "------------------------------------------------"
   ]
  },
  {
   "cell_type": "markdown",
   "metadata": {},
   "source": [
    "## 2. Client Oder #2\n",
    "### “Books With Best Quality & Price”"
   ]
  },
  {
   "cell_type": "code",
   "execution_count": 41,
   "metadata": {},
   "outputs": [
    {
     "name": "stderr",
     "output_type": "stream",
     "text": [
      "/Users/kvmmn/Desktop/data_summit/quda/quda_projects/Book-Store/kaveh_analysis/required_dataframes.py:96: UserWarning: pandas only supports SQLAlchemy connectable (engine/connection) or database string URI or sqlite3 DBAPI2 connection. Other DBAPI2 objects are not tested. Please consider using SQLAlchemy.\n",
      "  return pd.read_sql(query, conn)\n"
     ]
    },
    {
     "data": {
      "text/html": [
       "<div>\n",
       "<style scoped>\n",
       "    .dataframe tbody tr th:only-of-type {\n",
       "        vertical-align: middle;\n",
       "    }\n",
       "\n",
       "    .dataframe tbody tr th {\n",
       "        vertical-align: top;\n",
       "    }\n",
       "\n",
       "    .dataframe thead th {\n",
       "        text-align: right;\n",
       "    }\n",
       "</style>\n",
       "<table border=\"1\" class=\"dataframe\">\n",
       "  <thead>\n",
       "    <tr style=\"text-align: right;\">\n",
       "      <th></th>\n",
       "      <th>code</th>\n",
       "      <th>title_persian</th>\n",
       "      <th>title_english</th>\n",
       "      <th>price</th>\n",
       "      <th>release_year_mi</th>\n",
       "      <th>release_year_sh</th>\n",
       "      <th>grade</th>\n",
       "      <th>page_count</th>\n",
       "      <th>cover</th>\n",
       "      <th>num_of_award_tags</th>\n",
       "      <th>num_of_list_tags</th>\n",
       "    </tr>\n",
       "  </thead>\n",
       "  <tbody>\n",
       "    <tr>\n",
       "      <th>0</th>\n",
       "      <td>24</td>\n",
       "      <td>زندگی پی</td>\n",
       "      <td>Life of Pi</td>\n",
       "      <td>295000</td>\n",
       "      <td>2001.0</td>\n",
       "      <td>1396.0</td>\n",
       "      <td>4</td>\n",
       "      <td>532.0</td>\n",
       "      <td>شومیز</td>\n",
       "      <td>3.0</td>\n",
       "      <td>16.0</td>\n",
       "    </tr>\n",
       "    <tr>\n",
       "      <th>1</th>\n",
       "      <td>26</td>\n",
       "      <td>هرگز ترکم مکن</td>\n",
       "      <td>Never Let Me Go</td>\n",
       "      <td>285000</td>\n",
       "      <td>2005.0</td>\n",
       "      <td>1402.0</td>\n",
       "      <td>4</td>\n",
       "      <td>328.0</td>\n",
       "      <td>شومیز</td>\n",
       "      <td>12.0</td>\n",
       "      <td>30.0</td>\n",
       "    </tr>\n",
       "    <tr>\n",
       "      <th>2</th>\n",
       "      <td>28</td>\n",
       "      <td>بودا در اتاق زیرشیروانی</td>\n",
       "      <td>The Buddha in the Attic</td>\n",
       "      <td>22000</td>\n",
       "      <td>2011.0</td>\n",
       "      <td>1398.0</td>\n",
       "      <td>4</td>\n",
       "      <td>143.0</td>\n",
       "      <td>شومیز</td>\n",
       "      <td>2.0</td>\n",
       "      <td>3.0</td>\n",
       "    </tr>\n",
       "    <tr>\n",
       "      <th>3</th>\n",
       "      <td>30</td>\n",
       "      <td>خدای چیزهای کوچک</td>\n",
       "      <td>The God of Small Things</td>\n",
       "      <td>550000</td>\n",
       "      <td>1997.0</td>\n",
       "      <td>1387.0</td>\n",
       "      <td>4</td>\n",
       "      <td>456.0</td>\n",
       "      <td>جلدسخت</td>\n",
       "      <td>1.0</td>\n",
       "      <td>10.0</td>\n",
       "    </tr>\n",
       "    <tr>\n",
       "      <th>4</th>\n",
       "      <td>31</td>\n",
       "      <td>بازمانده ی روز</td>\n",
       "      <td>The Remains of the Day</td>\n",
       "      <td>235000</td>\n",
       "      <td>1989.0</td>\n",
       "      <td>1401.0</td>\n",
       "      <td>4</td>\n",
       "      <td>360.0</td>\n",
       "      <td>جلدسخت</td>\n",
       "      <td>8.0</td>\n",
       "      <td>20.0</td>\n",
       "    </tr>\n",
       "    <tr>\n",
       "      <th>...</th>\n",
       "      <td>...</td>\n",
       "      <td>...</td>\n",
       "      <td>...</td>\n",
       "      <td>...</td>\n",
       "      <td>...</td>\n",
       "      <td>...</td>\n",
       "      <td>...</td>\n",
       "      <td>...</td>\n",
       "      <td>...</td>\n",
       "      <td>...</td>\n",
       "      <td>...</td>\n",
       "    </tr>\n",
       "    <tr>\n",
       "      <th>78631</th>\n",
       "      <td>122641</td>\n",
       "      <td>Its OK That You're Not OK</td>\n",
       "      <td>None</td>\n",
       "      <td>220000</td>\n",
       "      <td>2017.0</td>\n",
       "      <td>1402.0</td>\n",
       "      <td>0</td>\n",
       "      <td>308.0</td>\n",
       "      <td>شومیز</td>\n",
       "      <td>NaN</td>\n",
       "      <td>NaN</td>\n",
       "    </tr>\n",
       "    <tr>\n",
       "      <th>78632</th>\n",
       "      <td>122643</td>\n",
       "      <td>Moon Spells</td>\n",
       "      <td>None</td>\n",
       "      <td>170000</td>\n",
       "      <td>2002.0</td>\n",
       "      <td>1402.0</td>\n",
       "      <td>0</td>\n",
       "      <td>216.0</td>\n",
       "      <td>شومیز</td>\n",
       "      <td>NaN</td>\n",
       "      <td>NaN</td>\n",
       "    </tr>\n",
       "    <tr>\n",
       "      <th>78633</th>\n",
       "      <td>122647</td>\n",
       "      <td>All Your Perfects</td>\n",
       "      <td>None</td>\n",
       "      <td>215000</td>\n",
       "      <td>2018.0</td>\n",
       "      <td>1402.0</td>\n",
       "      <td>4</td>\n",
       "      <td>304.0</td>\n",
       "      <td>شومیز</td>\n",
       "      <td>NaN</td>\n",
       "      <td>NaN</td>\n",
       "    </tr>\n",
       "    <tr>\n",
       "      <th>78634</th>\n",
       "      <td>122668</td>\n",
       "      <td>دانشنامه جواهرات</td>\n",
       "      <td>Gemstones</td>\n",
       "      <td>250000</td>\n",
       "      <td>1994.0</td>\n",
       "      <td>1396.0</td>\n",
       "      <td>4</td>\n",
       "      <td>204.0</td>\n",
       "      <td>شومیز</td>\n",
       "      <td>NaN</td>\n",
       "      <td>NaN</td>\n",
       "    </tr>\n",
       "    <tr>\n",
       "      <th>78635</th>\n",
       "      <td>122672</td>\n",
       "      <td>جاناتان مرغ دریایی</td>\n",
       "      <td>Jonathan Livingston Seagull</td>\n",
       "      <td>80000</td>\n",
       "      <td>1970.0</td>\n",
       "      <td>1402.0</td>\n",
       "      <td>0</td>\n",
       "      <td>138.0</td>\n",
       "      <td>شومیز</td>\n",
       "      <td>18.0</td>\n",
       "      <td>70.0</td>\n",
       "    </tr>\n",
       "  </tbody>\n",
       "</table>\n",
       "<p>78636 rows × 11 columns</p>\n",
       "</div>"
      ],
      "text/plain": [
       "         code              title_persian                 title_english  \\\n",
       "0          24                   زندگی پی                    Life of Pi   \n",
       "1          26              هرگز ترکم مکن               Never Let Me Go   \n",
       "2          28    بودا در اتاق زیرشیروانی       The Buddha in the Attic   \n",
       "3          30           خدای چیزهای کوچک       The God of Small Things   \n",
       "4          31             بازمانده ی روز        The Remains of the Day   \n",
       "...       ...                        ...                           ...   \n",
       "78631  122641  Its OK That You're Not OK                          None   \n",
       "78632  122643                Moon Spells                          None   \n",
       "78633  122647          All Your Perfects                          None   \n",
       "78634  122668           دانشنامه جواهرات                     Gemstones   \n",
       "78635  122672         جاناتان مرغ دریایی   Jonathan Livingston Seagull   \n",
       "\n",
       "        price  release_year_mi  release_year_sh  grade  page_count   cover  \\\n",
       "0      295000           2001.0           1396.0      4       532.0   شومیز   \n",
       "1      285000           2005.0           1402.0      4       328.0   شومیز   \n",
       "2       22000           2011.0           1398.0      4       143.0   شومیز   \n",
       "3      550000           1997.0           1387.0      4       456.0  جلدسخت   \n",
       "4      235000           1989.0           1401.0      4       360.0  جلدسخت   \n",
       "...       ...              ...              ...    ...         ...     ...   \n",
       "78631  220000           2017.0           1402.0      0       308.0   شومیز   \n",
       "78632  170000           2002.0           1402.0      0       216.0   شومیز   \n",
       "78633  215000           2018.0           1402.0      4       304.0   شومیز   \n",
       "78634  250000           1994.0           1396.0      4       204.0   شومیز   \n",
       "78635   80000           1970.0           1402.0      0       138.0   شومیز   \n",
       "\n",
       "       num_of_award_tags  num_of_list_tags  \n",
       "0                    3.0              16.0  \n",
       "1                   12.0              30.0  \n",
       "2                    2.0               3.0  \n",
       "3                    1.0              10.0  \n",
       "4                    8.0              20.0  \n",
       "...                  ...               ...  \n",
       "78631                NaN               NaN  \n",
       "78632                NaN               NaN  \n",
       "78633                NaN               NaN  \n",
       "78634                NaN               NaN  \n",
       "78635               18.0              70.0  \n",
       "\n",
       "[78636 rows x 11 columns]"
      ]
     },
     "execution_count": 41,
     "metadata": {},
     "output_type": "execute_result"
    }
   ],
   "source": [
    "# Read from MySQL database\n",
    "\n",
    "df2 = rd.request_two()\n",
    "df2"
   ]
  },
  {
   "cell_type": "code",
   "execution_count": 42,
   "metadata": {},
   "outputs": [
    {
     "data": {
      "text/plain": [
       "code                     0\n",
       "title_persian            0\n",
       "title_english          782\n",
       "price                    0\n",
       "release_year_mi      35981\n",
       "release_year_sh          0\n",
       "grade                    0\n",
       "page_count               0\n",
       "cover                    0\n",
       "num_of_award_tags        0\n",
       "num_of_list_tags         0\n",
       "dtype: int64"
      ]
     },
     "execution_count": 42,
     "metadata": {},
     "output_type": "execute_result"
    }
   ],
   "source": [
    "# Handle missing values in important columns\n",
    "\n",
    "# Null -> 0 :: (Hard = 1, Soft = 0)\n",
    "df2[\"cover\"] = df2[\"cover\"].fillna(\"نرم\")\n",
    "\n",
    "# Null -> Mean of the page counts\n",
    "df2[\"page_count\"] = df2[\"page_count\"].fillna(df2[\"page_count\"].mean())\n",
    "\n",
    "# Null -> Median of the release years shamsi\n",
    "df2[\"release_year_sh\"] = df2[\"release_year_sh\"].fillna(df2[\"release_year_sh\"].median())\n",
    "\n",
    "# Null -> 0\n",
    "df2[\"num_of_award_tags\"] = df2[\"num_of_award_tags\"].fillna(0)\n",
    "\n",
    "# Null -> 0\n",
    "df2[\"num_of_list_tags\"] = df2[\"num_of_list_tags\"].fillna(0)\n",
    "\n",
    "df2.isnull().sum()"
   ]
  },
  {
   "cell_type": "code",
   "execution_count": 43,
   "metadata": {},
   "outputs": [
    {
     "data": {
      "text/plain": [
       "cover\n",
       "0    71555\n",
       "1     7081\n",
       "Name: count, dtype: int64"
      ]
     },
     "execution_count": 43,
     "metadata": {},
     "output_type": "execute_result"
    }
   ],
   "source": [
    "# Assign cover type: f2\n",
    "# Hard = 1 / covers including text \"سخت\" or \"زرکوب\" or \"چرم\"\n",
    "# Soft = 0 / covers including text \"نرم\" or \"سلفونی\" or \"شومیز\"\n",
    "\n",
    "def cover_type(cover):\n",
    "    if \"سخت\" in cover or \"زرکوب\" in cover or \"چرم\" in cover:\n",
    "        return 1\n",
    "    else:\n",
    "        return 0\n",
    "\n",
    "df2[\"cover\"] = df2[\"cover\"].apply(cover_type)\n",
    "\n",
    "df2[\"cover\"].value_counts()"
   ]
  },
  {
   "cell_type": "code",
   "execution_count": 44,
   "metadata": {},
   "outputs": [
    {
     "data": {
      "text/plain": [
       "page_count\n",
       "3.0    39339\n",
       "1.0    19707\n",
       "5.0    19590\n",
       "Name: count, dtype: int64"
      ]
     },
     "execution_count": 44,
     "metadata": {},
     "output_type": "execute_result"
    }
   ],
   "source": [
    "# Assign page count type: f3\n",
    "# Short = 1, Medium = 3, Long = 5\n",
    "\n",
    "page_bins = [\n",
    "    0,\n",
    "    df2[\"page_count\"].quantile(0.25),\n",
    "    df2[\"page_count\"].quantile(0.75),\n",
    "    df2[\"page_count\"].max() + 1,\n",
    "]\n",
    "page_labels = [1, 3, 5]\n",
    "df2[\"page_count\"] = pd.cut(\n",
    "    df2[\"page_count\"], bins=page_bins, labels=page_labels, include_lowest=True\n",
    ")\n",
    "\n",
    "df2[\"page_count\"] = df2[\"page_count\"].astype(float)\n",
    "\n",
    "df2[\"page_count\"].value_counts()"
   ]
  },
  {
   "cell_type": "code",
   "execution_count": 45,
   "metadata": {},
   "outputs": [
    {
     "data": {
      "text/plain": [
       "release_year_sh\n",
       "3.0    28763\n",
       "1.0    27030\n",
       "5.0    22843\n",
       "Name: count, dtype: int64"
      ]
     },
     "execution_count": 45,
     "metadata": {},
     "output_type": "execute_result"
    }
   ],
   "source": [
    "# Assign publish shamsi year type: F4\n",
    "# Classic = 1, Old = 3, Modern = 5\n",
    "\n",
    "year_bins = [\n",
    "    0,\n",
    "    df2[\"release_year_sh\"].quantile(0.33),\n",
    "    df2[\"release_year_sh\"].quantile(0.66),\n",
    "    df2[\"release_year_sh\"].max() + 1,\n",
    "]\n",
    "year_labels = [1, 3, 5]\n",
    "df2[\"release_year_sh\"] = pd.cut(\n",
    "    df2[\"release_year_sh\"], bins=year_bins, labels=year_labels, include_lowest=True\n",
    ")\n",
    "\n",
    "df2[\"release_year_sh\"] = df2[\"release_year_sh\"].astype(float)\n",
    "\n",
    "df2[\"release_year_sh\"].value_counts()"
   ]
  },
  {
   "cell_type": "code",
   "execution_count": 46,
   "metadata": {},
   "outputs": [
    {
     "data": {
      "text/html": [
       "<div>\n",
       "<style scoped>\n",
       "    .dataframe tbody tr th:only-of-type {\n",
       "        vertical-align: middle;\n",
       "    }\n",
       "\n",
       "    .dataframe tbody tr th {\n",
       "        vertical-align: top;\n",
       "    }\n",
       "\n",
       "    .dataframe thead th {\n",
       "        text-align: right;\n",
       "    }\n",
       "</style>\n",
       "<table border=\"1\" class=\"dataframe\">\n",
       "  <thead>\n",
       "    <tr style=\"text-align: right;\">\n",
       "      <th></th>\n",
       "      <th>code</th>\n",
       "      <th>title_persian</th>\n",
       "      <th>title_english</th>\n",
       "      <th>price</th>\n",
       "      <th>release_year_mi</th>\n",
       "      <th>release_year_sh</th>\n",
       "      <th>grade</th>\n",
       "      <th>page_count</th>\n",
       "      <th>cover</th>\n",
       "      <th>num_of_award_tags</th>\n",
       "      <th>num_of_list_tags</th>\n",
       "    </tr>\n",
       "  </thead>\n",
       "  <tbody>\n",
       "    <tr>\n",
       "      <th>0</th>\n",
       "      <td>24</td>\n",
       "      <td>زندگی پی</td>\n",
       "      <td>Life of Pi</td>\n",
       "      <td>295000</td>\n",
       "      <td>2001.0</td>\n",
       "      <td>-1.191484</td>\n",
       "      <td>0.940742</td>\n",
       "      <td>1.416699</td>\n",
       "      <td>-0.314577</td>\n",
       "      <td>1.969156</td>\n",
       "      <td>1.302229</td>\n",
       "    </tr>\n",
       "    <tr>\n",
       "      <th>1</th>\n",
       "      <td>26</td>\n",
       "      <td>هرگز ترکم مکن</td>\n",
       "      <td>Never Let Me Go</td>\n",
       "      <td>285000</td>\n",
       "      <td>2005.0</td>\n",
       "      <td>1.325502</td>\n",
       "      <td>0.940742</td>\n",
       "      <td>1.416699</td>\n",
       "      <td>-0.314577</td>\n",
       "      <td>8.206124</td>\n",
       "      <td>2.539961</td>\n",
       "    </tr>\n",
       "    <tr>\n",
       "      <th>2</th>\n",
       "      <td>28</td>\n",
       "      <td>بودا در اتاق زیرشیروانی</td>\n",
       "      <td>The Buddha in the Attic</td>\n",
       "      <td>22000</td>\n",
       "      <td>2011.0</td>\n",
       "      <td>0.067009</td>\n",
       "      <td>0.940742</td>\n",
       "      <td>0.002105</td>\n",
       "      <td>-0.314577</td>\n",
       "      <td>1.276160</td>\n",
       "      <td>0.152906</td>\n",
       "    </tr>\n",
       "    <tr>\n",
       "      <th>3</th>\n",
       "      <td>30</td>\n",
       "      <td>خدای چیزهای کوچک</td>\n",
       "      <td>The God of Small Things</td>\n",
       "      <td>550000</td>\n",
       "      <td>1997.0</td>\n",
       "      <td>-1.191484</td>\n",
       "      <td>0.940742</td>\n",
       "      <td>1.416699</td>\n",
       "      <td>3.178869</td>\n",
       "      <td>0.583164</td>\n",
       "      <td>0.771772</td>\n",
       "    </tr>\n",
       "    <tr>\n",
       "      <th>4</th>\n",
       "      <td>31</td>\n",
       "      <td>بازمانده ی روز</td>\n",
       "      <td>The Remains of the Day</td>\n",
       "      <td>235000</td>\n",
       "      <td>1989.0</td>\n",
       "      <td>1.325502</td>\n",
       "      <td>0.940742</td>\n",
       "      <td>1.416699</td>\n",
       "      <td>3.178869</td>\n",
       "      <td>5.434139</td>\n",
       "      <td>1.655867</td>\n",
       "    </tr>\n",
       "  </tbody>\n",
       "</table>\n",
       "</div>"
      ],
      "text/plain": [
       "   code            title_persian             title_english   price  \\\n",
       "0    24                 زندگی پی                Life of Pi  295000   \n",
       "1    26            هرگز ترکم مکن           Never Let Me Go  285000   \n",
       "2    28  بودا در اتاق زیرشیروانی   The Buddha in the Attic   22000   \n",
       "3    30         خدای چیزهای کوچک   The God of Small Things  550000   \n",
       "4    31           بازمانده ی روز    The Remains of the Day  235000   \n",
       "\n",
       "   release_year_mi  release_year_sh     grade  page_count     cover  \\\n",
       "0           2001.0        -1.191484  0.940742    1.416699 -0.314577   \n",
       "1           2005.0         1.325502  0.940742    1.416699 -0.314577   \n",
       "2           2011.0         0.067009  0.940742    0.002105 -0.314577   \n",
       "3           1997.0        -1.191484  0.940742    1.416699  3.178869   \n",
       "4           1989.0         1.325502  0.940742    1.416699  3.178869   \n",
       "\n",
       "   num_of_award_tags  num_of_list_tags  \n",
       "0           1.969156          1.302229  \n",
       "1           8.206124          2.539961  \n",
       "2           1.276160          0.152906  \n",
       "3           0.583164          0.771772  \n",
       "4           5.434139          1.655867  "
      ]
     },
     "execution_count": 46,
     "metadata": {},
     "output_type": "execute_result"
    }
   ],
   "source": [
    "# Normalize numerical values to the range (1, 2)\n",
    "\n",
    "cols_to_scale_2 = [\n",
    "    \"grade\",\n",
    "    \"cover\",\n",
    "    \"page_count\",\n",
    "    \"release_year_sh\",\n",
    "    \"num_of_award_tags\",\n",
    "    \"num_of_list_tags\",\n",
    "]\n",
    "standard_scaler = StandardScaler()\n",
    "df2[cols_to_scale_2] = standard_scaler.fit_transform(df2[cols_to_scale_2])\n",
    "\n",
    "df2.head()"
   ]
  },
  {
   "cell_type": "markdown",
   "metadata": {},
   "source": [
    "### Metric for client order 2\n",
    "metric_2 = w1×f1 + w2×f2 + w3×f3 + w4×f4 + w5×f5 + w6×f6"
   ]
  },
  {
   "cell_type": "markdown",
   "metadata": {},
   "source": [
    "f1 = Rating  <br>\n",
    "f2 = Cover Type (Soft or Hard) <br>\n",
    "f3 = Pages Count <br>\n",
    "f4 = Shamsi Year of Publishin <br>\n",
    "f5 = Number of Awards <br>\n",
    "f6 = Number of Listings"
   ]
  },
  {
   "cell_type": "code",
   "execution_count": 47,
   "metadata": {},
   "outputs": [],
   "source": [
    "# Weights for each feature\n",
    "\n",
    "w1 = 40\n",
    "w2 = 5\n",
    "w3 = 5\n",
    "w4 = 5\n",
    "w5 = 23\n",
    "w6 = 22"
   ]
  },
  {
   "cell_type": "code",
   "execution_count": 48,
   "metadata": {},
   "outputs": [
    {
     "data": {
      "text/html": [
       "<div>\n",
       "<style scoped>\n",
       "    .dataframe tbody tr th:only-of-type {\n",
       "        vertical-align: middle;\n",
       "    }\n",
       "\n",
       "    .dataframe tbody tr th {\n",
       "        vertical-align: top;\n",
       "    }\n",
       "\n",
       "    .dataframe thead th {\n",
       "        text-align: right;\n",
       "    }\n",
       "</style>\n",
       "<table border=\"1\" class=\"dataframe\">\n",
       "  <thead>\n",
       "    <tr style=\"text-align: right;\">\n",
       "      <th></th>\n",
       "      <th>code</th>\n",
       "      <th>title_persian</th>\n",
       "      <th>title_english</th>\n",
       "      <th>price</th>\n",
       "      <th>release_year_mi</th>\n",
       "      <th>release_year_sh</th>\n",
       "      <th>grade</th>\n",
       "      <th>page_count</th>\n",
       "      <th>cover</th>\n",
       "      <th>num_of_award_tags</th>\n",
       "      <th>num_of_list_tags</th>\n",
       "      <th>metric_2</th>\n",
       "    </tr>\n",
       "  </thead>\n",
       "  <tbody>\n",
       "    <tr>\n",
       "      <th>0</th>\n",
       "      <td>24</td>\n",
       "      <td>زندگی پی</td>\n",
       "      <td>Life of Pi</td>\n",
       "      <td>295000</td>\n",
       "      <td>2001.0</td>\n",
       "      <td>-1.191484</td>\n",
       "      <td>0.940742</td>\n",
       "      <td>1.416699</td>\n",
       "      <td>-0.314577</td>\n",
       "      <td>1.969156</td>\n",
       "      <td>1.302229</td>\n",
       "      <td>111.122504</td>\n",
       "    </tr>\n",
       "    <tr>\n",
       "      <th>1</th>\n",
       "      <td>26</td>\n",
       "      <td>هرگز ترکم مکن</td>\n",
       "      <td>Never Let Me Go</td>\n",
       "      <td>285000</td>\n",
       "      <td>2005.0</td>\n",
       "      <td>1.325502</td>\n",
       "      <td>0.940742</td>\n",
       "      <td>1.416699</td>\n",
       "      <td>-0.314577</td>\n",
       "      <td>8.206124</td>\n",
       "      <td>2.539961</td>\n",
       "      <td>294.387802</td>\n",
       "    </tr>\n",
       "    <tr>\n",
       "      <th>2</th>\n",
       "      <td>28</td>\n",
       "      <td>بودا در اتاق زیرشیروانی</td>\n",
       "      <td>The Buddha in the Attic</td>\n",
       "      <td>22000</td>\n",
       "      <td>2011.0</td>\n",
       "      <td>0.067009</td>\n",
       "      <td>0.940742</td>\n",
       "      <td>0.002105</td>\n",
       "      <td>-0.314577</td>\n",
       "      <td>1.276160</td>\n",
       "      <td>0.152906</td>\n",
       "      <td>69.117982</td>\n",
       "    </tr>\n",
       "    <tr>\n",
       "      <th>3</th>\n",
       "      <td>30</td>\n",
       "      <td>خدای چیزهای کوچک</td>\n",
       "      <td>The God of Small Things</td>\n",
       "      <td>550000</td>\n",
       "      <td>1997.0</td>\n",
       "      <td>-1.191484</td>\n",
       "      <td>0.940742</td>\n",
       "      <td>1.416699</td>\n",
       "      <td>3.178869</td>\n",
       "      <td>0.583164</td>\n",
       "      <td>0.771772</td>\n",
       "      <td>85.041857</td>\n",
       "    </tr>\n",
       "    <tr>\n",
       "      <th>4</th>\n",
       "      <td>31</td>\n",
       "      <td>بازمانده ی روز</td>\n",
       "      <td>The Remains of the Day</td>\n",
       "      <td>235000</td>\n",
       "      <td>1989.0</td>\n",
       "      <td>1.325502</td>\n",
       "      <td>0.940742</td>\n",
       "      <td>1.416699</td>\n",
       "      <td>3.178869</td>\n",
       "      <td>5.434139</td>\n",
       "      <td>1.655867</td>\n",
       "      <td>228.649288</td>\n",
       "    </tr>\n",
       "  </tbody>\n",
       "</table>\n",
       "</div>"
      ],
      "text/plain": [
       "   code            title_persian             title_english   price  \\\n",
       "0    24                 زندگی پی                Life of Pi  295000   \n",
       "1    26            هرگز ترکم مکن           Never Let Me Go  285000   \n",
       "2    28  بودا در اتاق زیرشیروانی   The Buddha in the Attic   22000   \n",
       "3    30         خدای چیزهای کوچک   The God of Small Things  550000   \n",
       "4    31           بازمانده ی روز    The Remains of the Day  235000   \n",
       "\n",
       "   release_year_mi  release_year_sh     grade  page_count     cover  \\\n",
       "0           2001.0        -1.191484  0.940742    1.416699 -0.314577   \n",
       "1           2005.0         1.325502  0.940742    1.416699 -0.314577   \n",
       "2           2011.0         0.067009  0.940742    0.002105 -0.314577   \n",
       "3           1997.0        -1.191484  0.940742    1.416699  3.178869   \n",
       "4           1989.0         1.325502  0.940742    1.416699  3.178869   \n",
       "\n",
       "   num_of_award_tags  num_of_list_tags    metric_2  \n",
       "0           1.969156          1.302229  111.122504  \n",
       "1           8.206124          2.539961  294.387802  \n",
       "2           1.276160          0.152906   69.117982  \n",
       "3           0.583164          0.771772   85.041857  \n",
       "4           5.434139          1.655867  228.649288  "
      ]
     },
     "execution_count": 48,
     "metadata": {},
     "output_type": "execute_result"
    }
   ],
   "source": [
    "# Compute the final metric for each book\n",
    "\n",
    "df2[\"metric_2\"] = (\n",
    "    w1 * df2[\"grade\"]\n",
    "    + w2 * df2[\"cover\"]\n",
    "    + w3 * df2[\"page_count\"]\n",
    "    + w4 * df2[\"release_year_sh\"]\n",
    "    + w5 * df2[\"num_of_award_tags\"]\n",
    "    + w6 * df2[\"num_of_list_tags\"]\n",
    ")\n",
    "\n",
    "df2.head()"
   ]
  },
  {
   "cell_type": "code",
   "execution_count": 14,
   "metadata": {},
   "outputs": [
    {
     "name": "stdout",
     "output_type": "stream",
     "text": [
      "Best recommended books are: \n"
     ]
    },
    {
     "data": {
      "text/html": [
       "<div>\n",
       "<style scoped>\n",
       "    .dataframe tbody tr th:only-of-type {\n",
       "        vertical-align: middle;\n",
       "    }\n",
       "\n",
       "    .dataframe tbody tr th {\n",
       "        vertical-align: top;\n",
       "    }\n",
       "\n",
       "    .dataframe thead th {\n",
       "        text-align: right;\n",
       "    }\n",
       "</style>\n",
       "<table border=\"1\" class=\"dataframe\">\n",
       "  <thead>\n",
       "    <tr style=\"text-align: right;\">\n",
       "      <th></th>\n",
       "      <th>code</th>\n",
       "      <th>title_persian</th>\n",
       "      <th>title_english</th>\n",
       "      <th>price</th>\n",
       "      <th>release_year_mi</th>\n",
       "      <th>release_year_sh</th>\n",
       "      <th>grade</th>\n",
       "      <th>page_count</th>\n",
       "      <th>cover</th>\n",
       "      <th>num_of_award_tags</th>\n",
       "      <th>num_of_list_tags</th>\n",
       "      <th>metric_2</th>\n",
       "    </tr>\n",
       "  </thead>\n",
       "  <tbody>\n",
       "    <tr>\n",
       "      <th>2</th>\n",
       "      <td>28</td>\n",
       "      <td>بودا در اتاق زیرشیروانی</td>\n",
       "      <td>The Buddha in the Attic</td>\n",
       "      <td>22000</td>\n",
       "      <td>2011.0</td>\n",
       "      <td>0.067009</td>\n",
       "      <td>0.940742</td>\n",
       "      <td>0.002105</td>\n",
       "      <td>-0.314577</td>\n",
       "      <td>1.276160</td>\n",
       "      <td>0.152906</td>\n",
       "      <td>69.117982</td>\n",
       "    </tr>\n",
       "    <tr>\n",
       "      <th>28</th>\n",
       "      <td>65</td>\n",
       "      <td>مرسو چه کسی را کشت؟</td>\n",
       "      <td>The Meursault Investigation</td>\n",
       "      <td>9000</td>\n",
       "      <td>2013.0</td>\n",
       "      <td>-1.191484</td>\n",
       "      <td>0.940742</td>\n",
       "      <td>0.002105</td>\n",
       "      <td>-0.314577</td>\n",
       "      <td>1.969156</td>\n",
       "      <td>0.152906</td>\n",
       "      <td>78.764435</td>\n",
       "    </tr>\n",
       "    <tr>\n",
       "      <th>36</th>\n",
       "      <td>74</td>\n",
       "      <td>شبح آنیل</td>\n",
       "      <td>Anil's Ghost</td>\n",
       "      <td>24000</td>\n",
       "      <td>2000.0</td>\n",
       "      <td>0.067009</td>\n",
       "      <td>0.940742</td>\n",
       "      <td>0.002105</td>\n",
       "      <td>-0.314577</td>\n",
       "      <td>1.969156</td>\n",
       "      <td>-0.023912</td>\n",
       "      <td>81.166885</td>\n",
       "    </tr>\n",
       "    <tr>\n",
       "      <th>58</th>\n",
       "      <td>100</td>\n",
       "      <td>عنکبوت</td>\n",
       "      <td>The Spider</td>\n",
       "      <td>15000</td>\n",
       "      <td>1938.0</td>\n",
       "      <td>-1.191484</td>\n",
       "      <td>0.940742</td>\n",
       "      <td>0.002105</td>\n",
       "      <td>-0.314577</td>\n",
       "      <td>0.583164</td>\n",
       "      <td>-0.112322</td>\n",
       "      <td>41.051576</td>\n",
       "    </tr>\n",
       "    <tr>\n",
       "      <th>69</th>\n",
       "      <td>118</td>\n",
       "      <td>همدرد</td>\n",
       "      <td>The Sympathizer</td>\n",
       "      <td>25000</td>\n",
       "      <td>2015.0</td>\n",
       "      <td>-1.191484</td>\n",
       "      <td>0.940742</td>\n",
       "      <td>1.416699</td>\n",
       "      <td>-0.314577</td>\n",
       "      <td>5.434139</td>\n",
       "      <td>0.948591</td>\n",
       "      <td>183.037065</td>\n",
       "    </tr>\n",
       "    <tr>\n",
       "      <th>...</th>\n",
       "      <td>...</td>\n",
       "      <td>...</td>\n",
       "      <td>...</td>\n",
       "      <td>...</td>\n",
       "      <td>...</td>\n",
       "      <td>...</td>\n",
       "      <td>...</td>\n",
       "      <td>...</td>\n",
       "      <td>...</td>\n",
       "      <td>...</td>\n",
       "      <td>...</td>\n",
       "      <td>...</td>\n",
       "    </tr>\n",
       "    <tr>\n",
       "      <th>78256</th>\n",
       "      <td>121663</td>\n",
       "      <td>بازی مازی با مازهای حواستو جمع کن 4 (آسان)</td>\n",
       "      <td>The Megatastic Activity Book</td>\n",
       "      <td>24000</td>\n",
       "      <td>2011.0</td>\n",
       "      <td>1.325502</td>\n",
       "      <td>0.940742</td>\n",
       "      <td>-1.412490</td>\n",
       "      <td>-0.314577</td>\n",
       "      <td>-0.109833</td>\n",
       "      <td>-0.023912</td>\n",
       "      <td>32.569623</td>\n",
       "    </tr>\n",
       "    <tr>\n",
       "      <th>78257</th>\n",
       "      <td>121666</td>\n",
       "      <td>بازی مازی با مازهای حواستو جمع کن 7 (متوسط)</td>\n",
       "      <td>The Megatastic Activity Book</td>\n",
       "      <td>24000</td>\n",
       "      <td>2011.0</td>\n",
       "      <td>1.325502</td>\n",
       "      <td>0.940742</td>\n",
       "      <td>-1.412490</td>\n",
       "      <td>-0.314577</td>\n",
       "      <td>-0.109833</td>\n",
       "      <td>-0.023912</td>\n",
       "      <td>32.569623</td>\n",
       "    </tr>\n",
       "    <tr>\n",
       "      <th>78399</th>\n",
       "      <td>121863</td>\n",
       "      <td>مشاهیر کتابشناسی معاصر ایران (34)</td>\n",
       "      <td>Iranian contemporary bibliographic celebrities</td>\n",
       "      <td>25000</td>\n",
       "      <td>NaN</td>\n",
       "      <td>1.325502</td>\n",
       "      <td>0.940742</td>\n",
       "      <td>-1.412490</td>\n",
       "      <td>-0.314577</td>\n",
       "      <td>-0.109833</td>\n",
       "      <td>-0.023912</td>\n",
       "      <td>32.569623</td>\n",
       "    </tr>\n",
       "    <tr>\n",
       "      <th>78400</th>\n",
       "      <td>121865</td>\n",
       "      <td>مشاهیر کتابشناسی معاصر ایران (35)</td>\n",
       "      <td>Iranian contemporary bibliographic celebrities</td>\n",
       "      <td>25000</td>\n",
       "      <td>NaN</td>\n",
       "      <td>1.325502</td>\n",
       "      <td>0.940742</td>\n",
       "      <td>-1.412490</td>\n",
       "      <td>-0.314577</td>\n",
       "      <td>-0.109833</td>\n",
       "      <td>-0.023912</td>\n",
       "      <td>32.569623</td>\n",
       "    </tr>\n",
       "    <tr>\n",
       "      <th>78526</th>\n",
       "      <td>122054</td>\n",
       "      <td>دو خرابکار خفن</td>\n",
       "      <td>The Terrible Two</td>\n",
       "      <td>19000</td>\n",
       "      <td>2015.0</td>\n",
       "      <td>-1.191484</td>\n",
       "      <td>0.940742</td>\n",
       "      <td>0.002105</td>\n",
       "      <td>-0.314577</td>\n",
       "      <td>1.969156</td>\n",
       "      <td>0.683363</td>\n",
       "      <td>90.434479</td>\n",
       "    </tr>\n",
       "  </tbody>\n",
       "</table>\n",
       "<p>1427 rows × 12 columns</p>\n",
       "</div>"
      ],
      "text/plain": [
       "         code                                title_persian  \\\n",
       "2          28                      بودا در اتاق زیرشیروانی   \n",
       "28         65                          مرسو چه کسی را کشت؟   \n",
       "36         74                                     شبح آنیل   \n",
       "58        100                                       عنکبوت   \n",
       "69        118                                        همدرد   \n",
       "...       ...                                          ...   \n",
       "78256  121663   بازی مازی با مازهای حواستو جمع کن 4 (آسان)   \n",
       "78257  121666  بازی مازی با مازهای حواستو جمع کن 7 (متوسط)   \n",
       "78399  121863            مشاهیر کتابشناسی معاصر ایران (34)   \n",
       "78400  121865            مشاهیر کتابشناسی معاصر ایران (35)   \n",
       "78526  122054                               دو خرابکار خفن   \n",
       "\n",
       "                                         title_english  price  \\\n",
       "2                              The Buddha in the Attic  22000   \n",
       "28                         The Meursault Investigation   9000   \n",
       "36                                        Anil's Ghost  24000   \n",
       "58                                          The Spider  15000   \n",
       "69                                     The Sympathizer  25000   \n",
       "...                                                ...    ...   \n",
       "78256                     The Megatastic Activity Book  24000   \n",
       "78257                     The Megatastic Activity Book  24000   \n",
       "78399   Iranian contemporary bibliographic celebrities  25000   \n",
       "78400   Iranian contemporary bibliographic celebrities  25000   \n",
       "78526                                 The Terrible Two  19000   \n",
       "\n",
       "       release_year_mi  release_year_sh     grade  page_count     cover  \\\n",
       "2               2011.0         0.067009  0.940742    0.002105 -0.314577   \n",
       "28              2013.0        -1.191484  0.940742    0.002105 -0.314577   \n",
       "36              2000.0         0.067009  0.940742    0.002105 -0.314577   \n",
       "58              1938.0        -1.191484  0.940742    0.002105 -0.314577   \n",
       "69              2015.0        -1.191484  0.940742    1.416699 -0.314577   \n",
       "...                ...              ...       ...         ...       ...   \n",
       "78256           2011.0         1.325502  0.940742   -1.412490 -0.314577   \n",
       "78257           2011.0         1.325502  0.940742   -1.412490 -0.314577   \n",
       "78399              NaN         1.325502  0.940742   -1.412490 -0.314577   \n",
       "78400              NaN         1.325502  0.940742   -1.412490 -0.314577   \n",
       "78526           2015.0        -1.191484  0.940742    0.002105 -0.314577   \n",
       "\n",
       "       num_of_award_tags  num_of_list_tags    metric_2  \n",
       "2               1.276160          0.152906   69.117982  \n",
       "28              1.969156          0.152906   78.764435  \n",
       "36              1.969156         -0.023912   81.166885  \n",
       "58              0.583164         -0.112322   41.051576  \n",
       "69              5.434139          0.948591  183.037065  \n",
       "...                  ...               ...         ...  \n",
       "78256          -0.109833         -0.023912   32.569623  \n",
       "78257          -0.109833         -0.023912   32.569623  \n",
       "78399          -0.109833         -0.023912   32.569623  \n",
       "78400          -0.109833         -0.023912   32.569623  \n",
       "78526           1.969156          0.683363   90.434479  \n",
       "\n",
       "[1427 rows x 12 columns]"
      ]
     },
     "metadata": {},
     "output_type": "display_data"
    }
   ],
   "source": [
    "# Filter books based on the criteria:\n",
    "# top quality (based on the final metric) and bottom 20% prices\n",
    "\n",
    "threshold_price = df2[\"price\"].quantile(0.2)\n",
    "threshold_metric = df2[\"metric_2\"].quantile(0.75)\n",
    "\n",
    "recommended_books = df2[\n",
    "    (df2[\"price\"] <= threshold_price) & (df2[\"metric_2\"] >= threshold_metric)\n",
    "]\n",
    "\n",
    "print(f\"Best recommended books are: \")\n",
    "display(recommended_books)"
   ]
  },
  {
   "cell_type": "markdown",
   "metadata": {},
   "source": [
    "------------------------------------------------"
   ]
  },
  {
   "cell_type": "markdown",
   "metadata": {},
   "source": [
    "## 3. Author's Order\n",
    "### “Top Five Historical Book Publishers”"
   ]
  },
  {
   "cell_type": "code",
   "execution_count": 49,
   "metadata": {},
   "outputs": [
    {
     "name": "stderr",
     "output_type": "stream",
     "text": [
      "/Users/kvmmn/Desktop/data_summit/quda/quda_projects/Book-Store/kaveh_analysis/required_dataframes.py:147: UserWarning: pandas only supports SQLAlchemy connectable (engine/connection) or database string URI or sqlite3 DBAPI2 connection. Other DBAPI2 objects are not tested. Please consider using SQLAlchemy.\n",
      "  return pd.read_sql(query, conn)\n"
     ]
    },
    {
     "data": {
      "text/html": [
       "<div>\n",
       "<style scoped>\n",
       "    .dataframe tbody tr th:only-of-type {\n",
       "        vertical-align: middle;\n",
       "    }\n",
       "\n",
       "    .dataframe tbody tr th {\n",
       "        vertical-align: top;\n",
       "    }\n",
       "\n",
       "    .dataframe thead th {\n",
       "        text-align: right;\n",
       "    }\n",
       "</style>\n",
       "<table border=\"1\" class=\"dataframe\">\n",
       "  <thead>\n",
       "    <tr style=\"text-align: right;\">\n",
       "      <th></th>\n",
       "      <th>name</th>\n",
       "      <th>num_of_historic_books</th>\n",
       "      <th>avg_grade</th>\n",
       "      <th>num_of_award_tags</th>\n",
       "      <th>num_of_list_tags</th>\n",
       "    </tr>\n",
       "  </thead>\n",
       "  <tbody>\n",
       "    <tr>\n",
       "      <th>0</th>\n",
       "      <td>افق</td>\n",
       "      <td>754</td>\n",
       "      <td>3.5186</td>\n",
       "      <td>106.0</td>\n",
       "      <td>2078.0</td>\n",
       "    </tr>\n",
       "    <tr>\n",
       "      <th>1</th>\n",
       "      <td>نگاه</td>\n",
       "      <td>719</td>\n",
       "      <td>3.5299</td>\n",
       "      <td>219.0</td>\n",
       "      <td>1554.0</td>\n",
       "    </tr>\n",
       "    <tr>\n",
       "      <th>2</th>\n",
       "      <td>قدیانی</td>\n",
       "      <td>704</td>\n",
       "      <td>3.4986</td>\n",
       "      <td>2.0</td>\n",
       "      <td>1222.0</td>\n",
       "    </tr>\n",
       "    <tr>\n",
       "      <th>3</th>\n",
       "      <td>علمی و فرهنگی</td>\n",
       "      <td>497</td>\n",
       "      <td>3.5091</td>\n",
       "      <td>55.0</td>\n",
       "      <td>989.0</td>\n",
       "    </tr>\n",
       "    <tr>\n",
       "      <th>4</th>\n",
       "      <td>امیرکبیر</td>\n",
       "      <td>490</td>\n",
       "      <td>3.6714</td>\n",
       "      <td>173.0</td>\n",
       "      <td>1154.0</td>\n",
       "    </tr>\n",
       "  </tbody>\n",
       "</table>\n",
       "</div>"
      ],
      "text/plain": [
       "            name  num_of_historic_books  avg_grade  num_of_award_tags  \\\n",
       "0            افق                    754     3.5186              106.0   \n",
       "1           نگاه                    719     3.5299              219.0   \n",
       "2         قدیانی                    704     3.4986                2.0   \n",
       "3  علمی و فرهنگی                    497     3.5091               55.0   \n",
       "4       امیرکبیر                    490     3.6714              173.0   \n",
       "\n",
       "   num_of_list_tags  \n",
       "0            2078.0  \n",
       "1            1554.0  \n",
       "2            1222.0  \n",
       "3             989.0  \n",
       "4            1154.0  "
      ]
     },
     "execution_count": 49,
     "metadata": {},
     "output_type": "execute_result"
    }
   ],
   "source": [
    "# Read from MySQL database\n",
    "\n",
    "df3 = rd.request_three()\n",
    "df3.head()"
   ]
  },
  {
   "cell_type": "code",
   "execution_count": 50,
   "metadata": {},
   "outputs": [
    {
     "data": {
      "text/plain": [
       "name                     0\n",
       "num_of_historic_books    0\n",
       "avg_grade                0\n",
       "num_of_award_tags        0\n",
       "num_of_list_tags         0\n",
       "dtype: int64"
      ]
     },
     "execution_count": 50,
     "metadata": {},
     "output_type": "execute_result"
    }
   ],
   "source": [
    "# Handle missing values in numerical columns: Null -> 0\n",
    "\n",
    "df3 = df3.fillna(0)\n",
    "\n",
    "df3.isnull().sum()"
   ]
  },
  {
   "cell_type": "code",
   "execution_count": 51,
   "metadata": {},
   "outputs": [
    {
     "data": {
      "text/html": [
       "<div>\n",
       "<style scoped>\n",
       "    .dataframe tbody tr th:only-of-type {\n",
       "        vertical-align: middle;\n",
       "    }\n",
       "\n",
       "    .dataframe tbody tr th {\n",
       "        vertical-align: top;\n",
       "    }\n",
       "\n",
       "    .dataframe thead th {\n",
       "        text-align: right;\n",
       "    }\n",
       "</style>\n",
       "<table border=\"1\" class=\"dataframe\">\n",
       "  <thead>\n",
       "    <tr style=\"text-align: right;\">\n",
       "      <th></th>\n",
       "      <th>name</th>\n",
       "      <th>num_of_historic_books</th>\n",
       "      <th>avg_grade</th>\n",
       "      <th>num_of_award_tags</th>\n",
       "      <th>num_of_list_tags</th>\n",
       "      <th>num_of_romance_books</th>\n",
       "      <th>num_of_awards_tags</th>\n",
       "    </tr>\n",
       "  </thead>\n",
       "  <tbody>\n",
       "    <tr>\n",
       "      <th>0</th>\n",
       "      <td>افق</td>\n",
       "      <td>754</td>\n",
       "      <td>1.629650</td>\n",
       "      <td>106.0</td>\n",
       "      <td>2.000000</td>\n",
       "      <td>2.000000</td>\n",
       "      <td>1.484018</td>\n",
       "    </tr>\n",
       "    <tr>\n",
       "      <th>1</th>\n",
       "      <td>نگاه</td>\n",
       "      <td>719</td>\n",
       "      <td>1.632475</td>\n",
       "      <td>219.0</td>\n",
       "      <td>1.747834</td>\n",
       "      <td>1.953519</td>\n",
       "      <td>2.000000</td>\n",
       "    </tr>\n",
       "    <tr>\n",
       "      <th>2</th>\n",
       "      <td>قدیانی</td>\n",
       "      <td>704</td>\n",
       "      <td>1.624650</td>\n",
       "      <td>2.0</td>\n",
       "      <td>1.588065</td>\n",
       "      <td>1.933599</td>\n",
       "      <td>1.009132</td>\n",
       "    </tr>\n",
       "    <tr>\n",
       "      <th>3</th>\n",
       "      <td>علمی و فرهنگی</td>\n",
       "      <td>497</td>\n",
       "      <td>1.627275</td>\n",
       "      <td>55.0</td>\n",
       "      <td>1.475938</td>\n",
       "      <td>1.658699</td>\n",
       "      <td>1.251142</td>\n",
       "    </tr>\n",
       "    <tr>\n",
       "      <th>4</th>\n",
       "      <td>امیرکبیر</td>\n",
       "      <td>490</td>\n",
       "      <td>1.667850</td>\n",
       "      <td>173.0</td>\n",
       "      <td>1.555342</td>\n",
       "      <td>1.649402</td>\n",
       "      <td>1.789954</td>\n",
       "    </tr>\n",
       "  </tbody>\n",
       "</table>\n",
       "</div>"
      ],
      "text/plain": [
       "            name  num_of_historic_books  avg_grade  num_of_award_tags  \\\n",
       "0            افق                    754   1.629650              106.0   \n",
       "1           نگاه                    719   1.632475              219.0   \n",
       "2         قدیانی                    704   1.624650                2.0   \n",
       "3  علمی و فرهنگی                    497   1.627275               55.0   \n",
       "4       امیرکبیر                    490   1.667850              173.0   \n",
       "\n",
       "   num_of_list_tags  num_of_romance_books  num_of_awards_tags  \n",
       "0          2.000000              2.000000            1.484018  \n",
       "1          1.747834              1.953519            2.000000  \n",
       "2          1.588065              1.933599            1.009132  \n",
       "3          1.475938              1.658699            1.251142  \n",
       "4          1.555342              1.649402            1.789954  "
      ]
     },
     "execution_count": 51,
     "metadata": {},
     "output_type": "execute_result"
    }
   ],
   "source": [
    "# Normalize numerical values to the range (1, 2)\n",
    "\n",
    "cols_to_scale_3 = [\n",
    "    \"num_of_historic_books\",\n",
    "    \"avg_grade\",\n",
    "    \"num_of_award_tags\",\n",
    "    \"num_of_list_tags\",\n",
    "]\n",
    "min_max_scaler = MinMaxScaler(feature_range=(1, 2))\n",
    "df3[cols_to_scale] = min_max_scaler.fit_transform(df3[cols_to_scale_3])\n",
    "\n",
    "df3.head()"
   ]
  },
  {
   "cell_type": "markdown",
   "metadata": {},
   "source": [
    "### Metric for Author's order\n",
    "metric_3 = f1 × f2<sup>2</sup> × f3<sup>3</sup> × f4 <br><br>\n",
    "f1 = Number of Historical Books By Publisher <br>\n",
    "f2 = Average Rating of Publisher's Historical Books <br>\n",
    "f3 = Number of Awards For Publisher's Historical Books <br>\n",
    "f4 = Number of Listings For Publisher's Historical Books"
   ]
  },
  {
   "cell_type": "code",
   "execution_count": 52,
   "metadata": {},
   "outputs": [
    {
     "name": "stdout",
     "output_type": "stream",
     "text": [
      "Top 5 publishers are: \n"
     ]
    },
    {
     "data": {
      "text/html": [
       "<div>\n",
       "<style scoped>\n",
       "    .dataframe tbody tr th:only-of-type {\n",
       "        vertical-align: middle;\n",
       "    }\n",
       "\n",
       "    .dataframe tbody tr th {\n",
       "        vertical-align: top;\n",
       "    }\n",
       "\n",
       "    .dataframe thead th {\n",
       "        text-align: right;\n",
       "    }\n",
       "</style>\n",
       "<table border=\"1\" class=\"dataframe\">\n",
       "  <thead>\n",
       "    <tr style=\"text-align: right;\">\n",
       "      <th></th>\n",
       "      <th>name</th>\n",
       "      <th>metric_3</th>\n",
       "    </tr>\n",
       "  </thead>\n",
       "  <tbody>\n",
       "    <tr>\n",
       "      <th>1</th>\n",
       "      <td>نگاه</td>\n",
       "      <td>8.608784e+08</td>\n",
       "    </tr>\n",
       "    <tr>\n",
       "      <th>0</th>\n",
       "      <td>افق</td>\n",
       "      <td>5.216288e+08</td>\n",
       "    </tr>\n",
       "    <tr>\n",
       "      <th>4</th>\n",
       "      <td>امیرکبیر</td>\n",
       "      <td>2.997333e+08</td>\n",
       "    </tr>\n",
       "    <tr>\n",
       "      <th>8</th>\n",
       "      <td>روزگار</td>\n",
       "      <td>1.960519e+08</td>\n",
       "    </tr>\n",
       "    <tr>\n",
       "      <th>6</th>\n",
       "      <td>ققنوس</td>\n",
       "      <td>1.374197e+08</td>\n",
       "    </tr>\n",
       "  </tbody>\n",
       "</table>\n",
       "</div>"
      ],
      "text/plain": [
       "       name      metric_3\n",
       "1      نگاه  8.608784e+08\n",
       "0       افق  5.216288e+08\n",
       "4  امیرکبیر  2.997333e+08\n",
       "8    روزگار  1.960519e+08\n",
       "6     ققنوس  1.374197e+08"
      ]
     },
     "metadata": {},
     "output_type": "display_data"
    }
   ],
   "source": [
    "# Compute the final metric for each publisher\n",
    "# Approach:\n",
    "#   Very strong Rating effect\n",
    "#   Strong number of books effect\n",
    "\n",
    "df3[\"metric_3\"] = round(\n",
    "    df3[\"num_of_historic_books\"] ** 2\n",
    "    * df3[\"avg_grade\"] ** 3\n",
    "    * df3[\"num_of_award_tags\"]\n",
    "    * df3[\"num_of_list_tags\"],\n",
    "    2,\n",
    ")\n",
    "\n",
    "top_publishers = (\n",
    "    df3[[\"name\", \"metric_3\"]].sort_values(by=\"metric_3\", ascending=False).head(5)\n",
    ")\n",
    "\n",
    "print(f\"Top 5 publishers are: \")\n",
    "display(top_publishers)"
   ]
  },
  {
   "cell_type": "markdown",
   "metadata": {},
   "source": [
    "------------------------------------------------"
   ]
  },
  {
   "cell_type": "markdown",
   "metadata": {},
   "source": [
    "## 4. Hypothesis #1\n",
    "### “Translation has a significant impact on the book’s price.”"
   ]
  },
  {
   "cell_type": "markdown",
   "metadata": {},
   "source": [
    "Null Hypothesis (H<sub>0</sub>): Translation has no significant impact on the book's price. <br>\n",
    "Alternative Hypothesis (H<sub>a</sub>): Translation has a significant impact on the book's price."
   ]
  },
  {
   "cell_type": "code",
   "execution_count": 220,
   "metadata": {},
   "outputs": [
    {
     "name": "stderr",
     "output_type": "stream",
     "text": [
      "/Users/kvmmn/Desktop/data_summit/quda/quda_projects/Book-Store/kaveh_analysis/required_dataframes.py:162: UserWarning: pandas only supports SQLAlchemy connectable (engine/connection) or database string URI or sqlite3 DBAPI2 connection. Other DBAPI2 objects are not tested. Please consider using SQLAlchemy.\n",
      "  not_translated_df = pd.read_sql(query, conn)\n",
      "/Users/kvmmn/Desktop/data_summit/quda/quda_projects/Book-Store/kaveh_analysis/required_dataframes.py:174: UserWarning: pandas only supports SQLAlchemy connectable (engine/connection) or database string URI or sqlite3 DBAPI2 connection. Other DBAPI2 objects are not tested. Please consider using SQLAlchemy.\n",
      "  translated_df = pd.read_sql(query, conn)\n"
     ]
    },
    {
     "data": {
      "text/plain": [
       "(     code     price\n",
       " 0  115600  12000000\n",
       " 1   69010  12000000\n",
       " 2   44167   8400000\n",
       " 3   62672   6200000\n",
       " 4   14492   5500000,\n",
       "      code     price\n",
       " 0   60399  12000000\n",
       " 1   35689   7000000\n",
       " 2   60391   6850000\n",
       " 3  116285   6000000\n",
       " 4   84213   5140000)"
      ]
     },
     "execution_count": 220,
     "metadata": {},
     "output_type": "execute_result"
    }
   ],
   "source": [
    "# Read from MySQL database\n",
    "\n",
    "df_translated, df_not_translated = rd.hypothesis_one()\n",
    "\n",
    "df_translated.head(), df_not_translated.head()"
   ]
  },
  {
   "cell_type": "code",
   "execution_count": 221,
   "metadata": {},
   "outputs": [],
   "source": [
    "# Remove unnecessary column\n",
    "df_translated = df_translated[['price']]\n",
    "df_not_translated = df_not_translated[['price']]"
   ]
  },
  {
   "cell_type": "code",
   "execution_count": 222,
   "metadata": {},
   "outputs": [
    {
     "data": {
      "text/html": [
       "<div>\n",
       "<style scoped>\n",
       "    .dataframe tbody tr th:only-of-type {\n",
       "        vertical-align: middle;\n",
       "    }\n",
       "\n",
       "    .dataframe tbody tr th {\n",
       "        vertical-align: top;\n",
       "    }\n",
       "\n",
       "    .dataframe thead th {\n",
       "        text-align: right;\n",
       "    }\n",
       "</style>\n",
       "<table border=\"1\" class=\"dataframe\">\n",
       "  <thead>\n",
       "    <tr style=\"text-align: right;\">\n",
       "      <th></th>\n",
       "      <th>price</th>\n",
       "    </tr>\n",
       "  </thead>\n",
       "  <tbody>\n",
       "    <tr>\n",
       "      <th>0</th>\n",
       "      <td>12000000</td>\n",
       "    </tr>\n",
       "    <tr>\n",
       "      <th>1</th>\n",
       "      <td>12000000</td>\n",
       "    </tr>\n",
       "    <tr>\n",
       "      <th>2</th>\n",
       "      <td>8400000</td>\n",
       "    </tr>\n",
       "    <tr>\n",
       "      <th>3</th>\n",
       "      <td>6200000</td>\n",
       "    </tr>\n",
       "    <tr>\n",
       "      <th>4</th>\n",
       "      <td>5500000</td>\n",
       "    </tr>\n",
       "    <tr>\n",
       "      <th>...</th>\n",
       "      <td>...</td>\n",
       "    </tr>\n",
       "    <tr>\n",
       "      <th>43320</th>\n",
       "      <td>500</td>\n",
       "    </tr>\n",
       "    <tr>\n",
       "      <th>43321</th>\n",
       "      <td>417</td>\n",
       "    </tr>\n",
       "    <tr>\n",
       "      <th>43322</th>\n",
       "      <td>320</td>\n",
       "    </tr>\n",
       "    <tr>\n",
       "      <th>43323</th>\n",
       "      <td>300</td>\n",
       "    </tr>\n",
       "    <tr>\n",
       "      <th>43324</th>\n",
       "      <td>150</td>\n",
       "    </tr>\n",
       "  </tbody>\n",
       "</table>\n",
       "<p>43325 rows × 1 columns</p>\n",
       "</div>"
      ],
      "text/plain": [
       "          price\n",
       "0      12000000\n",
       "1      12000000\n",
       "2       8400000\n",
       "3       6200000\n",
       "4       5500000\n",
       "...         ...\n",
       "43320       500\n",
       "43321       417\n",
       "43322       320\n",
       "43323       300\n",
       "43324       150\n",
       "\n",
       "[43325 rows x 1 columns]"
      ]
     },
     "execution_count": 222,
     "metadata": {},
     "output_type": "execute_result"
    }
   ],
   "source": [
    "df_translated"
   ]
  },
  {
   "cell_type": "code",
   "execution_count": 223,
   "metadata": {},
   "outputs": [
    {
     "data": {
      "text/plain": [
       "Text(0.5, 1.0, 'Not translated books')"
      ]
     },
     "execution_count": 223,
     "metadata": {},
     "output_type": "execute_result"
    },
    {
     "data": {
      "image/png": "[encoded data removed]",
      "text/plain": [
       "<Figure size 1000x500 with 2 Axes>"
      ]
     },
     "metadata": {},
     "output_type": "display_data"
    }
   ],
   "source": [
    "# Create boxplot to have a better understanding of the data specially outliers\n",
    "\n",
    "fig, axes = plt.subplots(nrows=1, ncols=2, figsize=(10, 5))\n",
    "sns.boxplot(y=\"price\", data=df_translated, ax=axes[0], color=\"blue\")\n",
    "axes[0].set_title(\"Translated books\")\n",
    "sns.boxplot(y=\"price\", data=df_not_translated, ax=axes[1], color=\"red\")\n",
    "axes[1].set_title(\"Not translated books\")"
   ]
  },
  {
   "cell_type": "code",
   "execution_count": 224,
   "metadata": {},
   "outputs": [],
   "source": [
    "# Define a function to remove outliers based on IQR\n",
    "\n",
    "def remove_outliers(df, column_name=\"price\", threshold=0.95):\n",
    "    Q1 = df[column_name].quantile(1 - threshold)\n",
    "    Q3 = df[column_name].quantile(threshold)\n",
    "    IQR = Q3 - Q1\n",
    "\n",
    "    # lower_bound = Q1 - 1.5 * IQR\n",
    "    upper_bound = Q3 + 1.5 * IQR\n",
    "\n",
    "    filtered_df = df[(df[column_name] <= upper_bound)]\n",
    "\n",
    "    return filtered_df"
   ]
  },
  {
   "cell_type": "code",
   "execution_count": 225,
   "metadata": {},
   "outputs": [],
   "source": [
    "# Flagging wether to remove outliers or not\n",
    "# If True, remove outliers based on which threshold\n",
    "\n",
    "outlier_removal_1 = False\n",
    "\n",
    "# True for Threshold %95\n",
    "# False for Threshold %75\n",
    "outlier_threshold_1 = False"
   ]
  },
  {
   "cell_type": "code",
   "execution_count": 226,
   "metadata": {},
   "outputs": [],
   "source": [
    "# Implement final dataframe to analyze\n",
    "# based on the decision to remove outliers or not, and with which threshold\n",
    "\n",
    "if outlier_removal_1:\n",
    "    if outlier_threshold_1:\n",
    "        df_tr = remove_outliers(df_translated, threshold=0.95)\n",
    "        df_ntr = remove_outliers(df_not_translated, threshold=0.95)\n",
    "    else:\n",
    "        df_tr = remove_outliers(df_translated, threshold=0.75)\n",
    "        df_ntr = remove_outliers(df_not_translated, threshold=0.75)\n",
    "else:\n",
    "    df_tr = df_translated\n",
    "    df_ntr = df_not_translated"
   ]
  },
  {
   "cell_type": "code",
   "execution_count": 227,
   "metadata": {},
   "outputs": [],
   "source": [
    "# Define a function to plot a histogram for each dataframe\n",
    "# to check the distribution of the data, their normality, & their means\n",
    "\n",
    "def create_double_histogram(df1, df2, df1_label, df2_label, title, column_name=\"price\"):\n",
    "    mean_1 = df1[column_name].mean()\n",
    "    mean_2 = df2[column_name].mean()\n",
    "\n",
    "    plt.figure(figsize=(7, 5))\n",
    "    sns.histplot(data=df1, x=column_name, color=\"blue\", kde=True, label=df1_label)\n",
    "    sns.histplot(data=df2, x=column_name, color=\"red\", kde=True, label=df2_label)\n",
    "\n",
    "    mean_text_y = plt.ylim()[1] / 2\n",
    "\n",
    "    plt.axvline(mean_1, color=\"blue\", linestyle=\"--\")\n",
    "    plt.text(mean_1, mean_text_y, f\"{mean_1:,.2}\", rotation=0, color=\"blue\")\n",
    "\n",
    "    plt.axvline(mean_2, color=\"red\", linestyle=\"--\")\n",
    "    plt.text(mean_2, mean_text_y + 50, f\"{mean_2:,.2}\", rotation=0, color=\"red\")\n",
    "\n",
    "    plt.title(title, loc=\"center\")\n",
    "    plt.legend()\n",
    "    plt.tight_layout()\n",
    "    plt.show()"
   ]
  },
  {
   "cell_type": "code",
   "execution_count": 228,
   "metadata": {},
   "outputs": [
    {
     "data": {
      "image/png": "[encoded data removed]",
      "text/plain": [
       "<Figure size 700x500 with 1 Axes>"
      ]
     },
     "metadata": {},
     "output_type": "display_data"
    }
   ],
   "source": [
    "# Plot the histogram for the final dataframes\n",
    "\n",
    "create_double_histogram(\n",
    "    df_tr,\n",
    "    df_ntr,\n",
    "    \"Translated\",\n",
    "    \"Not Translated\",\n",
    "    title=\"Price Distribution for translated and not translated books\",\n",
    ")"
   ]
  },
  {
   "cell_type": "code",
   "execution_count": 229,
   "metadata": {},
   "outputs": [
    {
     "name": "stdout",
     "output_type": "stream",
     "text": [
      "Skewness for translated books: 23.45\n",
      "Skewness for not-translated books: 15.98\n"
     ]
    }
   ],
   "source": [
    "# Measure skewness for both groups\n",
    "\n",
    "skewness_translated = df_tr[\"price\"].skew()\n",
    "skewness_not_translated = df_ntr[\"price\"].skew()\n",
    "\n",
    "print(f\"Skewness for translated books: {skewness_translated:,.2f}\")\n",
    "print(f\"Skewness for not-translated books: {skewness_not_translated:,.2f}\")"
   ]
  },
  {
   "cell_type": "markdown",
   "metadata": {},
   "source": [
    "> Both are right-skewed <br>\n",
    "> \\> We will go on applying **BOXCOX** transformation <br>\n",
    ">   Box-Cox was chosen because it can stabilize variance and transform data towards normality, optimizing the transformation based on the data itself."
   ]
  },
  {
   "cell_type": "code",
   "execution_count": 230,
   "metadata": {},
   "outputs": [
    {
     "name": "stdout",
     "output_type": "stream",
     "text": [
      "Skewness for translated books after boxcox transform: 0.02\n",
      "Skewness for not-translated books after boxcox transform: 0.00\n"
     ]
    },
    {
     "data": {
      "image/png": "[encoded data removed]",
      "text/plain": [
       "<Figure size 700x500 with 1 Axes>"
      ]
     },
     "metadata": {},
     "output_type": "display_data"
    }
   ],
   "source": [
    "# If skewness is significant, apply BOXCOX transformation\n",
    "\n",
    "skewed = True\n",
    "\n",
    "if skewed:\n",
    "    # Apply BOXCOX transformation for both groups\n",
    "    df_tr[\"price\"], _ = boxcox(df_tr[\"price\"])\n",
    "    df_ntr[\"price\"], _ = boxcox(df_ntr[\"price\"])\n",
    "\n",
    "    skewness_translated = df_tr[\"price\"].skew()\n",
    "    skewness_not_translated = df_ntr[\"price\"].skew()\n",
    "\n",
    "    print(f\"Skewness for translated books after boxcox transform: {skewness_translated:,.2f}\")\n",
    "    print(f\"Skewness for not-translated books after boxcox transform: {skewness_not_translated:,.2f}\")\n",
    "\n",
    "    create_double_histogram(\n",
    "        df_tr,\n",
    "        df_ntr,\n",
    "        \"Translated\",\n",
    "        \"Not Translated\",\n",
    "        title=\"Price Distribution for translated and not translated books applied boxcox transform\",\n",
    "        column_name=\"price\",\n",
    "    )"
   ]
  },
  {
   "cell_type": "code",
   "execution_count": 231,
   "metadata": {},
   "outputs": [
    {
     "name": "stdout",
     "output_type": "stream",
     "text": [
      "T-statistic: 364.15948\n",
      "P-value: 0.00000\n"
     ]
    }
   ],
   "source": [
    "# Perform independent two-sample t-test\n",
    "\n",
    "translated_prices = df_tr[\"price\"]\n",
    "not_translated_prices = df_ntr[\"price\"]\n",
    "\n",
    "t_stat, p_value = ttest_ind(translated_prices, not_translated_prices)\n",
    "\n",
    "print(f\"T-statistic: {t_stat:,.5f}\")\n",
    "print(f\"P-value: {p_value:,.5f}\")"
   ]
  },
  {
   "cell_type": "code",
   "execution_count": 232,
   "metadata": {},
   "outputs": [
    {
     "name": "stdout",
     "output_type": "stream",
     "text": [
      "Trimmed T-statistic: 315.34078\n",
      "Trimmed P-value: 0.00000\n"
     ]
    }
   ],
   "source": [
    "# Double check for outliers using Yuen's t-test\n",
    "# :: trimming elements from each tail with fraction of 0.4\n",
    "\n",
    "t_stat_trim, p_value_trim = ttest_ind(translated_prices, not_translated_prices, trim=0.4)\n",
    "\n",
    "print(f\"Trimmed T-statistic: {t_stat_trim:,.5f}\")\n",
    "print(f\"Trimmed P-value: {p_value_trim:,.5f}\")"
   ]
  },
  {
   "cell_type": "markdown",
   "metadata": {},
   "source": [
    "> A  p-value of **0.000** and a **high** value for t_stat indicates that the observed data is extremely inconsistent with the null hypothesis. <br>\n",
    "> This leads to the **REJECTION** of the null hypothesis(H<sub>0</sub>) in favor of the alternative hypothesis (H<sub>a</sub>). <br>\n",
    "> *This suggests that, based on the sample data, there is very strong evidence to conclude that translation has a significant impact on the book's price.*"
   ]
  },
  {
   "cell_type": "markdown",
   "metadata": {},
   "source": [
    "------------------------------------------------"
   ]
  },
  {
   "cell_type": "markdown",
   "metadata": {},
   "source": [
    "## 5. Hypothesis #2\n",
    "### “There is a significant difference in prices between 'Hard' and ‘Shomiz’ book covers.”"
   ]
  },
  {
   "cell_type": "markdown",
   "metadata": {},
   "source": [
    "Null Hypothesis (H<sub>0</sub>): There is no difference in the mean prices between 'Hard' and 'Shomiz' book covers. <br>\n",
    "Alternative Hypothesis (H<sub>1</sub>): There is a difference in the mean prices between 'Hard' and 'Shomiz' book covers."
   ]
  },
  {
   "cell_type": "code",
   "execution_count": 233,
   "metadata": {},
   "outputs": [
    {
     "name": "stderr",
     "output_type": "stream",
     "text": [
      "/Users/kvmmn/Desktop/data_summit/quda/quda_projects/Book-Store/kaveh_analysis/required_dataframes.py:187: UserWarning: pandas only supports SQLAlchemy connectable (engine/connection) or database string URI or sqlite3 DBAPI2 connection. Other DBAPI2 objects are not tested. Please consider using SQLAlchemy.\n",
      "  hard_cover_df = pd.read_sql(query, conn)\n",
      "/Users/kvmmn/Desktop/data_summit/quda/quda_projects/Book-Store/kaveh_analysis/required_dataframes.py:195: UserWarning: pandas only supports SQLAlchemy connectable (engine/connection) or database string URI or sqlite3 DBAPI2 connection. Other DBAPI2 objects are not tested. Please consider using SQLAlchemy.\n",
      "  shomiz_cover_df = pd.read_sql(query, conn)\n"
     ]
    },
    {
     "data": {
      "text/plain": [
       "(     code    price   cover\n",
       " 0   44167  8400000  جلدسخت\n",
       " 1  114978  8400000  جلدسخت\n",
       " 2  114624  8000000  جلدسخت\n",
       " 3   62672  6200000  جلدسخت\n",
       " 4  116285  6000000  جلدسخت,\n",
       "     code    price  cover\n",
       " 0  35689  7000000  شومیز\n",
       " 1    132  3350000  شومیز\n",
       " 2  70474  3000000  شومیز\n",
       " 3  98525  2930000  شومیز\n",
       " 4  19455  2900000  شومیز)"
      ]
     },
     "execution_count": 233,
     "metadata": {},
     "output_type": "execute_result"
    }
   ],
   "source": [
    "# Read from MySQL database\n",
    "\n",
    "df_hard, df_shomiz = rd.hypothesis_two()\n",
    "\n",
    "df_hard.head(), df_shomiz.head()"
   ]
  },
  {
   "cell_type": "code",
   "execution_count": 234,
   "metadata": {},
   "outputs": [],
   "source": [
    "# Remove unnecessary columns\n",
    "\n",
    "df_hard = df_hard[['price']]\n",
    "df_shomiz = df_shomiz[['price']]"
   ]
  },
  {
   "cell_type": "code",
   "execution_count": 235,
   "metadata": {},
   "outputs": [
    {
     "data": {
      "text/plain": [
       "Text(0.5, 1.0, 'Price Distribution for \"Shomiz\" books')"
      ]
     },
     "execution_count": 235,
     "metadata": {},
     "output_type": "execute_result"
    },
    {
     "data": {
      "image/png": "[encoded data removed]",
      "text/plain": [
       "<Figure size 1000x500 with 2 Axes>"
      ]
     },
     "metadata": {},
     "output_type": "display_data"
    }
   ],
   "source": [
    "# Create boxplot to have a better understanding of the data specially outliers\n",
    "\n",
    "fig, axes = plt.subplots(nrows=1, ncols=2, figsize=(10, 5))\n",
    "sns.boxplot(y=\"price\", data=df_hard, ax=axes[0], color=\"blue\")\n",
    "axes[0].set_title('Price Distribution for \"Hard\" books')\n",
    "\n",
    "sns.boxplot(y=\"price\", data=df_shomiz, ax=axes[1], color=\"red\")\n",
    "axes[1].set_title('Price Distribution for \"Shomiz\" books')"
   ]
  },
  {
   "cell_type": "code",
   "execution_count": 236,
   "metadata": {},
   "outputs": [],
   "source": [
    "# Flagging wether to remove outliers or not\n",
    "# If True, remove outliers based on which threshold\n",
    "\n",
    "outlier_removal_2 = False\n",
    "\n",
    "# True for Threshold %95\n",
    "# False for Threshold %75\n",
    "outlier_threshold_2 = False"
   ]
  },
  {
   "cell_type": "code",
   "execution_count": 237,
   "metadata": {},
   "outputs": [],
   "source": [
    "# Implement final dataframe to analyze\n",
    "# based on the decision to remove outliers or not, and with which threshold\n",
    "\n",
    "if outlier_removal_2:\n",
    "    if outlier_threshold_2:\n",
    "        df_hard = remove_outliers(df_hard, threshold=0.95)\n",
    "        df_shomiz = remove_outliers(df_shomiz, threshold=0.95)\n",
    "    else:\n",
    "        df_hard = remove_outliers(df_hard, threshold=0.75)\n",
    "        df_shomiz = remove_outliers(df_shomiz, threshold=0.75)\n",
    "else:\n",
    "    pass"
   ]
  },
  {
   "cell_type": "code",
   "execution_count": 238,
   "metadata": {},
   "outputs": [
    {
     "data": {
      "image/png": "[encoded data removed]",
      "text/plain": [
       "<Figure size 700x500 with 1 Axes>"
      ]
     },
     "metadata": {},
     "output_type": "display_data"
    }
   ],
   "source": [
    "# Plot the histogram for the final dataframes\n",
    "\n",
    "create_double_histogram(\n",
    "    df_hard,\n",
    "    df_shomiz,\n",
    "    \"Hard Cover\",\n",
    "    \"Shomiz Cover\",\n",
    "    title=\"Price Distribution for Hard and Shomiz Cover Types\",\n",
    ")"
   ]
  },
  {
   "cell_type": "code",
   "execution_count": 239,
   "metadata": {},
   "outputs": [
    {
     "name": "stdout",
     "output_type": "stream",
     "text": [
      "Skewness for hard cover books: 8.24\n",
      "Skewness for shomiz cover books: 9.10\n"
     ]
    }
   ],
   "source": [
    "# Measure skewness for both groups\n",
    "\n",
    "skewness_hard = df_hard[\"price\"].skew()\n",
    "skewness_shomiz = df_shomiz[\"price\"].skew()\n",
    "\n",
    "print(f\"Skewness for hard cover books: {skewness_hard:,.2f}\")\n",
    "print(f\"Skewness for shomiz cover books: {skewness_shomiz:,.2f}\")"
   ]
  },
  {
   "cell_type": "markdown",
   "metadata": {},
   "source": [
    "> Both are right-skewed <br>\n",
    "> \\> We will go on applying **BOXCOX** transformation <br>\n",
    ">   Box-Cox was chosen because it can stabilize variance and transform data towards normality, optimizing the transformation based on the data itself."
   ]
  },
  {
   "cell_type": "code",
   "execution_count": 240,
   "metadata": {},
   "outputs": [],
   "source": [
    "# If skewness is significant, apply BOXCOX transformation\n",
    "\n",
    "skewed = False\n",
    "\n",
    "if skewed:\n",
    "    # Apply BOXCOX transformation for both groups\n",
    "    df_hard[\"price\"], _ = boxcox(df_hard[\"price\"])\n",
    "    df_shomiz[\"price\"], _ = boxcox(df_shomiz[\"price\"])\n",
    "\n",
    "    skewness_hard = df_hard[\"price\"].skew()\n",
    "    skewness_shomiz = df_shomiz[\"price\"].skew()\n",
    "\n",
    "    print(f\"Skewness for translated books after boxcox transform: {skewness_hard:,.2f}\")\n",
    "    print(f\"Skewness for not-translated books after boxcox transform: {skewness_shomiz:,.2f}\")\n",
    "\n",
    "    create_double_histogram(\n",
    "        df_hard,\n",
    "        df_shomiz,\n",
    "        \"Hard Cover\",\n",
    "        \"Shomiz Cover\",\n",
    "        title=\"Price Distribution for Hard & Shomiz Cover After Boxcox Transformation\",\n",
    "        column_name=\"price\",\n",
    "    )"
   ]
  },
  {
   "cell_type": "code",
   "execution_count": 241,
   "metadata": {},
   "outputs": [
    {
     "name": "stdout",
     "output_type": "stream",
     "text": [
      "T-statistic: 82.21330\n",
      "P-value: 0.00000\n"
     ]
    }
   ],
   "source": [
    "# Perform independent two-sample t-test\n",
    "\n",
    "hard_prices = df_hard[\"price\"]\n",
    "shomiz_prices = df_shomiz[\"price\"]\n",
    "\n",
    "t_stat, p_value = ttest_ind(hard_prices, shomiz_prices)\n",
    "\n",
    "print(f\"T-statistic: {t_stat:,.5f}\")\n",
    "print(f\"P-value: {p_value:,.5f}\")"
   ]
  },
  {
   "cell_type": "code",
   "execution_count": 242,
   "metadata": {},
   "outputs": [
    {
     "name": "stdout",
     "output_type": "stream",
     "text": [
      "Trimmed T-statistic: 315.34078\n",
      "Trimmed P-value: 0.00000\n"
     ]
    }
   ],
   "source": [
    "# Double check for outliers using Yuen's t-test\n",
    "# :: trimming elements from each tail with fraction of 0.4\n",
    "\n",
    "t_stat_trim, p_value_trim = ttest_ind(translated_prices, not_translated_prices, trim=0.4)\n",
    "\n",
    "print(f\"Trimmed T-statistic: {t_stat_trim:,.5f}\")\n",
    "print(f\"Trimmed P-value: {p_value_trim:,.5f}\")"
   ]
  },
  {
   "cell_type": "markdown",
   "metadata": {},
   "source": [
    "> A  p-value of **0.000** and a **high** value for t_stat indicates that the observed data is extremely inconsistent with the null hypothesis. <br>\n",
    "> This leads to the **REJECTION** of the null hypothesis in favor of the alternative hypothesis. <br>\n",
    "> *This suggests that, based on the sample data, there is very strong evidence to conclude that there is a significant difference in the mean prices between 'Hard' and 'Shomiz' book covers.*"
   ]
  },
  {
   "cell_type": "markdown",
   "metadata": {},
   "source": [
    "## Hypothesis 2 :: Justification 1"
   ]
  },
  {
   "cell_type": "markdown",
   "metadata": {},
   "source": []
  },
  {
   "cell_type": "markdown",
   "metadata": {},
   "source": [
    "## Hypothesis 2 :: Justification 2"
   ]
  },
  {
   "cell_type": "markdown",
   "metadata": {},
   "source": []
  }
 ],
 "metadata": {
  "kernelspec": {
   "display_name": "qdaenv",
   "language": "python",
   "name": "python3"
  },
  "language_info": {
   "codemirror_mode": {
    "name": "ipython",
    "version": 3
   },
   "file_extension": ".py",
   "mimetype": "text/x-python",
   "name": "python",
   "nbconvert_exporter": "python",
   "pygments_lexer": "ipython3",
   "version": "3.11.3"
  },
  "orig_nbformat": 4
 },
 "nbformat": 4,
 "nbformat_minor": 2
}
